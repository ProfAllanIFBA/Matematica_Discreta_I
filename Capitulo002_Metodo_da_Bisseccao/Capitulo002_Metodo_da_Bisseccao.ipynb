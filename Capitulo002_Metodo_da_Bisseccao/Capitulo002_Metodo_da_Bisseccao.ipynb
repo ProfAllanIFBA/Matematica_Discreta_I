{
 "cells": [
  {
   "cell_type": "markdown",
   "id": "d4ea28a8",
   "metadata": {
    "slideshow": {
     "slide_type": "slide"
    }
   },
   "source": [
    "<center> <img src=\"logo_ifba.jpg\" alt=\"jpg_python\" width=\"100\" height=\"200\"> </center>\n",
    "<br><br>\n",
    "<div align=\"center\"><span style=\"font-size: 26px;\"><strong>Cálculo Numérico <br></strong></span></div> <br>\n",
    "<center> <img src=\"python_gif.gif\" alt=\"gif_python\" width=\"80\"> </center>\n"
   ]
  },
  {
   "cell_type": "markdown",
   "id": "d76184a7",
   "metadata": {
    "slideshow": {
     "slide_type": "slide"
    }
   },
   "source": [
    "<div style=\"border: 2px solid black; padding: 10px; width: 95%; background-color: lightgray; display: flex; align-items: center;\">\n",
    "    <h1 style=\"color: red; text-align: center; margin: auto;\">\n",
    "        Capítulo 2: Método da Bissecção\n",
    "    </h1>\n",
    "</div>\n",
    "\n",
    "<font color='red'></font>\n",
    "<a href=\"\"></a>"
   ]
  },
  {
   "cell_type": "markdown",
   "id": "7142d16f",
   "metadata": {},
   "source": [
    "O método da bissecção é uma técnica clássica e confiável em análise numérica para encontrar zeros, ou raízes, de funções contínuas. Baseia-se no Teorema do Valor Intermediário, que afirma que uma função contínua que assume valores com sinais opostos em dois pontos também assume o valor zero em algum ponto entre eles. O método consiste em dividir repetidamente o intervalo ao meio e selecionar o subintervalo onde a mudança de sinal ocorre, convergindo gradualmente para a raiz. Embora não seja o método mais rápido, sua simplicidade e robustez o tornam amplamente utilizado, especialmente quando a segurança na localização da raiz é mais importante do que a velocidade de convergência."
   ]
  },
  {
   "cell_type": "markdown",
   "id": "b07317db",
   "metadata": {},
   "source": [
    "# <div style=\"margin-top: -20px;\">\n",
    "<hr style=\"border: 2px solid black;\">\n",
    "\n",
    "<font color='black'><span style=\"font-size: 22px;\"><strong>2.1 Método da Bissecção</strong></span></font>\n",
    "\n",
    "<hr style=\"border: 2px solid black;\">\n",
    "</div>"
   ]
  },
  {
   "cell_type": "markdown",
   "id": "02ba3b44",
   "metadata": {},
   "source": [
    "uponha que $f$ seja contínua no intervalo $[a, b]$, com $f(a)$ e $f(b)$ possuindo sinais opostos. Decorre do **Teorema 1** (Cap. 1) que existe $p \\in (a, b)$ para o qual $f(p) = 0$. O procedimento a seguir funciona nos casos em que se tem mais de uma raiz no intervalo $(a, b)$, porém assumiremos, por simplificação, que a raiz nesse intervalo é única. Este método consiste em diminuirmos o intervalo $[a, b]$ em outros iguais à metade do anterior e, em cada passo, localizar qual dos meio-intervalos contém $p$.\n",
    "\n",
    "Para iniciar, consida-se $a_{1} = a$, $b_{1} = b$ e toma-se $p_{1} = \\frac{a_{1} + b_{1}}{2}$ (ponto médio de $[a, b]$). Se $f(p_{1}) = 0$, então $p = p_{1}$, e temos encontrado a solução. Se $f(p_{1}) \\neq 0$, então $f(p_{1})$ tem mesmo sinal que $f(a_{1})$ ou $f(b_{1})$. Se $f(a_{1}) \\cdot f(p_{1}) > 0$ então $p \\in (p_{1}, b_{1})$ e fazemos $a_{2} = p_{1}$, $b_{2} = b_{1}$. Se $f(a_{1}) \\cdot f(a_{1}) < 0$, $p \\in (a_{1}, p_{1})$, e fazemos $a_{2} = a_{1}$, $b_{2} = p_{1}$. Reaplicamos o processo em $[a_{2}, b_{2}]$, $\\ldots$, $[a_{n}, b_{n}]$, $\\ldots$ at\\'e obtermos $f(p) = 0$ ou $|a_{n} - b_{n}| < \\delta$, em que $\\delta$ é a precisão desejada."
   ]
  },
  {
   "cell_type": "markdown",
   "id": "04e1ac19",
   "metadata": {},
   "source": [
    "#### <font color='blue'> Exemplo 1 </font>"
   ]
  },
  {
   "cell_type": "markdown",
   "id": "8a551583",
   "metadata": {},
   "source": [
    "<font color='blue'> Utilizemos o método da Bisseção para encontrar a solução contida no intervalo $[0, 1]$, com precisão de $10^{-2}$ $($isto \\'e, $\\delta < 10^{-2}$ $)$ para $x^{3} - 7x^{2} + 14x - 6 = 0$."
   ]
  },
  {
   "cell_type": "markdown",
   "id": "b3c434ec",
   "metadata": {},
   "source": [
    "##### <font color='blue'> Solução </font>"
   ]
  },
  {
   "cell_type": "markdown",
   "id": "54eb08a7",
   "metadata": {},
   "source": [
    "<font color='blue'> Aplicamos, na tabela a seguir, o processo a ser descrito logo mais no **Algoritmo 1**:<br><br>\n",
    " $$\\begin{array}{cccccc}\n",
    "n    & a_{n}      & p_{n}    \t\t& b_{n}    & \\delta_{n} \t& f(p_{n})  \t\\\\\n",
    "1    & 0(-)       & 0.5(-)   \t\t& 1(+)     & 0.5\t\t  \t& -0.625\t\t\\\\\n",
    "2    & 0.5(-)        & 0.75 (+)    \t& 1(+)        & 0.25\t\t\t& 0.984375\t\t\\\\\n",
    "3    & 0.5(-)        & 0.625 (+)   \t& 0.75(+)     & 0.125\t\t\t& 0.259765625\t\\\\\n",
    "4    & 0.5(-)     & 0.5625 (-)  \t& 0.625(+)    & 0.0625\t\t\t& -0.161865234\t\\\\\n",
    "5    & 0.5625(-)     & 0.59375 (+)  \t& 0.625(+)    & 0.03125\t\t& 0.054046631\t\\\\\n",
    "6    & 0.5625(-)     & 0.578125 (-)   \t& 0.59375(+)  & 0.015625\t\t& -0.052623749\t\\\\\n",
    "7    & 0.578125   & 0.5859375   \t& 0.59375  & 0.0078125\t\t& 0.001031399\t\\\\\n",
    "\\end{array}$$<br>\n",
    " Logo, a solução é $p_{7} = 0.5859375$ com $\\delta_{7} = 0.0078125$."
   ]
  },
  {
   "cell_type": "markdown",
   "id": "c1407371",
   "metadata": {},
   "source": [
    "#### <font color='red'> Teorema 1 </font>"
   ]
  },
  {
   "cell_type": "markdown",
   "id": "617b42ca",
   "metadata": {},
   "source": [
    "<font color='red'> Suponha que $f \\in C[a,b]$ e $f(a).f(b) < 0$. O método da bisseção gera uma sequência $\\{p_{n}\\}^{\\infty}_{n=1}$ aproximando um zero $p$ de $f$ com\n",
    "$$|p_{n} - p| \\leq  \\frac{b-a}{2^{n}}, \\,\\,\\,\\, n \\geq 1.$$"
   ]
  },
  {
   "cell_type": "markdown",
   "id": "749619d0",
   "metadata": {},
   "source": [
    "<font color='red'> *A notação $f \\in C[a,b]$ significa dizer que $f$ pertence ao conjunto das funções contínuas no intervalo $[a,b]$.*"
   ]
  },
  {
   "cell_type": "markdown",
   "id": "42ee2317",
   "metadata": {},
   "source": [
    "##### <font color='red'> Demonstração"
   ]
  },
  {
   "cell_type": "markdown",
   "id": "1d936f49",
   "metadata": {},
   "source": [
    "<font color='red'> Por hipótese, para $n \\geq 1$, temos:<br><br>\n",
    " $$b_{n} - a_{n} = \\frac{b-a}{2^{n-1}} \\,\\,\\, e \\,\\,\\, p \\in (a,b).$$<br>\n",
    " Além disso, $p_{n} = \\frac{1}{2}(a_{n} + b_{n})$ para todo $n \\geq 1$. Temos que $p \\in [a_{n},p_{n}]$ ou $p \\in [p_{n},b_{n}]$ (intervalos de igual comprimento), donde segue que $|p_{n}-p| \\leq \\frac{1}{2}|a_{n}-b_{n}|$. Assim,<br><br>\n",
    " $$|p_{n} - p| \\leq \\frac{1}{2}|a_{n} - b_{n}| = \\frac{1}{2}\\frac{b-a}{2^{n-1}} = \\frac{b-a}{2^{n}}.$$\n",
    "Sendo $\\frac{b-a}{2^{n}}$ uma sequência convergente para zero, temos que $p_{n}$ converge para $p$."
   ]
  },
  {
   "cell_type": "markdown",
   "id": "8e64bcc0",
   "metadata": {},
   "source": [
    "#### Observação 1"
   ]
  },
  {
   "cell_type": "markdown",
   "id": "1652197b",
   "metadata": {},
   "source": [
    "Ao utilizamos o método da Bisseção podemos usar a relação a seguir para determinarmos o número de iterações $(N)$ necessárias para se obter uma solução, no intervalo $[a, b]$, de uma equação da forma $f(x) = 0$, com uma precisão de $10^{-n}$:\n",
    "\n",
    "$$ N > \\frac{n + log_{10}(b-a)}{log_{10}(2)}.$$"
   ]
  },
  {
   "cell_type": "markdown",
   "id": "3b8842dc",
   "metadata": {},
   "source": [
    "#### <font color='blue'> Exemplo 2 </font>"
   ]
  },
  {
   "cell_type": "markdown",
   "id": "87aa6356",
   "metadata": {},
   "source": [
    "<font color='blue'> Use a estimativa obtida na **Observação 1** para estimar o número iterações necessárias para se obter o zero de $f(x) = 2^{x} - x^{2}$ pertencente ao intervalo $[-1,0]$ com uma precisão de $10^{-2}$."
   ]
  },
  {
   "cell_type": "markdown",
   "id": "3c2e266f",
   "metadata": {},
   "source": [
    "##### <font color='blue'> Solução </font>"
   ]
  },
  {
   "cell_type": "markdown",
   "id": "e9c87e5b",
   "metadata": {},
   "source": [
    "<font color='blue'> Temos que $a=-1$, $b=0$ e $n=-2$, donde segue que:<br><br>\n",
    " $$ N > \\frac{2 + log_{10}(0-(-1))}{log_{10}(2)} = \\frac{2 + log(1)}{log_{10}(2)} = \\frac{2}{log_{10}(2)} = 6.643856189774724.$$<br>\n",
    " Assim, precisamos de pelo menos $7$ iterações para obtermos a precisão desejada."
   ]
  },
  {
   "cell_type": "markdown",
   "id": "a28abb08",
   "metadata": {},
   "source": [
    "# <div style=\"margin-top: -20px;\">\n",
    "<hr style=\"border: 2px solid black;\">\n",
    "\n",
    "<font color='black'><span style=\"font-size: 22px;\"><strong>2.2 Implementações</strong></span></font>\n",
    "\n",
    "<hr style=\"border: 2px solid black;\">\n",
    "</div>"
   ]
  },
  {
   "cell_type": "markdown",
   "id": "d26d522b",
   "metadata": {},
   "source": [
    "#### <font color='darkpurple'> Algoritmo: Método da Bissecção</font>"
   ]
  },
  {
   "cell_type": "markdown",
   "id": "c53d4381",
   "metadata": {},
   "source": [
    "<font color='darkpurple'> Para determinar uma solução de $f(x) = 0$. dada a função $f$ contínua no intervalo $[a,b]$, onde $f(a)$ e $f(b)$ tem sinais opostos.<br><br>\n",
    " **ENTRADAS:** extremidades $a$, $b$; tolerância $TOL$; número máximo de iterações $N$.<br><br>\n",
    " **SAÍDA:** solução aproximada $p$ ou mensagem de erro<br><br>\n",
    "    **Passo 1:** Faça $i = 1$;<br><br>\n",
    "    $\\ \\ \\ $ $fa = f(a)$;<br><br>\n",
    "    **Passo 2:** Enquanto $i \\leq N$, execute os Passos 3 a 6;<br><br>\n",
    "    $\\ \\ \\ $ **Passo 3:** Faça $p = a + (b-a)/2$;<br><br>\n",
    "    $\\ \\ \\ \\ \\ \\ \\ \\ \\ $ $fp = f(p)$\n",
    "    $\\ \\ \\ \\ \\ \\ \\ \\ \\ $*SAÍDA* $a$; (\"$a$ é um zero de $f$.\")<br><br>\n",
    "    $\\ \\ \\ $ **Passo 4:** Se $fp = 0$ ou $(b-a)/2 < TOL$, então<br><br>\n",
    "    $\\ \\ \\ \\ \\ \\ \\ \\ \\ $ *SAÍDA* $p$; (\"Peocedimento concluído com sucesso.\");<br><br>\n",
    "    $\\ \\ \\ \\ \\ \\ \\ \\ \\ $ *PARE*<br><br>\n",
    "    $\\ \\ \\ $ **Passo 5:** Faça $i = i + 1$<br><br>\n",
    "    $\\ \\ \\ $ **Passo 6:** Se $fa \\cdot fp > 0$, então faça $a = p$;<br><br>\n",
    "    $\\ \\ \\ \\ \\ \\ \\ \\ \\ \\ \\ \\ \\ \\ \\ \\ \\ \\ \\ \\ \\ \\ \\ \\ \\ $ $fa = fp$<br><br>\n",
    "    $\\ \\ \\ \\ \\ \\ \\ \\ \\ \\ \\ \\ \\ \\ \\ \\ \\ \\ $ senão faça $b = p$<br><br>\n",
    "    $\\ \\ \\ $ **Passo 7:** *SAÍDA* (\"O método falhou após $N$ iterações)<br><br>\n",
    "    $\\ \\ \\ \\ \\ \\ \\ \\ \\ $ *PARE*"
   ]
  },
  {
   "cell_type": "markdown",
   "id": "dbdb7dad",
   "metadata": {},
   "source": [
    "#### <font color='darkblue'> Código Python: Método da Bissecção</font>"
   ]
  },
  {
   "cell_type": "markdown",
   "id": "5042285c",
   "metadata": {},
   "source": [
    "<font color='darkblue'> O programa a seguir conta com alguns incrementos em relação ao **Algoritmo 1** para contemplar o caso em que a aplicação do método da bissceção não pode ser aplicado devido a igualdade de sinais nos extremos do intervalo $[a,b]$ (isto é, $f(a)f(b) > 0$. Além disso, por questões de simplificação, omitimos os valores dos extremos dos intervalos contendo cada $p_{n}$."
   ]
  },
  {
   "cell_type": "code",
   "execution_count": 1,
   "id": "dd383512",
   "metadata": {
    "ExecuteTime": {
     "end_time": "2024-01-06T14:33:24.204631Z",
     "start_time": "2024-01-06T14:33:24.079288Z"
    }
   },
   "outputs": [],
   "source": [
    "from numpy import*\n",
    "\n",
    "def bissecao(f,a,b,tol,n):\n",
    "        a = float(a)\n",
    "        b = float(b)\n",
    "        tol = float(tol)\n",
    "        n = int(n)\n",
    "\n",
    "        i = 0\n",
    "        F = lambda x: eval(f)\n",
    "        delta = float('inf')\n",
    "\n",
    "        if F(a) * F(b) > 0:\n",
    "            return print(f'O método da bisseção não pode ser aplicado a f(x) = {f} no intervalo [{a},{b}], pois '\n",
    "                         f'f({a}) = {F(a)} e f({b}) = {F(b)} têm sinais iguais.\\n')\n",
    "\n",
    "        else:\n",
    "            print(f'A tabela a seguir mostra as iterações e o erro.')\n",
    "\n",
    "            # Exibe os elementos do título da tabela\n",
    "            print(r'                n          pn                 en')\n",
    "\n",
    "            while tol < delta:\n",
    "                if i==n:\n",
    "                    print('O método atingiu a quantidade máxima de iterações.\\n')\n",
    "                    break\n",
    "                Fa = F(a)\n",
    "                p = (a + b) / 2\n",
    "                i = i + 1\n",
    "                delta = abs(p - a)\n",
    "                print(f'                %0.0f   %0.13f    %0.13f' % (i, p, (b - a) / 2))\n",
    "                if F(a) * F(p) < 0:\n",
    "                    b = p\n",
    "                else:\n",
    "                    a = p\n",
    "            return print(f'Resultado: {p} \\n')"
   ]
  },
  {
   "cell_type": "code",
   "execution_count": 2,
   "id": "c3a32eed",
   "metadata": {
    "ExecuteTime": {
     "end_time": "2024-01-06T14:33:25.755869Z",
     "start_time": "2024-01-06T14:33:25.750291Z"
    }
   },
   "outputs": [
    {
     "name": "stdout",
     "output_type": "stream",
     "text": [
      "A tabela a seguir mostra as iterações e o erro.\n",
      "                n          pn                 en\n",
      "                1   0.5000000000000    0.5000000000000\n",
      "                2   0.7500000000000    0.2500000000000\n",
      "                3   0.6250000000000    0.1250000000000\n",
      "                4   0.5625000000000    0.0625000000000\n",
      "                5   0.5937500000000    0.0312500000000\n",
      "                6   0.5781250000000    0.0156250000000\n",
      "                7   0.5859375000000    0.0078125000000\n",
      "Resultado: 0.5859375 \n",
      "\n"
     ]
    }
   ],
   "source": [
    "# Exemplo de uso\n",
    "bissecao('x**3 - 7*x**2 + 14*x - 6', 0, 1, 0.01, 10)"
   ]
  },
  {
   "cell_type": "markdown",
   "id": "1ef8fe8e",
   "metadata": {},
   "source": [
    "# <div style=\"margin-top: -20px;\">\n",
    "<hr style=\"border: 2px solid black;\">\n",
    "\n",
    "<font color='black'><span style=\"font-size: 22px;\"><strong>Exercícios</strong></span></font>\n",
    "\n",
    "<hr style=\"border: 2px solid black;\">\n",
    "</div>"
   ]
  },
  {
   "cell_type": "markdown",
   "id": "d65ecd9c",
   "metadata": {},
   "source": [
    "#### Exercício 1"
   ]
  },
  {
   "cell_type": "markdown",
   "id": "9e32db53",
   "metadata": {},
   "source": [
    "Utilize o método da Bisseção para encontrar a solução, com precis\\~ao de $10^{-2}$, para $x^{3}-2x^{2}+x+2 = 0$ no intervalo $[-1, 1]$."
   ]
  },
  {
   "cell_type": "markdown",
   "id": "7f2eb462",
   "metadata": {},
   "source": [
    "#### Exercício 2"
   ]
  },
  {
   "cell_type": "markdown",
   "id": "535bf21d",
   "metadata": {},
   "source": [
    "Utilize o método da Bisseção para encontrar uma solução com precisão de $10^{-3}$ para $x = tg(x)$ no intervalo $[4, 4.5]$."
   ]
  },
  {
   "cell_type": "markdown",
   "id": "24e5adb8",
   "metadata": {},
   "source": [
    "#### Exercício 3"
   ]
  },
  {
   "cell_type": "markdown",
   "id": "caaf8ba8",
   "metadata": {},
   "source": [
    "No cálculo de $\\sqrt[3]{25}$, com precisão de $10^{-4}$, por meio da aplicação do método da Bisseção, obtemos $p_{n} = 2.92401$. Você tem ideia de qual é a equação $f(x) = 0$ pode ser utilizada neste caso? Qual o valor de $n$?"
   ]
  },
  {
   "cell_type": "markdown",
   "id": "e121d0a4",
   "metadata": {},
   "source": [
    "#### Exercício 4"
   ]
  },
  {
   "cell_type": "markdown",
   "id": "7a4356cb",
   "metadata": {},
   "source": [
    "O método da Bisseção pode ser aplicado para se encontrar uma solução para a equação $x^{4} - 2x + 1 = 0$, no intervalo $[-2, 2]$, com precisão $\\delta$ dada? Existe alguma solução $p \\in (-2, 2)$ tal que $f(p) = 0$? Caso tenha alguma solução em $(-2, 2)$, mas não seja possível aplicar o método da Bisseção ao intervalo fechado$[-2, 2]$, você conseguiria ajustar algum dado fornecido para que este método seja aplicável?"
   ]
  },
  {
   "cell_type": "markdown",
   "id": "b4346f3e",
   "metadata": {},
   "source": [
    "#### Exercício 5"
   ]
  },
  {
   "cell_type": "markdown",
   "id": "9c1fa978",
   "metadata": {},
   "source": [
    "Apresente uma estimativa do número de iterações ao se aplicar o método da bissecção a fim de obter ao menos um zero da função $f(x) = \\frac{cos(x)-x}{e^{x}}$ pertencente ao intervalo $[0,2]$ com uma precisão de $10^{-4}$."
   ]
  },
  {
   "cell_type": "markdown",
   "id": "8832e57a",
   "metadata": {},
   "source": [
    "#### Exercício 6"
   ]
  },
  {
   "cell_type": "markdown",
   "id": "bda64878",
   "metadata": {},
   "source": [
    "Apresente uma justificativa para a estimativa do número de iterações do método da bisseção descrita na **Observação 1**."
   ]
  },
  {
   "cell_type": "markdown",
   "id": "a561945f",
   "metadata": {},
   "source": [
    "# <div style=\"margin-top: -20px;\">\n",
    "<hr style=\"border: 2px solid black;\">\n",
    "\n",
    "<font color='black'><span style=\"font-size: 22px;\"><strong>Respostas dos Exercícios</strong></span></font>\n",
    "\n",
    "<hr style=\"border: 2px solid black;\">\n",
    "</div>"
   ]
  },
  {
   "cell_type": "markdown",
   "id": "d0d3ffe2",
   "metadata": {},
   "source": [
    "#### Resposta do Exercício 1"
   ]
  },
  {
   "cell_type": "markdown",
   "id": "0c25cdd9",
   "metadata": {},
   "source": [
    "$p_{8} = -0.695312500000000$"
   ]
  },
  {
   "cell_type": "markdown",
   "id": "fde8848b",
   "metadata": {},
   "source": [
    "#### Resposta do Exercício 2"
   ]
  },
  {
   "cell_type": "markdown",
   "id": "a567225e",
   "metadata": {},
   "source": [
    "$p_{9} = 4.493164062500000$ considerando a equação $tg(x)-x=0$."
   ]
  },
  {
   "cell_type": "markdown",
   "id": "2453f499",
   "metadata": {},
   "source": [
    "#### Resposta do Exercício 3"
   ]
  },
  {
   "cell_type": "markdown",
   "id": "0cb99cf3",
   "metadata": {},
   "source": [
    "$n = 14$, $f(x) = x^{3} - 25$"
   ]
  },
  {
   "cell_type": "markdown",
   "id": "7e4ab253",
   "metadata": {},
   "source": [
    "#### Resposta do Exercício 4"
   ]
  },
  {
   "cell_type": "markdown",
   "id": "9696b73c",
   "metadata": {},
   "source": [
    "Em caso de dúvida, consulte o professor. Uma dica seria aplicar o método de localização de zeros ao intervalo $[-2,2]$ refinando-o."
   ]
  },
  {
   "cell_type": "markdown",
   "id": "9de15b4b",
   "metadata": {},
   "source": [
    "#### Resposta do Exercício 5"
   ]
  },
  {
   "cell_type": "markdown",
   "id": "d70ddf0e",
   "metadata": {},
   "source": [
    "São necessárias pelo menos $15$ iterações."
   ]
  },
  {
   "cell_type": "markdown",
   "id": "55bf3163",
   "metadata": {},
   "source": [
    "#### Resposta do Exercício 6"
   ]
  },
  {
   "cell_type": "markdown",
   "id": "f68dda94",
   "metadata": {},
   "source": [
    "Basta isolar $N$ na inequação estrita (mais à direita) $|p_{n}-p| \\leq \\frac{b-a}{2^{N}} < 10^{-n}$. Em caso de dúvida, consulte o professor."
   ]
  },
  {
   "cell_type": "markdown",
   "id": "bb844f24",
   "metadata": {},
   "source": [
    "# <div style=\"margin-top: -20px;\">\n",
    "<hr style=\"border: 2px solid black;\">\n",
    "\n",
    "<font color='black'><span style=\"font-size: 22px;\"><strong>Vídeo Aulas</strong></span></font>\n",
    "\n",
    "<hr style=\"border: 2px solid black;\">\n",
    "</div>"
   ]
  },
  {
   "cell_type": "markdown",
   "id": "4062851d",
   "metadata": {},
   "source": [
    "Clicando nos links a seguir você será redirecionado às aulas referentes a este capítulo:\n",
    "\n",
    "[Método da Bissecção](https://youtu.be/y9PsNY1_pGo)\n",
    "\n",
    "[Convergência do Método da Bissecção](https://youtu.be/mwgottp4ogM)\n",
    "\n",
    "[Número de Iterações do Método da Bissecção](https://youtu.be/w5zo_rpANMk)"
   ]
  }
 ],
 "metadata": {
  "kernelspec": {
   "display_name": "Python 3 (ipykernel)",
   "language": "python",
   "name": "python3"
  },
  "language_info": {
   "codemirror_mode": {
    "name": "ipython",
    "version": 3
   },
   "file_extension": ".py",
   "mimetype": "text/x-python",
   "name": "python",
   "nbconvert_exporter": "python",
   "pygments_lexer": "ipython3",
   "version": "3.11.5"
  },
  "varInspector": {
   "cols": {
    "lenName": 16,
    "lenType": 16,
    "lenVar": 40
   },
   "kernels_config": {
    "python": {
     "delete_cmd_postfix": "",
     "delete_cmd_prefix": "del ",
     "library": "var_list.py",
     "varRefreshCmd": "print(var_dic_list())"
    },
    "r": {
     "delete_cmd_postfix": ") ",
     "delete_cmd_prefix": "rm(",
     "library": "var_list.r",
     "varRefreshCmd": "cat(var_dic_list()) "
    }
   },
   "types_to_exclude": [
    "module",
    "function",
    "builtin_function_or_method",
    "instance",
    "_Feature"
   ],
   "window_display": false
  }
 },
 "nbformat": 4,
 "nbformat_minor": 5
}
