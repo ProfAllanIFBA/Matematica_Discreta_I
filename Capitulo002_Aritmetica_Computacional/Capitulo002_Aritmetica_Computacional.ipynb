{
 "cells": [
  {
   "cell_type": "markdown",
   "id": "d4ea28a8",
   "metadata": {
    "slideshow": {
     "slide_type": "slide"
    }
   },
   "source": [
    "<center> <img src=\"logo_ifba.jpg\" alt=\"jpg_python\" width=\"100\" height=\"200\"> </center>\n",
    "<br><br>\n",
    "<div align=\"center\"><span style=\"font-size: 26px;\"><strong>Matemática Discreta I <br></strong></span></div> <br>\n",
    "<div align=\"center\"><span style=\"font-size: 18px;\"><strong>Versão Colab <br></strong></span></div> <br>\n",
    "<center> <img src=\"python_gif.gif\" alt=\"gif_python\" width=\"80\"> </center>\n"
   ]
  },
  {
   "cell_type": "markdown",
   "id": "6c924cc1",
   "metadata": {},
   "source": [
    "<div style=\"border: 2px solid black; padding: 10px; width: 95%; background-color: lightgray; display: flex; align-items: center;\">\n",
    "    <h1 style=\"color: red; text-align: center; margin: auto;\">\n",
    "        Capítulo 2: Aritmética Computacional\n",
    "    </h1>\n",
    "</div>\n",
    "\n",
    "<font color='red'></font>\n",
    "<a href=\"\"></a>"
   ]
  },
  {
   "cell_type": "markdown",
   "id": "83620422",
   "metadata": {
    "slideshow": {
     "slide_type": "-"
    }
   },
   "source": [
    "Atualmente, existem programas que exigem que as máquinas executem bilhões de operações por segundo. Grande parte das linguagens de programação utiliza a base binária e, em alguns casos, a octal e hexadecimal. Portanto, ao considerarmos a soma, por exemplo, de $101_{2} + 110_{2} = 1011_{2}$, que é equivalente a $5_{10} + 6_{10} = 11_{10}$, pode-se pensar que é melhor converter os números para a base $10$ e realizar as operações nessa base. No entanto, isso não é verdade quando se trata dos cálculos internos da máquina. A máquina é projetada para trabalhar naturalmente na base $2$ (com $1$ representando verdadeiro/ligado e $0$ representando falso/desligado).\n",
    "\n",
    "Neste capítulo, apresentaremos as quatro operações básicas (soma, subtração, multiplicação e divisão) em cada uma das bases $2$, $8$ e $16$, estabelecendo uma analogia com a base $10$. Para fins didáticos, nos concentraremos apenas nestas operações envolvendo apenas números inteiros."
   ]
  },
  {
   "cell_type": "markdown",
   "id": "09126b53",
   "metadata": {},
   "source": [
    "# <div style=\"margin-top: -20px;\">\n",
    "<hr style=\"border: 2px solid black;\">\n",
    "\n",
    "<font color='black'><span style=\"font-size: 22px;\"><strong>2.1 Operações Básicas Na Base 2</strong></span></font>\n",
    "\n",
    "<hr style=\"border: 2px solid black;\">\n",
    "</div>"
   ]
  },
  {
   "cell_type": "markdown",
   "id": "6d395125",
   "metadata": {},
   "source": [
    "#### Somando de 1 em 1"
   ]
  },
  {
   "cell_type": "markdown",
   "id": "66b38cc9",
   "metadata": {
    "slideshow": {
     "slide_type": "slide"
    }
   },
   "source": [
    "Na base $2$ só podemos usar os dígitos $0$ e $1$. Neste sentido, em comparação com a base $10$, cada \"casa\" do número só pode armazenar duas \"informações\" ao invés de dez na nossa conhecida base. Vejamos o processo de somar $1$ na base $2$.\n",
    "\n",
    "$$0_{2}, 1_{2}, 10_{2}, 11_{2}, 100_{2}, 101_{2}, 110_{2}, 111_{2}, 1000_{2}, \\ldots $$\n",
    "\n",
    "Perceba que iniciamos em $0_{2}$ e depois, somando uma unidade a este, passamos para o valor $1_{2}$. Contudo, ao adicionarmos mais uma unidade ao valor obtido, temos a necessidade e uma nova parcela pois, a atual está cheia. Então, zeramos esta parcela e escrevemos uma nova, à direita dessa com valor $1_{2}$ e zeramos a anterior gerando assim $10_{2}$ (equivalente à casa da dezena, no sistema decimal, mas representando menos em termos de quantidade!). Ao adicionarmos mais uma unidade ao valor $10_{2}$ o fazemos na casa da unidade obtendo $11_{2}$. Analogamente ao que fizermos anteriormente, ao acrescentarmos uma unidade a $11_{2}$ necessitamos de uma nova parcela, pois todas as duas estão cheias (atuais). Assim, zeramos as duas parcelas atuais e escrevemos um novo dígito com valor $1_{2}$ à esquerda deste número resultando em $100_{2}$. Continuamos assim sucessivamente. Acompanhe o esquema na figura a seguir:"
   ]
  },
  {
   "cell_type": "markdown",
   "id": "22d31305",
   "metadata": {},
   "source": [
    "<center> <img src=\"fig2-1.jpg\" alt=\"jpg_python\" width=\"400\" height=\"200\"> </center>"
   ]
  },
  {
   "cell_type": "markdown",
   "id": "74adbc86",
   "metadata": {},
   "source": [
    "Note que estamos aproveitando o a forma de funcionamento da base $10$. Por exemplo, ao somarmos ou subtrairmos números, o agrupamos de modo que o dígito da unidade de um número corresponda ao dígitos da unidade do outro, isto é, semelhantes (em ordem de grandeza) ficam na mesma coluna."
   ]
  },
  {
   "cell_type": "markdown",
   "id": "689d41ae",
   "metadata": {},
   "source": [
    "#### <font color='blue'>Exemplo 1</font>"
   ]
  },
  {
   "cell_type": "markdown",
   "id": "d7e1b97d",
   "metadata": {},
   "source": [
    "<font color='blue'> Efetue os seguintes cálculos: <br><br>\n",
    "a) $1101_{2} + 111_{2}$ $\\,\\,\\,\\,\\,\\,\\,\\,\\,\\,\\,\\,\\,\\,\\,\\,\\,\\,\\,\\,\\,\\,\\,\\,$ b) $11011_{2} - 1101_{2}$ </font>"
   ]
  },
  {
   "cell_type": "markdown",
   "id": "807f56ad",
   "metadata": {},
   "source": [
    "<font color='blue'> **Solução**: a) Temos que\n",
    "    <center> <img src=\"fig2-2.jpg\" alt=\"jpg_python\" width=\"300\" height=\"100\"> </center>\n",
    "Portanto, $1101_{2} + 111_{2} = 10010_{2}$. </font>"
   ]
  },
  {
   "cell_type": "markdown",
   "id": "e3955a07",
   "metadata": {},
   "source": [
    "<font color='blue'> b) Temos que\n",
    "    <center> <img src=\"fig2-3.jpg\" alt=\"jpg_python\" width=\"220\" height=\"100\"> </center>\n",
    "Portanto, $11011_{2} - 1101_{2} = 10010_{2}$."
   ]
  },
  {
   "cell_type": "markdown",
   "id": "158e6c3c",
   "metadata": {},
   "source": [
    "##### Dica"
   ]
  },
  {
   "cell_type": "markdown",
   "id": "144edbba",
   "metadata": {},
   "source": [
    "Entenda o ato de \"tomar emprestado\" utilizado no item \"b\" do Exemplo 1 da seguinte forma: o valor emprestado corresponde ao valor da base, isto é neste caso $2$ (pensado em termos da base $10$). Contudo, $2$ na base $10$ corresponde a $10_{2}$ (coincidência?). Para facilitar, pense assim <br><br>\n",
    "$$0_{2} - 1_{2} \\rightarrow \\underset{\\rm emp.}{10_{2}} + 0_{2} - 1_{2} = 10_{2} - 1_{2} = 1.$$"
   ]
  },
  {
   "cell_type": "markdown",
   "id": "58310318",
   "metadata": {},
   "source": [
    "#### Propiedades Herdadas"
   ]
  },
  {
   "cell_type": "markdown",
   "id": "7607284e",
   "metadata": {},
   "source": [
    "É possível mostrar que propriedades aritméticas da base $10$ são herdadas pela base $2$ e demais bases. A seguir listamos as principais:\n",
    "\n",
    "$$ \n",
    "\\begin{array}{cccc}\n",
    "\\textbf{Propriedade}\t& + & \\textbf{Mista} & \\times \\\\\n",
    "\\textbf{Comutatividade}\t& a + b = b + a & & a \\times b = b \\times a\\\\\n",
    "\\textbf{Associatividade}\t& (a + b) + c = a + (b + c) & & (a \\times b) \\times c = a \\times (b \\times c) \\\\\n",
    "\\textbf{Elemento Neutro}\t& a + 0 = 0 + a & & a \\times 0 = 0 \\times a \\\\\n",
    "\\textbf{Elemento Inverso}\t& a - a = 0 & & a \\times \\frac{1}{a} = 1^{*} \\\\\n",
    "\\textbf{Distributividade}\t& & a \\times(b + c) = a \\times b + a \\times c & \\\\\n",
    "\\end{array}\n",
    "$$\n",
    "\n",
    "$^{*}$ Desde que $a \\neq 0$.\n"
   ]
  },
  {
   "cell_type": "markdown",
   "id": "44b73687",
   "metadata": {},
   "source": [
    "#### Produto na Base 2"
   ]
  },
  {
   "cell_type": "markdown",
   "id": "0000e29f",
   "metadata": {},
   "source": [
    "Para o produto, e posteriormente a divisão (padrão humano) precisamos da tabuada do produto na base $2$."
   ]
  },
  {
   "cell_type": "markdown",
   "id": "4e0cb2d8",
   "metadata": {},
   "source": [
    "<center> <img src=\"fig2-4.jpg\" alt=\"jpg_python\" width=\"180\" height=\"100\"> </center>"
   ]
  },
  {
   "cell_type": "markdown",
   "id": "584defba",
   "metadata": {},
   "source": [
    "#### <font color='blue'>Exemplo 2</font>"
   ]
  },
  {
   "cell_type": "markdown",
   "id": "1f7b2b5a",
   "metadata": {},
   "source": [
    "<font color='blue'>Calcule $110_{2} \\times 101_{2}$:</font>"
   ]
  },
  {
   "cell_type": "markdown",
   "id": "53830039",
   "metadata": {},
   "source": [
    "<font color='blue'>**Solução**: Procederemos como o produto análogo ao feito na base $10$ com o que já sabemos da soma na base $2$. <br><br> </font>\n",
    "<center> <img src=\"fig2-5.jpg\" alt=\"jpg_python\" width=\"180\" height=\"150\"> </center> <br>\n",
    "<font color='blue'>Percebemos claramente que a multiplicação (padrão humano) exige o conhecimento da soma. Além disso, valem, as propriedades listadas anteriormente. Em particular,<br><br>\n",
    "$$110_{2} \\times 101_{2} = 110_{2} \\times 1_{2} + 110_{2} \\times 00_{2} + 110_{2} \\times 100_{2} = 110_{2} + 0000_{2} + 11000_{2} = 11110_{2}.$$</font>"
   ]
  },
  {
   "cell_type": "markdown",
   "id": "46def334",
   "metadata": {},
   "source": [
    "#### Divisão na Base 2"
   ]
  },
  {
   "cell_type": "markdown",
   "id": "8472caa8",
   "metadata": {},
   "source": [
    "Agora vejamos a divisão (considerando o padrão humano, por tentativa e erro - *na base $2$ não tem erro!* - isto é, usamos produtos em cada etapa para estimamos os dígitos). Assim como na base $10$ para dividirmos à mão, em geral, precisamos entender bem as operações de subtração e produto. {\\it{Talvez a nossa dificuldade em dividir se deva ao fato de necessitarmos de tantas outras operações!}}"
   ]
  },
  {
   "cell_type": "markdown",
   "id": "e6c5ce4f",
   "metadata": {},
   "source": [
    "#### <font color='blue'>Exemplo 3</font>"
   ]
  },
  {
   "cell_type": "markdown",
   "id": "d9dad197",
   "metadata": {},
   "source": [
    "<font color='blue'> Calcule $10010_{2}\\div11_{2}$: </font>"
   ]
  },
  {
   "cell_type": "markdown",
   "id": "ccf43209",
   "metadata": {},
   "source": [
    "<font color='blue'> A divisão, em geral, segue o que já conhecemos, contudo, a tentativa é bem fácil pois o quociente só recebe o dígito $0$ ou o dígito $1$ em cada etapa, por isso afirmamos anteriormente que não há erro! </font>\n",
    "<center> <img src=\"fig2-6.jpg\" alt=\"jpg_python\" width=\"130\" height=\"160\"> </center> </font>"
   ]
  },
  {
   "cell_type": "markdown",
   "id": "21b01a07",
   "metadata": {},
   "source": [
    "# <div style=\"margin-top: -20px;\">\n",
    "<hr style=\"border: 2px solid black;\">\n",
    "\n",
    "<font color='black'><span style=\"font-size: 22px;\"><strong>2.2 Operações Básicas Na Base 8</strong></span></font>\n",
    "\n",
    "<hr style=\"border: 2px solid black;\">\n",
    "</div>"
   ]
  },
  {
   "cell_type": "markdown",
   "id": "9d20348d",
   "metadata": {},
   "source": [
    "#### Somando de 1 em 1"
   ]
  },
  {
   "cell_type": "markdown",
   "id": "5eaacb3a",
   "metadata": {},
   "source": [
    "Embora, a base $8$ tenha se tornado obsoleta devido a utilização da base $16$, cabe ressaltar que nos interessa aqui estudar o processo, a observação de certo padrão independente da base que se opera. Para iniciarmos, vejamos o processo de somar $1$ na base $8$:<br>\n",
    "\n",
    "$$0_{8}, 1_{8}, 2_{8}, 3_{8}, 4_{8}, 5_{8}, 6_{8}, 7_{8}, 10_{8}, 11_{8}, 12_{8}, \\ldots, 16_{8}, 17_{8}, 20_{8}, 21_{8}, \\ldots, 76_{8}, 77_{8}, 100_{8}, \\ldots$$\n",
    "\n",
    "Perceba que podemos guardar até $8$ informações em cada dígito ($0,1,2,\\ldots,7$) antes de inserirmos um novo dígito à esquerda. Sendo assim, é plausível inferir que as operações básicas e todas as propriedades listadas anteriormente funcionam na base $8$ de maneira semelhante às bases $2$ e $10$. De fato, isso é verdade."
   ]
  },
  {
   "cell_type": "markdown",
   "id": "8ec759cb",
   "metadata": {},
   "source": [
    "#### Tabuada da Base 8"
   ]
  },
  {
   "cell_type": "markdown",
   "id": "4b26e88e",
   "metadata": {},
   "source": [
    "A fim de facilitar as contas vejamos a tabuada do produto da base $8$:"
   ]
  },
  {
   "cell_type": "markdown",
   "id": "ef25bfdf",
   "metadata": {},
   "source": [
    "<center> <img src=\"fig2-7.jpg\" alt=\"jpg_python\" width=\"550\" height=\"200\"> </center>"
   ]
  },
  {
   "cell_type": "markdown",
   "id": "9df8a6d3",
   "metadata": {},
   "source": [
    "#### <font color='blue'>Exemplo 4</font>"
   ]
  },
  {
   "cell_type": "markdown",
   "id": "3220b0ce",
   "metadata": {},
   "source": [
    "<font color='blue'>Efetue os seguintes cálculos:<br><br>\n",
    "a) $65_{8} + 44_{8}$ $\\,\\,\\,\\,\\,\\,\\,\\,\\,\\,\\,\\,\\,\\,\\,\\,\\,\\,\\,\\,\\,\\,\\,\\,$ b) $725_{8} - 143_{8}$\n",
    "<br><br>\n",
    "c) $23_{8} \\times 45_{8}$ $\\,\\,\\,\\,\\,\\,\\,\\,\\,\\,\\,\\,\\,\\,\\,\\,\\,\\,\\,\\,\\,\\,\\,\\,\\,$ d) $1337_{8} \\div 25_{8}$</font>"
   ]
  },
  {
   "cell_type": "markdown",
   "id": "27ac1981",
   "metadata": {},
   "source": [
    "<font color='blue'>**Solução**: a) Temos que<br><br>\n",
    "    <center> <img src=\"fig2-8.jpg\" alt=\"jpg_python\" width=\"300\" height=\"100\"> </center>\n",
    "O dígito $1_{8}$ que subiu para a coluna da soma $6_{8} + 4_{8}$ corresponde à soma $5_{8} + 4_{8} = 11_{8}$. Em um primeiro momento, caso tenha dúvida na soma $5_{8} + 4_{8}$ pode proceder de \"um em um\"(triando um do maior e adicionando ao menor até atingir $10_{8} + x = 1x_{8}$) como a seguir:<br><br>\n",
    "$$5_{8} + 4_{8} = 5_{8} + \\underset{0}{\\underbrace{1_{8} - 1_{8}}} + 4_{8} = (5_{8} + 1_{8}) + (-1_{8} + 4_{8}) = 6_{8} + 3_{8} = 6_{8} +\\underset{0}{\\underbrace{1_{8} - 1_{8}}} + 3_{8} =$$<br>\n",
    "$$= (6_{8} + 1_{8}) + (-1_{8} + 3_{8}) = 7_{8} + 2_{8} = 7_{8} +\\underset{0}{\\underbrace{1_{8} - 1_{8}}} + 2_{8} = (7_{8} + 1_{8}) + (-1_{8} + 2_{8}) = 10_{8} + 1_{8} = 11_{8}.$$<br>\n",
    "*Use o processo acima para mostrar que $6_{8} + 5_{8} = 13_{8}$. Somar e subtrair um mesmo valor não muda um resultado!*"
   ]
  },
  {
   "cell_type": "markdown",
   "id": "7de13ec2",
   "metadata": {},
   "source": [
    "<font color='blue'>b) Temos que<br><br>\n",
    "    <center> <img src=\"fig2-9.jpg\" alt=\"jpg_python\" width=\"60\" height=\"100\"> </center><br>\n",
    "Entenda o ato de \"tomar emprestado\" da seguinte forma: o valor emprestado corresponde ao valor da base, isto é neste caso $8$ (pensado em termos da base $10$). Contudo, $8$ na base $10$ corresponde a $10_{8}$ (coincidência?). Para facilitar, pense assim<br><br>\n",
    "$$2_{8} - 4_{8} \\rightarrow \\underset{\\rm emp.}{10_{8}} + 2_{8} - 4_{8} = 10_{8} - 2_{8} = 6_{8}.$$<br>\n",
    "Lembre-se que o $7_{8}$ ao emprestar $1_{8}$ torna-se $6_{8}$. *Observou algum padrão? Até mesmo o texto, quando fizemos um exemplo semelhante para a base $2$ foi copiado!* </font>"
   ]
  },
  {
   "cell_type": "markdown",
   "id": "5ae27241",
   "metadata": {},
   "source": [
    "<font color='blue'>c) Temos que<br><br>\n",
    "    <center> <img src=\"fig2-10.jpg\" alt=\"jpg_python\" width=\"210\" height=\"160\"> </center><br>\n",
    "Novamente, percebemos claramente que a multiplicação (padrão humano) exige o conhecimento da soma. Além disso, valem, as propriedades listadas anteriormente. Em particular,\n",
    "$$23_{8} \\times 45_{8} = 23_{8} \\times 5_{8} + 23_{8} \\times 40_{8}  = 137_{8} + 1140_{8} = 1277_{8}.$$ </font>"
   ]
  },
  {
   "cell_type": "markdown",
   "id": "39785011",
   "metadata": {},
   "source": [
    "<font color='blue'> d) *Prepara o cérebro pra não bugar!* Deixaremos os rascunhos das tentativas e erro destacados (lembre-se, estamos entendendo outras bases a partir do que já sabemos da base $10$). Além disso, o valor do quociente $q$ de uma divisão vezes o divisor $d$ nunca pode ser maior que o divisor $d$ e que,<br><br>\n",
    "    <center> <img src=\"fig2-11.jpg\" alt=\"jpg_python\" width=\"190\" height=\"100\"> </center><br>\n",
    "Partindo para as contas, temos:\n",
    "    <center> <img src=\"fig2-12.jpg\" alt=\"jpg_python\" width=\"330\" height=\"130\"> </center><br>\n",
    "Para a escolha do $4_{8}$ pertencente ao quociente escolhemos estimá-lo como $25_{8} \\times 5_{8} = 151_{8} > 133_{8} = D_{1}$ e portanto, não serve (deveria ser menor ou igual a $D_{1}$); em seguida tomamos $25_{8} \\times 4_{8} = 124_{8} < 133_{8} = D_{1}$. Assim, obtemos o valor $4_{8}$ mencionado; para o valor $3$, testamos $25_{8} \\times 3_{8} = 77_{8} = D_{2}$ que se ajeitou perfeitamente (se assim não fosse, poderíamos calcular $25 \\times 2_{8}$ ou deixar $3_{8}$ caso o resto não dê $0$, caso a divisão não fosse exata).</font>"
   ]
  },
  {
   "cell_type": "markdown",
   "id": "aec2f085",
   "metadata": {},
   "source": [
    "#### <font color='green'> Palavras dos Mestres </font>"
   ]
  },
  {
   "cell_type": "markdown",
   "id": "77b41e3a",
   "metadata": {},
   "source": [
    "<font color='green'> Uma maneira de se dividir dois números inteiros, de certa forma, mais fácil de ser implementada na máquina é considerarmos subtrações sucessivas do dividendo $D$ pelo diviso $q$ até que esta subtração seja menor que $d$, resultando no resto. O quociente $q$ corresponde ao número de subtrações até obtermos $r$ (Estamos buscando quantos $q$'s cabem em $D$). Vejamos um exemplo na base $10$, digamos $17 \\div 3$:<br>\n",
    "$$\n",
    "\\begin{array}{ccc}\n",
    "Atualização de D\t& Atualização de r & Atualização de q  \\\\\n",
    "17\t& 17-3 = 14 > 3 & 1 \\\\\n",
    "14\t& 14-3 = 11 > 3 & 2 \\\\\n",
    "11\t& 11-3 = 8  > 3 & 3 \\\\\n",
    "8 \t& 8-3 = 5 > 3   & 4 \\\\\n",
    "5\t    & \\boxed{5-3 = 2}_{r} < 3   & \\boxed{5}_{q} \\\\\n",
    "\\end{array}\n",
    "$$<br>\n",
    "Portanto, temos que $q = 5$ e $r = 2$. De fato, $17 = 3 \\times 5 + 2$. Note que esta forma de se calcular não exige que a máquina estime ou chute nada. Ela simplesmente executará sucessivas subtrações até atingir a condição desejada. Caso tenhamos um ambiente que execute subtrações em uma outra base podemos usar a mesma ideia para tais bases. Nem sempre a forma mais conveniente para nós (padrão humano ou forma mais comumente usada) será a mais efetiva para um PC. Tente usar este método para calcular o quociente o resto da divisão $50_{8} \\div 13_{8}$ (resposta: $q = 3$ e $r = 1$). </font>"
   ]
  },
  {
   "cell_type": "markdown",
   "id": "55689616",
   "metadata": {},
   "source": [
    "# <div style=\"margin-top: -20px;\">\n",
    "<hr style=\"border: 2px solid black;\">\n",
    "\n",
    "<font color='black'><span style=\"font-size: 22px;\"><strong>2.3 Operações Básicas Na Base 16</strong></span></font>\n",
    "\n",
    "<hr style=\"border: 2px solid black;\">\n",
    "</div>"
   ]
  },
  {
   "cell_type": "markdown",
   "id": "4680ad6b",
   "metadata": {},
   "source": [
    "#### Somando de 1 em 1"
   ]
  },
  {
   "cell_type": "markdown",
   "id": "ffb47af0",
   "metadata": {},
   "source": [
    "O sistema hexadecimal de numeração muito utilizado na programação de microprocessadores, em especial nos equipamentos e máquinas de estudo e sistemas de desenvolvimento. Para iniciarmos, vejamos o processo de somar $1$ na base $16$:<br><br>\n",
    "$$0_{16}, 1_{16}, 2_{16}, \\ldots, 9_{16}, A_{16}, B_{16}, C_{16}, D_{16}, E_{16}, F_{16}, 10_{16}, 11_{16}, \\ldots, 19_{16}, 1A_{16}, \\ldots, 1F_{16}, 20_{16}, 21_{16}, \\ldots, FF_{16}, 100_{16}, \\ldots$$<br>\n",
    "Perceba agora, que podemos guardar até $16$ informações em cada dígito $(0,1,2, \\ldots, E, F)$ antes de inserirmos um novo dígito à esquerda. Sendo assim, é plausível inferir que as operações básicas e todas as propriedades listadas anteriormente funcionam na base $16$ de maneira semelhante às bases $2$, $8$ e $10$. De fato, isso é verdade."
   ]
  },
  {
   "cell_type": "markdown",
   "id": "59b459dd",
   "metadata": {},
   "source": [
    "#### Tabuada da Base 16"
   ]
  },
  {
   "cell_type": "markdown",
   "id": "af6b1425",
   "metadata": {},
   "source": [
    "A fim de facilitar as contas vejamos a tabuada do produto da base 16:"
   ]
  },
  {
   "cell_type": "markdown",
   "id": "b0f62986",
   "metadata": {},
   "source": [
    "<center> <img src=\"fig2-13.jpg\" alt=\"jpg_python\" width=\"500\" height=\"300\"> </center><br>"
   ]
  },
  {
   "cell_type": "markdown",
   "id": "b90d0616",
   "metadata": {},
   "source": [
    "#### <font color='blue'>Exemplo 5</font>"
   ]
  },
  {
   "cell_type": "markdown",
   "id": "4f7e6c2e",
   "metadata": {},
   "source": [
    "<font color='blue'> Efetue os seguintes cálculos: <br><br>\n",
    "a) $3D5_{16} + 1AF_{16}$ $\\,\\,\\,\\,\\,\\,\\,\\,\\,\\,\\,\\,\\,\\,\\,\\,\\,\\,\\,\\,\\,\\,\\,\\,$ b) $E64_{16} - CDE_{16}$\n",
    "<br><br>\n",
    "c) $3F_{16} \\times AC_{16}$ $\\,\\,\\,\\,\\,\\,\\,\\,\\,\\,\\,\\,\\,\\,\\,\\,\\,\\,\\,\\,\\,\\,\\,\\,\\,\\,\\,\\,\\,\\,\\,$ d) $2CA2_{16} \\div C5_{16}$"
   ]
  },
  {
   "cell_type": "markdown",
   "id": "d85baaff",
   "metadata": {},
   "source": [
    "<font color='blue'>**Solução**: a) Temos que \n",
    "    <center> <img src=\"fig2-14.jpg\" alt=\"jpg_python\" width=\"250\" height=\"110\"> </center><br>\n",
    "O dígito $1_{16}$ que subiu para a coluna $D_{16} + A_{16}$ corresponde à soma $5_{16} + F_{16} = 14_{16}$. Caso tenha dúvida na soma $5_{16} + F_{16}$ pode proceder de \"um em um\" (tirando um do maior e adicionando ao menor até atingir $10_{16} + x_{16} = 1x_{16})$ como a seguir:<br><br>\n",
    "$$5_{16} + F_{16} = 4_{16} + 10_{16} = 14_{16}.$$<br>\n",
    "Analogamente, o dígito $1_{16}$ que subiu para a coluna $3_{16} + 1_{16}$ corresponde à soma $1_{16} + D_{16} + A_{16}$, donde segue<br><br>\n",
    "$$1_{16} + D_{16} + A_{16} = E_{16} + A_{16} = F_{16} + 9_{16} = 10_{16} + 8_{16} = 18_{16}.$$\n",
    "</font>"
   ]
  },
  {
   "cell_type": "markdown",
   "id": "01f05982",
   "metadata": {},
   "source": [
    "<font color='blue'>b) Temos que\n",
    "    <center> <img src=\"fig2-15.jpg\" alt=\"jpg_python\" width=\"70\" height=\"90\"> </center><br>\n",
    "Entenda o ato de \"tomar emprestado\" da seguinte forma: o valor emprestado corresponde ao valor da base, neste caso, $16$ (pensando em termos da base 10). Contudo, $16$ na base $10$ corresponde a $10_{16}$. Para facilitar, pense assim,<br><br>\n",
    "$$4_{16} - E_{16} \\rightarrow 10_{16} + 4_{15} - E_{16} = 10_{16} - E_{16} +4_{16} = 2_{16} + 4_{16} = 6_{16}.$$<br>\n",
    "Lembre-se que o $6_{16}$ ao emprestar $1_{16}$ torna-se $5_{16}$. Analogamente, a na subtração da segunda coluna, temos que tomar emprestado da terceira:<br><br>\n",
    "$$5_{16}-D_{16} \\rightarrow 10_{16} + 5_{16} - D_{16} = 10_{16} - D_{16} + 5_{16} = 3_{16} + 5_{16} = 8_{16}.$$\n",
    "</font>"
   ]
  },
  {
   "cell_type": "markdown",
   "id": "97a54561",
   "metadata": {},
   "source": [
    "<font color='blue'>c) Temos que\n",
    "    <center> <img src=\"fig2-16.jpg\" alt=\"jpg_python\" width=\"300\" height=\"200\"> </center><br>\n",
    "Como dito para outras bases, valem as propriedades listadas anteriormente. Em particular,<br><br>\n",
    "$$3F_{16} \\times AC_{16} = 3F_{16} \\times C_{16} + 3F_{16} \\times A0_{16} = 2F4_{16} + 2760_{16} = 2A54_{16}.$$\n",
    "</font>"
   ]
  },
  {
   "cell_type": "markdown",
   "id": "1a335c6b",
   "metadata": {},
   "source": [
    "<font color='blue'>d) Temos que\n",
    "    <center> <img src=\"fig2-17.jpg\" alt=\"jpg_python\" width=\"380\" height=\"200\"> </center><br>\n",
    "Para a escolha do $3_{16}$ pertencente ao quociente escolhemos estimá-lo como $C5_{16} \\times 2_{16} = 192_{16} > 2CA_{16} = D_{1}$ e portanto, não serviu (deveria ser menor ou igual a $D_{1}$); em seguida $C5_{16} \\times 3_{16} = 24F_{16} < 2CA_{16} = D_{1}$. Assim, obtemos $3_{16}$; a escolha do valor $A$ pertencente ao quociente escolhemos estimá-lo como $C5_{16} \\times 8 = 19A_{16} > 7B2_{16} = D_{2}$ e $C5_{16} \\times 8 = 19A_{16} > 7B2_{16} = D_{2}$ que não servirão; em seguida $C5_{16} \\times A_{16} = 7B2_{16} = D_{2}$ que se ajeitou perfeitamente.\n",
    "</font>"
   ]
  },
  {
   "cell_type": "markdown",
   "id": "5ca8aaac",
   "metadata": {},
   "source": [
    "#### <font color='green'> Palavras dos Mestres </font>"
   ]
  },
  {
   "cell_type": "markdown",
   "id": "0d5b6b69",
   "metadata": {},
   "source": [
    "<font color='green'> Ocorre, em alguns casos, que certas rotinas computacionais diferem da forma usual em que costumamos realizar cálculos manualmente. Por exemplo, as operações de soma, multiplicação, subtração e divisão são realizadas de forma diferente na linguagem \"assembly\" e, em geral, não seguem a forma tradicional que conhecemos. Nos capítulos anteriores, estudamos os sistemas numéricos da forma como realizamos manualmente. Agora surge uma pergunta: e a programação?\n",
    "<br><br>\n",
    "Antes de prosseguir, é importante ter em mente que resolver uma expressão como $3A_{16} + E2_{16}$ não é o aspecto mais relevante, ou pelo menos não é o mais crucial. O que é mais importante é perceber que essa expressão é, em grande parte, semelhante a expressões como $130 + 34$, $234_{8} + 541_{8}$ e $1001_{2} + 11001_{2}$ (resultados diferentes!). Provavelmente, você nunca precisará realizar um cálculo exatamente como esse na vida, mas observar padrões é sim importante.\n",
    "<br><br>\n",
    "Quando percebemos as semelhanças entre as bases 2, 8, 10, 16 (e qualquer outra base), podemos facilmente resolver um problema respondido em uma delas e aplicá-lo às outras bases. Mais genericamente, se notamos um padrão entre a estrutura $x$ e a estrutura $y$, e se temos um problema resolvido na estrutura $x$, podemos, quase certamente (isso ocorre frequentemente em matemática), resolvê-lo na estrutura $y$. O mais desafiador é resolver o problema inicialmente na estrutura $x$ e perceber a semelhança entre a estrutura $x$ e a estrutura $y$. Vai me dizer que nunca resolveu um problema através de analogia com outro problema semelhante cuja solução você já conhecia?. </font>"
   ]
  },
  {
   "cell_type": "markdown",
   "id": "412a8bcd",
   "metadata": {},
   "source": [
    "# <div style=\"margin-top: -20px;\">\n",
    "<hr style=\"border: 2px solid black;\">\n",
    "\n",
    "<font color='black'><span style=\"font-size: 22px;\"><strong>2.4 Exercícios</strong></span></font>\n",
    "\n",
    "<hr style=\"border: 2px solid black;\">\n",
    "</div>"
   ]
  },
  {
   "cell_type": "markdown",
   "id": "d4a9cdb0",
   "metadata": {},
   "source": [
    "#### Exercício 1"
   ]
  },
  {
   "cell_type": "markdown",
   "id": "fb6cbec5",
   "metadata": {},
   "source": [
    "Efetue, sem mudar a base, as seguintes operações:\n",
    "<br><br>\n",
    "a) $110011_{2} + 101101_{2}$ $\\,\\,\\,\\,\\,\\,\\,\\,\\,\\,\\,$ b) $110011_{2} - 101101_{2}$ $\\,\\,\\,\\,\\,\\,\\,\\,\\,\\,\\,$ c) $1010_{2} \\cdot 11_{2}$ $\\,\\,\\,\\,\\,\\,\\,\\,\\,\\,\\,$ d) $1100_{2} : 11_{2}$ $\\,\\,\\,\\,\\,\\,\\,\\,\\,\\,\\,$ e) $322_{8} + 154_{8}$ $\\,\\,\\,\\,\\,\\,\\,\\,\\,\\,\\,$ f) $641_{8} - 453_{8}$\n",
    "<br><br>\n",
    "g) $231_{8}*75_{8}$ $\\,\\,\\,\\,\\,\\,\\,\\,\\,\\,\\,\\,\\,\\,\\,\\,\\,\\,\\,\\,\\,\\,\\,\\,\\,\\,\\,\\,\\,\\,\\,\\,$ h) $1046_{8}:67_{8}$ $\\,\\,\\,\\,\\,\\,\\,\\,\\,\\,\\,\\,\\,\\,\\,\\,\\,\\,\\,\\,\\,\\,\\,\\,\\,\\,\\,\\,\\,\\,\\,$ i) $6b_{16} + 12d_{16}$ $\\,\\,\\,\\,\\,\\,\\,\\,$ j) $D2F - 3B1$ $\\,\\,\\,\\,\\,\\,\\,\\,\\,\\,\\,$ k) $BD*4F$ $\\,\\,\\,\\,\\,\\,\\,\\,\\,\\,\\,\\,\\,\\,\\,\\,\\,\\,\\,$ l) $25F8_{16}:3C$"
   ]
  },
  {
   "cell_type": "markdown",
   "id": "39b44c3c",
   "metadata": {},
   "source": [
    "#### Exercício 2"
   ]
  },
  {
   "cell_type": "markdown",
   "id": "81a8596a",
   "metadata": {},
   "source": [
    "Desenvolva um texto apresentando as operações básicas de soma, subtração, multiplicação e divisão nas bases $7$ e $12$. Utilize o texto apresentado nesse material como base."
   ]
  },
  {
   "cell_type": "markdown",
   "id": "65b5d142",
   "metadata": {},
   "source": [
    "## <div style=\"margin-top: -20px;\">\n",
    "<hr style=\"border: 2px solid black;\">\n",
    "\n",
    "<font color='black'><span style=\"font-size: 18px;\"><strong>Respostas</strong></span></font>\n",
    "\n",
    "<hr style=\"border: 2px solid black;\">\n",
    "</div>"
   ]
  },
  {
   "cell_type": "markdown",
   "id": "e508b30a",
   "metadata": {},
   "source": [
    "#### Respostas do Exercício 1"
   ]
  },
  {
   "cell_type": "markdown",
   "id": "13b17ec4",
   "metadata": {},
   "source": [
    " a) $1100000_{2}$, $\\,\\,\\,$ b) $110_{2}$, $\\,\\,\\,$ c) $11110_{2}$, $\\,\\,\\,$ d)  $100_{2}$, $\\,\\,\\,$ e) $476_{8}$, $\\,\\,\\,$ f) $166_{8}$, $\\,\\,\\,$ g) $22165_{8}$, $\\,\\,\\,$ h) $12_{8}$, $\\,\\,\\,$ i) $198_{16}$, $\\,\\,\\,$ j) $97E_{16}$, $\\,\\,\\,$ k) $3A53_{16}$, $\\,\\,\\,$ l) $A2$"
   ]
  },
  {
   "cell_type": "markdown",
   "id": "a5b5b778",
   "metadata": {},
   "source": [
    "#### Resposta do Exercício 2"
   ]
  },
  {
   "cell_type": "markdown",
   "id": "89c5622a",
   "metadata": {},
   "source": [
    "Aberta. Em caso de dúvida, consulte o professor."
   ]
  },
  {
   "cell_type": "markdown",
   "id": "d8fa3a07",
   "metadata": {},
   "source": [
    "# <div style=\"margin-top: -20px;\">\n",
    "<hr style=\"border: 2px solid black;\">\n",
    "\n",
    "<font color='black'><span style=\"font-size: 22px;\"><strong>2.5 Vídeo Aulas</strong></span></font>\n",
    "\n",
    "<hr style=\"border: 2px solid black;\">\n",
    "</div>"
   ]
  },
  {
   "cell_type": "markdown",
   "id": "0a244506",
   "metadata": {},
   "source": [
    "Clicando nos links a seguir você será redirecionado às aulas referentes a este capítulo.\n",
    "\n",
    "[Aritmética Básica na Base 2](https://youtu.be/xvjC7avceNk)\n",
    "\n",
    "[Aritmética Básica na Base 8](https://youtu.be/C_dxloG_Xgw)\n",
    "\n",
    "[Aritmética Básica na Base 16](https://youtu.be/S-4MKZCchrU)"
   ]
  },
  {
   "cell_type": "markdown",
   "id": "cd81fc4a",
   "metadata": {},
   "source": [
    "# <div style=\"margin-top: -20px;\">\n",
    "<hr style=\"border: 2px solid black;\">\n",
    "\n",
    "<font color='black'><span style=\"font-size: 22px;\"><strong>2.6 No Computador (Experimental)</strong></span></font>\n",
    "\n",
    "<hr style=\"border: 2px solid black;\">\n",
    "</div>"
   ]
  },
  {
   "cell_type": "markdown",
   "id": "3c24c368",
   "metadata": {},
   "source": [
    "Apresentaremos a seguir calculadoras referentes às operações de soma, subtração, multiplicação e divisão de números nas bases $2$, $8$ e $16$. Para facilitar usaremos algumas funções \"prontas\" a fim de encurtar os processos."
   ]
  },
  {
   "cell_type": "markdown",
   "id": "0d551036",
   "metadata": {},
   "source": [
    "#### Calculadora de Base 2 (apenas int)"
   ]
  },
  {
   "cell_type": "code",
   "execution_count": 1,
   "id": "6032d011",
   "metadata": {
    "ExecuteTime": {
     "end_time": "2023-07-17T20:17:04.883702Z",
     "start_time": "2023-07-17T20:17:04.869734Z"
    }
   },
   "outputs": [
    {
     "name": "stdout",
     "output_type": "stream",
     "text": [
      "A soma de 10011 e 11 na base 2 é: 10110\n",
      "A subtração de 10011 por 11 na base 2 é: 10000\n",
      "A multiplicação de 10011 por 11 na base 2 é: 111001\n",
      "A divisão de 10011 por 11 na base 2 é: Quociente=110, Resto=1\n"
     ]
    }
   ],
   "source": [
    "def soma_binaria(a, b):\n",
    "    # Realiza a soma dos números binários convertidos para inteiros na base 2\n",
    "    return bin(int(a, 2) + int(b, 2))[2:]\n",
    "\n",
    "def subtracao_binaria(a, b):\n",
    "    # Realiza a subtração dos números binários convertidos para inteiros na base 2\n",
    "    return bin(int(a, 2) - int(b, 2))[2:]\n",
    "\n",
    "def multiplicacao_binaria(a, b):\n",
    "    # Realiza a multiplicação dos números binários convertidos para inteiros na base 2\n",
    "    return bin(int(a, 2) * int(b, 2))[2:]\n",
    "\n",
    "def divisao_binaria(dividendo, divisor):\n",
    "    # Realiza a divisão dos números binários convertidos para inteiros na base 2\n",
    "    quociente = bin(int(dividendo, 2) // int(divisor, 2))[2:]\n",
    "    resto = bin(int(dividendo, 2) % int(divisor, 2))[2:]\n",
    "    return quociente, resto\n",
    "\n",
    "\n",
    "# Exemplo de uso\n",
    "a = \"10011\"\n",
    "b = \"11\"\n",
    "\n",
    "# Realiza a soma dos números binários\n",
    "soma = soma_binaria(a, b)\n",
    "# Realiza a subtração dos números binários\n",
    "subtracao = subtracao_binaria(a, b)\n",
    "# Realiza a multiplicação dos números binários\n",
    "multiplicacao = multiplicacao_binaria(a, b)\n",
    "# Realiza a divisão dos números binários\n",
    "divisao, resto = divisao_binaria(a, b)\n",
    "\n",
    "# Imprime os resultados\n",
    "print(f\"A soma de {a} e {b} na base 2 é: {soma}\")\n",
    "print(f\"A subtração de {a} por {b} na base 2 é: {subtracao}\")\n",
    "print(f\"A multiplicação de {a} por {b} na base 2 é: {multiplicacao}\")\n",
    "print(f\"A divisão de {a} por {b} na base 2 é: Quociente={divisao}, Resto={resto}\")"
   ]
  },
  {
   "cell_type": "markdown",
   "id": "581705fb",
   "metadata": {},
   "source": [
    "#### Calculadora de base 8 (apenas int)"
   ]
  },
  {
   "cell_type": "code",
   "execution_count": 2,
   "id": "1216c48d",
   "metadata": {
    "ExecuteTime": {
     "end_time": "2023-07-17T20:17:04.895663Z",
     "start_time": "2023-07-17T20:17:04.885691Z"
    }
   },
   "outputs": [
    {
     "name": "stdout",
     "output_type": "stream",
     "text": [
      "A soma de 12 e 7 na base 8 é: 21\n",
      "A subtração de 12 por 7 na base 8 é: 3\n",
      "A multiplicação de 12 por 7 na base 8 é: 106\n",
      "A divisão de 12 por 7 na base 8 é: Quociente=1, Resto=3\n"
     ]
    }
   ],
   "source": [
    "def soma_octal(a, b):\n",
    "    # Realiza a soma dos números octais convertidos para inteiros na base 8\n",
    "    return oct(int(a, 8) + int(b, 8))[2:]\n",
    "\n",
    "def subtracao_octal(a, b):\n",
    "    # Realiza a subtração dos números octais convertidos para inteiros na base 8\n",
    "    return oct(int(a, 8) - int(b, 8))[2:]\n",
    "\n",
    "def multiplicacao_octal(a, b):\n",
    "    # Realiza a multiplicação dos números octais convertidos para inteiros na base 8\n",
    "    return oct(int(a, 8) * int(b, 8))[2:]\n",
    "\n",
    "def divisao_octal(dividendo, divisor):\n",
    "    # Realiza a divisão dos números octais convertidos para inteiros na base 8\n",
    "    quociente = oct(int(dividendo, 8) // int(divisor, 8))[2:]\n",
    "    resto = oct(int(dividendo, 8) % int(divisor, 8))[2:]\n",
    "    return quociente, resto\n",
    "\n",
    "# Exemplo de uso\n",
    "a = \"12\"\n",
    "b = \"7\"\n",
    "\n",
    "# Realiza a soma dos números octais\n",
    "soma = soma_octal(a, b)\n",
    "# Realiza a subtração dos números octais\n",
    "subtracao = subtracao_octal(a, b)\n",
    "# Realiza a multiplicação dos números octais\n",
    "multiplicacao = multiplicacao_octal(a, b)\n",
    "# Realiza a divisão dos números octais\n",
    "divisao, resto = divisao_octal(a, b)\n",
    "\n",
    "# Imprime os resultados\n",
    "print(f\"A soma de {a} e {b} na base 8 é: {soma}\")\n",
    "print(f\"A subtração de {a} por {b} na base 8 é: {subtracao}\")\n",
    "print(f\"A multiplicação de {a} por {b} na base 8 é: {multiplicacao}\")\n",
    "print(f\"A divisão de {a} por {b} na base 8 é: Quociente={divisao}, Resto={resto}\")"
   ]
  },
  {
   "cell_type": "markdown",
   "id": "063b5c44",
   "metadata": {},
   "source": [
    "#### Calculadora de base 16 (apenas int)"
   ]
  },
  {
   "cell_type": "code",
   "execution_count": 3,
   "id": "597f5d3f",
   "metadata": {
    "ExecuteTime": {
     "end_time": "2023-07-17T20:17:04.906655Z",
     "start_time": "2023-07-17T20:17:04.897659Z"
    }
   },
   "outputs": [
    {
     "name": "stdout",
     "output_type": "stream",
     "text": [
      "A soma de FF e 9 na base 16 é: 108\n",
      "A subtração de FF por 9 na base 16 é: f6\n",
      "A multiplicação de FF por 9 na base 16 é: 8f7\n",
      "A divisão de FF por 9 na base 16 é: Quociente=1c, Resto=3\n"
     ]
    }
   ],
   "source": [
    "def soma_hexadecimal(a, b):\n",
    "    # Realiza a soma dos números hexadecimais convertidos para inteiros na base 16\n",
    "    return hex(int(a, 16) + int(b, 16))[2:]\n",
    "\n",
    "def subtracao_hexadecimal(a, b):\n",
    "    # Realiza a subtração dos números hexadecimais convertidos para inteiros na base 16\n",
    "    return hex(int(a, 16) - int(b, 16))[2:]\n",
    "\n",
    "def multiplicacao_hexadecimal(a, b):\n",
    "    # Realiza a multiplicação dos números hexadecimais convertidos para inteiros na base 16\n",
    "    return hex(int(a, 16) * int(b, 16))[2:]\n",
    "\n",
    "def divisao_hexadecimal(dividendo, divisor):\n",
    "    # Realiza a divisão dos números hexadecimais convertidos para inteiros na base 16\n",
    "    quociente = hex(int(dividendo, 16) // int(divisor, 16))[2:]\n",
    "    resto = hex(int(dividendo, 16) % int(divisor, 16))[2:]\n",
    "    return quociente, resto\n",
    "\n",
    "# Exemplo de uso\n",
    "a = \"FF\"\n",
    "b = \"9\"\n",
    "\n",
    "soma = soma_hexadecimal(a, b)\n",
    "# Realiza a subtração dos números octais\n",
    "subtracao = subtracao_hexadecimal(a, b)\n",
    "# Realiza a multiplicação dos números octais\n",
    "multiplicacao = multiplicacao_hexadecimal(a, b)\n",
    "# Realiza a divisão dos números octais\n",
    "divisao, resto = divisao_hexadecimal(a, b)\n",
    "\n",
    "# Imprime os resultados\n",
    "print(f\"A soma de {a} e {b} na base 16 é: {soma}\")\n",
    "print(f\"A subtração de {a} por {b} na base 16 é: {subtracao}\")\n",
    "print(f\"A multiplicação de {a} por {b} na base 16 é: {multiplicacao}\")\n",
    "print(f\"A divisão de {a} por {b} na base 16 é: Quociente={divisao}, Resto={resto}\")"
   ]
  },
  {
   "cell_type": "markdown",
   "id": "147da4a3",
   "metadata": {},
   "source": [
    "#### Calculadora de base geral 2 a 36 (apenas int)"
   ]
  },
  {
   "cell_type": "code",
   "execution_count": 4,
   "id": "de8fccb1",
   "metadata": {
    "ExecuteTime": {
     "end_time": "2023-07-17T20:17:04.923829Z",
     "start_time": "2023-07-17T20:17:04.909627Z"
    }
   },
   "outputs": [
    {
     "name": "stdout",
     "output_type": "stream",
     "text": [
      "O resultado da soma de A3 e B na base 13 é: B1\n",
      "O resultado da subtração de A3 por B na base 13 é: 95\n",
      "O resultado da multiplicação de A3 por B na base 13 é: 887\n",
      "O resultado da divisão de A3 por B na base 13 é: Quociente=C, Resto=1\n"
     ]
    }
   ],
   "source": [
    "# Função para realizar a soma de dois números em uma base específica\n",
    "def soma(a, b, base):\n",
    "    # Converte os operandos para inteiros na base informada\n",
    "    a_int = int(a, base)\n",
    "    b_int = int(b, base)\n",
    "    # Realiza a soma dos números inteiros\n",
    "    resultado = a_int + b_int\n",
    "    # Converte o resultado de volta para uma string na base correspondente\n",
    "    resultado_str = converter_para_base(resultado, base)\n",
    "    return resultado_str\n",
    "\n",
    "# Função para realizar a subtração de dois números em uma base específica\n",
    "def subtracao(a, b, base):\n",
    "    # Converte os operandos para inteiros na base informada\n",
    "    a_int = int(a, base)\n",
    "    b_int = int(b, base)\n",
    "    # Realiza a subtração dos números inteiros\n",
    "    resultado = a_int - b_int\n",
    "    # Converte o resultado de volta para uma string na base correspondente\n",
    "    resultado_str = converter_para_base(resultado, base)\n",
    "    return resultado_str\n",
    "\n",
    "# Função para realizar a multiplicação de dois números em uma base específica\n",
    "def multiplicacao(a, b, base):\n",
    "    # Converte os operandos para inteiros na base informada\n",
    "    a_int = int(a, base)\n",
    "    b_int = int(b, base)\n",
    "    # Realiza a multiplicação dos números inteiros\n",
    "    resultado = a_int * b_int\n",
    "    # Converte o resultado de volta para uma string na base correspondente\n",
    "    resultado_str = converter_para_base(resultado, base)\n",
    "    return resultado_str\n",
    "\n",
    "# Função para realizar a divisão de dois números em uma base específica\n",
    "def divisao(a, b, base):\n",
    "    # Converte os operandos para inteiros na base informada\n",
    "    a_int = int(a, base)\n",
    "    b_int = int(b, base)\n",
    "    # Realiza a divisão dos números inteiros\n",
    "    quociente = a_int // b_int\n",
    "    resto = a_int % b_int\n",
    "    # Converte o quociente e o resto de volta para strings na base correspondente\n",
    "    quociente_str = converter_para_base(quociente, base)\n",
    "    resto_str = converter_para_base(resto, base)\n",
    "    return quociente_str, resto_str\n",
    "\n",
    "# Função auxiliar para converter um número inteiro para uma base específica\n",
    "def converter_para_base(numero, base):\n",
    "    if numero == 0:\n",
    "        return '0'\n",
    "\n",
    "    digitos = '0123456789ABCDEFGHIJKLMNOPQRSTUVWXYZ'\n",
    "    resultado = ''\n",
    "    negativo = False\n",
    "\n",
    "    if numero < 0:\n",
    "        negativo = True\n",
    "        numero = -numero\n",
    "\n",
    "    while numero > 0:\n",
    "        resto = numero % base\n",
    "        resultado = digitos[resto] + resultado\n",
    "        numero = numero // base\n",
    "\n",
    "    if negativo:\n",
    "        resultado = '-' + resultado\n",
    "\n",
    "    return resultado\n",
    "\n",
    "# Exemplo de uso das funções\n",
    "a = 'A3'\n",
    "b = 'B'\n",
    "base = 13\n",
    "\n",
    "# Realiza a soma de a e b na base especificada\n",
    "resultado_soma = soma(a, b, base)\n",
    "print(f\"O resultado da soma de {a} e {b} na base {base} é: {resultado_soma}\")\n",
    "\n",
    "# Realiza a subtração de a por b na base especificada\n",
    "resultado_subtracao = subtracao(a, b, base)\n",
    "print(f\"O resultado da subtração de {a} por {b} na base {base} é: {resultado_subtracao}\")\n",
    "\n",
    "# Realiza a multiplicação de a por b na base especificada\n",
    "resultado_multiplicacao = multiplicacao(a, b, base)\n",
    "print(f\"O resultado da multiplicação de {a} por {b} na base {base} é: {resultado_multiplicacao}\")\n",
    "\n",
    "# Realiza a divisão de a por b na base especificada\n",
    "resultado_divisao, resto_divisao = divisao(a, b, base)\n",
    "print(f\"O resultado da divisão de {a} por {b} na base {base} é: Quociente={resultado_divisao}, Resto={resto_divisao}\")\n"
   ]
  }
 ],
 "metadata": {
  "kernelspec": {
   "display_name": "Python 3 (ipykernel)",
   "language": "python",
   "name": "python3"
  },
  "language_info": {
   "codemirror_mode": {
    "name": "ipython",
    "version": 3
   },
   "file_extension": ".py",
   "mimetype": "text/x-python",
   "name": "python",
   "nbconvert_exporter": "python",
   "pygments_lexer": "ipython3",
   "version": "3.10.9"
  },
  "varInspector": {
   "cols": {
    "lenName": 16,
    "lenType": 16,
    "lenVar": 40
   },
   "kernels_config": {
    "python": {
     "delete_cmd_postfix": "",
     "delete_cmd_prefix": "del ",
     "library": "var_list.py",
     "varRefreshCmd": "print(var_dic_list())"
    },
    "r": {
     "delete_cmd_postfix": ") ",
     "delete_cmd_prefix": "rm(",
     "library": "var_list.r",
     "varRefreshCmd": "cat(var_dic_list()) "
    }
   },
   "types_to_exclude": [
    "module",
    "function",
    "builtin_function_or_method",
    "instance",
    "_Feature"
   ],
   "window_display": false
  }
 },
 "nbformat": 4,
 "nbformat_minor": 5
}
