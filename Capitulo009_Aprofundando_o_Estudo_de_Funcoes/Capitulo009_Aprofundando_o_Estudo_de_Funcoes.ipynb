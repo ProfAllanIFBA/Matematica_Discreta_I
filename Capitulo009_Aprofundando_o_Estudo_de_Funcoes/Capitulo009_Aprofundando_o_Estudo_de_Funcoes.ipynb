{
 "cells": [
  {
   "cell_type": "markdown",
   "id": "de40f19b",
   "metadata": {},
   "source": [
    "<center> <img src=\"logo_ifba.jpg\" alt=\"jpg_python\" width=\"100\" height=\"200\"> </center>\n",
    "<br><br>\n",
    "<div align=\"center\"><span style=\"font-size: 26px;\"><strong>Matemática Discreta I <br></strong></span></div> <br>\n",
    "<center> <img src=\"python_gif.gif\" alt=\"gif_python\" width=\"80\"> </center>"
   ]
  },
  {
   "cell_type": "markdown",
   "id": "52af9bb6",
   "metadata": {},
   "source": [
    "<div style=\"border: 2px solid black; padding: 10px; width: 95%; background-color: lightgray; display: flex; align-items: center;\">\n",
    "    <h1 style=\"color: red; text-align: center; margin: auto;\">\n",
    "        Capítulo 9: Aprofundando o Estudo de Funções\n",
    "    </h1>\n",
    "</div>\n",
    "\n",
    "<font color='red'></font>\n",
    "<a href=\"\"></a>"
   ]
  },
  {
   "cell_type": "markdown",
   "id": "0c2310e1",
   "metadata": {},
   "source": [
    "Após ter mergulhado na introdução ao conceito de função, é vital entendermos suas variantes e as particularidades que cada tipo possui. Cada nuance nas funções pode ser vista como uma ferramenta adicional em nossa caixa de ferramentas matemáticas, habilitando-nos a descrever e analisar uma ampla variedade de situações com maior precisão."
   ]
  },
  {
   "cell_type": "markdown",
   "id": "4bcf7343",
   "metadata": {},
   "source": [
    "# <div style=\"margin-top: -20px;\">\n",
    "<hr style=\"border: 2px solid black;\">\n",
    "\n",
    "<font color='black'><span style=\"font-size: 22px;\"><strong>9.1 Funções Injetoras, Sobrejetoras e Bijetoras</strong></span></font>\n",
    "\n",
    "<hr style=\"border: 2px solid black;\">\n",
    "</div>"
   ]
  },
  {
   "cell_type": "markdown",
   "id": "c4e65a39",
   "metadata": {},
   "source": [
    "####  <font color='red'> Definição 1 </font>"
   ]
  },
  {
   "cell_type": "markdown",
   "id": "6b822748",
   "metadata": {},
   "source": [
    "<font color='red'> Uma função $f$ é chamada **injetora**, ou \"um para um\", se e somente se $f(a) = f(b)$ implique que $a = b$ para todos $a$ e $b$ no domínio de $f$. Uma função pode ser chamada de **injeção** se for um para um."
   ]
  },
  {
   "cell_type": "markdown",
   "id": "c0c8ba4f",
   "metadata": {},
   "source": [
    "####  <font color='blue'> Exemplo 1 </font>"
   ]
  },
  {
   "cell_type": "markdown",
   "id": "d562c03d",
   "metadata": {},
   "source": [
    "<font color='blue'> Determine se a função $f$ de $\\{a,b,c,d\\}$ para $\\{1,2,3,4,5\\}$ com $f(a) = 4$, $f(b) = 5$, $f(c) = 1$ e $f(d) = 3$ é injetora."
   ]
  },
  {
   "cell_type": "markdown",
   "id": "3f4a7405",
   "metadata": {},
   "source": [
    "#####  <font color='blue'> Solução"
   ]
  },
  {
   "cell_type": "markdown",
   "id": "c52d9134",
   "metadata": {},
   "source": [
    "<font color='blue'> Note que cada um dos $4$ elementos do domínio de $f$ tem imagens diferentes. Logo $f$ é injetora. Acompanhe a figura a seguir:<br><br>\n",
    "<center> <img src=\"fig9_1.jpg\" alt=\"jpg_python\" width=\"170\" height=\"\"> </center>"
   ]
  },
  {
   "cell_type": "markdown",
   "id": "9fce8caf",
   "metadata": {},
   "source": [
    "####  <font color='blue'> Exemplo 2 </font>"
   ]
  },
  {
   "cell_type": "markdown",
   "id": "775fa2cb",
   "metadata": {},
   "source": [
    "<font color='blue'> Determine se a função $f(x) = x^{2}$ do conjunto dos números reais para o conjunto dos números reais é injetora."
   ]
  },
  {
   "cell_type": "markdown",
   "id": "c7d9b3f0",
   "metadata": {},
   "source": [
    "#####  <font color='blue'> Solução"
   ]
  },
  {
   "cell_type": "markdown",
   "id": "16a1d821",
   "metadata": {},
   "source": [
    "<font color='blue'> Note que $x = 1$ e $x = 1$ pertencem ao domínio de $f$ e possuem mesma imagem $f(1) = f(-1) = 1$. Mas $1 \\neq -1$. Portanto, $f$ não é injetora. Acompanhe a figura a seguir:<br><br>\n",
    "<center> <img src=\"fig9_2.jpg\" alt=\"jpg_python\" width=\"250\" height=\"\"> </center>\n"
   ]
  },
  {
   "cell_type": "markdown",
   "id": "c8d38a25",
   "metadata": {},
   "source": [
    "#### Sobrejetividade e o gráfico de uma função"
   ]
  },
  {
   "cell_type": "markdown",
   "id": "719484be",
   "metadata": {},
   "source": [
    "Uma maneira fácil de se identificar se uma função é injetora é observar se toda reta horizontal que intersecta o gráfico de $f$ o faz em um e somente um ponto. Note que a reta horizontal $y = 1$ (existem infinitas outras) intersecta o gráfico de $f$ em dois pontos $\\{(1,1), (-1,1)\\}$. Acompanhe a figura a seguir:<br><br>\n",
    "<center> <img src=\"fig9_3.jpg\" alt=\"jpg_python\" width=\"250\" height=\"\"> </center>"
   ]
  },
  {
   "cell_type": "markdown",
   "id": "65411985",
   "metadata": {},
   "source": [
    "####  <font color='blue'> Exemplo 3 </font>"
   ]
  },
  {
   "cell_type": "markdown",
   "id": "906f8206",
   "metadata": {},
   "source": [
    "<font color='blue'> Determine se a função $f(x) = 2x + 1$ do conjunto dos reais nos reais é injetora."
   ]
  },
  {
   "cell_type": "markdown",
   "id": "803c53c1",
   "metadata": {},
   "source": [
    "#####  <font color='blue'> Solução"
   ]
  },
  {
   "cell_type": "markdown",
   "id": "1f24f4f4",
   "metadata": {},
   "source": [
    "<font color='blue'> Devemos verificar se $f(a) = f(b)$ implica que $a = b$. Temos que<br><br>\n",
    "$$f(a) = f(b) \\Leftrightarrow 2a + 1 = 2b + 1 \\Leftrightarrow 2a = 2b \\Leftrightarrow a = b.$$<br>\n",
    "Logo, $f$ é injetora. Observando o gráfico de $f$, uma reta oblíqua, temos que qualquer reta horizontal que passa intersectando $f$ o faz em um e somente um ponto. Acompanhe a figura a seguir:<br><br>\n",
    "<center> <img src=\"fig9_4.jpg\" alt=\"jpg_python\" width=\"350\" height=\"\"> </center>  "
   ]
  },
  {
   "cell_type": "markdown",
   "id": "b9cc9fde",
   "metadata": {},
   "source": [
    "####  <font color='red'> Definição 2 </font>"
   ]
  },
  {
   "cell_type": "markdown",
   "id": "16cec2a5",
   "metadata": {},
   "source": [
    "<font color='red'> Uma função $f$ de $A$ para $B$ é chamada de **sobrejetora** ou sobrejetiva se, e somente se, para todo elemento $b \\in B$ houver um elemento $a \\in A$ com $f(a) = b$."
   ]
  },
  {
   "cell_type": "markdown",
   "id": "9e40741e",
   "metadata": {},
   "source": [
    "####  <font color='blue'> Exemplo 4 </font>"
   ]
  },
  {
   "cell_type": "markdown",
   "id": "6dbf3c43",
   "metadata": {},
   "source": [
    "<font color='blue'> Determine se a função $f$ de $\\{a,b,c,d\\}$ para $\\{1,2,3\\}$ com $f(a) = 3$, $f(b) = 2$, $f(c) = 1$ e $f(d) = 3$ é sobrejetora."
   ]
  },
  {
   "cell_type": "markdown",
   "id": "781839de",
   "metadata": {},
   "source": [
    "#####  <font color='blue'> Solução"
   ]
  },
  {
   "cell_type": "markdown",
   "id": "a96dadbc",
   "metadata": {},
   "source": [
    "<font color='blue'> Note que todo $y \\in \\{1,2,3\\}$ é tal que existe um $x \\in \\{a,b,c,d\\}$ com $f(x) = y$. Assim, $f$ é sobrejetora."
   ]
  },
  {
   "cell_type": "markdown",
   "id": "77a55938",
   "metadata": {},
   "source": [
    "####  <font color='blue'> Exemplo 5 </font>"
   ]
  },
  {
   "cell_type": "markdown",
   "id": "00a137df",
   "metadata": {},
   "source": [
    "<font color='blue'> Determine se a função $f(x) = x^{2}$ do conjunto dos números reais para o conjunto dos números reais é sobrejetora."
   ]
  },
  {
   "cell_type": "markdown",
   "id": "853f5167",
   "metadata": {},
   "source": [
    "#####  <font color='blue'> Solução"
   ]
  },
  {
   "cell_type": "markdown",
   "id": "ea5789ec",
   "metadata": {},
   "source": [
    "<font color='blue'> Note que $y = -1 \\in \\mathbb{R}$(imagem) é tal que não existe $x \\in \\mathbb{R}$(domínio) tal que $f(x) = y$. Logo, $f$ não é sobrejetora."
   ]
  },
  {
   "cell_type": "markdown",
   "id": "aa7c60f2",
   "metadata": {},
   "source": [
    "#### Ajuste do domínio e sobrejetividade"
   ]
  },
  {
   "cell_type": "markdown",
   "id": "73ff813f",
   "metadata": {},
   "source": [
    "Se estivéssemos considerando o **Exemplo 5** que a função $f(x) = x^{2}$ estivesse definida dos reais no conjunto dos reais não negativos, teríamos que esta seria sobrejetora. De fato, dado $y \\in \\mathbb{R^{+}}$, temos que sempre existe $x = \\sqrt{y}$ tal que \n",
    "$$f\\left(\\sqrt{y}\\right) = \\sqrt{y}^{2} = y.$$"
   ]
  },
  {
   "cell_type": "markdown",
   "id": "129b2307",
   "metadata": {},
   "source": [
    "####  <font color='blue'> Exemplo 6 </font>"
   ]
  },
  {
   "cell_type": "markdown",
   "id": "262e63c4",
   "metadata": {},
   "source": [
    "<font color='blue'> Determine se a função $f(x) = 2x + 1$ do conjunto dos reais nos reais é sobrejetora."
   ]
  },
  {
   "cell_type": "markdown",
   "id": "094385de",
   "metadata": {},
   "source": [
    "#####  <font color='blue'> Solução"
   ]
  },
  {
   "cell_type": "markdown",
   "id": "0d5e4e83",
   "metadata": {},
   "source": [
    "<font color='blue'> Devemos mostrar que dado $y \\in \\mathbb{R}$ existe $x \\in \\mathbb{R}$ tal que $f(x) = y$. Pois bem,<br><br>\n",
    " $$y = 2x + 1 = y \\Leftrightarrow 2x = y-1 \\Leftrightarrow x = \\frac{y-1}{2}.$$<br>\n",
    " Assim, dado $y \\in \\mathbb{R}$, basta tomar $x = \\frac{y-1}{2}$ para termos que $f(x) = y$. De fato,<br><br>\n",
    " $$f\\left(\\frac{y-1}{2}\\right) = 2\\frac{y-1}{2} +1 = y-1+1 = y.$$<br><br>\n",
    " Logo, $f$ é sobrejetora."
   ]
  },
  {
   "cell_type": "markdown",
   "id": "89cafcd8",
   "metadata": {},
   "source": [
    "####  <font color='red'> Definição 3 </font>"
   ]
  },
  {
   "cell_type": "markdown",
   "id": "1833456d",
   "metadata": {},
   "source": [
    "<font color='red'> A função $f$ é **bijetora**, ou é uma correspondência \"um para um\", se for injetiva e sobrejetiva."
   ]
  },
  {
   "cell_type": "markdown",
   "id": "1f39f379",
   "metadata": {},
   "source": [
    "####  <font color='blue'> Exemplo 7 </font>"
   ]
  },
  {
   "cell_type": "markdown",
   "id": "0bf43e66",
   "metadata": {},
   "source": [
    "<font color='blue'> Determine se a função $f$ de $\\{a,b,c,d\\}$ para $\\{1,2,3,4\\}$ com $f(a) = 4$, $f(b) = 2$, $f(c) = 1$ e $f(d) = 3$ é bijetiva."
   ]
  },
  {
   "cell_type": "markdown",
   "id": "b4f14d32",
   "metadata": {},
   "source": [
    "<font color='blue'> Note que $f$ é injetiva pois todo elemento da imagem que é elemento de um valor $x$ só o é deste único valor. Além disso, $f$ é sobrejetiva pois todos elemento $y$ pertencente à imagem é imagem de algum $x$ pertencente ao domínio. Logo, $f$ é bijetiva."
   ]
  },
  {
   "cell_type": "markdown",
   "id": "ad03cc98",
   "metadata": {},
   "source": [
    "#### Voltando aos Exemplos 3 e 6"
   ]
  },
  {
   "cell_type": "markdown",
   "id": "b946c84f",
   "metadata": {},
   "source": [
    "De acordo com os **Exemplos 3** e **6** a função $f(x) = 2x + 1$ do conjunto dos reais nos reais é bijetora."
   ]
  },
  {
   "cell_type": "markdown",
   "id": "25da714e",
   "metadata": {},
   "source": [
    "####  <font color='blue'> Exemplo 8 </font>"
   ]
  },
  {
   "cell_type": "markdown",
   "id": "31000c57",
   "metadata": {},
   "source": [
    "<font color='blue'> A figura a seguir mostra diversas funções (e não funções) e suas classificações quanto à injetividade, sobrejetividade e bijetividade:<br><br>\n",
    " <center> <img src=\"fig9_5.jpg\" alt=\"jpg_python\" width=\"600\" height=\"\"> </center>\n",
    "    "
   ]
  },
  {
   "cell_type": "markdown",
   "id": "979c9387",
   "metadata": {},
   "source": [
    "####  <font color='blue'> Exemplo 9 </font>"
   ]
  },
  {
   "cell_type": "markdown",
   "id": "a9a61770",
   "metadata": {},
   "source": [
    "<font color='blue'> Verifique se a função $f(x) = 3x + 1$ do conjunto dos reais nos reais é bijetora."
   ]
  },
  {
   "cell_type": "markdown",
   "id": "1877166d",
   "metadata": {},
   "source": [
    "#####  <font color='blue'> Solução"
   ]
  },
  {
   "cell_type": "markdown",
   "id": "93ed5e9f",
   "metadata": {},
   "source": [
    "<font color='blue'> Devemos verificar se $f$ é injetora e sobrejetora.<br><br>\n",
    " i) Injetividade: Devemos verificar se $f(a) = f(b)$ implica que $a = b$. Temos que,<br><br>\n",
    " $$f(a) = f(b) \\Leftrightarrow 3a + 1 = 3b + 1 \\Leftrightarrow 3a = 3b \\Leftrightarrow a = b.$$<br>\n",
    " Logo, $f$ é injetora.<br><br>\n",
    " ii) Sobrejetividade: Devemos mostrar que dado $y \\in \\mathbb{R}$ existe $x \\in \\mathbb{R}$ tal que $f(x) = y$. Pois bem,<br><br>\n",
    " $$y = 3x + 1 = y \\Leftrightarrow 3x = y-1 \\Leftrightarrow x = \\frac{y-1}{3}.$$<br>\n",
    " Assim, dado $y \\in \\mathbb{R}$, basta tomar $x = \\frac{y-1}{3}$ para termos que $f(x) = y$. De fato,<br><br>\n",
    " $$f\\left(\\frac{y-1}{3}\\right) = 3\\frac{y-1}{3} +1 = y-1+1 = y.$$<br>\n",
    "Logo, $f$ é sobrejetora.<br><br>\n",
    " Sendo $f$ injetora e sobrejetora, temos que $f$ é, portanto, bijetora."
   ]
  },
  {
   "cell_type": "markdown",
   "id": "584ee776",
   "metadata": {},
   "source": [
    "# <div style=\"margin-top: -20px;\">\n",
    "<hr style=\"border: 2px solid black;\">\n",
    "\n",
    "<font color='black'><span style=\"font-size: 22px;\"><strong>9.2 Funções Inversas e Composição de Funções</strong></span></font>\n",
    "\n",
    "<hr style=\"border: 2px solid black;\">\n",
    "</div>"
   ]
  },
  {
   "cell_type": "markdown",
   "id": "14e43684",
   "metadata": {},
   "source": [
    "####  <font color='red'> Definição 4 </font>"
   ]
  },
  {
   "cell_type": "markdown",
   "id": "abbcc897",
   "metadata": {},
   "source": [
    "<font color='red'> Seja $f$ uma função bijetora do conjunto $A$ para o conjunto $B$. A função \\textbf{inversa} de $f$ é a função que leva um elemento $b$ pertencente a $B$ ao único elemento $a$ pertencente a $A$, tal que $f(a) = b$. A função inversa de $f$ é indicada por $f^{-1}$. Assim, $f^{-1}(b) = a$ quando $f(a) = b$."
   ]
  },
  {
   "cell_type": "markdown",
   "id": "c8c7f965",
   "metadata": {},
   "source": [
    "#### Ilustrando a Definição 4"
   ]
  },
  {
   "cell_type": "markdown",
   "id": "2acc0e9b",
   "metadata": {},
   "source": [
    "A figura a seguir ilustra bem a **Definição 4**:<br><br>\n",
    " <center> <img src=\"fig9_6.jpg\" alt=\"jpg_python\" width=\"350\" height=\"\"> </center>"
   ]
  },
  {
   "cell_type": "markdown",
   "id": "8d2a0e0e",
   "metadata": {},
   "source": [
    "####  <font color='blue'> Exemplo 10 </font>"
   ]
  },
  {
   "cell_type": "markdown",
   "id": "92c42a92",
   "metadata": {},
   "source": [
    "<font color='blue'> Considere a função $f$ de $\\{a,b,c\\}$ para $\\{1,2,3\\}$ com $f(a) = 2$, $f(b) = 3$ e $f(c) = 1$. Esta função é invertível? Se for, qual a sua inversa?"
   ]
  },
  {
   "cell_type": "markdown",
   "id": "fe247593",
   "metadata": {},
   "source": [
    "#####  <font color='blue'> Solução"
   ]
  },
  {
   "cell_type": "markdown",
   "id": "27e2238a",
   "metadata": {},
   "source": [
    "<font color='blue'> Note que $f$ é bijetora e portanto, invertível. Neste caso, sua inversa é dada por: $f^{-1}(2) = a$, $f^{-1}(3) = b$ e $f^{-1}(1) = c$."
   ]
  },
  {
   "cell_type": "markdown",
   "id": "b165f9ed",
   "metadata": {},
   "source": [
    "####  <font color='blue'> Exemplo 11 </font>"
   ]
  },
  {
   "cell_type": "markdown",
   "id": "c4f734ae",
   "metadata": {},
   "source": [
    "<font color='blue'> Considere a função $f: \\mathbb{R} \\rightarrow \\mathbb{R}$ dada por $f(x) = 3x + 2$. A função $f$ é invertível? Se sim, qual a sua inversa."
   ]
  },
  {
   "cell_type": "markdown",
   "id": "c1db11f7",
   "metadata": {},
   "source": [
    "#####  <font color='blue'> Solução"
   ]
  },
  {
   "cell_type": "markdown",
   "id": "aad6b744",
   "metadata": {},
   "source": [
    "<font color='blue'> Devemos mostrar que $f$ é bijetiva:<br><br>\n",
    " **Injetividade**: Temos que<br><br>\n",
    " $$f(a) = f(b) \\Leftrightarrow 3a + 2 = 3b + 2 \\Leftrightarrow 3a = 3b \\Leftrightarrow a = b.$$<br>\n",
    " **Sobrejetividade**: Temos que<br><br>\n",
    " $$f(x) = y \\Leftrightarrow 3x+2 = y \\Leftrightarrow 3x = y-2 \\Leftrightarrow x = \\frac{y-2}{3}.$$<br>\n",
    " Logo, $f$ é invertível e sua inversa é dada por $f^{-1}(y) = \\frac{y-2}{3}$ (último passo da sobrejetividade)."
   ]
  },
  {
   "cell_type": "markdown",
   "id": "83b14f04",
   "metadata": {},
   "source": [
    "####  <font color='red'> Definição 5 </font>"
   ]
  },
  {
   "cell_type": "markdown",
   "id": "a0baa703",
   "metadata": {},
   "source": [
    "<font color='red'> Considere $g$ como uma função do conjunto $A$ para o conjunto $B$ e considere $f$ como sendo uma função do conjunto $B$ para o conjunto $C$. A **composição** das funções $f$ e $g$, indicada por $f \\circ g$, é definida por $(f \\circ g)(a) = f(g(a))$."
   ]
  },
  {
   "cell_type": "markdown",
   "id": "e94ff3b6",
   "metadata": {},
   "source": [
    "#### Ilustrando a Definição 5"
   ]
  },
  {
   "cell_type": "markdown",
   "id": "b69b4b68",
   "metadata": {},
   "source": [
    "A figura a seguir ilustra bem a **Definição 5**:<br><br>\n",
    " <center> <img src=\"fig9_7.jpg\" alt=\"jpg_python\" width=\"500\" height=\"\"> </center>"
   ]
  },
  {
   "cell_type": "markdown",
   "id": "8fafcfc4",
   "metadata": {},
   "source": [
    "####  <font color='blue'> Exemplo 12 </font>"
   ]
  },
  {
   "cell_type": "markdown",
   "id": "20455779",
   "metadata": {},
   "source": [
    "<font color='blue'> Considere as funções $f(x) = 2x + 3$ e $g(x) = 3x - 1$ no conjunto dos números reais nos reais. Determine, se existir:<br><br>\n",
    " a) $(f \\circ g)(2)$ $ \\ \\ \\ \\ \\ \\ \\ $ b) $(g \\circ f)(1)$ $ \\ \\ \\ \\ \\ \\ \\ $ c) $f \\circ g$ $ \\ \\ \\ \\ \\ \\ \\ $ d) $g \\circ f$ $ \\ \\ \\ \\ \\ \\ \\ $ e) $f \\circ f^{-1}$"
   ]
  },
  {
   "cell_type": "markdown",
   "id": "e39a177b",
   "metadata": {},
   "source": [
    "#####  <font color='blue'> Solução"
   ]
  },
  {
   "cell_type": "markdown",
   "id": "79dd6ddd",
   "metadata": {},
   "source": [
    "<font color='blue'> a) Temos que<br><br>\n",
    " $$(f \\circ g)(2) = f(g(2)) = f(3 \\cdot 2 - 1) = f(5) = 2 \\cdot 5 + 3 = 13.$$<br>\n",
    " b) Temos que<br><br>\n",
    " $$(g \\circ f)(1) = g(f(1)) = g(2 \\cdot 1 + 3) = g(5) = 3 \\cdot 5 - 1 = 14.$$<br>\n",
    " c) Temos que<br><br>\n",
    " $$(f \\circ g)(x) = f(g(x)) = f(3 \\cdot x - 1) = 2 \\cdot (3x - 1) + 3 = 6x + 1.$$<br>\n",
    " d) Temos que<br><br>\n",
    " $$(g \\circ f)(x) = g(f(x)) = g(2 \\cdot x + 3) =  3 \\cdot (2x + 3) - 1 = 6x + 8.$$<br>\n",
    " e) Temos que $f$ é bijetiva (verifique) e portanto admite inversa. Neste caso, sua inversa é dada por:<br><br>\n",
    " $$2x+3 = y \\Leftrightarrow 2x = y - 3 \\Leftrightarrow x = \\frac{y-3}{2} \\Leftrightarrow f^{-1}(y) = \\frac{y-3}{2}.$$<br>\n",
    " Por fim,<br><br>\n",
    " $$(f \\circ f^{-1})(y) = f\\left(\\frac{y-3}{2} \\right) = 2\\frac{y-3}{2} +3 = y - 3 + 3 = y.$$"
   ]
  },
  {
   "cell_type": "markdown",
   "id": "0962d8c9",
   "metadata": {},
   "source": [
    "####  <font color='green'> Palavras dos Mestres </font>"
   ]
  },
  {
   "cell_type": "markdown",
   "id": "dd730280",
   "metadata": {},
   "source": [
    "<font color='green'> O estudo das funções é muito mais amplo que o apresentado aqui. O leitor com mais tempo disponível pode dar uma foleada em livros do ensino médio e alguns do ensino superior como os de cálculo. Em termos de utilização básica em um PC precisamos de poucos conceitos sobre funções para construirmos muitos programas. Função, assim como conjuntos, lógica e sistemas numéricos são temas que estão presentes em praticamente tudo que a máquina realiza. Por exemplo, um programa de edição de fotos usado para mudar a cor de uma imagem a deixando preto e branco, no estilo retrô, realiza uma operação lógico-funcional. Primeiro seleciona-se a entrada (domínio) como sendo uma foto (se botar um pdf pode não rodar), em seguida, operações de reconhecimento dos pixels como cores que já estão na tonalidade preto e branco e pixels que estão em outra cor, amarelo, vermelho, azul etc. Sobre cada um desses pixels será feita uma transformação mandando para tons varianto entre preto e branco conforme a cor para que a foto não fique muito escura ou clara demais resultando em uma foto de saída (imagem). Na verdade, todos os assuntos estudados até o momento, até mesmo sistemas numéricos estão relacionados às diversas funções realizadas por um programa ou aplicação. Por exemplo, no nosso programa da foto que será deixada com aspecto retrô é codificada para ser ``entendida'' pela máquina. Esta codificação gerará, a partir de um conjunto de cores identificadas, um conjunto de dados numéricos que serão, transformados em outros valores correspondentes e, ao final, serão decodificados em novas cores e devolvida ao usuário final sob a forma de uma foto no retrô. Tudo isso, é embasado em particamente toda sua totalidade, por princípios lógicos como os estudados anteriormente ou sob a forma de uma álgebra booleana que será vista logo mais. Não pense que função é somente reta, parábola, curvas etc. Esta são, também importantes, mas não são a única forma de se pensar e trabalhar com o conceito de função, principalmente dentro da máquina."
   ]
  },
  {
   "cell_type": "markdown",
   "id": "b10e58a2",
   "metadata": {},
   "source": [
    "# <div style=\"margin-top: -20px;\">\n",
    "<hr style=\"border: 2px solid black;\">\n",
    "\n",
    "<font color='black'><span style=\"font-size: 22px;\"><strong>9.3 Exercícios</strong></span></font>\n",
    "\n",
    "<hr style=\"border: 2px solid black;\">\n",
    "</div>"
   ]
  },
  {
   "cell_type": "markdown",
   "id": "671b4ff5",
   "metadata": {},
   "source": [
    "#### Exercício 1"
   ]
  },
  {
   "cell_type": "markdown",
   "id": "225d0af5",
   "metadata": {},
   "source": [
    "Verifique quais das funções a seguir são injetoras, sobrejetoras ou bijetoras:\n",
    "\n",
    "a) $f: A \\rightarrow B$, $A = \\{-1,0,1,2\\}$, $B = \\{1,2,4,5\\}$, $f(-1) = 2$, $f(0) = 1$, $f(1) = 4$ e $f(2) = 2$.\n",
    "\n",
    "b) $f: A \\rightarrow B$, $A = \\{-1,0,1\\}$, $B = \\{1,2\\}$, $f(-1) = 1$, $f(0) = 2$ e $f(1) = 1$.\n",
    "\n",
    "c) $f: A \\rightarrow B$, $A = \\{-1,0,1\\}$, $B = \\{1,2,4,5\\}$, $f(-1) = 1$, $f(0) = 1$ e $f(1) = 1$.\n",
    "\n",
    "d) $f: A \\rightarrow B$, $A = \\{-1,0,1,3\\}$, $B = \\{1,2,4,5\\}$, $f(-1) = 1$, $f(0) = 4$, $f(1) = 5$ e $f(3) = 2$.\n",
    "\n",
    "e) $f: \\mathbb{R} \\rightarrow \\mathbb{R}$, $f(x) = \\frac{x}{2} - 1$.\n",
    "\n",
    "f) $f: \\mathbb{R} - \\{1\\} \\rightarrow \\mathbb{R} - \\{0\\}$, $f(x) = \\frac{1}{x-1}$\n",
    "\n",
    "g) $f: \\mathbb{Z} \\rightarrow \\mathbb{Z}$, $f(x) = 2x + 1$\n",
    "\n",
    "h) $f: \\mathbb{R} \\rightarrow \\mathbb{R}$, $f(x) = x^{2}-9$\n",
    "\n",
    "i) $f: \\mathbb{R^{+}} \\rightarrow [-1,+\\infty)$, $f(x) = x^{2}-1$"
   ]
  },
  {
   "cell_type": "markdown",
   "id": "dc50717d",
   "metadata": {},
   "source": [
    "#### Exercício 2"
   ]
  },
  {
   "cell_type": "markdown",
   "id": "de9e4dcc",
   "metadata": {},
   "source": [
    "Determine a inversa de cada uma das funções bijetoras dadas no **Exercício 1**."
   ]
  },
  {
   "cell_type": "markdown",
   "id": "768642e3",
   "metadata": {},
   "source": [
    "#### Exercício 3"
   ]
  },
  {
   "cell_type": "markdown",
   "id": "693db911",
   "metadata": {},
   "source": [
    "Utilize o Jupyter Notebook para esboçar o gráfico das seguintes funções nos domínios indicados e tente **estimar** sua imagem.\n",
    "\n",
    "a) $f(x) = 3 - 5x$, $D = \\mathbb{R}$, $ \\ \\ \\ \\ \\ \\ $ b) $f(x) = 2x^{2} + 3x -1$, $D = \\mathbb{R}$, $ \\ \\ \\ \\ \\ \\ $ c) $f(x) = 2^{x}$, $D = \\mathbb{R}$, $ \\ \\ \\ \\ \\ \\ $ \n",
    "\n",
    "d) $f(x) = log(x)$, $D = \\mathbb{R^{+}_{*}}$ $ \\ \\ \\ \\ \\ \\ $ e) $f(x) = 2sen(x)$, $D = \\mathbb{R}$, $ \\ \\ \\ \\ \\ \\ $ f) $f(x) = 3x + 2$, $x \\in [-2,3]$, $ \\ \\ \\ \\ \\ \\ $ \n",
    "\n",
    "g) $f(x) = -x^{2} + 2x$, $x \\in [-2,4]$, $ \\ \\ \\ \\ \\ \\ $ h) $f(x) = 2^{x^{2}-x} + sen(x)$, $x \\in [-1,2]$   "
   ]
  },
  {
   "cell_type": "markdown",
   "id": "1cdedc46",
   "metadata": {},
   "source": [
    "## <div style=\"margin-top: -20px;\">\n",
    "<hr style=\"border: 2px solid black;\">\n",
    "\n",
    "<font color='black'><span style=\"font-size: 18px;\"><strong>Respostas</strong></span></font>\n",
    "\n",
    "<hr style=\"border: 2px solid black;\">\n",
    "</div>"
   ]
  },
  {
   "cell_type": "markdown",
   "id": "d96f9cb2",
   "metadata": {
    "heading_collapsed": true
   },
   "source": [
    "#### Respostas do Exercício 1"
   ]
  },
  {
   "cell_type": "markdown",
   "id": "c24812de",
   "metadata": {
    "hidden": true
   },
   "source": [
    "a) nem injetiva e nem sobrejetiva, b) somente injetiva, c) somente sobrejetiva, d) nem injetiva e nem sobrejetiva, d) bijetiva, e) bijetiva, f) bijetiva, g) somente injetiva, h) nem injetora e nem sobrejetora, i) bijetora"
   ]
  },
  {
   "cell_type": "markdown",
   "id": "3074db72",
   "metadata": {
    "heading_collapsed": true
   },
   "source": [
    "#### Respostas do Exercício 2"
   ]
  },
  {
   "cell_type": "markdown",
   "id": "e34ec2a6",
   "metadata": {
    "hidden": true
   },
   "source": [
    "d) $f^{-1}: B \\rightarrow A$, $f^{-1}(1) = -1$, $f^{-1}(4) = 0$, $f^{-1}(5) = 1$ e $f^{-1}(2) = 3$, e) $f:\\mathbb{R} \\rightarrow \\mathbb{R}$, $f^{-1}(y) = 2y + 2$, f) $f: \\mathbb{R} - \\{0\\} \\rightarrow \\mathbb{R} - \\{1\\}$, $f^{-1}(y) = 1 + \\frac{1}{y}$, i)  $f: [-1,+\\infty) \\rightarrow \\mathbb{R^{+}}$, $f^{-1}(y) = \\sqrt{y+1}$"
   ]
  },
  {
   "cell_type": "markdown",
   "id": "64674ec4",
   "metadata": {},
   "source": [
    "#### Respostas do Exercício 3"
   ]
  },
  {
   "cell_type": "markdown",
   "id": "474ed138",
   "metadata": {},
   "source": [
    "Uma estimativa da imagem pode ser obtida usando-se o código a seguir modificando os domínios, por exemplo, começando com intervalos pequenos e ir aumentando-os. Lembre-se, é uma estimativa:"
   ]
  },
  {
   "cell_type": "code",
   "execution_count": 5,
   "id": "bbe5d291",
   "metadata": {
    "ExecuteTime": {
     "end_time": "2023-09-24T14:07:47.320862Z",
     "start_time": "2023-09-24T14:07:47.130943Z"
    }
   },
   "outputs": [
    {
     "data": {
      "text/plain": [
       "[<matplotlib.lines.Line2D at 0x2dd186b5b90>]"
      ]
     },
     "execution_count": 5,
     "metadata": {},
     "output_type": "execute_result"
    },
    {
     "data": {
      "image/png": "[encoded data removed]",
      "text/plain": [
       "<Figure size 640x480 with 1 Axes>"
      ]
     },
     "metadata": {},
     "output_type": "display_data"
    }
   ],
   "source": [
    "# Módulo contendo funções matemáticas não nativas\n",
    "import numpy as np\n",
    "import matplotlib.pyplot as plt # Módulo necessário para o esboço de gráficos\n",
    "\n",
    "# Repasse a função 3 - 5*x para 2*x**2+3*x-1, 2**x, np.log10(x), 2*np.sin(x), 3*x+2,\n",
    "# -x**2 + 2*x, 2**(x**2-x) + sin(x)\n",
    "def f(x):\n",
    "    return 3 - 5*x # repasse para \n",
    "\n",
    "# Gerando o conjunto de entrada A\n",
    "x = np.arange(-10,10,0.1) # Teste vários intervalos para cada função\n",
    "\n",
    "# Configurações adicionais\n",
    "plt.title('Título')\n",
    "plt.xlabel('Variável 1')\n",
    "plt.ylabel('Variável 2')\n",
    "plt.grid() # Grade\n",
    "\n",
    "\n",
    "# Plotando o gráfico\n",
    "plt.plot(x,f(x),'-',color='red') # '-' muda para uma linha ligando os pontos"
   ]
  },
  {
   "cell_type": "markdown",
   "id": "dfee0a6e",
   "metadata": {},
   "source": [
    "As imagens estimadas são:\n",
    "\n",
    "a) $\\mathbb{R}$, b) $[\\approx -2.1, \\mathbb{R})$, c) $[\\approx 0, \\mathbb{R})$, d) $\\mathbb{R}$, e) $[\\approx -2, \\approx 2]$, f) $[-4, \\approx 11]$, g) $[-8, \\approx 1]$, h) $[\\approx 0.8, 4]$"
   ]
  },
  {
   "cell_type": "markdown",
   "id": "e7112dee",
   "metadata": {},
   "source": [
    "#### Observação"
   ]
  },
  {
   "cell_type": "markdown",
   "id": "9466145f",
   "metadata": {},
   "source": [
    "Em muitos casos devemos recorrer ao esboço gráfico de uma função para estimar/estudar alguns valores ou propriedades que esta venha a possuir. Neste caso, devemos ter cuidado em entender que são apenas estimativas visuais certamente com imprecisões. Tais estimativas são interessantes apenas nos casos em que não precisamos determinar um valor com uma exatidão muito grande, mas apenas queremos ter uma noção do mesmo. Atualmente inúmeros softwares nos respondem a muitas perguntas. O **Exercício 3** tenta mostrar uma alternativa rápida (mas, com certa imprecisão claro) de se obter informações sobre algumas funções. Aqueles que contraporem tal argumento, dizendo que o indivíduo tem que saber esboçar todos os gráficos na mão, estão de certo modo enganados. *Claro, devemos ter as noções básicas das funções citadas acima: afim, quadrática, exponencial etc. Contudo, o esboço gráfico em grande parte fica a cargo da máquina (ponto a ponto)*. Para estes que insistem em não usar a máquina ou não reconhecer sua importância, peça-lhes que esbocem o gráfico da função $f(x) = \\frac{1}{\\sqrt{xsen(x) + log(x)}}$ (para não pegar pesado) - nem me pergunte como!!!!"
   ]
  },
  {
   "cell_type": "markdown",
   "id": "9e4a04e6",
   "metadata": {},
   "source": [
    "# <div style=\"margin-top: -20px;\">\n",
    "<hr style=\"border: 2px solid black;\">\n",
    "\n",
    "<font color='black'><span style=\"font-size: 22px;\"><strong>9.4 Vídeo Aulas</strong></span></font>\n",
    "\n",
    "<hr style=\"border: 2px solid black;\">\n",
    "</div>"
   ]
  },
  {
   "cell_type": "markdown",
   "id": "42dc0ec2",
   "metadata": {},
   "source": [
    "Clicando nos links a seguir você será redirecionado às aulas referentes a este capítulo.\n",
    "\n",
    "[Função Injetora](https://youtu.be/-llp0COe1gs)\n",
    "\n",
    "[Função Sobrejetora](https://youtu.be/zPldmaw7OK0)\n",
    "\n",
    "[Função Bijetora](https://youtu.be/mDn6eS8ZnUw)\n",
    "\n",
    "[Função Inversa](https://youtu.be/vGbF47Mk79o)"
   ]
  },
  {
   "cell_type": "markdown",
   "id": "90ad38ef",
   "metadata": {},
   "source": [
    "# <div style=\"margin-top: -20px;\">\n",
    "<hr style=\"border: 2px solid black;\">\n",
    "\n",
    "<font color='black'><span style=\"font-size: 22px;\"><strong>9.5 No Computador (Experimental)</strong></span></font>\n",
    "\n",
    "<hr style=\"border: 2px solid black;\">\n",
    "</div>"
   ]
  },
  {
   "cell_type": "markdown",
   "id": "b91a4584",
   "metadata": {},
   "source": [
    "### Estudando a injetividade"
   ]
  },
  {
   "cell_type": "markdown",
   "id": "eb979b72",
   "metadata": {
    "ExecuteTime": {
     "end_time": "2023-09-24T14:29:28.680377Z",
     "start_time": "2023-09-24T14:29:28.209559Z"
    }
   },
   "source": [
    "Podemos usar o software para **estimar** se uma função $f$ é ou não injetiva em um certo intervalo. Neste caso devemos observar se $f$ oscila em seu crescimento, isto é, está ora crescendo e ora decrescendo ou atinje intervalos de constância. Neste caso, $f$ não será injetiva no intervalo dado. Pode-se associar a injetividade ao crescimento ou decrescimentos estritos. "
   ]
  },
  {
   "cell_type": "markdown",
   "id": "55680e61",
   "metadata": {
    "ExecuteTime": {
     "end_time": "2023-09-24T14:52:17.659924Z",
     "start_time": "2023-09-24T14:52:17.657153Z"
    }
   },
   "source": [
    "#### Exemplo I"
   ]
  },
  {
   "cell_type": "markdown",
   "id": "aefa15f5",
   "metadata": {},
   "source": [
    "Vejamos, por exemplo, se os gráficos das funções a seguir são injetivas nos intervalos dados:\n",
    "\n",
    "a) $f(x) = 3 - 5x$, $I = [2,8]$ $ \\ \\ \\ \\ $ b) $g(x) = x^{2} - 5x + 6$, $I = [-10,10]$ $ \\ \\ \\ \\ $ c) $h(x) = x^{2} - 5x + 6 $, $I = [-4,1]$ $ \\ \\ \\ \\ $ \n",
    "\n",
    "d) $t(x) = log_{2}(x)$, $I = [1,50]$ $ \\ \\ \\ \\ $ e) $s(x) = 2^{x} + x$, $I = [-3,0]$ $ \\ \\ \\ \\ $ f) $u(x) = 3sen(x)$, $I = [0,10]$\n",
    "\n",
    "Consiere o contradomínio das funções dadas como sendo $\\mathbb{R}$.\n",
    "\n",
    "Vamos definir, na célula a seguir, um código o qual precisaremos, nas demais células apenas chamar o código dado como uma função cujos argumentos de entrada serão $(f,a,b)$ onde $f$ é a função, $a$ o extremo inferior do intervalo e $b$ o extremo superior do intervalo."
   ]
  },
  {
   "cell_type": "markdown",
   "id": "067cb5e4",
   "metadata": {},
   "source": [
    "##### Solução"
   ]
  },
  {
   "cell_type": "code",
   "execution_count": 9,
   "id": "10b3e984",
   "metadata": {
    "ExecuteTime": {
     "end_time": "2023-09-24T14:32:03.262414Z",
     "start_time": "2023-09-24T14:32:03.257181Z"
    }
   },
   "outputs": [],
   "source": [
    "# Módulo contendo funções matemáticas não nativas\n",
    "import numpy as np\n",
    "import matplotlib.pyplot as plt # Módulo necessário para o esboço de gráficos\n",
    "\n",
    "def esboco(f,a,b):\n",
    "    \n",
    "    def F(x):\n",
    "        return eval(f) # repasse para \n",
    "\n",
    "    # Gerando o conjunto de entrada A\n",
    "    x = np.arange(a,b,0.1) # Teste vários intervalos para cada função\n",
    "\n",
    "    # Configurações adicionais\n",
    "    plt.title('Título')\n",
    "    plt.xlabel('Variável 1')\n",
    "    plt.ylabel('Variável 2')\n",
    "    plt.grid() # Grade\n",
    "\n",
    "\n",
    "    # Plotando o gráfico\n",
    "    plt.plot(x,F(x),'-',color='red') # '-' muda para uma linha ligando os pontos"
   ]
  },
  {
   "cell_type": "code",
   "execution_count": 22,
   "id": "34454a17",
   "metadata": {
    "ExecuteTime": {
     "end_time": "2023-09-24T14:48:48.817589Z",
     "start_time": "2023-09-24T14:48:48.632895Z"
    }
   },
   "outputs": [
    {
     "data": {
      "image/png": "[encoded data removed]",
      "text/plain": [
       "<Figure size 640x480 with 1 Axes>"
      ]
     },
     "metadata": {},
     "output_type": "display_data"
    }
   ],
   "source": [
    "# a)\n",
    "esboco('3 - 5*x',2,8) # Função digitada como um string"
   ]
  },
  {
   "cell_type": "markdown",
   "id": "e196bcf7",
   "metadata": {},
   "source": [
    "Note que $f(x) = 3 - 5x$ parece ser injetiva pois apenas decresce no intervalo $[2,8]$."
   ]
  },
  {
   "cell_type": "code",
   "execution_count": 25,
   "id": "ef884c01",
   "metadata": {
    "ExecuteTime": {
     "end_time": "2023-09-24T15:01:10.426908Z",
     "start_time": "2023-09-24T15:01:10.215503Z"
    }
   },
   "outputs": [
    {
     "data": {
      "image/png": "[encoded data removed]",
      "text/plain": [
       "<Figure size 640x480 with 1 Axes>"
      ]
     },
     "metadata": {},
     "output_type": "display_data"
    }
   ],
   "source": [
    "# b) \n",
    "esboco('x**2 - 5*x + 6',-10,10)"
   ]
  },
  {
   "cell_type": "markdown",
   "id": "8437e287",
   "metadata": {},
   "source": [
    "Note que $g$ não parece ser injetora no intervalo $[-10,10]$ uma vez que esta muda seu crescimento de decrescente para crescente. Desta forma existem valores diferentes com mesma imagem o que quebra a injetividade neste intervalo."
   ]
  },
  {
   "cell_type": "code",
   "execution_count": 13,
   "id": "fbd26cb4",
   "metadata": {
    "ExecuteTime": {
     "end_time": "2023-09-24T14:39:06.952564Z",
     "start_time": "2023-09-24T14:39:06.760971Z"
    }
   },
   "outputs": [
    {
     "data": {
      "image/png": "[encoded data removed]",
      "text/plain": [
       "<Figure size 640x480 with 1 Axes>"
      ]
     },
     "metadata": {},
     "output_type": "display_data"
    }
   ],
   "source": [
    "# c) \n",
    "esboco('x**2 - 5*x + 6',-4,1)"
   ]
  },
  {
   "cell_type": "markdown",
   "id": "09c483e0",
   "metadata": {},
   "source": [
    "Note que $h$ deve ser injetora no intervalo $[-4,1]$ uma vez que esta parece ser estritamente decrescente neste intervalo."
   ]
  },
  {
   "cell_type": "code",
   "execution_count": 17,
   "id": "5ef99ea9",
   "metadata": {
    "ExecuteTime": {
     "end_time": "2023-09-24T14:41:25.144897Z",
     "start_time": "2023-09-24T14:41:24.969830Z"
    }
   },
   "outputs": [
    {
     "data": {
      "image/png": "[encoded data removed]",
      "text/plain": [
       "<Figure size 640x480 with 1 Axes>"
      ]
     },
     "metadata": {},
     "output_type": "display_data"
    }
   ],
   "source": [
    "# d) \n",
    "esboco('np.log2(x)',1,50)"
   ]
  },
  {
   "cell_type": "markdown",
   "id": "f5407291",
   "metadata": {},
   "source": [
    "Note que $t$ deve ser injetora no intervalo $[1,50]$ uma vez que esta parece ser estritamente crescente neste intervalo."
   ]
  },
  {
   "cell_type": "code",
   "execution_count": 19,
   "id": "f160ae91",
   "metadata": {
    "ExecuteTime": {
     "end_time": "2023-09-24T14:42:22.093889Z",
     "start_time": "2023-09-24T14:42:21.887985Z"
    }
   },
   "outputs": [
    {
     "data": {
      "image/png": "[encoded data removed]",
      "text/plain": [
       "<Figure size 640x480 with 1 Axes>"
      ]
     },
     "metadata": {},
     "output_type": "display_data"
    }
   ],
   "source": [
    "# e) \n",
    "esboco('2**x + x',-3,0)"
   ]
  },
  {
   "cell_type": "markdown",
   "id": "2bb974e3",
   "metadata": {},
   "source": [
    "Note que $s$ deve ser injetora no intervalo $[1,50]$ uma vez que esta parece ser estritamente crescente neste intervalo."
   ]
  },
  {
   "cell_type": "code",
   "execution_count": 21,
   "id": "d36ffe3f",
   "metadata": {
    "ExecuteTime": {
     "end_time": "2023-09-24T14:42:42.608342Z",
     "start_time": "2023-09-24T14:42:42.425053Z"
    }
   },
   "outputs": [
    {
     "data": {
      "image/png": "[encoded data removed]",
      "text/plain": [
       "<Figure size 640x480 with 1 Axes>"
      ]
     },
     "metadata": {},
     "output_type": "display_data"
    }
   ],
   "source": [
    "# f) \n",
    "esboco('3*np.sin(x)',0,10)"
   ]
  },
  {
   "cell_type": "markdown",
   "id": "26c21636",
   "metadata": {},
   "source": [
    "Note que $u$ não parece ser injetora no intervalo $[0,10]$ uma vez que esta muda seu crescimento de decrescente para crescente. Desta forma existem valores diferentes com mesma imagem o que quebra a injetividade neste intervalo."
   ]
  },
  {
   "cell_type": "markdown",
   "id": "e5d9d063",
   "metadata": {},
   "source": [
    "### Estudando a sobrejetividade"
   ]
  },
  {
   "cell_type": "markdown",
   "id": "d40d528d",
   "metadata": {},
   "source": [
    "#### Exemplo II"
   ]
  },
  {
   "cell_type": "markdown",
   "id": "60eb6abd",
   "metadata": {},
   "source": [
    "Podemos usar o software para **estimar** se uma função $f$ é ou não sobrejetiva em um certo intervalo. Neste caso devemos observar se $f$ atinge todos os valores do seu contradomínio. Neste caso, $f$ será sobrejetiva. Estime os valores do contradomínio das funções dadas no **Exemplo I** para as mesmas sejam sobrejetivas."
   ]
  },
  {
   "cell_type": "markdown",
   "id": "e3a671ca",
   "metadata": {},
   "source": [
    "##### Solução"
   ]
  },
  {
   "cell_type": "markdown",
   "id": "d87f6f4e",
   "metadata": {},
   "source": [
    "Consideremos o esboço de cada um dos gráficos obtidos no **Exemplo I**. Para que as funções dadas sejam sobrejetivas devemos impor a elas contradomínios $CD = [min,Max]$ onde $f(I) = [min,Max]$. Em certo casos, os intervalos $[min,Max]$ podem ser abertos. Pois bem,\n",
    "\n",
    "a) Temos que $M = f(2) = -7$ e $m = f(8) = -37$. Portanto, $CD(f_{I}) = [-37,-7]$\n",
    "\n",
    "b) Temos que $M = g(-10) = 156$ e $m \\approx 0$ (na verdade $m = -0.25$; vértice da parábola). Portanto, $CD(g_{I}) = [\\approx 0, 156]$\n",
    "\n",
    "c) Temos que $M = h(-4) = 42$ e $m \\approx 0$ (na verdade $m = -0.25$; vértice da parábola). Portanto, $CD(h_{I}) = [\\approx 0, 42]$\n",
    "\n",
    "d) Temos que $M = t(50) = log_{2}(50) \\approx 5.64 $ e $m = t(0) = 1$. Portanto, $CD(t_{I}) = [0,5.64]$\n",
    "\n",
    "e) Temos que $M = s(-3) = -2.875$ e $m = s(0) = 1$. Portanto, $CD(s_{I}) = [-2.875,1]$\n",
    "\n",
    "f) Temos que $M \\approx 3$ (na verdade $3$) e $m \\approx -3$ (naverdade $-3$). Portanto, $CD(u_{I}) = [-3,3]$"
   ]
  },
  {
   "cell_type": "markdown",
   "id": "b114f5e8",
   "metadata": {},
   "source": [
    "### Componsição de funções"
   ]
  },
  {
   "cell_type": "markdown",
   "id": "a1e3a6e8",
   "metadata": {},
   "source": [
    "A composição de funções é feita de maneira bastante simples no Python. Implementemos as função compostas usadas no **Exemplo 12**, $(f\\circ g)(x)$ e $(g \\circ f)(x)$ onde $f(x) = 2x + 3$ e $g(x) = 3x - 1$ e, a partir dessas definir as compostas:"
   ]
  },
  {
   "cell_type": "code",
   "execution_count": 10,
   "id": "aa03ea5b",
   "metadata": {
    "ExecuteTime": {
     "end_time": "2023-09-24T20:20:59.235134Z",
     "start_time": "2023-09-24T20:20:59.231650Z"
    }
   },
   "outputs": [],
   "source": [
    "# Definindo f(x)\n",
    "def f(x):\n",
    "    return 2*x + 3\n",
    "\n",
    "# Definindo g(x)\n",
    "def g(x):\n",
    "    return 3*x - 1"
   ]
  },
  {
   "cell_type": "code",
   "execution_count": 11,
   "id": "824ed246",
   "metadata": {
    "ExecuteTime": {
     "end_time": "2023-09-24T20:20:59.626845Z",
     "start_time": "2023-09-24T20:20:59.623380Z"
    }
   },
   "outputs": [],
   "source": [
    "# Definindo f(g(x))\n",
    "def fg(x):\n",
    "    return f(g(x))\n",
    "\n",
    "# Definindo g(f(x))\n",
    "def gf(x):\n",
    "    return g(f(x))"
   ]
  },
  {
   "cell_type": "markdown",
   "id": "5c015ca2",
   "metadata": {},
   "source": [
    "Agora apliquemos os valores $x = 2$ em $f(g(x))$ e $x = 1$ em $g(f(x))$:"
   ]
  },
  {
   "cell_type": "code",
   "execution_count": 12,
   "id": "1ccedf09",
   "metadata": {
    "ExecuteTime": {
     "end_time": "2023-09-24T20:21:01.891504Z",
     "start_time": "2023-09-24T20:21:01.886188Z"
    }
   },
   "outputs": [
    {
     "data": {
      "text/plain": [
       "13"
      ]
     },
     "execution_count": 12,
     "metadata": {},
     "output_type": "execute_result"
    }
   ],
   "source": [
    "fg(2)"
   ]
  },
  {
   "cell_type": "code",
   "execution_count": 13,
   "id": "9cae6117",
   "metadata": {
    "ExecuteTime": {
     "end_time": "2023-09-24T20:21:02.779451Z",
     "start_time": "2023-09-24T20:21:02.775280Z"
    }
   },
   "outputs": [
    {
     "data": {
      "text/plain": [
       "14"
      ]
     },
     "execution_count": 13,
     "metadata": {},
     "output_type": "execute_result"
    }
   ],
   "source": [
    "gf(1)"
   ]
  }
 ],
 "metadata": {
  "kernelspec": {
   "display_name": "Python 3 (ipykernel)",
   "language": "python",
   "name": "python3"
  },
  "language_info": {
   "codemirror_mode": {
    "name": "ipython",
    "version": 3
   },
   "file_extension": ".py",
   "mimetype": "text/x-python",
   "name": "python",
   "nbconvert_exporter": "python",
   "pygments_lexer": "ipython3",
   "version": "3.11.5"
  },
  "varInspector": {
   "cols": {
    "lenName": 16,
    "lenType": 16,
    "lenVar": 40
   },
   "kernels_config": {
    "python": {
     "delete_cmd_postfix": "",
     "delete_cmd_prefix": "del ",
     "library": "var_list.py",
     "varRefreshCmd": "print(var_dic_list())"
    },
    "r": {
     "delete_cmd_postfix": ") ",
     "delete_cmd_prefix": "rm(",
     "library": "var_list.r",
     "varRefreshCmd": "cat(var_dic_list()) "
    }
   },
   "types_to_exclude": [
    "module",
    "function",
    "builtin_function_or_method",
    "instance",
    "_Feature"
   ],
   "window_display": false
  }
 },
 "nbformat": 4,
 "nbformat_minor": 5
}
