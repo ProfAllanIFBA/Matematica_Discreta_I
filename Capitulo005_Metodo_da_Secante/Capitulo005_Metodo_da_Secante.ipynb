{
 "cells": [
  {
   "cell_type": "markdown",
   "id": "d4ea28a8",
   "metadata": {
    "slideshow": {
     "slide_type": "slide"
    }
   },
   "source": [
    "<center> <img src=\"logo_ifba.jpg\" alt=\"jpg_python\" width=\"100\" height=\"200\"> </center>\n",
    "<br><br>\n",
    "<div align=\"center\"><span style=\"font-size: 26px;\"><strong>Cálculo Numérico <br></strong></span></div> <br>\n",
    "<center> <img src=\"python_gif.gif\" alt=\"gif_python\" width=\"80\"> </center>\n"
   ]
  },
  {
   "cell_type": "markdown",
   "id": "d76184a7",
   "metadata": {
    "slideshow": {
     "slide_type": "slide"
    }
   },
   "source": [
    "<div style=\"border: 2px solid black; padding: 10px; width: 95%; background-color: lightgray; display: flex; align-items: center;\">\n",
    "    <h1 style=\"color: red; text-align: center; margin: auto;\">\n",
    "        Capítulo 5: Método da Secante\n",
    "    </h1>\n",
    "</div>\n",
    "\n",
    "<font color='red'></font>\n",
    "<a href=\"\"></a>"
   ]
  },
  {
   "cell_type": "markdown",
   "id": "5e458088",
   "metadata": {},
   "source": [
    "# <div style=\"margin-top: -20px;\">\n",
    "<hr style=\"border: 2px solid black;\">\n",
    "\n",
    "<font color='black'><span style=\"font-size: 22px;\"><strong>5.1 Método da Secante</strong></span></font>\n",
    "\n",
    "<hr style=\"border: 2px solid black;\">\n",
    "</div>"
   ]
  },
  {
   "cell_type": "markdown",
   "id": "84abaaca",
   "metadata": {},
   "source": [
    "Embora o Método de Newton seja uma técnica extremamente poderosa, ele apresenta uma fraqueza: a necessidade de se conhecer o valor da derivada de $f$ em cada aproximação. Frequentemente, o cálculo de $f'(x)$ apresenta muito mais dificuldades e necessita de mais operações aritméticas para ser calculada do que $f(x)$. Na tentativa de se evitar este problema, introduzimos o **Método da Secante**. Este método trata-se de uma pequena variação do Método de Newton."
   ]
  },
  {
   "cell_type": "markdown",
   "id": "4e8d08fb",
   "metadata": {},
   "source": [
    "#### Observação 1"
   ]
  },
  {
   "cell_type": "markdown",
   "id": "bd3baf61",
   "metadata": {},
   "source": [
    "Conforme mencionado na **Observação 3**(**Cap. 4**) o método de Newton esconde um certa dificuldade computacional de modo que o trabalho foi dividido entre o PC (realização dos cálculos) e o usuário (inserção da derivada de $f$). Quanto à inserção da função $f$ não há muito o que fazer, tem que se partir de algum lugar. Por outro lado, incumbir o usuário de inserir $f'$ (já calculada em sua forma algébrica) demanda tempo. Por outro lado, o implemento da derivada numérica ponto a ponto em cada etapa demandará algum esforço extra na escrita do código e também algum tempo computacional a mais para se obter o resultado pois, ao invés de se calcular a derivada em um ponto apenas substituindo o valor em $f$ na sua forma algébrica seria necessários certa quantidade de cálculos a mais em cada etapa.<br><br>\n",
    "\n",
    "<center> <img src=\"fig5-1.jpg\" alt=\"jpg_python\" width=\"500\" height=\"\"> </center>"
   ]
  },
  {
   "cell_type": "markdown",
   "id": "ae624ef6",
   "metadata": {},
   "source": [
    "#### Dedução do Método da Secante"
   ]
  },
  {
   "cell_type": "markdown",
   "id": "fb8e7216",
   "metadata": {},
   "source": [
    "Por definição,\n",
    "\n",
    "$$f'(p_{n+1}) = lim_{x \\rightarrow p_{n+1}} \\frac{f(x)-f(p_{n+1})}{x - p_{n+1}}.$$\n",
    "\n",
    "Fazendo $x = p_{n}$, temos\n",
    "\n",
    "$$f'(p_{n+1}) \\approx \\frac{f(p_{n+1}) - f(p_{n})}{p_{n+1} - {p_{n}}}.$$\n",
    "\n",
    "Utilizando essa aproximação para $f'(p_{n+1})$ na f\\'ormula de Newton, temos que\n",
    "\n",
    "$$p_{n+2} = p_{n+1} - \\frac{f(p_{n+1})}{f'(p_{n+1})} \\Rightarrow p_{n+2} = p_{n+1} - \\frac{f(p_{n+1})}{\\frac{f(p_{n+1}) - f(p_{n})}{p_{n+1} - {p_{n}}}} \\Rightarrow$$\n",
    "\n",
    "<font color='red'> $$p_{n+2} = p_{n+1} - f(p_{n+1})\\frac{p_{n+1} - p_{n}}{f(p_{n+1}) - f(p_{n})}, \\ n \\geq 0.$$</font>\n",
    "\n"
   ]
  },
  {
   "cell_type": "markdown",
   "id": "726789b2",
   "metadata": {},
   "source": [
    "#### <font color='blue'> Exemplo 1 </font>"
   ]
  },
  {
   "cell_type": "markdown",
   "id": "b678ae4a",
   "metadata": {},
   "source": [
    "<font color='blue'> Determine a solução aproximada da equação $cos(x) - x = 0$ utilizando o Método da Secante. Adote $p_{0} = 0.5$, $p_{1} = \\frac{\\pi}{4}$ e $\\delta = 10^{-4}$."
   ]
  },
  {
   "cell_type": "markdown",
   "id": "f92d6fc2",
   "metadata": {},
   "source": [
    "##### <font color='blue'> Solução </font>"
   ]
  },
  {
   "cell_type": "markdown",
   "id": "34487b28",
   "metadata": {},
   "source": [
    "<font color='blue'> Utilizando a função de iteração<br><br>\n",
    " $$p_{n+2} = p_{n+1} - (cos(p_{n+1}) - p_{n+1})\\frac{p_{n+1}-p_{n}}{cos(p_{n+1})-p_{n+1}-cos(p_{n})+p_{n}}, n\\geq 0$$<br>\n",
    " temos:<br><br>\n",
    " $$\\begin{array}{ccc}\n",
    "n    \t& p_{n}   \t\t\t& \t\\delta_{n}\t\t\t\t\\\\\n",
    "0    \t& 0.5  \t\t\t\t&\t- \t\t\t\t\t\t\\\\\n",
    "1\t\t& 0.785398163397448\t&   0.285398163397448\t\t\\\\\n",
    "2    \t& 0.736384138836582 & \t4.901402456086612e-02 \t\\\\\n",
    "3    \t& 0.739058139213890\t&\t2.674000377307584e-03 \t\\\\\n",
    "4    \t& 0.739085149337276 &\t2.701012338668374e-05\t\\\\\n",
    "\\end{array}$$<br>\n",
    " Logo, o zero $p$ é aproximadamente, $p_{} = 0.739085149337276$."
   ]
  },
  {
   "cell_type": "markdown",
   "id": "ce399642",
   "metadata": {},
   "source": [
    "#### Interpretação Geométrica do Método da Secante"
   ]
  },
  {
   "cell_type": "markdown",
   "id": "6e11efc6",
   "metadata": {},
   "source": [
    "A figura a seguir ilustra como as aproximações são obtidas utilizando-se sucessivas secantes. Iniciando-se com aproximações iniciais $p_{1}$ e $p_{0}$, a aproximação $p_{2}$ é o valor em que a secante ao gráfico de $f$ nos pontos $(p_{0},f(p_{0}))$ e $(p_{1},f(p_{1}))$ intercepta o eixo dos $x$. Por sua vez, $p_{3}$ é o valor em que a secante ao gráfico de $f$ nos pontos $(p_{1},f(p_{1}))$ e $(p_{2},f(p_{2}))$ intercepta o eixo dos $x$ e assim por diante. Note que o ponto $(p_{1},f(p_{1}))$ está fixado. Fica como exercício apresentar a interpretação geométrica variando o sinal de $f'$ e $f''$. Em caso de dúvida consulte o professor.<br><br>\n",
    "\n",
    "<center> <img src=\"fig5-2.jpg\" alt=\"jpg_python\" width=\"500\" height=\"\"> </center>"
   ]
  },
  {
   "cell_type": "markdown",
   "id": "9e0b7a31",
   "metadata": {},
   "source": [
    "#### <font color='blue'> Exemplo 2 </font>"
   ]
  },
  {
   "cell_type": "markdown",
   "id": "3725346e",
   "metadata": {},
   "source": [
    "<font color='blue'> Vejamos a interpretação geométrica das $3$ primeiras iterações do Método da Secante aplicado à função $f(x) = 0.5x^{2} - 20$ partindo de $p_{0} = 1$ e $p_{1} = 10$."
   ]
  },
  {
   "cell_type": "markdown",
   "id": "59ce4f01",
   "metadata": {},
   "source": [
    "##### <font color='blue'> Solução </font>"
   ]
  },
  {
   "cell_type": "markdown",
   "id": "0da175de",
   "metadata": {},
   "source": [
    "<font color='blue'> Consideremos a sequência iterativa:<br><br>\n",
    " $$p_{n+2} = p_{n+1} - f(p_{n+1})\\frac{p_{n+1}-p_{n}}{f(p_{n+1})-f(p_{n})} = p_{n+1} - (0.5p_{n+1}^{2}-20)\\frac{p_{n+1}-p_{n}}{(0.5p_{n+1}^{2}-20)-(0.5p_{n}^{2}-20))} \\Rightarrow$$<br>\n",
    " $$p_{n+2} = p_{n+1} - (0.5p_{n+1}^{2}-20)\\frac{p_{n+1}-p_{n}}{0.5p_{n+1}^{2} - 0.5p_{n}^{2}}$$<br>\n",
    " temos a seguinte tabela de valores:<br><br>\n",
    " $$\\begin{array}{ccc}\n",
    "n    \t& p_{n}   \t\t    & \\delta_{n}\\\\\n",
    "0    \t& 1     \t\t    & -\\\\\n",
    "1    \t& 10 \t\t\t    & 9\\\\\n",
    "2    \t& 4.545454545454546\t& 5.454545454545454 \\\\\n",
    "3\t\t& 5.875000000000000\t& 1.329545454545454 \\\\\n",
    "4\t\t& 6.401308615049073\t& 0.526308615049073 \\\\\n",
    "\\end{array}$$<br>\n",
    " <center> <img src=\"fig5-3.jpg\" alt=\"jpg_python\" width=\"500\" height=\"\"> </center>"
   ]
  },
  {
   "cell_type": "markdown",
   "id": "3481ce65",
   "metadata": {},
   "source": [
    "# <div style=\"margin-top: -20px;\">\n",
    "<hr style=\"border: 2px solid black;\">\n",
    "\n",
    "<font color='black'><span style=\"font-size: 22px;\"><strong>5.2 Implementações</strong></span></font>\n",
    "\n",
    "<hr style=\"border: 2px solid black;\">\n",
    "</div>"
   ]
  },
  {
   "cell_type": "markdown",
   "id": "9a938166",
   "metadata": {},
   "source": [
    "#### <font color='darkpurple'> Algoritmo: Método da Secante</font>"
   ]
  },
  {
   "cell_type": "markdown",
   "id": "8e2aca08",
   "metadata": {},
   "source": [
    "<font color='darkpurple'> Para determinar uma solução de $f(x) = 0$, dada a função $f$ contínua e diferenciável, onde $f'(p_{0}) \\neq 0$ <br><br>\n",
    " **ENTRADAS:** aproximações iniciais $p_{0}$ e $p_{1}$; tolerância $TOL$; número máximo de iterações $N$.<br><br>\n",
    " **SAÍDA:** solução aproximada $p$ ou mensagem de erro<br><br>\n",
    "    **Passo 1:** Faça $i = 1$;<br><br>\n",
    "    $\\ \\ \\ $ $s_{0} = f(p_{0})$;<br><br>\n",
    "    $\\ \\ \\ $ $s_{1} = f(p_{1})$;<br><br>\n",
    "    **Passo 2:** Enquanto $i \\leq N$, execute os Passos 3 a 6;<br><br>\n",
    "    $\\ \\ \\ $ **Passo 3:** Faça $p = p_{1} - s_{1}(p_{1} - p_{0})(s_{1} - s_{0})$;<br><br>\n",
    "    $\\ \\ \\ $ **Passo 4:** Se $|p - p_{0}| < TOL$, então<br><br>\n",
    "    $\\ \\ \\ \\ \\ \\ \\ \\ \\ $ *SAÍDA* $p$; (\"Peocedimento concluído com sucesso.\");<br><br>\n",
    "    $\\ \\ \\ \\ \\ \\ \\ \\ \\ $ *PARE*<br><br>\n",
    "    $\\ \\ \\ $ **Passo 5:** Faça $i = i + 1$<br><br>\n",
    "    $\\ \\ \\ $ **Passo 6:** Faça $p_{0} = p$;<br><br>\n",
    "    $\\ \\ \\ \\ \\ \\ \\ \\ \\ \\ \\ \\ \\ \\ \\ \\ \\ $ Faça $s_{0} = s_{1}$<br><br>\n",
    "    $\\ \\ \\ \\ \\ \\ \\ \\ \\ \\ \\ \\ \\ \\ \\ \\ \\ $ Faça $p_{1} = p$<br><br>\n",
    "    $\\ \\ \\ \\ \\ \\ \\ \\ \\ \\ \\ \\ \\ \\ \\ \\ \\ $ Faça $s_{1} = f(p)$<br><br>\n",
    "    **Passo 7:** *SAÍDA* (\"O método falhou após $N$ iterações\")<br><br>\n",
    "    $\\ \\ \\ \\ \\ \\ \\ \\ \\ $ *PARE*"
   ]
  },
  {
   "cell_type": "markdown",
   "id": "2194e1f2",
   "metadata": {},
   "source": [
    "#### <font color='darkblue'> Código Python: Método da Secante</font>"
   ]
  },
  {
   "cell_type": "code",
   "execution_count": 1,
   "id": "1b74b578",
   "metadata": {
    "ExecuteTime": {
     "end_time": "2024-01-06T14:32:11.994773Z",
     "start_time": "2024-01-06T14:32:11.870767Z"
    }
   },
   "outputs": [],
   "source": [
    "from numpy import*\n",
    "\n",
    "def secante(f_str, p0, p1, TOL, N):\n",
    "    \n",
    "    def f(x):\n",
    "        return eval(f_str)\n",
    "\n",
    "    i = 2\n",
    "    s0 = f(p0)\n",
    "    s1 = f(p1)\n",
    "\n",
    "    delta = float('inf')\n",
    "\n",
    "    print('A tabela a seguir mostra as iterações e o erro:')\n",
    "    print('n               pn                            en')\n",
    "    print(f'{0:0.0f}        {p0:0.13f}                      -')\n",
    "    print(f'{1:0.0f}        {p1:0.13f}               {abs(p1-p0):0.13f}')\n",
    "    while TOL < delta:\n",
    "        if i == N:\n",
    "            print('O método atingiu a quantidade máxima de iterações.')\n",
    "            break\n",
    "        p = p1 - s1 * (p1 - p0) / (s1 - s0)\n",
    "        p0 = p1\n",
    "        s0 = s1\n",
    "        p1 = p\n",
    "        s1 = f(p1)\n",
    "        delta = abs(p1 - p0)\n",
    "        print(f'{i:0.0f}        {p:0.13f}               {delta:0.13f}')\n",
    "        i += 1\n",
    "        \n",
    "    print(f'Resultado: {p}')"
   ]
  },
  {
   "cell_type": "code",
   "execution_count": 2,
   "id": "6c25f60d",
   "metadata": {
    "ExecuteTime": {
     "end_time": "2024-01-06T14:32:21.846024Z",
     "start_time": "2024-01-06T14:32:21.838319Z"
    }
   },
   "outputs": [
    {
     "name": "stdout",
     "output_type": "stream",
     "text": [
      "A tabela a seguir mostra as iterações e o erro:\n",
      "n               pn                            en\n",
      "0        0.5000000000000                      -\n",
      "1        0.7853981633974               0.2853981633974\n",
      "2        0.7363841388366               0.0490140245609\n",
      "3        0.7390581392139               0.0026740003773\n",
      "4        0.7390851493373               0.0000270101234\n",
      "Resultado: 0.7390851493372764\n"
     ]
    }
   ],
   "source": [
    "# Exemplo de uso\n",
    "secante('cos(x) - x', 0.5, 0.7853981633974483, 0.0001, 10)"
   ]
  },
  {
   "cell_type": "markdown",
   "id": "c680347f",
   "metadata": {},
   "source": [
    "# <div style=\"margin-top: -20px;\">\n",
    "<hr style=\"border: 2px solid black;\">\n",
    "\n",
    "<font color='black'><span style=\"font-size: 22px;\"><strong>Exercícios</strong></span></font>\n",
    "\n",
    "<hr style=\"border: 2px solid black;\">\n",
    "</div>"
   ]
  },
  {
   "cell_type": "markdown",
   "id": "fbb33e9c",
   "metadata": {},
   "source": [
    "#### Exercício 1"
   ]
  },
  {
   "cell_type": "markdown",
   "id": "20c2062b",
   "metadata": {},
   "source": [
    "Seja $f(x) = x^{2} - 6$. Adotando $p_{0} = 1$, $p_{1} = 3$ use o Método da secante para obter $p_{3}$."
   ]
  },
  {
   "cell_type": "markdown",
   "id": "6166d5d3",
   "metadata": {},
   "source": [
    "#### Exercício 2"
   ]
  },
  {
   "cell_type": "markdown",
   "id": "2490d9e7",
   "metadata": {},
   "source": [
    "Use o Método da Secante para encontrar soluções com precis\\~ao de $10^{-2}$ para os seguintes problemas:\n",
    "\n",
    "a) $x^{3} - 2x^{2} - 5 = 0$, $[1, 4]$;\n",
    "\n",
    "b) $x^{3} + 3x^{2} - 1 = 0$, $[-3, 2]$;\n",
    "\n",
    "c) $x - 0,8 - 0,2 sen(x) = 0$, $[0, \\pi/2]$."
   ]
  },
  {
   "cell_type": "markdown",
   "id": "ef9d752e",
   "metadata": {},
   "source": [
    "#### Exercício 3"
   ]
  },
  {
   "cell_type": "markdown",
   "id": "b520c9cd",
   "metadata": {},
   "source": [
    "Estude, para uma equação particular, $f(x) = 0$ a velocidade de convergência dos métodos da Bisseção, iteração do ponto fixo, Newton e Secante. Calcule pelo menos $5$ iterações para cada um desses métodos.\n",
    "\n",
    "*Tome de preferência uma equação cuja solução exata seja conhecida. Você pode usar o código fornecido!*"
   ]
  },
  {
   "cell_type": "markdown",
   "id": "639aeff4",
   "metadata": {},
   "source": [
    "#### Exercício 4"
   ]
  },
  {
   "cell_type": "markdown",
   "id": "e60966d2",
   "metadata": {},
   "source": [
    "\n",
    "Após resolver o **Exercício 3** Discorra sobre cada um dos métodos estudados até aqui, vantagens e desvantagens levando-se em conta o tripé **hipóteses para a convergência**, **rapidez de convergência** (número de iterações) e **esforço computacional** (cálculos em cada iteração)."
   ]
  },
  {
   "cell_type": "markdown",
   "id": "4e338263",
   "metadata": {},
   "source": [
    "# <div style=\"margin-top: -20px;\">\n",
    "<hr style=\"border: 2px solid black;\">\n",
    "\n",
    "<font color='black'><span style=\"font-size: 22px;\"><strong>Respostas dos Exercícios</strong></span></font>\n",
    "\n",
    "<hr style=\"border: 2px solid black;\">\n",
    "</div>"
   ]
  },
  {
   "cell_type": "markdown",
   "id": "058a1e85",
   "metadata": {},
   "source": [
    "#### Resposta do Exercício 1"
   ]
  },
  {
   "cell_type": "markdown",
   "id": "f82b0d9b",
   "metadata": {},
   "source": [
    "$p_{3} = 2.428571428571428$."
   ]
  },
  {
   "cell_type": "markdown",
   "id": "04a12ac0",
   "metadata": {},
   "source": [
    "#### Resposta do Exercício 2"
   ]
  },
  {
   "cell_type": "markdown",
   "id": "9a188072",
   "metadata": {},
   "source": [
    "a) Para $p_{0}=1$ e $p_{1} = 4$, obtemos $p_{9} = 2.690398133682820$ e $\\delta_{9} = 7.313659274762685e-03$; b) Para $p_{0} = -3$ e $p_{1} = 2$, obtemos $p_{5} = -2.878641131228635$ e $\\delta_{5} = 9.390380629842099e-03$; c) Para $p_{0} = 0$ e $p_{1} = \\frac{\\pi}{2}$, obtemos $p_{4} = 0.964346085103906$ e $\\delta_{4} = 2.794758721053725e-03$."
   ]
  },
  {
   "cell_type": "markdown",
   "id": "8cea5307",
   "metadata": {},
   "source": [
    "#### Resposta do Exercício 3"
   ]
  },
  {
   "cell_type": "markdown",
   "id": "36236c1d",
   "metadata": {},
   "source": [
    "Resposta disponível em breve. Em caso de dúvida, consulte o professor!"
   ]
  },
  {
   "cell_type": "markdown",
   "id": "8bd2446a",
   "metadata": {},
   "source": [
    "#### Resposta do Exercício 4"
   ]
  },
  {
   "cell_type": "markdown",
   "id": "80e8f592",
   "metadata": {},
   "source": [
    "Resposta disponível em breve. Em caso de dúvida, consulte o professor!"
   ]
  },
  {
   "cell_type": "markdown",
   "id": "99b0ba3b",
   "metadata": {},
   "source": [
    "#### <font color='darkgreen'> Palavras dos Mestres 1</font>"
   ]
  },
  {
   "cell_type": "markdown",
   "id": "e83ad88b",
   "metadata": {},
   "source": [
    "<font color='darkgreen'> Recomendamos que, no **Exercício 4**, seja produzido um texto com o máximo de informações possível. Esta, é umas das questões mais importantes da parte referente à **Solução de Equações Com Uma Variável**. Para entender isto, basta observar que toda a parte braçal é deixada para o computador. Nesta apostila, na internete e nos livros está tudo muito bem detalhado. A mera aplicação braçal do conteúdo visto até aqui (e também o que virá) não lhe trará mérito algum. Claro que, não acertar os exercícios à mão pode revelar uma grande falta de atenção ou deficiências mais sérias relativa ao conteúdo estudado. Sendo assim, o que precisamos entender é que, todos os métodos estudados (e outros não abordados neste material) apresentam particularidades que os tornam interessantes em determinadas situações e não tão atrativos em outras. Nenhum método resolverá tudo e nenhum método será sempre descartado. Além disso, precisamos levar em conta as limitações da máquina que teremos disponível para a execução dos cálculos. Neste sentido, pensarmos a resposta do **Exercício 4** em termos do tripé: (1) garantia de convergência, (2) rapidez de convergência e (3) esforço computacional é de extrema importância.<br><br>\n",
    "    *Aluno: Mas professor, não vou precisar disto na prova, a prova foca mais nas contas, né?*<br><br>\n",
    "    *Professor: Eu tentei. Fica só no feijão e arroz mesmo, deixa o filé para os melhores!*"
   ]
  },
  {
   "cell_type": "markdown",
   "id": "bb844f24",
   "metadata": {},
   "source": [
    "# <div style=\"margin-top: -20px;\">\n",
    "<hr style=\"border: 2px solid black;\">\n",
    "\n",
    "<font color='black'><span style=\"font-size: 22px;\"><strong>Vídeo Aulas</strong></span></font>\n",
    "\n",
    "<hr style=\"border: 2px solid black;\">\n",
    "</div>"
   ]
  },
  {
   "cell_type": "markdown",
   "id": "4062851d",
   "metadata": {},
   "source": [
    "Clicando nos links a seguir você será redirecionado às aulas referentes a este capítulo:\n",
    "\n",
    "[Método da Secante](https://youtu.be/UBUk3foFxjM)\n",
    "\n",
    "[Interpretação Geométrica do Método da Secante](https://youtu.be/vgOVpuqpVME)\n",
    "\n",
    "[Método do Secante Utilizando o Geogebra](https://youtu.be/gQtDqVFB88w)"
   ]
  }
 ],
 "metadata": {
  "kernelspec": {
   "display_name": "Python 3 (ipykernel)",
   "language": "python",
   "name": "python3"
  },
  "language_info": {
   "codemirror_mode": {
    "name": "ipython",
    "version": 3
   },
   "file_extension": ".py",
   "mimetype": "text/x-python",
   "name": "python",
   "nbconvert_exporter": "python",
   "pygments_lexer": "ipython3",
   "version": "3.11.5"
  },
  "varInspector": {
   "cols": {
    "lenName": 16,
    "lenType": 16,
    "lenVar": 40
   },
   "kernels_config": {
    "python": {
     "delete_cmd_postfix": "",
     "delete_cmd_prefix": "del ",
     "library": "var_list.py",
     "varRefreshCmd": "print(var_dic_list())"
    },
    "r": {
     "delete_cmd_postfix": ") ",
     "delete_cmd_prefix": "rm(",
     "library": "var_list.r",
     "varRefreshCmd": "cat(var_dic_list()) "
    }
   },
   "types_to_exclude": [
    "module",
    "function",
    "builtin_function_or_method",
    "instance",
    "_Feature"
   ],
   "window_display": false
  }
 },
 "nbformat": 4,
 "nbformat_minor": 5
}
