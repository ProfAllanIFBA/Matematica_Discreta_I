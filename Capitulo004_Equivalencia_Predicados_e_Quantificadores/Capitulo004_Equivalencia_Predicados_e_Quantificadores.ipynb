{
 "cells": [
  {
   "cell_type": "markdown",
   "id": "9dac3258",
   "metadata": {},
   "source": [
    "<center> <img src=\"logo_ifba.jpg\" alt=\"jpg_python\" width=\"100\" height=\"200\"> </center>\n",
    "<br><br>\n",
    "<div align=\"center\"><span style=\"font-size: 26px;\"><strong>Matemática Discreta I <br></strong></span></div> <br>\n",
    "<div align=\"center\"><span style=\"font-size: 18px;\"><strong>Versão Colab <br></strong></span></div> <br>\n",
    "<center> <img src=\"python_gif.gif\" alt=\"gif_python\" width=\"80\"> </center>"
   ]
  },
  {
   "cell_type": "markdown",
   "id": "65978acf",
   "metadata": {},
   "source": [
    "<div style=\"border: 2px solid black; padding: 10px; width: 95%; background-color: lightgray; display: flex; align-items: center;\">\n",
    "    <h1 style=\"color: red; text-align: center; margin: auto;\">\n",
    "        Capítulo 4: Equivalência, Predicados e Quantificadores\n",
    "    </h1>\n",
    "</div>\n",
    "\n",
    "<font color='red'></font>\n",
    "<a href=\"\"></a>"
   ]
  },
  {
   "cell_type": "markdown",
   "id": "ffe9ec84",
   "metadata": {},
   "source": [
    "A lógica matemática oferece ferramentas poderosas para estudar a estrutura e a validade de argumentos. Entre essas ferramentas, encontramos os conceitos de equivalência, predicados e quantificadores. A equivalência lógica nos permite estabelecer se duas proposições são semanticamente equivalentes, ou seja, se possuem os mesmos valores de verdade em todas as situações possíveis. Os predicados, por sua vez, permitem a expressão de proposições que contêm variáveis, possibilitando a análise de propriedades que dependem de valores específicos. E, por fim, os quantificadores nos permitem expressar afirmações que envolvem quantidades, como \"para todo\" e \"existe\". Esses conceitos são fundamentais para a compreensão e a formalização da lógica matemática, bem como para a resolução de problemas em diversas áreas, como matemática, ciência da computação e filosofia."
   ]
  },
  {
   "cell_type": "markdown",
   "id": "3c7e94be",
   "metadata": {},
   "source": [
    "# <div style=\"margin-top: -20px;\">\n",
    "<hr style=\"border: 2px solid black;\">\n",
    "\n",
    "<font color='black'><span style=\"font-size: 22px;\"><strong>4.1 Equivalência Lógica</strong></span></font>\n",
    "\n",
    "<hr style=\"border: 2px solid black;\">\n",
    "</div>"
   ]
  },
  {
   "cell_type": "markdown",
   "id": "48d05494",
   "metadata": {},
   "source": [
    "#### <font color='red'> Definição 1 </font>"
   ]
  },
  {
   "cell_type": "markdown",
   "id": "7d801232",
   "metadata": {},
   "source": [
    "<font color='red'> Uma proposição composta que é sempre verdadeira, qualquer que sejam os valores-verdade das proposições que ocorrem nela, é chamada de **tautologia**.  Uma proposição composta que é sempre falsa, qualquer que sejam os valores-verdade das proposições que a compõe, é chamada de **contradição**. Uma proposição composta que não é nem tautologia nem contradição é chamada de **contingência**. </font>"
   ]
  },
  {
   "cell_type": "markdown",
   "id": "be4a031e",
   "metadata": {},
   "source": [
    "#### <font color='blue'> Exemplo 1 </font>"
   ]
  },
  {
   "cell_type": "markdown",
   "id": "fc9f2707",
   "metadata": {},
   "source": [
    "<font color='blue'> Classifique cada uma das proposições a seguir em tautologia, contradição e contingência:\n",
    "<br><br>\n",
    "a) $p \\vee \\neg p$ $\\,\\,\\,\\,\\,\\,\\,\\,\\,\\,\\,\\,\\,\\,\\,\\,\\,\\,\\,\\,\\,\\,\\,\\,\\,\\,\\,\\,\\,\\,\\,\\,\\,\\,\\,\\,\\,\\,\\,\\,\\,\\,\\,\\,\\,$ b) $p \\rightarrow \\neg p$ $\\,\\,\\,\\,\\,\\,\\,\\,\\,\\,\\,\\,\\,\\,\\,\\,\\,\\,\\,\\,\\,\\,\\,\\,\\,\\,\\,\\,\\,\\,\\,\\,\\,\\,\\,\\,\\,\\,\\,\\,\\,\\,\\,\\,\\,$ c) $p \\wedge \\neg p$ $\\,\\,\\,\\,\\,\\,\\,\\,\\,\\,\\,\\,\\,\\,\\,\\,\\,\\,\\,\\,\\,\\,\\,\\,\\,\\,\\,\\,\\,\\,\\,\\,\\,\\,\\,\\,\\,\\,\\,\\,\\,\\,\\,\\,\\,$ d) $(p \\wedge \\neg p) \\rightarrow q$ </font>"
   ]
  },
  {
   "cell_type": "markdown",
   "id": "ca2e7c31",
   "metadata": {},
   "source": [
    " <font color='blue'> **Solução**: Basta construirmos as tabelas verdade associadas à cada proposição: </font>"
   ]
  },
  {
   "cell_type": "markdown",
   "id": "7db8eaa8",
   "metadata": {},
   "source": [
    "<font color='blue'>  a) <center> \\begin{array}{|c|c|c|}\n",
    "\\hline\n",
    "p\t& \\neg p  & p \\vee \\neg p   \\\\\n",
    "\\hline\n",
    "V\t& F & V   \\\\\n",
    "\\hline\n",
    "F\t& V & V  \\\\\n",
    "\\hline\n",
    "\\end{array} </center> \n",
    "Temos portanto uma tautologia. </font>"
   ]
  },
  {
   "cell_type": "markdown",
   "id": "9e410ac0",
   "metadata": {},
   "source": [
    "<font color='blue'> b) <center> \\begin{array}{|c|c|c|}\n",
    "\\hline\n",
    "p\t& \\neg p  & p \\rightarrow \\neg p   \\\\\n",
    "\\hline\n",
    "V\t& F & F   \\\\\n",
    "\\hline\n",
    "F\t& V & V   \\\\\n",
    "\\hline\n",
    "\\end{array} </center> \n",
    "Temos portanto uma contingência. </font>\n"
   ]
  },
  {
   "cell_type": "markdown",
   "id": "f7b83faa",
   "metadata": {},
   "source": [
    "<font color='blue'> c) <center> \\begin{array}{|c|c|c|}\n",
    "\\hline\n",
    "p\t& \\neg p  & p \\wedge \\neg p \\\\\n",
    "\\hline\n",
    "V\t& F & F  \\\\\n",
    "\\hline\n",
    "F\t& V & F  \\\\\n",
    "\\hline\n",
    "\\end{array} </center>\n",
    "Temos portanto uma contradição. </font> "
   ]
  },
  {
   "cell_type": "markdown",
   "id": "57f8b6ff",
   "metadata": {},
   "source": [
    "<font color='blue'> d) <center> \\begin{array}{|c|c|c|c|c|}\n",
    "\\hline\n",
    "p\t& q  & \\neg p & p \\wedge \\neg p & (p \\wedge \\neg p) \\rightarrow q \\\\\n",
    "\\hline\n",
    "V\t& V & F & F & V \\\\\n",
    "\\hline\n",
    "V\t& F & F & F & V \\\\\n",
    "\\hline\n",
    "F\t& V & V & F & V \\\\\n",
    "\\hline\n",
    "F\t& F & V & F & V \\\\\n",
    "\\hline\n",
    "\\end{array} </center>\n",
    "Temos portanto uma tautologia. </font>"
   ]
  },
  {
   "cell_type": "markdown",
   "id": "c78c8ad7",
   "metadata": {},
   "source": [
    "#### <font color='red'> Definição 2 </font>"
   ]
  },
  {
   "cell_type": "markdown",
   "id": "8d820663",
   "metadata": {},
   "source": [
    "<font color='red'> Duas proposições compostas $p$ e $q$ são chamadas **logicamente equivalente** se $p \\leftrightarrow q$ é uma tautologia. A notação $p \\equiv q$ indica que $p$ e $q$ são logicamente equivalentes. </font>"
   ]
  },
  {
   "cell_type": "markdown",
   "id": "d2b611fd",
   "metadata": {},
   "source": [
    "A Definição 2 nos diz que as tabelas verdade associadas às proposições equivalentes tem suas colunas finais iguais."
   ]
  },
  {
   "cell_type": "markdown",
   "id": "6a850f8a",
   "metadata": {},
   "source": [
    "#### <font color='blue'> Exemplo 2 </font>"
   ]
  },
  {
   "cell_type": "markdown",
   "id": "fdcd6c31",
   "metadata": {},
   "source": [
    "<font color='blue'> Mostre que $\\neg(p \\vee q)$ e $\\neg p \\wedge \\neg q$ são logicamente equivalentes. </font>"
   ]
  },
  {
   "cell_type": "markdown",
   "id": "48caf59d",
   "metadata": {},
   "source": [
    "<font color='blue'> **Solução**: Basta construirmos a seguinte tabela verdade:<br><br>\n",
    " <center> \\begin{array}{|c|c|c|c|c|c|c|c|}\n",
    "\\hline\n",
    "p\t& q & \\neg p & \\neg q & p \\vee q & \\neg(p \\vee q) & \\neg p \\wedge \\neg q  & \\neg(p \\vee q) \\leftrightarrow \\neg p \\wedge \\neg q \\\\\n",
    "\\hline\n",
    "V & V & F & F & V & F & F & V \\\\\n",
    "\\hline\n",
    "V\t& F & F & V & V & F & F & V \\\\\n",
    "\\hline\n",
    "F\t& V & V & F & V & F & F & V \\\\\n",
    "\\hline\n",
    "F\t& F & V & V & F & V & V & V \\\\\n",
    "\\hline\n",
    "\\end{array} </center><br>\n",
    "Logo, temos que as proposições $\\neg(p \\vee q)$ e $\\neg p \\wedge \\neg q$ são logicamente equivalentes. </font>"
   ]
  },
  {
   "cell_type": "markdown",
   "id": "f013b192",
   "metadata": {},
   "source": [
    "#### <font color='blue'> Exemplo 3 </font>"
   ]
  },
  {
   "cell_type": "markdown",
   "id": "429251dc",
   "metadata": {},
   "source": [
    "<font color='blue'> Mostre que $(p \\rightarrow q) \\wedge (p \\rightarrow r) \\equiv p \\rightarrow (q \\wedge r)$. </font>"
   ]
  },
  {
   "cell_type": "markdown",
   "id": "bc3ec465",
   "metadata": {},
   "source": [
    "<font color='blue'> **Solução**: Basta observamos as seguintes tabelas verdade: <center> <br>\n",
    "  \\begin{array}{|c|c|c|c|c|c|}\n",
    "\\hline\n",
    "p\t& q & r &p \\rightarrow q & p \\rightarrow r  & (p \\rightarrow q) \\wedge (q \\rightarrow r) \\\\\n",
    "\\hline\n",
    "V\t& V & V & V & V & V\\\\\n",
    "\\hline\n",
    "V\t& V & F & V & F & F\\\\\n",
    "\\hline\n",
    "V\t& F & V & F & V & F\\\\\n",
    "\\hline\n",
    "V\t& F & F & F & F & F\\\\\n",
    "\\hline\n",
    "F\t& V & V & V & V & V\\\\\n",
    "\\hline\n",
    "F\t& V & F & V & V & V\\\\\n",
    "\\hline\n",
    "F\t& F & V & V & V & V\\\\\n",
    "\\hline\n",
    "F\t& F & F & V & V & V\\\\\n",
    "\\hline\n",
    "    \\end{array} </center> <br>\n",
    "    e  <br><br>\n",
    " <center>\n",
    "\\begin{array}{|c|c|c|c|c|}\n",
    "\\hline\n",
    "p\t& q & r &q \\wedge r & p \\rightarrow (q \\wedge r)  \\\\\n",
    "\\hline\n",
    "V\t& V & V & V & V \\\\\n",
    "\\hline\n",
    "V\t& V & F & F & F \\\\\n",
    "\\hline\n",
    "V\t& F & V & F & F \\\\\n",
    "\\hline\n",
    "V\t& F & F & F & F \\\\\n",
    "\\hline\n",
    "F\t& V & V & V & V \\\\\n",
    "\\hline\n",
    "F\t& V & F & F & V \\\\\n",
    "\\hline\n",
    "F\t& F & V & F & V \\\\\n",
    "\\hline\n",
    "F\t& F & F & F & V \\\\\n",
    "\\hline\n",
    "\\end{array}\n",
    " </center><br>\n",
    "Como as colunas resultado coincidem, temos uma equivalência."
   ]
  },
  {
   "cell_type": "markdown",
   "id": "99fd7603",
   "metadata": {},
   "source": [
    "#### <font color='blue'> Exemplo 4 </font>"
   ]
  },
  {
   "cell_type": "markdown",
   "id": "69816148",
   "metadata": {},
   "source": [
    "<font color='blue'> Verifique quais das sentenças a seguir são equivalentes:\n",
    "<br><br>\n",
    "a) Não é verdade que João foi assaltado e Maria não ganhou na loteria./ João não  foi assaltado ou Maria ganhou na loteria.\n",
    "<br><br>\n",
    "b) O gato é mamífero ou o sapo é inseto./ Se o gato não é um mamífero, então o sapo é um inseto. </font>"
   ]
  },
  {
   "cell_type": "markdown",
   "id": "df2569a4",
   "metadata": {},
   "source": [
    "<font color='blue'> **Solução**: a) Tomemos as seguintes proposições:\n",
    "<br><br>\n",
    "$p:$ João foi assaltado. \n",
    "<br><br>\n",
    "$q:$ Maria ganhou na loteria.\n",
    "<br><br>\n",
    "Queremos saber se as proposições $\\neg (p \\wedge \\neg q)$ e $\\neg p \\vee q$ são logicamente equivalentes. Vejamos.\n",
    " <center><br> \n",
    " \\begin{array}{|c|c|c|c|c|}\n",
    "\\hline\n",
    "p\t& q & \\neg p &\\neg q  & p \\wedge \\neg q & \\neg(p \\wedge \\neg q) & \\neg p \\vee q\\\\\n",
    "\\hline\n",
    "V\t& V & F & F & F & V & V  \\\\\n",
    "\\hline\n",
    "V\t& F & F & V & V & F & F  \\\\\n",
    "\\hline\n",
    "F\t& V & V & F & F & V & V  \\\\\n",
    "\\hline\n",
    "F\t& F & V & V & F & V & V  \\\\\n",
    "\\hline\n",
    "\\end{array}\n",
    "    </center><br>\n",
    "Como as colunas resultado são iguais, temos que se trata de uma equivalência lógica."
   ]
  },
  {
   "cell_type": "markdown",
   "id": "ba17ef46",
   "metadata": {},
   "source": [
    "<font color='blue'> b) Tomemos as seguintes proposições:\n",
    "<br><br>\n",
    "$p:$ O gato é um mamífero. \n",
    "<br><br>\n",
    "$q:$ O sapo é um inseto.\n",
    "<br><br>\n",
    "Temos as seguintes tabelas verdade.  \n",
    " <center>  \n",
    "   \\begin{array}{|c|c|c|}\n",
    "\\hline\n",
    "p\t& q & \\neg p & p \\vee q & \\neg p \\rightarrow q \\\\\n",
    "\\hline\n",
    "V\t& V & F & V & V\\\\\n",
    "\\hline\n",
    "V\t& F & F & V & V\\\\\n",
    "\\hline\n",
    "F\t& V & V & V & V\\\\\n",
    "\\hline\n",
    "F\t& F & V & F & F\\\\\n",
    "\\hline\n",
    "\\end{array}\n",
    "    </center><br>\n",
    "Como as colunas resultado são iguais, temos que se trata de uma equivalência lógica."
   ]
  },
  {
   "cell_type": "markdown",
   "id": "ad67bb27",
   "metadata": {},
   "source": [
    "####  <font color='red'> Tabela de Regras de Equivalência </font>"
   ]
  },
  {
   "cell_type": "markdown",
   "id": "ca010560",
   "metadata": {},
   "source": [
    "A seguir mostraremos algumas equivalências importantes:"
   ]
  },
  {
   "cell_type": "markdown",
   "id": "3b9471a6",
   "metadata": {},
   "source": [
    " <font color='red'> <center> \\begin{array}{|c|c|c|c|c|c|}\n",
    "\\hline\n",
    "Equivalência\t& Nome \\\\\n",
    "\\hline\n",
    "p \\wedge V \\equiv p, \\,\\, p \\vee F \\equiv p  \t& Elemento \\, Neutro\\\\\n",
    "\\hline\n",
    "p \\vee V \\equiv V, \\,\\, p \\wedge F \\equiv F\t& Dominação \\\\\n",
    "\\hline\n",
    "p \\vee p \\equiv p, \\,\\, p \\wedge p \\equiv p\t \t& Idempotente \\\\\n",
    "\\hline\n",
    "\\neg (\\neg p) \\equiv p\t& Dupla \\, Negação \\\\\n",
    "\\hline\n",
    "p \\wedge q \\equiv q \\wedge p, \\,\\, p \\vee q \\equiv q \\vee p\t& Comutativa  \\\\\n",
    "\\hline\n",
    "p \\vee (q \\wedge r) \\equiv (p \\vee q) \\wedge (p \\vee r), \\,\\, p \\wedge (q \\vee r) \\equiv (p \\wedge q) \\vee (p \\wedge r)\t& Dsitributiva \\\\\n",
    "\\hline\n",
    "\\neg (p \\wedge q) \\equiv \\neg p \\vee \\neg q, \\,\\, \\neg (p \\vee q) \\equiv \\neg p \\wedge \\neg q\t& Leis \\, de \\, De \\, Morgan \\\\\n",
    "\\hline\n",
    "p \\vee (p \\wedge q) \\equiv p, \\,\\, p \\wedge (p \\vee q) \\equiv p\t& Absorção \\\\\n",
    "\\hline\n",
    "p \\vee \\neg p \\equiv V, \\,\\, p \\wedge \\neg p \\equiv F\t& Negação \\\\\n",
    "\\hline\n",
    "p \\rightarrow q \\equiv \\neg p \\vee q\t& - \\\\\n",
    "\\hline\n",
    "p \\rightarrow q \\equiv \\neg q \\rightarrow \\neg p\t& Contrapositiva \\\\\n",
    "\\hline\n",
    "\\neg (p \\rightarrow q) \\equiv p \\wedge \\neg q & Negação \\, da \\, Implicação  \\\\\n",
    "\\hline\n",
    "(p \\rightarrow q) \\wedge (p \\rightarrow r) \\equiv p \\rightarrow (q \\wedge r) & - \\\\\n",
    "\\hline\n",
    "(p \\rightarrow r) \\wedge (q \\rightarrow r) \\equiv (p \\vee q) \\rightarrow r & - \\\\\n",
    "\\hline\n",
    "(p \\rightarrow q) \\vee (p \\rightarrow r) \\equiv p \\rightarrow (q \\vee r) & -\\\\\n",
    "\\hline\n",
    "(p \\rightarrow r) \\vee (q \\rightarrow r) \\equiv (p \\wedge q) \\rightarrow r & -\\\\\n",
    "\\hline\n",
    "p \\leftrightarrow q \\equiv (p \\rightarrow q) \\wedge (q \\rightarrow p) & - \\\\\n",
    "\\hline\n",
    "p \\leftrightarrow q \\equiv \\neg p \\leftrightarrow \\neq q & - \\\\\n",
    "\\hline\n",
    "p \\leftrightarrow q \\equiv (p \\wedge q) \\vee (\\neg p \\wedge \\neg q) & - \\\\\n",
    "\\hline\n",
    "\\neg (p \\leftrightarrow q) \\equiv p \\leftrightarrow \\neg q & - \\\\\n",
    "\\hline\n",
    "\\end{array} </center> </font>"
   ]
  },
  {
   "cell_type": "markdown",
   "id": "2f22b08d",
   "metadata": {},
   "source": [
    "#### <font color='blue'> Exemplo 5 </font>"
   ]
  },
  {
   "cell_type": "markdown",
   "id": "ad9ed4c1",
   "metadata": {},
   "source": [
    "<font color='blue'> Escreva a negação das proposições a seguir usando as leis de De Morgan:\n",
    "<br><br>\n",
    "a) Maria foi de carro e João não foi de trem.\n",
    "<br><br>\n",
    "b) Se o Sol não é amarelo, então a Lua é azul. <\\font>"
   ]
  },
  {
   "cell_type": "markdown",
   "id": "958ba39d",
   "metadata": {},
   "source": [
    "<font color='blue'> **Solução**: a) Identifiquemos as proposições:\n",
    "<br><br>\n",
    "$p:$ Maria foi de carro.\n",
    "<br><br>\n",
    "$q:$ João foi de trem.\n",
    "<br><br>\n",
    "Assim, queremos negar a proposição $p \\wedge \\neg q$, isto é, $\\neg (p \\wedge \\neg q)$. Usando a lei de De Morgan, temos:<br><br>\n",
    "$$\\neg (p \\wedge \\neg q) \\equiv \\neg p \\vee \\neg \\neg q \\equiv \\neg p \\vee q.$$\n",
    "Segue que a negação procurada é dada por: \"Maria não foi de carro ou João foi de trem\". </font>"
   ]
  },
  {
   "cell_type": "markdown",
   "id": "df2c70cb",
   "metadata": {},
   "source": [
    "<font color='blue'>b) Identifiquemos as proposições:\n",
    "<br><br>\n",
    "$p:$ O Sol é amarelo.\n",
    "<br><br>\n",
    "$q:$ A Lua é azul.\n",
    "<br><br>\n",
    "Usando a equivalência $p \\rightarrow q \\equiv \\neg p \\vee q$, temos: <br><br>\n",
    "$$\\neg(\\neg p \\rightarrow q) \\equiv \\neg (\\neg \\neg p \\vee q) \\equiv \\neg (p \\vee q) \\equiv \\neg p \\wedge \\neg q.$$ <br>\n",
    "Portanto, a negação da proposição fornecida é dada por: \"O Sol é não é amarelo e a Lua não é azul.\" </font>"
   ]
  },
  {
   "cell_type": "markdown",
   "id": "f073335b",
   "metadata": {},
   "source": [
    "# <div style=\"margin-top: -20px;\">\n",
    "<hr style=\"border: 2px solid black;\">\n",
    "\n",
    "<font color='black'><span style=\"font-size: 22px;\"><strong>4.2 Lógica de Predicados</strong></span></font>\n",
    "\n",
    "<hr style=\"border: 2px solid black;\">\n",
    "</div>"
   ]
  },
  {
   "cell_type": "markdown",
   "id": "f6783d2d",
   "metadata": {},
   "source": [
    "Nesta seção introduziremos uma poderosa ferramenta a **lógica de predicados** tendo importantes aplicações em matemática e também em computação.\n",
    "\t\n",
    "Sentenças que envolvam variáveis, tais como, $x > 2$ são frequentemente encontradas em matemática, em programas de computador e em sistemas de especificações.\n",
    "\t\n",
    "A declaração $x > 2$, lida \"$x$ é maior que $2$\" tem duas partes. A primeira, a variável $x$, o sujeito da declaração. A segunda $-$  o **predicado**, \"é maior que $2$\". Podemos representar a declaração \"$x$ é maior que $2$\" por $P(x)$, em que $P$ indica o predicado \"é maior que $2$\" e $x$ é a variável. A declaração, ou afirmação, é também chamada de o valor da **função proposicional** $P$ em $x$."
   ]
  },
  {
   "cell_type": "markdown",
   "id": "0597e07e",
   "metadata": {},
   "source": [
    "#### <font color='blue'> Exemplo 6 </font>"
   ]
  },
  {
   "cell_type": "markdown",
   "id": "ed0e85dd",
   "metadata": {},
   "source": [
    "<font color='blue'>Seja $P(x)$ a declaração \"$x > 2$\". Qual o valor verdade de: a) $P(5)$, b) $P(1)$?</font>"
   ]
  },
  {
   "cell_type": "markdown",
   "id": "439b715e",
   "metadata": {},
   "source": [
    "<font color='blue'> **Solução**: a) Temos que\n",
    "<br><br>\n",
    "$x = 5 \\Rightarrow P(5) \\Rightarrow$ $5$ é maior ou igual a $2$. Esta é uma proposição verdadeira.</font>"
   ]
  },
  {
   "cell_type": "markdown",
   "id": "f2524fa8",
   "metadata": {},
   "source": [
    "<font color='blue'> b) Temos que\n",
    "<br><br>\n",
    "$x = 1 \\Rightarrow P(1) \\Rightarrow$ $1$ é maior ou igual a $2$. Esta é uma proposição falsa. </font>"
   ]
  },
  {
   "cell_type": "markdown",
   "id": "31d3875b",
   "metadata": {},
   "source": [
    "#### <font color='blue'> Exemplo 7 </font>"
   ]
  },
  {
   "cell_type": "markdown",
   "id": "86a7cccd",
   "metadata": {},
   "source": [
    "<font color='blue'> Seja $P(x)$  a declaração \"O programa $x$ está funcionando adequadamente\". Suponha que de todos os programas que estejam sendo executados no computador apenas o Avast e o Paint não estão funcionando corretamente. Quais os valores verdade dos programas Excel, Word e Paint? </font>"
   ]
  },
  {
   "cell_type": "markdown",
   "id": "245aa72d",
   "metadata": {},
   "source": [
    "<font color='blue'> Temos que $P(x)$ é verdadeira para $x = $ Excel e para $x = $ Word; falsa para $x = $ Paint. </font>"
   ]
  },
  {
   "cell_type": "markdown",
   "id": "fefdf7a0",
   "metadata": {},
   "source": [
    "#### <font color='blue'> Exemplo 8 </font>"
   ]
  },
  {
   "cell_type": "markdown",
   "id": "4ec08f45",
   "metadata": {},
   "source": [
    "<font color='blue'> Considere a afirmação\n",
    "<br><br>\n",
    "**if** $x > 0$ **then** $x: = x + 1$.\n",
    "<br><br>\n",
    "Quando essa declaração é encontrada em um programa, o valor da variável $x$ neste ponto de execução é inserido em $P(x)$, que é \"$x > 0$\". Se $P(x)$ é verdadeira para esse valor de $x$, o comando é executado, isto é o valor de $x$ é incrementado em uma unidade. Por outro lado, se $P(x)$ é falsa para este valor de $x$, o comando não é executado, e, portanto, o valor de $x$ não sofrerá alteração.</font>"
   ]
  },
  {
   "cell_type": "markdown",
   "id": "778d88bc",
   "metadata": {},
   "source": [
    "# <div style=\"margin-top: -20px;\">\n",
    "<hr style=\"border: 2px solid black;\">\n",
    "\n",
    "<font color='black'><span style=\"font-size: 22px;\"><strong>4.3 Quantificadores</strong></span></font>\n",
    "\n",
    "<hr style=\"border: 2px solid black;\">\n",
    "</div>"
   ]
  },
  {
   "cell_type": "markdown",
   "id": "79791ece",
   "metadata": {},
   "source": [
    "A quantificação é um meio de dizer que certo predicado é verdadeiro para certo conjunto de elementos."
   ]
  },
  {
   "cell_type": "markdown",
   "id": "335ad5dd",
   "metadata": {},
   "source": [
    "#### <font color='red'> Definição 3</font>"
   ]
  },
  {
   "cell_type": "markdown",
   "id": "7631f357",
   "metadata": {},
   "source": [
    "<font color='red'> A quantificação universal de $P(x)$ é a afirmação<br>  \n",
    "   <center> \"$P(x)$ é verdadeira para todos os valores de $x$ do domínio.\" </center><br>\n",
    "A notação $\\forall xP(x)$ indica a quantificação universal de $P(x)$. O símbolo $\\forall$ é chamado de **quantificador universal**, lê-se \"para todo $xP(x)$\". Um elemento para o qual $P(x)$ seja falsa é chamado de **contra-exemplo** para $\\forall xP(x)$. </font>"
   ]
  },
  {
   "cell_type": "markdown",
   "id": "943755d2",
   "metadata": {},
   "source": [
    "#### <font color='blue'> Exemplo 9</font>"
   ]
  },
  {
   "cell_type": "markdown",
   "id": "fd1f7cf3",
   "metadata": {},
   "source": [
    "<font color='blue'> Dadas as declarações a seguir, determine o valor-verdade da quantificação $\\forall x P(x)$ sob o conjunto dos números reais.\n",
    "<br><br>\n",
    "a) $P(x): x + 1 > x$\n",
    "<br><br>\n",
    "b) $P(x): x^{2} \\geq x$ </font>"
   ]
  },
  {
   "cell_type": "markdown",
   "id": "01fc8d33",
   "metadata": {},
   "source": [
    "<font color='blue'> **Solução**: a) Temos que se $x$ é um número real qualquer adicionar $1$ a $x$ o torna maior. Logo, $x + 1 > x $ para todo $x \\in \\mathbb{R}$. Logo, a quantificação universal $\\forall xP(x)$ é verdadeira. </font>"
   ]
  },
  {
   "cell_type": "markdown",
   "id": "74ffc0ed",
   "metadata": {},
   "source": [
    "<font color='blue'> b) A afirmação $x^{2} \\geq x$ para todo $x$ real é falsa. Para ver isso, basta tomar como contra-exemplo $x = 0,1$. Neste caso, $0,1^{2} = 0,01$ e portanto $0,1^{2} \\ngeq 0,1$. Logo, a quantificação universal $\\forall xP(x)$ é falsa. </font>"
   ]
  },
  {
   "cell_type": "markdown",
   "id": "149ffce0",
   "metadata": {},
   "source": [
    "#### <font color='red'> Definição 4</font>"
   ]
  },
  {
   "cell_type": "markdown",
   "id": "0e77f649",
   "metadata": {},
   "source": [
    "<font color='red'> A quantificação existencial de $P(x)$ é a afirmação<br>  \n",
    "    <center> \"Existe um elemento $x$ tal que $P(x)$ é verdadeira.\" </center> <br>\n",
    "A notação $\\exists xP(x)$ indica a quantificação existencial de $P(x)$. O símbolo $\\exists$ é chamado de **quantificador existencial**, lê-se \"existe $xP(x)$\". Caso exista um único $x$ tal que $P(x)$ seja verdadeira podemos usar a notação $\\exists ! xP(x)$, que lê-se, \"existe um único $xP(x)$.\" </font>"
   ]
  },
  {
   "cell_type": "markdown",
   "id": "8799371e",
   "metadata": {},
   "source": [
    "#### <font color='blue'> Exemplo 10</font>"
   ]
  },
  {
   "cell_type": "markdown",
   "id": "f3550e2e",
   "metadata": {},
   "source": [
    "<font color='blue'> Dadas as declarações a seguir, determine o valor-verdade da quantificação $\\exists x P(x)$ sob o conjunto dos números reais.\n",
    "<br><br>\n",
    "a) $P(x): x^{2} - 5x + 6 = 0$\n",
    "<br><br>\n",
    "b) $P(x): x^{2} + 1 = 0$\n",
    "<br><br>\n",
    "c) $P(x): x + 5 = 0$ </font>"
   ]
  },
  {
   "cell_type": "markdown",
   "id": "f025cdd3",
   "metadata": {},
   "source": [
    "<font color='blue'> **Solução**: a) Aplicando a fórmula de resolução de uma equação do segundo grau, temos que $x = 2$ e $x = 3$ são soluções da equação dada. Logo, a quantificação existencial é verdadeira. </font>"
   ]
  },
  {
   "cell_type": "markdown",
   "id": "1beb4f03",
   "metadata": {},
   "source": [
    "<font color='blue'> b) Note que o quadrado de um número real é não negativo, isto é, $x^{2} \\geq 0$. Logo, $x^{2} + 1 \\geq 1 \\neq 0$. Logo, a quantificação existencial é falsa. </font>"
   ]
  },
  {
   "cell_type": "markdown",
   "id": "ea6b0b63",
   "metadata": {},
   "source": [
    "<font color='blue'> c) Adicionando $-5$ aos dois membros da equação $x + 5 = 0$, temos $x = 5$. Logo, a quantificação existencial é verdadeira. </font>"
   ]
  },
  {
   "cell_type": "markdown",
   "id": "243ba189",
   "metadata": {},
   "source": [
    "#### <font color='red'> Negação de Quantificadores</font>"
   ]
  },
  {
   "cell_type": "markdown",
   "id": "f064eb88",
   "metadata": {},
   "source": [
    "<font color='red'> As negações dos quantificadores universal e existencial são dadas por:\n",
    "<br><br>\n",
    "$\\neg \\forall x P(x) \\equiv \\exists x \\neg P(x)$,\n",
    "<br><br>\n",
    "$\\neg \\exists xP(x) \\equiv \\forall x \\neg P(x)$,\n",
    "<br><br>\n",
    "isto é, permutam-se os quantificadores $\\forall$ e $\\exists$ e juntamente com a negação do predicado $P(x)$. </font>"
   ]
  },
  {
   "cell_type": "markdown",
   "id": "20f500f2",
   "metadata": {},
   "source": [
    "#### <font color='blue'> Exemplo 11</font>"
   ]
  },
  {
   "cell_type": "markdown",
   "id": "de0ff59d",
   "metadata": {},
   "source": [
    "<font color='blue'> Encontre a negação das proposições a seguir:\n",
    "<br><br>\n",
    "a) Todo aluno na sua classe passou em Matemática Discreta I.\n",
    "<br><br>\n",
    "b) Existe um homem careca. </font>"
   ]
  },
  {
   "cell_type": "markdown",
   "id": "a8be4752",
   "metadata": {},
   "source": [
    "<font color='blue'> **Solução**: a) Em linguagem simbólica temos: $\\forall x, P(x)$. Decorre daí que: <br><br>\n",
    "$$\\neg (\\forall x, P(x)) \\equiv \\exists x, \\neg P(x).$$<br>\n",
    "Portanto, a negação da proposição fornecida é: \"Existe um aluno na sua classe que não passou em Matemática Discreta I.\" </font>"
   ]
  },
  {
   "cell_type": "markdown",
   "id": "5ac57c33",
   "metadata": {},
   "source": [
    "<font color='blue'> b) Em linguagem simbólica temos: $\\exists x, P(x)$. Decorre daí que: <br><br>\n",
    "$$\\neg(\\exists x, P(x)) \\equiv \\forall x, \\neg P(x).$$<br>\n",
    "Portanto, a negação da proposição fornecida é: \"Todo homem não é careca.\" </font>\n",
    " "
   ]
  },
  {
   "cell_type": "markdown",
   "id": "391a80ff",
   "metadata": {},
   "source": [
    "#### Agrupando Quantificadores"
   ]
  },
  {
   "cell_type": "markdown",
   "id": "4c371e05",
   "metadata": {},
   "source": [
    "Nós podemos também, agrupar os quantificadores universal e existência dando origem à sentenças mais complexas. Por exemplo:\n",
    "<br><br>\n",
    "- \"Para todo cão, existe uma ração que é específica.\"\n",
    "<br><br>\n",
    "- \"$\\forall x \\exists y(x+y = 0)$\" (Lê-se \"Para todo $x$ existe $y$ tal que a soma de $x$ com $y$ é igual a zero.\")\n",
    "<br><br>\n",
    "- \"$\\forall x \\forall y ((x > 0) \\wedge (y < 0) \\rightarrow xy < 0)$\" (Lê-se \"Para todo $x$ e para todo $y$, se $x$ é negativo e $y$ é positivo, então o produto de $x$ por $y$ é negativo.\")"
   ]
  },
  {
   "cell_type": "markdown",
   "id": "e889e0c2",
   "metadata": {},
   "source": [
    "#### <font color='blue'> Exemplo 12</font>"
   ]
  },
  {
   "cell_type": "markdown",
   "id": "a1dff990",
   "metadata": {},
   "source": [
    "<font color='blue'> Seja $Q(x,y)$ a sentença $x+y = 0$. Quais os valores verdade das quantificações a seguir em que $x$ e $y$ são variáveis reais?\n",
    "<br><br>\n",
    "a) $\\exists y \\forall x Q(x,y)$\n",
    "<br><br>\n",
    "b) $ \\forall x \\exists y Q(x,y)$ </font>"
   ]
  },
  {
   "cell_type": "markdown",
   "id": "e17bf4ea",
   "metadata": {},
   "source": [
    "<font color='blue'> **Solução**: a) A quantificação $\\exists y \\forall x Q(x,y)$ indica a proposição:\n",
    "<br><br>\n",
    "\"Existe um número real $y$ para todo número real $x$, $x+y = 0$.\"\n",
    "<br><br>\n",
    "Note que a afirmação existe um $y$ real tal que para todo $x$ real  tenhamos $x + y = 0$ é falsa. De fato, tomando $x = 2$ temos $y = -2$ e tomando $x = 1$ temos $y = -2$ não é tal que $x + y = 0$. Logo a quantificação é falsa. </font>"
   ]
  },
  {
   "cell_type": "markdown",
   "id": "05579df6",
   "metadata": {},
   "source": [
    "<font color='blue'> b) A quantificação $ \\forall x \\exists y Q(x,y)$ indica a proposição\n",
    "<br><br>\n",
    "\"Para todo número real $x$ existe um número real $y$ tal que $x+y = 0$.\"\n",
    "<br><br>\n",
    "Tomando $y = -x$, temos que a afirmação é verdadeira. De fato, para todo número real $x$ existe $y = -x$ (dependendo de $x$) tal que $x + y = x + (-x) = 0$. </font>"
   ]
  },
  {
   "cell_type": "markdown",
   "id": "5533cab8",
   "metadata": {},
   "source": [
    "#### <font color='red'> Negação da proposições com quantificadores agrupados"
   ]
  },
  {
   "cell_type": "markdown",
   "id": "a846f04d",
   "metadata": {},
   "source": [
    "A negação de quantificadores agrupados é feita da seguinte forma:\n",
    "<br><br> <font color='red'> \n",
    "i) $\\neg(\\forall x \\exists yP(x)) \\equiv \\exists x \\neg \\exists y P(x,y) \\equiv \\exists x \\forall y \\neg P(x,y)$\n",
    "<br><br>\n",
    "ii) $\\neg(\\exists x \\forall yP(x)) \\equiv \\forall x \\neg \\forall y P(x,y) \\equiv \\forall x \\exists y \\neg P(x,y)$\n",
    "<br><br>\n",
    "iii) $\\neg(\\forall x \\forall yP(x)) \\equiv \\exists x \\neg \\forall y P(x,y) \\equiv \\exists x \\exists y \\neg P(x,y)$\n",
    "<br><br>\n",
    "iv) $\\neg(\\exists x \\exists yP(x)) \\equiv \\forall x \\neg \\exists y P(x,y) \\equiv \\forall x \\forall y \\neg P(x,y)$"
   ]
  },
  {
   "cell_type": "markdown",
   "id": "ef3a58f2",
   "metadata": {},
   "source": [
    "#### <font color='blue'> Exemplo 13</font>"
   ]
  },
  {
   "cell_type": "markdown",
   "id": "7a8016c2",
   "metadata": {},
   "source": [
    "<font color='blue'> Negue a seguinte proposição:\n",
    "<br><br>\n",
    "\"Para todo cão existe uma ração que é específica.\" </font>"
   ]
  },
  {
   "cell_type": "markdown",
   "id": "1c530f01",
   "metadata": {},
   "source": [
    "<font color='blue'> **Solução**: Temos que a proposição acima pode ser identificada como $\\forall x \\exists y P(x,y)$. Neste caso, a negação será dada por: <br>  \n",
    "$$\\neg (\\forall x \\exists y P(x,y)) \\equiv \\exists x \\forall y \\neg P(x,y).$$ <br> \n",
    "Assim, a negação da proposição é dada por:\n",
    "<br><br>\n",
    "\"Existe um cão tal que toda ração que não é específica.\" </font>"
   ]
  },
  {
   "cell_type": "markdown",
   "id": "6eb4c65b",
   "metadata": {},
   "source": [
    "# <div style=\"margin-top: -20px;\">\n",
    "<hr style=\"border: 2px solid black;\">\n",
    "\n",
    "<font color='black'><span style=\"font-size: 22px;\"><strong>4.4 Exercícios</strong></span></font>\n",
    "\n",
    "<hr style=\"border: 2px solid black;\">\n",
    "</div>"
   ]
  },
  {
   "cell_type": "markdown",
   "id": "fa1e60f9",
   "metadata": {},
   "source": [
    "#### Exercício 1"
   ]
  },
  {
   "cell_type": "markdown",
   "id": "ebc95958",
   "metadata": {},
   "source": [
    "Quais das equivalências a seguir são verdadeiras:\n",
    "<br><br>\n",
    "a) $\\neg (p \\vee \\neg q) \\equiv \\neg p \\wedge q$ $\\,\\,\\,\\,\\,\\,\\,\\,\\,\\,\\,\\,\\,\\,\\,\\,\\,\\,\\,\\,\\,\\,\\,\\,\\,\\,\\,\\,\\,\\,\\,\\,\\,$ b) $p \\wedge \\neg q \\equiv \\neg (p \\rightarrow q)$ $\\,\\,\\,\\,\\,\\,\\,\\,\\,\\,\\,\\,\\,\\,\\,$ c) $p \\vee (\\neg p \\wedge q) \\equiv p$ $\\,\\,\\,\\,\\,\\,\\,\\,\\,\\,\\,\\,\\,\\,\\,$ \n",
    "<br><br>\n",
    "d) $p \\leftrightarrow q \\equiv (p \\rightarrow q) \\wedge (q \\rightarrow p)$ $\\,\\,\\,\\,\\,\\,\\,\\,\\,\\,\\,\\,\\,\\,\\,$ e) $\\neg (p \\rightarrow q \\equiv \\neg p \\vee q$"
   ]
  },
  {
   "cell_type": "markdown",
   "id": "2d26d24d",
   "metadata": {},
   "source": [
    "#### Exercício 2"
   ]
  },
  {
   "cell_type": "markdown",
   "id": "e8f0bfe7",
   "metadata": {},
   "source": [
    "Encontre a negação das seguintes proposições:\n",
    "<br><br>\n",
    "a) Maria andou de carro e João não andou de bicicleta.\n",
    "<br><br>\n",
    "b) O cachorro não é bípede ou o homem não é inteligente.\n",
    "<br><br>\n",
    "c) Se saio de casa, então não chove.\n",
    "<br><br>\n",
    "d) Saio de casa se, e somente se, levo o guarda chuvas."
   ]
  },
  {
   "cell_type": "markdown",
   "id": "fc30d4a6",
   "metadata": {},
   "source": [
    "#### Exercício 3"
   ]
  },
  {
   "cell_type": "markdown",
   "id": "06423da2",
   "metadata": {},
   "source": [
    "Qual o valor verdade das seguintes declarações:\n",
    "<br><br>\n",
    "a) $\\forall x \\in \\mathbb{R}, \\frac{1}{x} \\in \\mathbb{R}$\n",
    "<br><br>\n",
    "b) $\\forall x \\in \\mathbb{N}, \\sqrt{x} \\in \\mathbb{R}$\n",
    "<br><br>\n",
    "c) $\\exists x \\in \\mathbb{R}; x^{2} - 4 = 0.$\n",
    "<br><br>\n",
    "d) $\\exists x \\in \\mathbb{R}; x^{2} + 10x + 26  = 0.$"
   ]
  },
  {
   "cell_type": "markdown",
   "id": "d237a8b8",
   "metadata": {},
   "source": [
    "#### Exercício 4"
   ]
  },
  {
   "cell_type": "markdown",
   "id": "961369b4",
   "metadata": {},
   "source": [
    "Seja $Q(x,y)$ a representação de \"$x = y + 3$\". Quais os valores verdade de:\n",
    "<br><br>\n",
    "a) $Q(3,0)$ $\\,\\,\\,\\,\\,\\,\\,\\,\\,\\,\\,\\,\\,\\,\\,\\,\\,\\,\\,\\,\\,\\,\\,\\,$ b) $Q(2,1)$"
   ]
  },
  {
   "cell_type": "markdown",
   "id": "3ed399b1",
   "metadata": {},
   "source": [
    "#### Exemplo 5"
   ]
  },
  {
   "cell_type": "markdown",
   "id": "61ee9331",
   "metadata": {},
   "source": [
    "Encontre a negação das seguintes proposições.\n",
    "<br><br>\n",
    "a) Todo homem é mortal.\n",
    "<br><br>\n",
    "b) Todo homem bebe água ou bebe suco.\n",
    "<br><br>\n",
    "c) Existe um animal azul.\n",
    "<br><br>\n",
    "d) Existe carro verde e quadrado."
   ]
  },
  {
   "cell_type": "markdown",
   "id": "922c3fd1",
   "metadata": {},
   "source": [
    "#### Exemplo 6"
   ]
  },
  {
   "cell_type": "markdown",
   "id": "743ff09a",
   "metadata": {},
   "source": [
    "Use quantificadores e predicados com mais de uma variável para expressar as proposições abaixo:\n",
    "<br><br>\n",
    "a) Todo estudante do curso de Bacharelado e Sistema da Informação precisa de um curso de matemática discreta.\n",
    "<br><br>\n",
    "b) Há um estudante nesta sala que possui seu próprio computador.\n",
    "<br><br>\n",
    "c) Todo estudante nesta sala participou de pelo menos um curso de Bacharelado em Sistema da Informação.\n",
    "<br><br>\n",
    "d) Há um estudante nesta sala que participou de pelo menos um curso de Bacharelado em Sistemas da Informação.\n",
    "<br><br>\n",
    "e) Todo estudante nesta sala já esteve em todos os prédios do campus.\n",
    "<br><br>\n",
    "f) Há um estudante nesta sala esteve em todas as salas de pelo menos um prédio do campus."
   ]
  },
  {
   "cell_type": "markdown",
   "id": "16865b2f",
   "metadata": {},
   "source": [
    "#### Exemplo 7"
   ]
  },
  {
   "cell_type": "markdown",
   "id": "5b199928",
   "metadata": {},
   "source": [
    "Determine o valor-verdade de cada uma das proposições abaixo se o domínio para as variáveis são todos os números inteiros.\n",
    "<br><br>\n",
    "a) $\\forall n \\exists m (n^{2} < m)$ $\\,\\,\\,\\,\\,\\,\\,\\,\\,\\,\\,\\,\\,\\,\\,\\,\\,\\,\\,\\,\\,\\,\\,\\,\\,\\,\\,\\,$ e) $\\exists n \\exists m (n^{2} + m^{2} = 5)$\n",
    "<br><br>\n",
    "b) $\\exists n \\forall m (n^{2} < m)$ $\\,\\,\\,\\,\\,\\,\\,\\,\\,\\,\\,\\,\\,\\,\\,\\,\\,\\,\\,\\,\\,\\,\\,\\,\\,\\,\\,\\,\\,$ f) $\\exists n \\exists m (n^{2} + m^{2} = 6)$\n",
    "<br><br>\n",
    "c) $\\forall n \\exists m (n + m = 0)$ $\\,\\,\\,\\,\\,\\,\\,\\,\\,\\,\\,\\,\\,\\,\\,\\,\\,\\,\\,\\,\\,\\,$ g) $\\exists n \\exists m ((n+m = 4) \\wedge (n-m = 1))$ \n",
    "<br><br>\n",
    "d) $\\exists n \\forall m (nm = m)$ $\\,\\,\\,\\,\\,\\,\\,\\,\\,\\,\\,\\,\\,\\,\\,\\,\\,\\,\\,\\,\\,\\,\\,\\,\\,\\,\\,\\,$ h) $\\exists n \\exists m ((n+m = 4) \\wedge (n-m = 2))$"
   ]
  },
  {
   "cell_type": "markdown",
   "id": "14b26bce",
   "metadata": {},
   "source": [
    "## <div style=\"margin-top: -20px;\">\n",
    "<hr style=\"border: 2px solid black;\">\n",
    "\n",
    "<font color='black'><span style=\"font-size: 18px;\"><strong>Respostas</strong></span></font>\n",
    "\n",
    "<hr style=\"border: 2px solid black;\">\n",
    "</div>"
   ]
  },
  {
   "cell_type": "markdown",
   "id": "f486be50",
   "metadata": {},
   "source": [
    "#### Respostas do Exercício 1"
   ]
  },
  {
   "cell_type": "markdown",
   "id": "c13697cc",
   "metadata": {},
   "source": [
    "a) $V$, b) $V$, c) $F$, d) $V$, e) $F$"
   ]
  },
  {
   "cell_type": "markdown",
   "id": "bcd95a8d",
   "metadata": {},
   "source": [
    "#### Respostas do Exercício 2"
   ]
  },
  {
   "cell_type": "markdown",
   "id": "fd991371",
   "metadata": {},
   "source": [
    "a) Maria não andou de carro ou João andou de bicicleta. (ou apenas coloque \"Não é verdade\" antes da proposição.); b) O cachorro é bípede e o homem é inteligente; c) Saio de casa e chove; d) Saio de casa se, e somente se, não levo o guarda chuvas."
   ]
  },
  {
   "cell_type": "markdown",
   "id": "52fe8a5b",
   "metadata": {},
   "source": [
    "#### Respostas do Exercício 3"
   ]
  },
  {
   "cell_type": "markdown",
   "id": "1bd47cce",
   "metadata": {},
   "source": [
    "a) Falso, tome o contra-exemplo: $x = 0$ não está definido, b) Verdadeiro, c) Verdadeiro, $x = 2$ ou $x = -2$, d) Falso. O discriminante associado à equação do segundo grau da negativa. Portanto, as raízes da equação não são reais."
   ]
  },
  {
   "cell_type": "markdown",
   "id": "7f6905c7",
   "metadata": {},
   "source": [
    "#### Respostas do Exercício 4"
   ]
  },
  {
   "cell_type": "markdown",
   "id": "ceddd45b",
   "metadata": {},
   "source": [
    "a) Verdadeiro, b) Falso."
   ]
  },
  {
   "cell_type": "markdown",
   "id": "d62e59f7",
   "metadata": {},
   "source": [
    "#### Respostas do Exercício 5"
   ]
  },
  {
   "cell_type": "markdown",
   "id": "9625b20b",
   "metadata": {},
   "source": [
    "a) Existe homem que não é mortal; b) Existe homem que não bebe água e não bebe suco; c) Todo animal não é azul; d) Todo carro não é verde ou não é quadrado."
   ]
  },
  {
   "cell_type": "markdown",
   "id": "7a660ed7",
   "metadata": {},
   "source": [
    "#### Respostas do Exercício 6"
   ]
  },
  {
   "cell_type": "markdown",
   "id": "e3204175",
   "metadata": {},
   "source": [
    "a) $\\forall xP(x)$, em que $P(x)$ é \"x precisa de um curso de matemática discreta\" e o domínio consiste em todos os estudantes de Bacharelado e Sistema da Informação; b) $\\exists xP(x)$, em que $P(x)$ é \"$x$ possui seu próprio computador\" e o domínio consiste em todos os estudantes nesta sala; c) $\\forall x \\exists y P(x,y)$, em que $P(x,y)$ é \"$x$ participou do curso $y$\", o domínio para $y$ consiste em todos os cursos de Bacharelado em Sistema da Informação; d) $\\exists x \\exists y P(x,y)$, em que $P(x,y)$ e o domínio são os mesmo da parte (c); e) $\\forall x \\forall y P(x,y)$, em que $P(x,y)$ é \"$x$ já esteve em $y$\", o domínio para $x$ consiste em todos os prédios do campus; f) $\\exists x \\exists y \\forall z (P(z,y) \\rightarrow Q(x,z))$, em que $P(y,z)$ é \"$x$ está em $y$\" e que $Q(x,z)$ é \"$x$ já esteve em $z$\"\te o domínio para $x$ consiste em todos os estudantes na sala, para $y$ consiste em todos os prédios do campus e para $z$ todas as salas."
   ]
  },
  {
   "cell_type": "markdown",
   "id": "2b865236",
   "metadata": {},
   "source": [
    "#### Respostas do Exercício 7"
   ]
  },
  {
   "cell_type": "markdown",
   "id": "ab03b699",
   "metadata": {},
   "source": [
    "a) $V$, b) $F$, c) $V$, d) $V$, e) $V$, f) $F$, g) $F$, h) $V$"
   ]
  },
  {
   "cell_type": "markdown",
   "id": "8a40bfa4",
   "metadata": {},
   "source": [
    "# <div style=\"margin-top: -20px;\">\n",
    "<hr style=\"border: 2px solid black;\">\n",
    "\n",
    "<font color='black'><span style=\"font-size: 22px;\"><strong>4.5 Vídeo Aulas</strong></span></font>\n",
    "\n",
    "<hr style=\"border: 2px solid black;\">\n",
    "</div>"
   ]
  },
  {
   "cell_type": "markdown",
   "id": "eaf36a5a",
   "metadata": {},
   "source": [
    "Clicando nos links a seguir você será redirecionado às aulas referentes a este capítulo.\n",
    "\n",
    "[Tautologia, Contradição e Contingência](https://youtu.be/hnk-gfzkbh8)\n",
    "\n",
    "[Equivalência Lógica](https://youtu.be/kguvNUf3uZk)\n",
    "\n",
    "[Exemplo: Equivalência Lógica](https://youtu.be/kMVtUqzPZkk)\n",
    "\n",
    "[Exemplo: Negando Proposições Usando as Leis de De Morgan](https://youtu.be/unrqB-gmGow)\n",
    "\n",
    "[Lógica de Predicados](https://youtu.be/KHqe2wJbcYg)\n",
    "\n",
    "[Quantificador Universal](https://youtu.be/XYfv42a7KxY)\n",
    "\n",
    "[Quantificador Existencial](https://youtu.be/V7W8i3pDdfc)\n",
    "\n",
    "[Negação dos Quantificadores Universal e Existencial](https://youtu.be/WUVsaFbBI_E)\n",
    "\n",
    "[Quantificadores Lógicos Agrupados](https://youtu.be/KbGGNwnVgJA)"
   ]
  },
  {
   "cell_type": "markdown",
   "id": "5bfb4fa5",
   "metadata": {},
   "source": [
    "# <div style=\"margin-top: -20px;\">\n",
    "<hr style=\"border: 2px solid black;\">\n",
    "\n",
    "<font color='black'><span style=\"font-size: 22px;\"><strong>4.6 No Computador (Experimental)</strong></span></font>\n",
    "\n",
    "<hr style=\"border: 2px solid black;\">\n",
    "</div>"
   ]
  },
  {
   "cell_type": "code",
   "execution_count": 1,
   "id": "b14389c1",
   "metadata": {
    "ExecuteTime": {
     "end_time": "2023-07-17T20:15:50.378513Z",
     "start_time": "2023-07-17T20:15:44.755942Z"
    }
   },
   "outputs": [
    {
     "name": "stdout",
     "output_type": "stream",
     "text": [
      "Requirement already satisfied: truth-table-generator in d:\\ananconda\\lib\\site-packages (1.1.2)\n",
      "Requirement already satisfied: PTable in d:\\ananconda\\lib\\site-packages (from truth-table-generator) (0.9.2)\n",
      "Requirement already satisfied: tabulate in d:\\ananconda\\lib\\site-packages (from truth-table-generator) (0.8.10)\n",
      "Requirement already satisfied: pandas in d:\\ananconda\\lib\\site-packages (from truth-table-generator) (1.5.3)\n",
      "Requirement already satisfied: numpy in d:\\ananconda\\lib\\site-packages (from truth-table-generator) (1.23.5)\n",
      "Requirement already satisfied: pyparsing in d:\\ananconda\\lib\\site-packages (from truth-table-generator) (3.0.9)\n",
      "Requirement already satisfied: jinja2 in d:\\ananconda\\lib\\site-packages (from truth-table-generator) (3.1.2)\n",
      "Requirement already satisfied: MarkupSafe>=2.0 in d:\\ananconda\\lib\\site-packages (from jinja2->truth-table-generator) (2.1.1)\n",
      "Requirement already satisfied: pytz>=2020.1 in d:\\ananconda\\lib\\site-packages (from pandas->truth-table-generator) (2022.7)\n",
      "Requirement already satisfied: python-dateutil>=2.8.1 in d:\\ananconda\\lib\\site-packages (from pandas->truth-table-generator) (2.8.2)\n",
      "Requirement already satisfied: six>=1.5 in d:\\ananconda\\lib\\site-packages (from python-dateutil>=2.8.1->pandas->truth-table-generator) (1.16.0)\n"
     ]
    }
   ],
   "source": [
    "# Instalando o módulo truth-table-generator (instale somente uma vez neste documento)\n",
    "!pip install truth-table-generator"
   ]
  },
  {
   "cell_type": "markdown",
   "id": "1a9ffe46",
   "metadata": {},
   "source": [
    "#### Classificando uma proposição em Taltologia, Contradição ou Contingência"
   ]
  },
  {
   "cell_type": "markdown",
   "id": "ab25adfd",
   "metadata": {},
   "source": [
    "Podemos classificar uma proposição como tautologia, contradição ou contingência usando o método **.valuation()** do módulo truth-table-generator."
   ]
  },
  {
   "cell_type": "code",
   "execution_count": 2,
   "id": "3b2708e9",
   "metadata": {
    "ExecuteTime": {
     "end_time": "2023-07-17T20:15:51.010242Z",
     "start_time": "2023-07-17T20:15:50.380506Z"
    }
   },
   "outputs": [],
   "source": [
    "# Importando o módulo ttg (aplica-se a todas as células seguintes)\n",
    "import ttg"
   ]
  },
  {
   "cell_type": "code",
   "execution_count": 3,
   "id": "54d9d140",
   "metadata": {
    "ExecuteTime": {
     "end_time": "2023-07-17T20:15:51.036421Z",
     "start_time": "2023-07-17T20:15:51.010242Z"
    }
   },
   "outputs": [
    {
     "name": "stdout",
     "output_type": "stream",
     "text": [
      "+-----+-------------+\n",
      "|  p  |  p or (~p)  |\n",
      "|-----+-------------|\n",
      "|  1  |      1      |\n",
      "|  0  |      1      |\n",
      "+-----+-------------+\n",
      "Tautology\n"
     ]
    }
   ],
   "source": [
    "# Proposição 1\n",
    "prop1 = ttg.Truths(['p'],['p or (~p)'])\n",
    "\n",
    "# Classificação\n",
    "classificacao1 = prop1.valuation()\n",
    "\n",
    "# Impressão da tabela-verdade\n",
    "print(prop1)\n",
    "\n",
    "# Impressão da classificação\n",
    "print(classificacao1)"
   ]
  },
  {
   "cell_type": "code",
   "execution_count": 4,
   "id": "a41c4197",
   "metadata": {
    "ExecuteTime": {
     "end_time": "2023-07-17T20:15:51.071449Z",
     "start_time": "2023-07-17T20:15:51.039190Z"
    }
   },
   "outputs": [
    {
     "name": "stdout",
     "output_type": "stream",
     "text": [
      "+-----+--------------+\n",
      "|  p  |  p and (~p)  |\n",
      "|-----+--------------|\n",
      "|  1  |      0       |\n",
      "|  0  |      0       |\n",
      "+-----+--------------+\n",
      "Contradiction\n"
     ]
    }
   ],
   "source": [
    "# Proposição 2\n",
    "prop2 = ttg.Truths(['p'],['p and (~p)'])\n",
    "\n",
    "# Classificação\n",
    "classificacao2 = prop2.valuation()\n",
    "\n",
    "# Impressão da tabela-verdade\n",
    "print(prop2)\n",
    "\n",
    "# Impressão da classificação\n",
    "print(classificacao2)"
   ]
  },
  {
   "cell_type": "code",
   "execution_count": 5,
   "id": "25378094",
   "metadata": {
    "ExecuteTime": {
     "end_time": "2023-07-17T20:15:51.104945Z",
     "start_time": "2023-07-17T20:15:51.072744Z"
    }
   },
   "outputs": [
    {
     "name": "stdout",
     "output_type": "stream",
     "text": [
      "+-----+-----+----------+\n",
      "|  p  |  q  |  p => q  |\n",
      "|-----+-----+----------|\n",
      "|  1  |  1  |    1     |\n",
      "|  1  |  0  |    0     |\n",
      "|  0  |  1  |    1     |\n",
      "|  0  |  0  |    1     |\n",
      "+-----+-----+----------+\n",
      "Contingency\n"
     ]
    }
   ],
   "source": [
    "# Proposição 3\n",
    "prop3 = ttg.Truths(['p','q'],['p => q'])\n",
    "\n",
    "# Classificação\n",
    "classificacao3 = prop3.valuation()\n",
    "\n",
    "# Impressão da tabela verdade\n",
    "print(prop3)\n",
    "\n",
    "# Impressão da classificação\n",
    "print(classificacao3)"
   ]
  },
  {
   "cell_type": "markdown",
   "id": "f2dcf8f9",
   "metadata": {
    "ExecuteTime": {
     "end_time": "2023-07-17T12:08:40.426465Z",
     "start_time": "2023-07-17T12:08:40.421485Z"
    }
   },
   "source": [
    "#### Solução computacional do Exemplo 3: \"$(p \\rightarrow q) \\wedge (p \\rightarrow r) \\equiv p \\rightarrow (q \\wedge r)$\""
   ]
  },
  {
   "cell_type": "code",
   "execution_count": 6,
   "id": "12fb2709",
   "metadata": {
    "ExecuteTime": {
     "end_time": "2023-07-17T20:15:51.222725Z",
     "start_time": "2023-07-17T20:15:51.105993Z"
    }
   },
   "outputs": [
    {
     "name": "stdout",
     "output_type": "stream",
     "text": [
      "+-----+-----+-----+-----------------------------------------------+\n",
      "|  p  |  q  |  r  |  ((p => q) and (p => r)) = ( p => (q and r))  |\n",
      "|-----+-----+-----+-----------------------------------------------|\n",
      "|  1  |  1  |  1  |                       1                       |\n",
      "|  1  |  1  |  0  |                       1                       |\n",
      "|  1  |  0  |  1  |                       1                       |\n",
      "|  1  |  0  |  0  |                       1                       |\n",
      "|  0  |  1  |  1  |                       1                       |\n",
      "|  0  |  1  |  0  |                       1                       |\n",
      "|  0  |  0  |  1  |                       1                       |\n",
      "|  0  |  0  |  0  |                       1                       |\n",
      "+-----+-----+-----+-----------------------------------------------+\n",
      "\n",
      "Temos uma tautologia.\n"
     ]
    }
   ],
   "source": [
    "import ttg  # Importando o módulo ttg (Truth Table Generator)\n",
    "\n",
    "# Proposições\n",
    "prop_1 = '((p => q) and (p => r))'\n",
    "prop_2 = '( p => (q and r))'\n",
    "\n",
    "# Criação da tabela-verdade para as proposições\n",
    "prop = ttg.Truths(['p', 'q', 'r'], ['((p => q) and (p => r)) = ( p => (q and r))'])  \n",
    "\n",
    "# Classificação da tabela-verdade\n",
    "classificacao = prop.valuation()  \n",
    "\n",
    "# Impressão da tabela-verdade\n",
    "print(prop)  \n",
    "\n",
    "# Verificação da classificação\n",
    "if classificacao == \"Tautology\":\n",
    "    print('\\nTemos uma tautologia.')\n",
    "elif classificacao == \"Contradiction\":\n",
    "    print('\\nTemos uma contradição.')\n",
    "else:\n",
    "    print('\\nTemos uma contingência.')\n"
   ]
  },
  {
   "cell_type": "markdown",
   "id": "42d517df",
   "metadata": {},
   "source": [
    "#### Verificação de Existência ou Universalidade"
   ]
  },
  {
   "cell_type": "markdown",
   "id": "f676da82",
   "metadata": {},
   "source": [
    "Dado um conjunto podemos verificar a existência de um elemento satisfazendo determinada propriedade ou até mesmo se todo elemento do conjunto satisfaz tal propriedade. Podemos, por exemplo, se ao menos um elemento de um conjunto é par. Ou até mesmo se todo elemento é par. Para os códigos a seguir considere os conjuntos $A$, $B$ e $C$:"
   ]
  },
  {
   "cell_type": "code",
   "execution_count": 7,
   "id": "58e34984",
   "metadata": {
    "ExecuteTime": {
     "end_time": "2023-07-17T20:15:51.239320Z",
     "start_time": "2023-07-17T20:15:51.223610Z"
    }
   },
   "outputs": [],
   "source": [
    "# Conjuntos\n",
    "A = {1,2,3,4,5,6}\n",
    "B = {1,3,5,7,9}\n",
    "C = {2,4,6,8}"
   ]
  },
  {
   "cell_type": "markdown",
   "id": "687634ef",
   "metadata": {},
   "source": [
    "##### Verficando a existência de um número par"
   ]
  },
  {
   "cell_type": "code",
   "execution_count": 8,
   "id": "74fb3672",
   "metadata": {
    "ExecuteTime": {
     "end_time": "2023-07-17T20:15:55.737989Z",
     "start_time": "2023-07-17T20:15:51.240462Z"
    }
   },
   "outputs": [
    {
     "name": "stdout",
     "output_type": "stream",
     "text": [
      "Digite o conjunto (A, B, ou C): A\n",
      "\n",
      "Existe ao menos um número par em A. Por exemplo, 2 é par\n"
     ]
    }
   ],
   "source": [
    "# Entrada de dados\n",
    "conjunto = input(\"Digite o conjunto (A, B, ou C): \")\n",
    "\n",
    "# Variável para verificar se um número par foi encontrado\n",
    "encontrou_par = False\n",
    "\n",
    "# Percorrendo o conjunto\n",
    "for n in eval(conjunto):\n",
    "    # Verificando se um número é par\n",
    "    if n % 2 == 0:\n",
    "        encontrou_par = True\n",
    "        print(f'\\nExiste ao menos um número par em {conjunto}. Por exemplo, {n} é par')\n",
    "        break\n",
    "\n",
    "# Verificando se nenhum número par foi encontrado\n",
    "if not encontrou_par:\n",
    "    print(f'\\nNenhum elemento do conjunto {conjunto} é par.')"
   ]
  },
  {
   "cell_type": "markdown",
   "id": "3337a8ed",
   "metadata": {
    "ExecuteTime": {
     "end_time": "2023-07-17T11:51:48.660176Z",
     "start_time": "2023-07-17T11:51:48.655190Z"
    }
   },
   "source": [
    "##### Verificando a universalidade da propriedade ser número par"
   ]
  },
  {
   "cell_type": "code",
   "execution_count": 9,
   "id": "dfc19a15",
   "metadata": {
    "ExecuteTime": {
     "end_time": "2023-07-17T20:15:57.953550Z",
     "start_time": "2023-07-17T20:15:55.739671Z"
    }
   },
   "outputs": [
    {
     "name": "stdout",
     "output_type": "stream",
     "text": [
      "Digite o conjunto (A, B, ou C): A\n",
      "\n",
      "Existe ao menos um número que não é par em A. Por exemplo, 1 não é par.\n"
     ]
    }
   ],
   "source": [
    "# Entrada de dados\n",
    "conjunto = input(\"Digite o conjunto (A, B, ou C): \")\n",
    "\n",
    "# Variável para verificar se um número não par foi encontrado\n",
    "nao_par = False\n",
    "\n",
    "# Percorrendo o conjunto\n",
    "for n in eval(conjunto):\n",
    "    # Verificando se um número é par\n",
    "    if n % 2 != 0:\n",
    "        nao_par = True\n",
    "        print(f'\\nExiste ao menos um número que não é par em {conjunto}. Por exemplo, {n} não é par.')\n",
    "        break  # Para no primeiro par caso encontre\n",
    "\n",
    "# Verificando se nenhum número par foi encontrado\n",
    "if nao_par == False:\n",
    "    print(f'\\nTodo elemento de {conjunto} é par.')"
   ]
  },
  {
   "cell_type": "markdown",
   "id": "ab72c47c",
   "metadata": {},
   "source": [
    "**Observação**: É importante ressaltar que a verificação computacional de propriedades nem sempre é viável, especialmente quando estamos lidando com um conjunto infinito. Nesses casos, não é possível garantir a universalidade de uma propriedade. Além disso, em certas situações, a existência de pelo menos um elemento também pode ser impossível de determinar. Portanto, em tais casos, uma análise matemática pode ser necessária para obter conclusões mais sólidas."
   ]
  }
 ],
 "metadata": {
  "kernelspec": {
   "display_name": "Python 3 (ipykernel)",
   "language": "python",
   "name": "python3"
  },
  "language_info": {
   "codemirror_mode": {
    "name": "ipython",
    "version": 3
   },
   "file_extension": ".py",
   "mimetype": "text/x-python",
   "name": "python",
   "nbconvert_exporter": "python",
   "pygments_lexer": "ipython3",
   "version": "3.10.9"
  },
  "varInspector": {
   "cols": {
    "lenName": 16,
    "lenType": 16,
    "lenVar": 40
   },
   "kernels_config": {
    "python": {
     "delete_cmd_postfix": "",
     "delete_cmd_prefix": "del ",
     "library": "var_list.py",
     "varRefreshCmd": "print(var_dic_list())"
    },
    "r": {
     "delete_cmd_postfix": ") ",
     "delete_cmd_prefix": "rm(",
     "library": "var_list.r",
     "varRefreshCmd": "cat(var_dic_list()) "
    }
   },
   "types_to_exclude": [
    "module",
    "function",
    "builtin_function_or_method",
    "instance",
    "_Feature"
   ],
   "window_display": false
  }
 },
 "nbformat": 4,
 "nbformat_minor": 5
}
