{
 "cells": [
  {
   "cell_type": "markdown",
   "id": "d4ea28a8",
   "metadata": {
    "slideshow": {
     "slide_type": "slide"
    }
   },
   "source": [
    "<center> <img src=\"logo_ifba.jpg\" alt=\"jpg_python\" width=\"100\" height=\"200\"> </center>\n",
    "<br><br>\n",
    "<div align=\"center\"><span style=\"font-size: 26px;\"><strong>Cálculo Numérico <br></strong></span></div> <br>\n",
    "<center> <img src=\"python_gif.gif\" alt=\"gif_python\" width=\"80\"> </center>\n"
   ]
  },
  {
   "cell_type": "markdown",
   "id": "d76184a7",
   "metadata": {
    "slideshow": {
     "slide_type": "slide"
    }
   },
   "source": [
    "<div style=\"border: 2px solid black; padding: 10px; width: 95%; background-color: lightgray; display: flex; align-items: center;\">\n",
    "    <h1 style=\"color: red; text-align: center; margin: auto;\">\n",
    "        Capítulo 3: Método da Bissecção\n",
    "    </h1>\n",
    "</div>\n",
    "\n",
    "<font color='red'></font>\n",
    "<a href=\"\"></a>"
   ]
  },
  {
   "cell_type": "markdown",
   "id": "7142d16f",
   "metadata": {},
   "source": [
    "O método apresentado neste capítulo poderá nos fornecer boas respostas ao problema de se determinar soluções de equações em uma variável. Ele consiste em se obter uma certa função (função de ponto fixo) associada à equação que desejamos obter o zero."
   ]
  },
  {
   "cell_type": "markdown",
   "id": "c2831ccd",
   "metadata": {},
   "source": [
    "# <div style=\"margin-top: -20px;\">\n",
    "<hr style=\"border: 2px solid black;\">\n",
    "\n",
    "<font color='black'><span style=\"font-size: 22px;\"><strong>3.1 Ponto Fixo de Uma Função</strong></span></font>\n",
    "\n",
    "<hr style=\"border: 2px solid black;\">\n",
    "</div>"
   ]
  },
  {
   "cell_type": "markdown",
   "id": "7e0efa9d",
   "metadata": {},
   "source": [
    "#### <font color='red'> Definição 1</font>"
   ]
  },
  {
   "cell_type": "markdown",
   "id": "2e2c2043",
   "metadata": {},
   "source": [
    "<font color='red'> Um número $p$ é um ponto fixo para uma função $g$ se $g(p) = p$."
   ]
  },
  {
   "cell_type": "markdown",
   "id": "4cc49993",
   "metadata": {},
   "source": [
    "#### <font color='blue'> Exemplo 1 </font>"
   ]
  },
  {
   "cell_type": "markdown",
   "id": "a78af8f0",
   "metadata": {},
   "source": [
    "<font color='blue'> Os pontos fixos da função $g(x) = x^{2} - 2$, para $-2 \\leq x \\leq 3$ sã $x = -1$ e $x = 2$, uma vez que $g(-1) = -1$ e $g(2) = 2$."
   ]
  },
  {
   "cell_type": "markdown",
   "id": "f87afaeb",
   "metadata": {},
   "source": [
    "#### Observação 1"
   ]
  },
  {
   "cell_type": "markdown",
   "id": "1764611a",
   "metadata": {},
   "source": [
    "Dizer que uma função $g$ tem um ponto fixo em $p$ é o mesmo que dizer que o gráfico de $f$ intersecta o gráfico da função identidade $I(x) = x$. Considerando a função $g(x) = x^{2} - 2$, para $-2 \\leq x \\leq 3$ dada no **Exemplo 1**, temos a seguinte interpretação gráfica:\n",
    "<center> <img src=\"fig3-1.jpg\" alt=\"jpg_python\" width=\"300\" height=\"\"> </center>"
   ]
  },
  {
   "cell_type": "markdown",
   "id": "008266bd",
   "metadata": {},
   "source": [
    "#### <font color='red'> Teorema 1</font>"
   ]
  },
  {
   "cell_type": "markdown",
   "id": "78bd1baa",
   "metadata": {},
   "source": [
    "<font color='red'> a) Se $g$ é contínua em $[a, b]$ e $g(x) \\in [a, b]$, para todo $x \\in [a, b]$, ent\\~ao $g$ tem um ponto fixo em $[a, b]$.<br><br>\n",
    " b) Se, adicionalmente, $g$ é diferenciável em $(a, b)$  e existe uma constante positiva $k < 1$ tal que $|g'(x)| \\leq k$, para todo $x\\in (a, b)$, então o ponto fixo, em $[a,b]$, é único."
   ]
  },
  {
   "cell_type": "markdown",
   "id": "f83c949f",
   "metadata": {},
   "source": [
    "##### <font color='red'> Demonstração</font>"
   ]
  },
  {
   "cell_type": "markdown",
   "id": "f5ceb9a3",
   "metadata": {},
   "source": [
    "<font color='red'> a) Se $g(a) = a$ ou $g(b) = b$ acabou. Do contrário, $g(a) > a$ e $g(b) < b$. Note que a função $h(x) = g(x) - x$ é contínua em $[a, b]$ com $h(a) = g(a) - a > 0$, $h(b) = g(b) - b < 0$. Logo, pelo Teorema do Valor Intermediário existe $p \\in (a, b)$ tal que $h(p) = 0$, isto é,<br><br>\n",
    "$$g(p) - p = 0 \\Rightarrow g(p) = p.$$<br><br>\n",
    " b) Suponha que $|g'(x)| \\leq k < 1$ e $p$, $q$ pontos fixos em $[a, b]$. Se $p \\neq q$, o Teorema do Valor Médio assegura que existe $\\xi$ entre $p$ e $q$ tal que $g'(\\xi) = \\frac{g(p) - g(q)}{p - q}$. Logo,<br><br>\n",
    " $$|p - q| = |g(p) - g(q)| = g'(\\xi)|p - q| \\leq k|p - q| < |p - q|,$$<br>\n",
    " o que é uma contradição. Assim, $p = q$."
   ]
  },
  {
   "cell_type": "markdown",
   "id": "3ea9030a",
   "metadata": {},
   "source": [
    "#### <font color='blue'> Exemplo 2</font>"
   ]
  },
  {
   "cell_type": "markdown",
   "id": "4fcc031d",
   "metadata": {},
   "source": [
    "<font color='blue'> Seja $g(x) = \\frac{x^{2} - 1}{3}$ em $[-1, 1]$. Tracemos o gráfico de $g$.<br><br>\n",
    " <center> <img src=\"fig3-2.jpg\" alt=\"jpg_python\" width=\"300\" height=\"\"> </center><br>\n",
    " Percebe-se que $g(x) \\in [-1, 1]$. Além disso, $g$ é contínua em $[-1, 1]$ e $|g'(x)| = |\\frac{2x}{3}| \\leq \\frac{2}{3} < 1$ para todo $x \\in (-1,1)$. Logo, o **Teorema 1** assegura que $g$ possui um único ponto fixo em $[-1, 1]$."
   ]
  },
  {
   "cell_type": "markdown",
   "id": "88f94597",
   "metadata": {},
   "source": [
    "# <div style=\"margin-top: -20px;\">\n",
    "<hr style=\"border: 2px solid black;\">\n",
    "\n",
    "<font color='black'><span style=\"font-size: 22px;\"><strong>3.2 Método do Ponto Fixo</strong></span></font>\n",
    "\n",
    "<hr style=\"border: 2px solid black;\">\n",
    "</div>"
   ]
  },
  {
   "cell_type": "markdown",
   "id": "f90b7755",
   "metadata": {},
   "source": [
    "Para obter o valor aproximado do ponto fixo de uma função $g$, escolhemos uma aproximação inicial $p_{0}$ e geramos a sequ\\^encia $(p_{n})$ fazendo $p_{n} = g(p_{n-1})$ para cada $n \\geq 1$. Se a sequ\\^encia converge para $p$ e $g$ é contínua, então\n",
    "\n",
    "$$p = lim_{n \\rightarrow \\infty} p_{n} = lim_{n \\rightarrow \\infty} g(p_{n-1}) = g(lim_{n \\rightarrow \\infty} p_{n-1}) = g(p),$$\n",
    "\n",
    "e obtemos a suolução para $x = g(x)$."
   ]
  },
  {
   "cell_type": "markdown",
   "id": "e1da1748",
   "metadata": {},
   "source": [
    "Dada uma função $f(x)$ a qual buscamos algum zero por meio do Método do Ponto Fixo, devemos obter a função auxiliar $g(x) = x$. Ela é normalmente obtida fazendo-se $f(x) = 0$ e por meio de manipulação algébrica desta última equação chegaremos a $g(x) = x$, tal que $g(x)$ satisfça as hipóteses descritas no **Teorema 1**.\n"
   ]
  },
  {
   "cell_type": "markdown",
   "id": "1fb4612b",
   "metadata": {},
   "source": [
    "#### <font color='blue'> Exemplo 3</font>"
   ]
  },
  {
   "cell_type": "markdown",
   "id": "84f566e4",
   "metadata": {},
   "source": [
    "<font color='blue'>Seja $f(x) = x^{3} - 31x + 1$, no intervalo $[0, 2]$. Utilizemos o M\\'etodo da Iteração Linear, para encontrar uma solução $p$ para $f(x)$ com precisão de $10^{-3}$ e chute inicial $p_{0} = 1$."
   ]
  },
  {
   "cell_type": "markdown",
   "id": "9c17c7da",
   "metadata": {},
   "source": [
    "##### <font color='blue'> Solução</font>"
   ]
  },
  {
   "cell_type": "markdown",
   "id": "6c214aee",
   "metadata": {},
   "source": [
    "<font color='blue'> Uma possível escolha para a função $g(x)$ pode ser obtida da seguinte forma:<br><br>\n",
    " $$x^{3} - 31x + 1 = 0 \\Leftrightarrow x^{3} - x - 30x + 1 = 0 \\Leftrightarrow 30x = x^{3} - x + 1 \\Leftrightarrow x = \\frac{x^{3} - x + 1}{30}.$$<br>\n",
    " Logo, $g(x) = \\frac{x^{3} - x + 1}{30}$. Aplicando as iterações, temos:<br><br>\n",
    " $$\\begin{array}{ccc}\n",
    "n    & g(p_{n})   \t\t& \\delta_{n}    \t\\\\\n",
    "1    & 3.333333333333333e-02    & 0.966666666666667  \t\t\\\\\n",
    "2    & 3.222345679012346e-02 \t& 1.109876543209876e-03    \t\\\\\n",
    "3    & 3.226033341579519e-02 \t& 3.687662567172789e-05   \t\\\\\n",
    "\\end{array}$$<br>\n",
    " Logo, a solução é $p_{3} = 3.226033341579519e-02$."
   ]
  },
  {
   "cell_type": "markdown",
   "id": "38e5c25b",
   "metadata": {},
   "source": [
    "#### <font color='blue'> Exemplo 4</font>"
   ]
  },
  {
   "cell_type": "markdown",
   "id": "57655dd1",
   "metadata": {},
   "source": [
    "<font color='blue'> A equação $x^{3} + 4x^{2} -10 = 0$ tem uma única raiz no intervalo $[1, 2]$. Por meio de manipulação algébrica, podemos obter várias equações para a forma de ponto fixo $x = g(x)$ conforme apresentamos a seguir (o leitor deve verificar):<br><br>\n",
    " a) $x = g_{1}(x) = x - x^{3} - 4x^{2} + 10$; $ \\ \\ \\ \\ $ b) $x = g_{2}(x) =  \\left( \\frac{10}{x} - 4x \\right)^{1/2} $; $ \\ \\ \\ \\ $ c) $x = g_{3}(x) = \\frac{1}{2} \\left( 10 - x^{3} \\right)^{1/2}$; $ \\ \\ \\ \\ $<br><br>\n",
    " d) $x = g_{4}(x) = \\left( \\frac{10}{4 + x} \\right)^{1/2}$; $ \\ \\ \\ \\ $ e) $x = g_{5}(x) = x - \\frac{x^{3} + 4x^{2} - 10}{3x^{2} + 8x}$.<br><br>\n",
    " Surge então uma pergunta: Será que existe uma melhor escolha para a função auxiliar $g(x)$? Se sim, qual das funções obtidas deve ser escolhida? A tabela a seguir nos responde esta pergunta:<br><br>\n",
    " $$\\begin{array}{cccccc}\n",
    "n    \t& (a)   \t\t& (b)   \t\t& (c)\t\t\t& (d)\t\t\t& (e) \t\t\t\\\\\n",
    "0    \t& 1.5   \t\t& 1.5   \t\t& 1.5\t\t\t& 1.5\t\t\t& 1.5 \t\t\t\\\\\n",
    "3    \t& -469.7200120016932   \t\t& (-8.65)^{1/2}\t&  1.345458374023294 & 1.364957015402487\t& 1.365230013916147\t\\\\\n",
    "4    \t& 102754555.1873851\t&    \t\t\t& 1.375170252816038\t& 1.365264748113442\t& 1.365230013414097\t\\\\\n",
    "15    \t& \t\t\t\t&    \t\t\t& 1.365223680225282\t& 1.365230013414092 \t&  \t\t\t\t\\\\\n",
    "30    \t& \t\t\t\t&    \t\t\t& 1.365230013689632\t& \t\t\t\t& \t\t\t\t\\\\\n",
    "\\end{array}$$"
   ]
  },
  {
   "cell_type": "markdown",
   "id": "ebdea949",
   "metadata": {},
   "source": [
    "# <div style=\"margin-top: -20px;\">\n",
    "<hr style=\"border: 2px solid black;\">\n",
    "\n",
    "<font color='black'><span style=\"font-size: 22px;\"><strong>3.3 Convergência do Método do Ponto Fixo</strong></span></font>\n",
    "\n",
    "<hr style=\"border: 2px solid black;\">\n",
    "</div>"
   ]
  },
  {
   "cell_type": "markdown",
   "id": "c6361f22",
   "metadata": {},
   "source": [
    "Apresentaremos a seguir condições que asseguram a convergência do método do ponto fixo. Para tando, faremos uso de um importante teorema do Cálculo Diferencial, o Teorema do Valor Médio (TVM)."
   ]
  },
  {
   "cell_type": "markdown",
   "id": "b28e285e",
   "metadata": {},
   "source": [
    "O Teorema do Valor Médio estabelece que:\n",
    "\n",
    "<font color='red'> Seja $f$ uma função que satisfaça as seguintes hipóteses:<br><br>\n",
    "    1. $f$ é contínua no intervalo fechado $[a,b]$.<br><br>\n",
    "    2. $f$ é diferenciável no intervalo aberto $(a,b)$.<br><br>\n",
    " Então existe um número $c$ em $(a,b)$ tal que<br><br>\n",
    " $$f'(c) = \\frac{f(b)-f(a)}{b-a}.$$<br><br>\n",
    " *Para mais detalhes, consultar [8], pg. 291.*"
   ]
  },
  {
   "cell_type": "markdown",
   "id": "e840fc94",
   "metadata": {},
   "source": [
    "#### <font color='red'> Teorema 2</font>"
   ]
  },
  {
   "cell_type": "markdown",
   "id": "eda33fb6",
   "metadata": {},
   "source": [
    "<font color='red'> Seja $g$ uma função contínua em $[a, b]$ e $g(x) \\in [a, b]$ para todo $x \\in [a, b]$. Suponha, adicionalmente, que $g'$ exista em $(a, b)$ e que uma constante $0 < k < 1$ exista, com $|g'(x)| < k$, para todo $x \\in (a, b)$. Então, para qualquer número $p_{0} \\in [a, b]$, a sequência definida por $p_{n} = g(p_{n-1})$, para $n \\geq 1$ converge para o ponto fixo único $p \\in [a, b]$.\n"
   ]
  },
  {
   "cell_type": "markdown",
   "id": "0eaec4e4",
   "metadata": {},
   "source": [
    "##### <font color='red'> Demonstração</font>"
   ]
  },
  {
   "cell_type": "markdown",
   "id": "aae9a08f",
   "metadata": {},
   "source": [
    "<font color='red'>Decorre do **Teorema 1** que existe um único $p$ em $[a,b]$ tal que $g(p) = p$. Uma vez que $g$ leva $[a,b]$ nele mesmo, a sequência $\\{p_{n}\\}^{\\infty}_{n=0}$ é tal que $p_{n} \\in [a,b]$ para todo $n \\geq 0$. Usando o Teorema do Valor Médio e o fato que $|g'(x)| \\leq k$, temos, para cada $n$,<br><br>\n",
    " $$|p_{n} - p| = |g(p_{n}) - g(p)| = |g'(\\xi_{n})||p_{n-1} - p| \\leq k|p_{n-1}-p|,$$<br>\n",
    " com $\\xi_{n} \\in (a,b)$. Procedendo indutivamente, temos:<br><br>\n",
    " $$|p_{n}-p| \\leq k|p_{n-1}-p| \\leq k^{2}|p_{n-2}-p| \\leq \\cdots \\leq k^{n}|p_{0}-p|.$$<br>\n",
    " Como $0 < k < 1$, temos que $lim_{n \\rightarrow \\infty} k^{n}|p_{0} - p| = 0$. Por fim, temos<br><br>\n",
    " $$lim_{n \\rightarrow \\infty} |p_{n} - p| \\leq lim_{n \\rightarrow \\infty} k^{n}|p_{0} - p| = 0.$$<br>\n",
    " Logo, $\\{p_{n}\\}^{\\infty}_{n=0}$ converge para $p$."
   ]
  },
  {
   "cell_type": "markdown",
   "id": "cf0f0e58",
   "metadata": {},
   "source": [
    "#### <font color='blue'> Exemplo 5</font>"
   ]
  },
  {
   "cell_type": "markdown",
   "id": "903e4d6e",
   "metadata": {},
   "source": [
    "<font color='blue'> Analisando mais cuidadosamente o **Exemplo 3**, temos que a função $g(x) = \\frac{x^{3} - x + 1}{30}$ é tal que<br><br>\n",
    " i) $f([0,2]) \\subset [0,2]$. Consegue ver isto? Senão, veja a **Observação 2**.<br><br>\n",
    " ii) A parcela $3x^{2} - 1$, aplicada ao intervalo $[0,2]$ tem imagem dada por $[-1,11]$ e portanto, $|g'(x)| \\leq \\frac{11}{30} < 1$.<br><br>\n",
    " Decorre dos itens i) e ii) que a sequência obtida no **Exemplo 3** é de fato convergente."
   ]
  },
  {
   "cell_type": "markdown",
   "id": "1a6491af",
   "metadata": {},
   "source": [
    "#### Observação 2"
   ]
  },
  {
   "cell_type": "markdown",
   "id": "832699d6",
   "metadata": {},
   "source": [
    "Em geral, obter limitantes para uma função em certo intervalo é algo bastante trabalhoso quando esta é um polinômio de grau superior a $2$ ou até mesmo outras funções não polinomiais. O que fazer neste caso? No **Exemplo 3** poderíamos ter usado o Cálculo Diferencial para obtermos um esboço do gráfico de $f$. Porém, essa ferramenta não se mostra muito útil para polinômios de graus superiores a $2$. Neste caso, como só queremos estudar os limitantes podemos recorrer a um software de esboço gráfico para verificarmos as condições i) e ii) (não se esqueça da continuidade e da diferenciabilidade de $g$). A figura a seguir ilustra bem a situação:<br><br>\n",
    "\n",
    "<center> <img src=\"fig3-3.jpg\" alt=\"jpg_python\" width=\"600\" height=\"\"> </center>"
   ]
  },
  {
   "cell_type": "markdown",
   "id": "5c51dcb3",
   "metadata": {},
   "source": [
    "#### <font color='red'> Teorema 3</font>"
   ]
  },
  {
   "cell_type": "markdown",
   "id": "9a746105",
   "metadata": {},
   "source": [
    "<font color='red'> Se $g$ satisfizer as hipóteses do **Teorema 2**, então limitantes para o erro envolvido na utilização de $p_{n}$ para a aproximação de $p$ são dados por<br><br>\n",
    " $$|p_{n} - p| \\leq k^{n}\\{p_{0}-a,b-p_{0}\\}$$<br>\n",
    " e<br>\n",
    " $$|p_{n} - p| \\leq \\frac{k^{n}}{1-k}|p_{1}-p_{0}|, n \\leq 1.$$\n"
   ]
  },
  {
   "cell_type": "markdown",
   "id": "68ed49bf",
   "metadata": {},
   "source": [
    "##### <font color='red'> Demonstração</font>"
   ]
  },
  {
   "cell_type": "markdown",
   "id": "739d9cf6",
   "metadata": {},
   "source": [
    "<font color='red'>Siga a mesma linha do **Teorema 2**. A demonstração pode ser encontrada $([1],pg. \\, 66-67)$."
   ]
  },
  {
   "cell_type": "markdown",
   "id": "b64dd2cb",
   "metadata": {},
   "source": [
    "#### Observação 3"
   ]
  },
  {
   "cell_type": "markdown",
   "id": "96c0c4aa",
   "metadata": {},
   "source": [
    "Conforme mencionado na **Observação 2**, em muitos casos o uso do Cálculo Diferencial ou de outras ferramentas algébricas se mostram complicadas demais quando se quer buscar limitantes para uma função. Considerando o **Exemplo 5** e sua interpretação gráfica, dada na **Observação 2**, uma estimativa visual para $k$, seria algo em torno de $0.4$ (Sempre estimamos para mais! O valor ideal para o erro ótimo máximo é $k = \\frac{11}{30}$ ). O admitir $k=0.4$ de fato não é a melhor escolha, mas ela poderia nos ajudar caso queiramos uma estimativa para o erro para prosseguirmos com o método (pelo menos é menor que $0<k<1$). Aplicando o **Teorema 3** (primeira estimativa usando $a, b$ e $p_{0}$) juntamente com os valores $\\delta_{n}$ obtidos no **Exemplo 3**, temos:\n",
    "\n",
    "$$\\begin{array}{cccccccc}\n",
    "n  & k = 0.4  &    &   &k = \\frac{11}{30} \t& &\t& \\delta_{n} \t\\\\\n",
    "1  & 0.4\t  &\\geq&   & 0.366666666666667\t\t&*&\t& 0.966666666666667\\\\\n",
    "2  & 0.16\t  &\\geq&   & 0.134444444444444\t    &\\geq& & 1.109876543209876e-03    \t\\\\\n",
    "3  & 0.064\t  &\\geq&   & 4.929629629629628e-02\t\t&\\geq& & 3.687662567172789e-05   \t\\\\\n",
    "\\end{array}$$\n",
    "\n",
    "Exceto pelo primeiro valor de $\\delta_{n}$ (n=1), temos que erro obtido em cada etapa é menor que as estimativas ótima (melhor das maiores!) e visual (sempre estimada para mais em relação à ótima, que, no caso de um gráfico não temos como precisar exatamente)."
   ]
  },
  {
   "cell_type": "markdown",
   "id": "e67af6aa",
   "metadata": {},
   "source": [
    "As **Observações 2** e **3** podem ser tomadas de modo genérico na maior parte da disciplina. De modo geral, quando a estimativa ótima do erro máximo não pode ser obtida partimos para a estimativa visual. Tais estimativas nos ajudarão a saber em qual passo $n$ o método produziria uma solução em conformidade com a tolerância $\\delta$ exigida antes da aplicação do mesmo (mais ou menos como ocorrido no **Exemplo 2** (Cap. 2)."
   ]
  },
  {
   "cell_type": "markdown",
   "id": "d5df6203",
   "metadata": {},
   "source": [
    "# <div style=\"margin-top: -20px;\">\n",
    "<hr style=\"border: 2px solid black;\">\n",
    "\n",
    "<font color='black'><span style=\"font-size: 22px;\"><strong>3.4 Implementações</strong></span></font>\n",
    "\n",
    "<hr style=\"border: 2px solid black;\">\n",
    "</div>"
   ]
  },
  {
   "cell_type": "markdown",
   "id": "d26d522b",
   "metadata": {},
   "source": [
    "#### <font color='darkpurple'> Algoritmo: Método do Ponto Fixo</font>"
   ]
  },
  {
   "cell_type": "markdown",
   "id": "c53d4381",
   "metadata": {},
   "source": [
    "<font color='darkpurple'> Para determinar uma solução de $g(x) = x$ a partir de uma aproximação inicial $p_{0}$<br><br>\n",
    " **ENTRADAS:** aproximação inicial $p_{0}$; tolerância $TOL$; número máximo de iterações $N$.<br><br>\n",
    " **SAÍDA:** solução aproximada $p$ ou mensagem de erro<br><br>\n",
    "    **Passo 1:** Faça $i = 1$;<br><br>\n",
    "    $\\ \\ \\ $ $fa = f(a)$;<br><br>\n",
    "    **Passo 2:** Enquanto $i \\leq N$, execute os Passos 3 a 6;<br><br>\n",
    "    $\\ \\ \\ $ **Passo 3:** Faça $p = g(p_{0})$;<br><br>\n",
    "    $\\ \\ \\ $ **Passo 4:** Se $|p - p_{0}| < TOL$, então<br><br>\n",
    "    $\\ \\ \\ \\ \\ \\ \\ \\ \\ $ *SAÍDA* $p$; (\"Peocedimento concluído com sucesso.\");<br><br>\n",
    "    $\\ \\ \\ \\ \\ \\ \\ \\ \\ $ *PARE*<br><br>\n",
    "    $\\ \\ \\ $ **Passo 5:** Faça $i = i + 1$<br><br>\n",
    "    $\\ \\ \\ $ **Passo 6:** Faça $p_{0} = p$;<br><br>\n",
    "    **Passo 7:** *SAÍDA* (\"O método falhou após $N$ iterações\")<br><br>\n",
    "    $\\ \\ \\ \\ \\ \\ \\ \\ \\ $ *PARE*"
   ]
  },
  {
   "cell_type": "markdown",
   "id": "37ab2382",
   "metadata": {},
   "source": [
    "#### <font color='darkblue'> Código Python: Método do Ponto Fixo</font>"
   ]
  },
  {
   "cell_type": "code",
   "execution_count": 2,
   "id": "6c1426f3",
   "metadata": {
    "ExecuteTime": {
     "end_time": "2024-01-06T14:33:11.303882Z",
     "start_time": "2024-01-06T14:33:11.182353Z"
    }
   },
   "outputs": [],
   "source": [
    "from numpy import*\n",
    "\n",
    "def mpf(g, p0, tol,n):\n",
    "\n",
    "        p0 = float(p0)\n",
    "        tol = float(tol)\n",
    "        n = int(n)\n",
    "\n",
    "        G = lambda x: eval(g)\n",
    "        i = 0\n",
    "        delta = float('inf')\n",
    "        print(f'A tabela a seguir mostra as iterações e o erro:')\n",
    "        print('n          pn                 en')\n",
    "        while tol < delta:\n",
    "            if i == n:\n",
    "                print('O método atingiu a quantidade máxima de iterações.')\n",
    "                break\n",
    "            p = G(p0)\n",
    "            i = i + 1\n",
    "            delta = abs(p0 - p)\n",
    "            print(f'%0.0f   %0.13f    %0.13f' % (i, p, delta))\n",
    "            p0=p\n",
    "        return print(f'Resultado: {p}\\n')"
   ]
  },
  {
   "cell_type": "code",
   "execution_count": 3,
   "id": "3b76ec70",
   "metadata": {
    "ExecuteTime": {
     "end_time": "2024-01-06T14:33:12.723935Z",
     "start_time": "2024-01-06T14:33:12.718273Z"
    }
   },
   "outputs": [
    {
     "name": "stdout",
     "output_type": "stream",
     "text": [
      "A tabela a seguir mostra as iterações e o erro:\n",
      "n          pn                 en\n",
      "1   0.0333333333333    0.9666666666667\n",
      "2   0.0322234567901    0.0011098765432\n",
      "3   0.0322603334158    0.0000368766257\n",
      "Resultado: 0.032260333415795185\n",
      "\n"
     ]
    }
   ],
   "source": [
    "# Exemplo de uso\n",
    "mpf('(x**3-x+1)/30',1,0.001,10)"
   ]
  },
  {
   "cell_type": "markdown",
   "id": "9c1c8ab8",
   "metadata": {},
   "source": [
    "#### Observação 4"
   ]
  },
  {
   "cell_type": "markdown",
   "id": "e6795416",
   "metadata": {},
   "source": [
    "A aplicação do método do ponto fixo para a obtenção de um função de ponto fixo $g$ obtida a partir de uma outra função $f$ apresenta certa dificuldade: *Obter a função de ponto fixo $g$ associada a uma função $f$*. Esta é uma tarefa que pode não ser tão simples, uma vez que, $g$ deve está em acordo com as hipóteses do **Teorema 1**, em especial a parte que cabe ao item \"b\" a qual exige que $|g'(x)|\\leq k$, $k<1$. Uma dica é praticar bastante. Contudo, não há somente uma função de ponto fixo como vimos no **Exemplo 4** o que já é algo bom, pois aumenta nossas chances de encontrar uma função que satisfaz as hipóteses desejadas. Porém, algumas funções de ponto fixo são melhores que outras por apresentarem uma convergência mais acelerada. O **Teorema 3** pode nos ajudar a escolher a melhor delas. Em caso de dúvida, consulte o professor."
   ]
  },
  {
   "cell_type": "markdown",
   "id": "befa51e3",
   "metadata": {},
   "source": [
    "# <div style=\"margin-top: -20px;\">\n",
    "<hr style=\"border: 2px solid black;\">\n",
    "\n",
    "<font color='black'><span style=\"font-size: 22px;\"><strong>Exercícios</strong></span></font>\n",
    "\n",
    "<hr style=\"border: 2px solid black;\">\n",
    "</div>"
   ]
  },
  {
   "cell_type": "markdown",
   "id": "ff024579",
   "metadata": {},
   "source": [
    "#### Execício 1"
   ]
  },
  {
   "cell_type": "markdown",
   "id": "6095e06a",
   "metadata": {},
   "source": [
    "Utilize manipulações algébricas para mostrar que cada uma das funções a seguir tem um ponto fixo em $p$ precisamente quando $f(p) = 0$, para $f(x) = x^{4} + 2x^{2} - x + 3$.\n",
    "\n",
    "a) $g_{1}(x) = (3 + x - 2x^{2})^{1/4}$;\n",
    "\n",
    "b) $g_{2}(x) = \\left( \\frac{x + 3 - x^{4}}{2} \\right)^{1/2}$;\n",
    "\n",
    "c) $g_{3}(x) = \\left( \\frac{x + 3}{x^{2} + 2} \\right)^{1/2}$."
   ]
  },
  {
   "cell_type": "markdown",
   "id": "f460e39a",
   "metadata": {},
   "source": [
    "#### Execício 2"
   ]
  },
  {
   "cell_type": "markdown",
   "id": "ce53f183",
   "metadata": {},
   "source": [
    "As quatro fórmulas a seguir são propostas para se calcular $21^{1/3}$. Ordene-os, com base na velocidade aparente de convergência, assumindo $p_{0} = 1$.\n",
    "\n",
    "a) $p_{n} = \\frac{20p_{n-1} + 21/p_{n-1}^{2}}{21}$;\n",
    "\n",
    "b) $p_{n} = p_{n-1} - \\frac{p_{n-1}^{3} - 21}{3p_{n-1}^{2}}$;\n",
    "\n",
    "c) $p_{n} = p_{n-1} - \\frac{p_{n-1}^{4} - 21p_{n-1}}{p_{n-1}^{2} - 21}$;\n",
    "\n",
    "d) $p_{n} = \\left( \\frac{21}{p_{n-1}} \\right)^{1/2}$."
   ]
  },
  {
   "cell_type": "markdown",
   "id": "50482ed2",
   "metadata": {},
   "source": [
    "#### Execício 3"
   ]
  },
  {
   "cell_type": "markdown",
   "id": "00c693a3",
   "metadata": {},
   "source": [
    "Utilize o método de iteração do ponto fixo para determinar uma solução com precisão de $10^{-2}$ para $x^{4} - 3x^{2} - 3 = 0$."
   ]
  },
  {
   "cell_type": "markdown",
   "id": "066fef81",
   "metadata": {},
   "source": [
    "#### Execício 4"
   ]
  },
  {
   "cell_type": "markdown",
   "id": "9093ac65",
   "metadata": {},
   "source": [
    "Utilize o método de iteração de ponto fixo para encontrar  uma aproximação para $\\sqrt{3}$ com precisão de $10^{-4}$."
   ]
  },
  {
   "cell_type": "markdown",
   "id": "bf7def88",
   "metadata": {},
   "source": [
    "# <div style=\"margin-top: -20px;\">\n",
    "<hr style=\"border: 2px solid black;\">\n",
    "\n",
    "<font color='black'><span style=\"font-size: 22px;\"><strong>Respostas dos Exercícios</strong></span></font>\n",
    "\n",
    "<hr style=\"border: 2px solid black;\">\n",
    "</div>"
   ]
  },
  {
   "cell_type": "markdown",
   "id": "fd0f79d7",
   "metadata": {},
   "source": [
    "#### Resposta do Exercício 1"
   ]
  },
  {
   "cell_type": "markdown",
   "id": "600659c3",
   "metadata": {},
   "source": [
    "Tente até conseguir. \n",
    "\n",
    "*Dica: Tente o caminho inverso e depois arrume. Se não conseguir, consulte o professor!*"
   ]
  },
  {
   "cell_type": "markdown",
   "id": "31c0b83b",
   "metadata": {},
   "source": [
    "#### Resposta do Exercício 2"
   ]
  },
  {
   "cell_type": "markdown",
   "id": "f75dac22",
   "metadata": {},
   "source": [
    "A ordem, por velocidade de convergência descendente, é $(b)$, $(d)$, $(a)$. A sequência em $(c)$ não converge."
   ]
  },
  {
   "cell_type": "markdown",
   "id": "ab248173",
   "metadata": {},
   "source": [
    "#### Resposta do Exercício 3"
   ]
  },
  {
   "cell_type": "markdown",
   "id": "79f63edd",
   "metadata": {},
   "source": [
    "Considerando $g(x) = (3x^{2} + 3)^{1/4}$ e $p_{0} = 1$ obtemos  $p_{6} = 1.943316929898677$ e $\\delta_{6} = 5.809389941249465e-03$."
   ]
  },
  {
   "cell_type": "markdown",
   "id": "79835e02",
   "metadata": {},
   "source": [
    "#### Resposta do Exercício 4"
   ]
  },
  {
   "cell_type": "markdown",
   "id": "728ee440",
   "metadata": {},
   "source": [
    "Considerando $g(x) = \\frac{1}{2}(x + \\frac{3}{x})$ e $p_{0} = 1$ obtemos $p_{4} = 1.732050810014727$ e $\\delta_{4} = 9.204712812982407e-05$."
   ]
  },
  {
   "cell_type": "markdown",
   "id": "bb844f24",
   "metadata": {},
   "source": [
    "# <div style=\"margin-top: -20px;\">\n",
    "<hr style=\"border: 2px solid black;\">\n",
    "\n",
    "<font color='black'><span style=\"font-size: 22px;\"><strong>Vídeo Aulas</strong></span></font>\n",
    "\n",
    "<hr style=\"border: 2px solid black;\">\n",
    "</div>"
   ]
  },
  {
   "cell_type": "markdown",
   "id": "4062851d",
   "metadata": {},
   "source": [
    "Clicando nos links a seguir você será redirecionado às aulas referentes a este capítulo:\n",
    "\n",
    "[Ponto Fixo de Uma Função](https://youtu.be/bsUPSa5OnaQ)\n",
    "\n",
    "[Condições Para a Existência e a Unicidade do Ponto Fixo de Uma Função](https://youtu.be/byqKf70PvYI)\n",
    "\n",
    "[Método do Ponto Fixo](https://youtu.be/9R71sIrjnQc)\n",
    "\n",
    "[Convergência do Método do Ponto Fixo](https://youtu.be/kemPws-cDUc)\n",
    "\n",
    "[Limitantes Para o Erro no Método do Ponto Fixo](https://youtu.be/60HX-vzoh9Q)"
   ]
  }
 ],
 "metadata": {
  "kernelspec": {
   "display_name": "Python 3 (ipykernel)",
   "language": "python",
   "name": "python3"
  },
  "language_info": {
   "codemirror_mode": {
    "name": "ipython",
    "version": 3
   },
   "file_extension": ".py",
   "mimetype": "text/x-python",
   "name": "python",
   "nbconvert_exporter": "python",
   "pygments_lexer": "ipython3",
   "version": "3.11.5"
  },
  "varInspector": {
   "cols": {
    "lenName": 16,
    "lenType": 16,
    "lenVar": 40
   },
   "kernels_config": {
    "python": {
     "delete_cmd_postfix": "",
     "delete_cmd_prefix": "del ",
     "library": "var_list.py",
     "varRefreshCmd": "print(var_dic_list())"
    },
    "r": {
     "delete_cmd_postfix": ") ",
     "delete_cmd_prefix": "rm(",
     "library": "var_list.r",
     "varRefreshCmd": "cat(var_dic_list()) "
    }
   },
   "types_to_exclude": [
    "module",
    "function",
    "builtin_function_or_method",
    "instance",
    "_Feature"
   ],
   "window_display": false
  }
 },
 "nbformat": 4,
 "nbformat_minor": 5
}
