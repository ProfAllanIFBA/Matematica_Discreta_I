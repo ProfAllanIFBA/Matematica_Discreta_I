{
 "cells": [
  {
   "cell_type": "markdown",
   "id": "d4ea28a8",
   "metadata": {
    "slideshow": {
     "slide_type": "slide"
    }
   },
   "source": [
    "<center> <img src=\"logo_ifba.jpg\" alt=\"jpg_python\" width=\"100\" height=\"200\"> </center>\n",
    "<br><br>\n",
    "<div align=\"center\"><span style=\"font-size: 26px;\"><strong>Matemática Discreta I <br></strong></span></div> <br>\n",
    "<center> <img src=\"python_gif.gif\" alt=\"gif_python\" width=\"80\"> </center>\n"
   ]
  },
  {
   "cell_type": "markdown",
   "id": "d76184a7",
   "metadata": {
    "slideshow": {
     "slide_type": "slide"
    }
   },
   "source": [
    "<div style=\"border: 2px solid black; padding: 10px; width: 95%; background-color: lightgray; display: flex; align-items: center;\">\n",
    "    <h1 style=\"color: red; text-align: center; margin: auto;\">\n",
    "        Capítulo 1: Bases Numéricas\n",
    "    </h1>\n",
    "</div>\n",
    "\n",
    "<font color='red'></font>\n",
    "<a href=\"\"></a>"
   ]
  },
  {
   "cell_type": "markdown",
   "id": "7142d16f",
   "metadata": {},
   "source": [
    "O estudo das bases numéricas é uma parte fundamental da matemática, que investiga como os números são representados e manipulados em diferentes sistemas de numeração. Esses sistemas são compostos por dígitos e regras específicas que determinam como os números são escritos. A base decimal, por exemplo, utiliza dez dígitos (0-9) e segue o padrão posicional, em que cada dígito tem um valor que depende de sua posição na representação numérica. Além da base decimal, existem outras bases importantes, como a binária (base 2), a octal (base 8) e a hexadecimal (base 16). O estudo das bases numéricas permite compreender as diferentes formas de representação dos números e suas aplicações em diversas áreas, como ciência da computação e eletrônica, sendo fundamental para o desenvolvimento de sistemas numéricos mais eficientes e a compreensão dos processos matemáticos subjacentes."
   ]
  },
  {
   "cell_type": "markdown",
   "id": "20189da1",
   "metadata": {
    "slideshow": {
     "slide_type": "slide"
    }
   },
   "source": [
    "# <div style=\"margin-top: -20px;\">\n",
    "<hr style=\"border: 2px solid black;\">\n",
    "\n",
    "<font color='black'><span style=\"font-size: 22px;\"><strong>1.1 Defininido Uma Base Numérica</strong></span></font>\n",
    "\n",
    "<hr style=\"border: 2px solid black;\">\n",
    "</div>"
   ]
  },
  {
   "cell_type": "markdown",
   "id": "7c7d2cc6",
   "metadata": {},
   "source": [
    "#### Sistema de Numeração"
   ]
  },
  {
   "cell_type": "markdown",
   "id": "f3537afe",
   "metadata": {
    "slideshow": {
     "slide_type": "slide"
    }
   },
   "source": [
    "Um **sistema de numeração** (ou sistema numérico), é um sistema em que um conjunto de números é representado por numerais de uma forma consistente por meio de uma base numérica. Esperamos que e um sistema numérico:"
   ]
  },
  {
   "cell_type": "markdown",
   "id": "2cd78ec6",
   "metadata": {
    "slideshow": {
     "slide_type": "fragment"
    }
   },
   "source": [
    "- Represente uma grande quantidade de números úteis (ex.: todos os números inteiros, ou todos os números reais);"
   ]
  },
  {
   "cell_type": "markdown",
   "id": "09b0df1a",
   "metadata": {
    "slideshow": {
     "slide_type": "fragment"
    }
   },
   "source": [
    "- Dê a cada número representado uma única descrição (ou pelo menos uma representação padrão); "
   ]
  },
  {
   "cell_type": "markdown",
   "id": "b81b08a0",
   "metadata": {
    "slideshow": {
     "slide_type": "fragment"
    }
   },
   "source": [
    "- Reflita as estruturas algébricas e aritméticas dos números. "
   ]
  },
  {
   "cell_type": "markdown",
   "id": "f7f59447",
   "metadata": {
    "slideshow": {
     "slide_type": "slide"
    }
   },
   "source": [
    "Os sistemas numéricos comumente utilizados na área da computação são: **sistema decimal**, **sistema binário**, **sistema octal** e o **sistema hexadecimal**."
   ]
  },
  {
   "cell_type": "markdown",
   "id": "006bea0e",
   "metadata": {},
   "source": [
    "#### <font color='red'> Definição 1 </font>"
   ]
  },
  {
   "cell_type": "markdown",
   "id": "bcf55946",
   "metadata": {
    "slideshow": {
     "slide_type": "slide"
    }
   },
   "source": [
    "<font color='red'>Dado um número natural $b > 1$  e o conjunto de símbolos <br><br>\n",
    "$$\\beta = \\{0,\\pm 1, \\pm 2, \\pm 3, \\ldots, \\pm(b-1)\\},$$<br>\n",
    "a sequência de símbolos (forma comprimida) <br><br>\n",
    "$$x_{b} = (d_{n}d_{n-1}\\ldots d_{1}d_{0}d_{1}\\ldots)_{b}$$<br>\n",
    "representa o número positivo (forma expandida) <br><br>\n",
    "$$d_{n}b^{n}+d_{n-1}b^{n-1}+\\ldots+d_{1}b^{1} + d_{0}b^{0} + d_{-1}b^{-1}+\\ldots.$$<br>\n",
    "Para representar um número negativo, coloca-se um sinal de $-$ à esquerda no numeral (ou trocam-se todos os sinais de $+$ por $-$)</font>"
   ]
  },
  {
   "cell_type": "markdown",
   "id": "69e5b019",
   "metadata": {
    "slideshow": {
     "slide_type": "slide"
    }
   },
   "source": [
    "# <div style=\"margin-top: -20px;\">\n",
    "<hr style=\"border: 2px solid black;\">\n",
    "\n",
    "<font color='black'><span style=\"font-size: 22px;\"><strong>1.2 Sistema Decimal</strong></span></font>\n",
    "\n",
    "<hr style=\"border: 2px solid black;\">\n",
    "</div>"
   ]
  },
  {
   "cell_type": "markdown",
   "id": "9b2dc0f2",
   "metadata": {},
   "source": [
    "#### Sistema Decimal"
   ]
  },
  {
   "cell_type": "markdown",
   "id": "3342aa55",
   "metadata": {
    "slideshow": {
     "slide_type": "slide"
    }
   },
   "source": [
    "Sistema de contar que utiliza a base $b=10$, sendo mais comum em nossas vidas. Nesta base são permitidos os algarismos $0$, $1$, $2$, $\\ldots$, $9$ (isto é, de $0$ a $10-1$). Sua representação é a seguinte: <br>\n",
    "\n",
    "<font color='red'> $$x_{10} = d_{n}10^{n} + d_{n-1}10^{n-1} + \\ldots + d_{2}10^{2} + d_{1}10^{1} + d_{0}10^{0} + d_{-1}10^{-1}+\\ldots , \\,\\,\\,\\, 0 \\leq d_{i} \\leq 9$$ </font>"
   ]
  },
  {
   "cell_type": "markdown",
   "id": "df921a6c",
   "metadata": {},
   "source": [
    "#### <font color='blue'>Exemplo 1</font>"
   ]
  },
  {
   "cell_type": "markdown",
   "id": "144687eb",
   "metadata": {
    "slideshow": {
     "slide_type": "slide"
    }
   },
   "source": [
    "<font color='blue'>Obtenha a forma expandida do número $2030,4_{10}$: </font>"
   ]
  },
  {
   "cell_type": "markdown",
   "id": "c537db01",
   "metadata": {
    "slideshow": {
     "slide_type": "fragment"
    }
   },
   "source": [
    "<font color='blue'> **Solução**: Temos que <br><br>\n",
    "$$2030,4_{10} = 2\\cdot10^{3} + 3\\cdot10^{1} + 4\\cdot10^{-1}.$$ </font>"
   ]
  },
  {
   "cell_type": "markdown",
   "id": "9f42e324",
   "metadata": {
    "slideshow": {
     "slide_type": "slide"
    }
   },
   "source": [
    "#### **Observação 1**"
   ]
  },
  {
   "cell_type": "markdown",
   "id": "6acd895f",
   "metadata": {},
   "source": [
    "A base $10$ por ser a base usual é geralmente omitida, isto é, o número $2030,4_{10}$ pode ser escrito apenas como $2030,4$."
   ]
  },
  {
   "cell_type": "markdown",
   "id": "10e09ee5",
   "metadata": {
    "slideshow": {
     "slide_type": "slide"
    }
   },
   "source": [
    "# <div style=\"margin-top: -20px;\">\n",
    "<hr style=\"border: 2px solid black;\">\n",
    "\n",
    "<font color='black'><span style=\"font-size: 22px;\"><strong>1.3 Sistema Binário</strong></span></font>\n",
    "\n",
    "<hr style=\"border: 2px solid black;\">\n",
    "</div>"
   ]
  },
  {
   "cell_type": "markdown",
   "id": "fe705ea7",
   "metadata": {},
   "source": [
    "#### Sistema Binário"
   ]
  },
  {
   "cell_type": "markdown",
   "id": "173a7e5c",
   "metadata": {
    "slideshow": {
     "slide_type": "slide"
    }
   },
   "source": [
    "Sistema de contar que utiliza a base $b=2$ sendo muito presente em aplicações na área da computação. Nessa base são permitidos os algarismos $0$ e $1$ (isto é, de $0$ a $2-1$). Sua representação é a seguinte: <br>\n",
    "\n",
    "<font color='red'> $$x_{2} = d_{n}2^{n} + d_{n-1}2^{n-1} + \\ldots + d_{2}2^{2} + d_{1}2^{1} + d_{0}2^{0} + d_{-1}2^{-1}+\\ldots, \\,\\,\\,\\, 0 \\leq d_{i} \\leq 1$$ </font>"
   ]
  },
  {
   "cell_type": "markdown",
   "id": "36cf7bbf",
   "metadata": {},
   "source": [
    "#### <font color='blue'>Exemplo 2</font>"
   ]
  },
  {
   "cell_type": "markdown",
   "id": "19b56512",
   "metadata": {
    "slideshow": {
     "slide_type": "slide"
    }
   },
   "source": [
    "<font color='blue'>Determine a forma expandida de $101_{2}$. </font>"
   ]
  },
  {
   "cell_type": "markdown",
   "id": "d1e07bc0",
   "metadata": {},
   "source": [
    "<font color='blue'> **Solução**: Temos que <br><br>\n",
    "$$101_{2} = 1\\cdot2^{1} + 0\\cdot2^{1} + 1\\cdot2^{0}.$$ <br>\n",
    "Note que $101_{2} = 5_{10}$. </font>"
   ]
  },
  {
   "cell_type": "markdown",
   "id": "fd35c298",
   "metadata": {},
   "source": [
    "#### Aplicações do Sistema Binário"
   ]
  },
  {
   "cell_type": "markdown",
   "id": "4a01dea3",
   "metadata": {
    "slideshow": {
     "slide_type": "slide"
    }
   },
   "source": [
    "- **Computadores e eletrônicos**: A base binária é fundamental para a representação e processamento de dados em computadores e sistemas eletrônicos. Os componentes eletrônicos, como transistores, utilizam o estado ligado/desligado (representado por 1 e 0) para realizar operações lógicas e armazenar informações."
   ]
  },
  {
   "cell_type": "markdown",
   "id": "af717386",
   "metadata": {
    "slideshow": {
     "slide_type": "slide"
    }
   },
   "source": [
    "- **Lógica digital**: A base binária é essencial para a lógica digital, que é a base do projeto e funcionamento de circuitos digitais. Através de portas lógicas, é possível realizar operações booleanas, como AND, OR e NOT, utilizando valores binários."
   ]
  },
  {
   "cell_type": "markdown",
   "id": "402bab8e",
   "metadata": {
    "slideshow": {
     "slide_type": "slide"
    }
   },
   "source": [
    "- **Codificação de informações**: A base binária é usada para codificar informações de várias formas, como caracteres, imagens, sons e vídeos. Por exemplo, os caracteres em um computador são representados por códigos binários, como o ASCII (American Standard Code for Information Interchange) ou o Unicode."
   ]
  },
  {
   "cell_type": "markdown",
   "id": "af2eb60a",
   "metadata": {
    "slideshow": {
     "slide_type": "slide"
    }
   },
   "source": [
    "- **Armazenamento de dados**: A memória dos computadores é organizada em células de memória, onde cada célula armazena um valor binário. Essas células são agrupadas em bytes, que por sua vez formam palavras maiores. A base binária permite representar e manipular eficientemente grandes quantidades de dados."
   ]
  },
  {
   "cell_type": "markdown",
   "id": "584514ac",
   "metadata": {
    "slideshow": {
     "slide_type": "slide"
    }
   },
   "source": [
    "- **Comunicação digital**: A base binária é usada em sistemas de comunicação digital para transmitir e receber informações. Os sinais digitais são representados por sequências binárias, que são transmitidas por meio de meios de comunicação, como cabos ou ondas de rádio."
   ]
  },
  {
   "cell_type": "markdown",
   "id": "eb5db509",
   "metadata": {
    "slideshow": {
     "slide_type": "slide"
    }
   },
   "source": [
    "Um caso bastante comum se deu na **quarta revisão do protocolo de internet** onde por exemplo <br><br>\n",
    "$$IPV4: \\, 192.168.1.1510_{10} = 11000000 10101000 00000001 00001111_{2}.$$\n",
    "[Para Saber +](https://www.techopedia.com/definition/5367/internet-protocol-version-4-ipv4#:~:text=Internet%20Protocol%20Version%204%20(IPv4)%20is%20the%20fourth%20revision%20of,layer%20networks%2C%20such%20as%20Ethernet.)"
   ]
  },
  {
   "cell_type": "markdown",
   "id": "ef612b08",
   "metadata": {
    "slideshow": {
     "slide_type": "slide"
    }
   },
   "source": [
    "# <div style=\"margin-top: -20px;\">\n",
    "<hr style=\"border: 2px solid black;\">\n",
    "\n",
    "<font color='black'><span style=\"font-size: 22px;\"><strong>1.4 Sistemas Octal e Hexadecimal</strong></span></font>\n",
    "\n",
    "<hr style=\"border: 2px solid black;\">\n",
    "</div>"
   ]
  },
  {
   "cell_type": "markdown",
   "id": "91a4c56b",
   "metadata": {},
   "source": [
    "São dois sistemas alternativos ao sistema binário, utilizados na computação e linguagem de máquina."
   ]
  },
  {
   "cell_type": "markdown",
   "id": "3169cb6b",
   "metadata": {},
   "source": [
    "#### Sistema Octal"
   ]
  },
  {
   "cell_type": "markdown",
   "id": "05e73930",
   "metadata": {
    "slideshow": {
     "slide_type": "slide"
    }
   },
   "source": [
    "O sistema octal não apresenta novidade e sua representação se dá de maneira análoga aos sistemas decimal e binário. <br><br>\n",
    "<font color='red'> $$x_{8} = d_{n}8^{n} + d_{n-1}8^{n-1} + \\ldots + d_{2}8^{2} + d_{1}8^{1} + d_{0}8^{0} + d_{-1}8^{-1}+\\ldots, \\,\\,\\,\\, 0 \\leq d_{i} \\leq 7$$<br> </font>"
   ]
  },
  {
   "cell_type": "markdown",
   "id": "846cfbf4",
   "metadata": {},
   "source": [
    "#### Sistema Hexadecimal"
   ]
  },
  {
   "cell_type": "markdown",
   "id": "14aee22e",
   "metadata": {},
   "source": [
    "O sistema hexadecimal apresenta um leve incremento em relação aos vistos até aqui. Por só contarmos com $10$ algarismo diferentes $0, 1, 2, \\ldots, 9$, bases maiores que $10$ necessitam de \"outros\" algarismos. Para a base hexadecimal($16$) usam-se $A_{16}=10_{10}$, $B_{16}=11_{10}$, $C_{16}=12_{10}$,<br><br> $D_{10}=13_{10}$, $E_{16}=14_{10}$ e $F_{16}=15_{10}$. A representação de um número na base hexadecimal é dada por:<br><br>\n",
    "<font color='red'> $$x_{16} = d_{n}16^{n} + d_{n-1}16^{n-1} + \\ldots + d_{2}16^{2} + d_{1}16^{1} + d_{0}16^{0} + d_{-1}16^{-1}+\\ldots, \\,\\,\\,\\, 0 \\leq d_{i} \\leq F$$ </font>"
   ]
  },
  {
   "cell_type": "markdown",
   "id": "62398299",
   "metadata": {
    "ExecuteTime": {
     "end_time": "2023-07-04T15:02:50.490956Z",
     "start_time": "2023-07-04T15:02:50.486979Z"
    }
   },
   "source": [
    "#### <font color='blue'>Exemplo 3 </font>"
   ]
  },
  {
   "cell_type": "markdown",
   "id": "232472c2",
   "metadata": {
    "slideshow": {
     "slide_type": "slide"
    }
   },
   "source": [
    "<font color='blue'>Qual dos números $3753_{8}$ e $A3F$ é maior? </font>"
   ]
  },
  {
   "cell_type": "markdown",
   "id": "67782ada",
   "metadata": {},
   "source": [
    "<font color='blue'>**Solução**: Você já deve ter notado que ao expandirmos um número em sua base e desenvolvermos as potências, teremos este número na base $10$. Então, podemos escrever os dois na base $10$ e compará-los. Pois bem, <br><br>\n",
    "$$3753_{8}  = 3\\cdot8^{3} + 7\\cdot8^{2} + 5\\cdot8^{1} + 3\\cdot8^{0} = 3\\cdot512 + 7\\cdot64 + 5\\cdot8 + 3\\cdot1 = 2027_{10}$$\n",
    "$$A3F_{16} = 10\\cdot16^{2} + 3\\cdot16 + 15\\cdot16^{0} = 10\\cdot256 + 3\\cdot16 + 15 = 2623_{10}.$$ <br>\n",
    "Logo, $A3F_{16} > 3753_{8}$.</font>"
   ]
  },
  {
   "cell_type": "markdown",
   "id": "ff756484",
   "metadata": {
    "slideshow": {
     "slide_type": "slide"
    }
   },
   "source": [
    "#### Aplicações do Sistema Octal"
   ]
  },
  {
   "cell_type": "markdown",
   "id": "7a53fd21",
   "metadata": {
    "slideshow": {
     "slide_type": "slide"
    }
   },
   "source": [
    "- **Permissões de Arquivos em Sistemas Operacionais Unix**: Em sistemas operacionais Unix e Linux, as permissões de arquivos são representadas usando a base octal. Cada permissão é associada a um número octal específico, onde as permissões de leitura, gravação e execução são representadas por 4, 2 e 1, respectivamente. Por exemplo, o número octal 755 indica que o proprietário do arquivo possui permissões de leitura, gravação e execução, enquanto os outros usuários têm apenas permissões de leitura e execução."
   ]
  },
  {
   "cell_type": "markdown",
   "id": "02aa276b",
   "metadata": {
    "slideshow": {
     "slide_type": "slide"
    }
   },
   "source": [
    "- **Programação de Baixo Nível**: A base octal é usada em programação de baixo nível para representar valores binários de uma forma mais compacta. Cada dígito octal representa um grupo de três bits. Isso pode ser útil em algumas situações específicas, como quando se lida com manipulação direta de bits ou programação de hardware.\n"
   ]
  },
  {
   "cell_type": "markdown",
   "id": "e694d7d6",
   "metadata": {
    "ExecuteTime": {
     "end_time": "2023-07-04T12:08:46.877529Z",
     "start_time": "2023-07-04T12:08:46.846607Z"
    },
    "slideshow": {
     "slide_type": "slide"
    }
   },
   "source": [
    "- **Conversão de Endereços IP**: Os endereços IP, que são usados para identificar dispositivos em redes de computadores, podem ser representados em formato decimal pontuado (por exemplo, 192.168.0.1) ou em formato octal. Embora a representação octal não seja tão comum quanto a decimal pontuada ou a notação hexadecimal, ela ainda é uma opção para representar endereços IP."
   ]
  },
  {
   "cell_type": "markdown",
   "id": "19c98ed1",
   "metadata": {
    "slideshow": {
     "slide_type": "slide"
    }
   },
   "source": [
    "#### Aplicações da Base Hexadecimal"
   ]
  },
  {
   "cell_type": "markdown",
   "id": "258d708c",
   "metadata": {
    "slideshow": {
     "slide_type": "slide"
    }
   },
   "source": [
    "- **Programação e Computação de Baixo Nível**: A base hexadecimal é amplamente utilizada em programação e computação de baixo nível. Ela é uma forma conveniente de representar valores binários de uma maneira mais compacta e legível. Cada dígito hexadecimal representa um grupo de quatro bits, facilitando a conversão entre binário e hexadecimal."
   ]
  },
  {
   "cell_type": "markdown",
   "id": "73561d03",
   "metadata": {
    "slideshow": {
     "slide_type": "slide"
    }
   },
   "source": [
    "- **Representação de Cores**: A base hexadecimal é usada para representar cores em muitos sistemas gráficos e de design. Cada componente de cor (vermelho, verde e azul) é representado por dois dígitos hexadecimais, variando de 00 a FF. Por exemplo, o código hexadecimal #FF0000 representa a cor vermelha pura, enquanto #0000FF representa a cor azul pura.\n"
   ]
  },
  {
   "cell_type": "markdown",
   "id": "2a938e9f",
   "metadata": {
    "slideshow": {
     "slide_type": "slide"
    }
   },
   "source": [
    "- **Identificação de Endereços de Memória**: Em programação de computadores e sistemas operacionais, os endereços de memória são frequentemente representados em formato hexadecimal. Essa representação é mais compacta do que a notação decimal e fornece uma maneira conveniente de trabalhar com endereços de memória, especialmente em situações de depuração e programação de baixo nível."
   ]
  },
  {
   "cell_type": "markdown",
   "id": "127d34aa",
   "metadata": {
    "slideshow": {
     "slide_type": "slide"
    }
   },
   "source": [
    "# <div style=\"margin-top: -20px;\">\n",
    "<hr style=\"border: 2px solid black;\">\n",
    "\n",
    "<font color='black'><span style=\"font-size: 22px;\"><strong>1.5 Caminhando Entre Bases</strong></span></font>\n",
    "\n",
    "<hr style=\"border: 2px solid black;\">\n",
    "</div>"
   ]
  },
  {
   "cell_type": "markdown",
   "id": "0f505056",
   "metadata": {},
   "source": [
    "#### Ideia dos Processos"
   ]
  },
  {
   "cell_type": "markdown",
   "id": "867b3965",
   "metadata": {
    "slideshow": {
     "slide_type": "slide"
    }
   },
   "source": [
    "\"Caminhar\" entre bases é de fundamental importância para o bom entendimento de sistemas da computação. De modo geral, cálculos internos à máquina, são feitos usando-se o sistema binário, octal e hexadecimal. Por exemplo, um programa que exija do usuário que insira seu peso e sua altura para calcular seu $IMC = \\frac{massa }{altura^{2}}[kg/m^{2}]$ (índice de massa corpórea) (1) lê dados inseridos no sistema decimal; (2) em seguida os converte para binário; (3) calcula o valor da expressão acima no nesse sistema; (4) e então (re)converte o resultado novamente para o sistema decimal devolvendo-o ao usuário. Por exemplo, se um usuário de massa $m=45,0 \\, kg$ e altura $h = 1,5 m$ inserir os dados $m$ e $h$ no $PC$, teremos algo do tipo <br><br>\n",
    "$$\\frac{45}{1,5^{2}} \\, kg/m^{2} = \\underset{\\rm Dentro \\, da \\, Maquina}{\\underbrace{101101_{2}/10.01_{2} \\, kg/m^{2}  = 10100_{2} \\, kg/m^{2}}} = 20 \\, kg/m^{2} .$$<br>\n",
    "Acomapanhe o esquema a seguir:"
   ]
  },
  {
   "cell_type": "markdown",
   "id": "55947d18",
   "metadata": {
    "slideshow": {
     "slide_type": "slide"
    }
   },
   "source": [
    "![Mapa de Vitória da Conquista](fig1-1.jpg)"
   ]
  },
  {
   "cell_type": "markdown",
   "id": "98e3cbc7",
   "metadata": {
    "slideshow": {
     "slide_type": "slide"
    }
   },
   "source": [
    "### <div style=\"margin-top: -20px;\">\n",
    "<hr style=\"border: 2px solid black;\">\n",
    "\n",
    "<font color='black'><span style=\"font-size: 18px;\"><strong>1.5.1 Conversão Binário $\\Rightarrow$ Decimal </strong></span></font>\n",
    "\n",
    "<hr style=\"border: 2px solid black;\">\n",
    "</div>"
   ]
  },
  {
   "cell_type": "markdown",
   "id": "542731c8",
   "metadata": {},
   "source": [
    "#### Processo de Conversão"
   ]
  },
  {
   "cell_type": "markdown",
   "id": "8e00fcf8",
   "metadata": {
    "slideshow": {
     "slide_type": "slide"
    }
   },
   "source": [
    "Para convertermos de binário para decimal, basta desenvolvermos a forma expandida e somar os valores."
   ]
  },
  {
   "cell_type": "markdown",
   "id": "5194073f",
   "metadata": {},
   "source": [
    "#### <font color='blue'>Exemplo 4 </font>"
   ]
  },
  {
   "cell_type": "markdown",
   "id": "76b1363e",
   "metadata": {
    "slideshow": {
     "slide_type": "slide"
    }
   },
   "source": [
    "<font color='blue'>Execute as conversões:<br><br>\n",
    "a) $1000010_{2}$ para base $10$ $\\,\\,\\,\\,\\,\\,\\,\\,\\,\\,\\,\\,\\,\\,\\,\\,\\,\\,\\,\\,\\,\\,\\,\\,$ b) $1001,01_{2}$ para a base $10$ </font>"
   ]
  },
  {
   "cell_type": "markdown",
   "id": "0ec03e25",
   "metadata": {
    "slideshow": {
     "slide_type": "fragment"
    }
   },
   "source": [
    "<font color='blue'>**Solução**: a) Temos que <br><br>\n",
    "$$1000010_{2} = 1\\cdot2^{6} + 0\\cdot2^{5} + 0\\cdot2^{4} + 0\\cdot2^{3} + 0\\cdot2^{0} + 1\\cdot2^{1} + 0\\cdot2^{0} = 1\\cdot64 + 1\\cdot2 = 64+2 = 68_{10}.$$ </font>"
   ]
  },
  {
   "cell_type": "markdown",
   "id": "2f5a13b8",
   "metadata": {
    "slideshow": {
     "slide_type": "fragment"
    }
   },
   "source": [
    "<font color='blue'> b) Temos que <br><br>\n",
    "$$1001,01_{2} = 1\\cdot2^{3}+0\\cdot2^{2}+0\\cdot2^{1}+1\\cdot2^{1} + 0\\cdot2^{-1} + 1\\cdot2^{-2} = 8 + 1 + 2^{-2} = 9,25_{10}$$ </font>"
   ]
  },
  {
   "cell_type": "markdown",
   "id": "fd6bcbc7",
   "metadata": {},
   "source": [
    "### <div style=\"margin-top: -20px;\">\n",
    "<hr style=\"border: 2px solid black;\">\n",
    "\n",
    "<font color='black'><span style=\"font-size: 18px;\"><strong>1.5.2 Conversão Decimal $\\Rightarrow$ Binário </strong></span></font>\n",
    "\n",
    "<hr style=\"border: 2px solid black;\">\n",
    "</div>"
   ]
  },
  {
   "cell_type": "markdown",
   "id": "ee064cd8",
   "metadata": {},
   "source": [
    "#### Processo de Conversão"
   ]
  },
  {
   "cell_type": "markdown",
   "id": "26e7c7ec",
   "metadata": {
    "slideshow": {
     "slide_type": "slide"
    }
   },
   "source": [
    "Para converter de decimal (inteiro) para binário, utilizaremos a técnica de efetuar sucessivas divisões pela base a ser convertida, neste caso $2$ (dois), até o último quociente possível e tomarmos o número como sendo formado pelo último quociente e todos os restos na ordem inversa a qual foram obtidos. Para o caso de um número não inteiro, obtém-se a parte não inteira usando-se sucessivas multiplicações da parte não inteira do número decimal por $2$ até obtermos um valor igual a $1$ exato (do contrário, teremos uma dízima). Neste caso, tomamos a parte inteira do resultado em cada multiplicação por $2$ ($0$ ou $1$) e multiplicamos novamente a parte não inteira por $2$ resultante do passo anterior..."
   ]
  },
  {
   "cell_type": "markdown",
   "id": "ac0b77da",
   "metadata": {},
   "source": [
    "#### <font color='blue'>Exemplo 5 </font>"
   ]
  },
  {
   "cell_type": "markdown",
   "id": "d43b26fa",
   "metadata": {
    "slideshow": {
     "slide_type": "slide"
    }
   },
   "source": [
    "<font color='blue'>Execute as conversões: <br><br>\n",
    "a) $20_{10}$ para a base $2$ $\\,\\,\\,\\,\\,\\,\\,\\,\\,\\,\\,\\,\\,\\,\\,\\,\\,\\,\\,\\,\\,\\,\\,\\,$ b) $3,5_{10}$ para a base $2$ <br><br>\n",
    "c) $5,125_{10}$ para a base $2$ $\\,\\,\\,\\,\\,\\,\\,\\,\\,\\,\\,\\,\\,\\,\\,\\,$ d) $3,8_{10}$ para a base $2$ </font>"
   ]
  },
  {
   "cell_type": "markdown",
   "id": "8d8042de",
   "metadata": {
    "slideshow": {
     "slide_type": "slide"
    }
   },
   "source": [
    "<font color='blue'>**Solução**: a) Temos que </font>"
   ]
  },
  {
   "cell_type": "markdown",
   "id": "821a6a23",
   "metadata": {
    "slideshow": {
     "slide_type": "-"
    }
   },
   "source": [
    "<center> <img src=\"fig1-2.jpg\" alt=\"jpg_python\" width=\"300\" height=\"200\"> </center>"
   ]
  },
  {
   "cell_type": "markdown",
   "id": "abf8a550",
   "metadata": {
    "slideshow": {
     "slide_type": "-"
    }
   },
   "source": [
    "<font color='blue'>Logo, $20_{10} = 10100_{2}$.</font>"
   ]
  },
  {
   "cell_type": "markdown",
   "id": "46cf1f71",
   "metadata": {
    "ExecuteTime": {
     "end_time": "2023-07-04T12:44:53.564518Z",
     "start_time": "2023-07-04T12:44:53.557542Z"
    },
    "slideshow": {
     "slide_type": "slide"
    }
   },
   "source": [
    "<font color='blue'>b) Temos que </font>"
   ]
  },
  {
   "cell_type": "markdown",
   "id": "d1197093",
   "metadata": {
    "slideshow": {
     "slide_type": "-"
    }
   },
   "source": [
    "<center> <img src=\"fig1-3.jpg\" alt=\"jpg_python\" width=\"300\" height=\"200\"> </center>"
   ]
  },
  {
   "cell_type": "markdown",
   "id": "a59447f4",
   "metadata": {
    "slideshow": {
     "slide_type": "-"
    }
   },
   "source": [
    "<font color='blue'> Logo, $3,5_{10} = 11,1_{2}$. </font>"
   ]
  },
  {
   "cell_type": "markdown",
   "id": "37523c7d",
   "metadata": {
    "slideshow": {
     "slide_type": "slide"
    }
   },
   "source": [
    "<font color='blue'>c) Temos que </font>"
   ]
  },
  {
   "cell_type": "markdown",
   "id": "470d66a8",
   "metadata": {
    "slideshow": {
     "slide_type": "-"
    }
   },
   "source": [
    "<center> <img src=\"fig1-4.jpg\" alt=\"jpg_python\" width=\"300\" height=\"200\"> </center>"
   ]
  },
  {
   "cell_type": "markdown",
   "id": "4279e6fd",
   "metadata": {
    "slideshow": {
     "slide_type": "-"
    }
   },
   "source": [
    "<font color='blue'>Logo, $5,125_{10} = 101,001_{2}$. </font>"
   ]
  },
  {
   "cell_type": "markdown",
   "id": "c08ee90c",
   "metadata": {
    "slideshow": {
     "slide_type": "slide"
    }
   },
   "source": [
    "<font color='blue'>d) Temos que </font>"
   ]
  },
  {
   "cell_type": "markdown",
   "id": "8697cb3a",
   "metadata": {
    "slideshow": {
     "slide_type": "-"
    }
   },
   "source": [
    "<center> <img src=\"fig1-5.jpg\" alt=\"jpg_python\" width=\"300\" height=\"200\"> </center>"
   ]
  },
  {
   "cell_type": "markdown",
   "id": "6bab5c80",
   "metadata": {
    "slideshow": {
     "slide_type": "-"
    }
   },
   "source": [
    "<font color='blue'>Logo, $3,8_{10} = 11,11001100..._{2}$.</font>"
   ]
  },
  {
   "cell_type": "markdown",
   "id": "3bd06c16",
   "metadata": {
    "slideshow": {
     "slide_type": "slide"
    }
   },
   "source": [
    "### <div style=\"margin-top: -20px;\">\n",
    "<hr style=\"border: 2px solid black;\">\n",
    "\n",
    "<font color='black'><span style=\"font-size: 18px;\"><strong>1.5.3 Conversão Binário $\\Rightarrow$ Octal </strong></span></font>\n",
    "\n",
    "<hr style=\"border: 2px solid black;\">\n",
    "</div>"
   ]
  },
  {
   "cell_type": "markdown",
   "id": "da2533b7",
   "metadata": {},
   "source": [
    "#### Processo de Conversão"
   ]
  },
  {
   "cell_type": "markdown",
   "id": "78a0fbdd",
   "metadata": {
    "slideshow": {
     "slide_type": "fragment"
    }
   },
   "source": [
    "Para convertermos um número binário para octal, agrupamos o número binário em grupos de $3$ dígitos a partir elemento de posição zero (unidade) convertendo-os para a base octal um a um. A parte não inteira, caso tenha, segue o mesmo raciocínio a partir do elemento de posição $-1$."
   ]
  },
  {
   "cell_type": "markdown",
   "id": "ba07117e",
   "metadata": {},
   "source": [
    "#### <font color='blue'>Exemplo 6 </font>"
   ]
  },
  {
   "cell_type": "markdown",
   "id": "ae03d0e4",
   "metadata": {
    "slideshow": {
     "slide_type": "slide"
    }
   },
   "source": [
    "<font color='blue'>Execute as conversões: <br><br>\n",
    "a) $1111011_{2}$ para a base $8$ $\\,\\,\\,\\,\\,\\,\\,\\,\\,\\,\\,\\,\\,\\,\\,\\,\\,\\,\\,\\,\\,\\,\\,\\,$ b) $11,01101_{2}$ para base $8$. </font>"
   ]
  },
  {
   "cell_type": "markdown",
   "id": "5c95a462",
   "metadata": {
    "slideshow": {
     "slide_type": "slide"
    }
   },
   "source": [
    "<font color='blue'>**Solução**: a) Temos que $1111011 = \\underline{00}1/111/011$ em que os zeros foram usados para termos um número de três dígitos foram usados para completar às partes inteira e não inteira de cada um dos números. Devemos, sempre observar cada número em blocos de $3$ dígitos. Agora, basta convertemos cada um destes grupos de três dígitos:\n",
    "<br><br>\n",
    "$001_{2} = 1_{8}$\n",
    "<br><br>\n",
    "$111_{2} = 7_{8}$\n",
    "<br><br>\n",
    "$011_{2} =  3_{8}$\n",
    "<br><br>\n",
    "Logo, $1111011_{2} = 173_{8}$. </font>"
   ]
  },
  {
   "cell_type": "markdown",
   "id": "783b39da",
   "metadata": {
    "slideshow": {
     "slide_type": "slide"
    }
   },
   "source": [
    "<font color='blue'>b) Temos que $11,01101_{2} = \\underline{0}11/,011/01\\underline{0}_{2}$. Agora, basta convertemos cada um destes grupos de três dígitos:\n",
    "<br><br>\n",
    "Parte inteira:\n",
    "<br><br>\n",
    "$011 = 0 \\cdot 2^{2} + 1 \\cdot 2^{1} + 1 \\cdot 2^{0} =  3_{8}$ \n",
    "<br><br>\n",
    "Parte não inteira:\n",
    "<br><br>\n",
    "$011 = 0 \\cdot 2^{2} + 1 \\cdot 2^{1} + 1 \\cdot 2^{0} = 3_{8}$\n",
    "<br><br>\n",
    "$010 = 0 \\cdot 2^{2} + 1 \\cdot 2^{1} + 0 \\cdot 2^{0} = 2_{8}$\n",
    "<br><br>\n",
    "Logo, $11,01101_{2} = 3,32_{8}$.</font>"
   ]
  },
  {
   "cell_type": "markdown",
   "id": "de4425d3",
   "metadata": {},
   "source": [
    "### <div style=\"margin-top: -20px;\">\n",
    "<hr style=\"border: 2px solid black;\">\n",
    "\n",
    "<font color='black'><span style=\"font-size: 18px;\"><strong>1.5.4 Conversão Octal $\\Rightarrow$ Binário </strong></span></font>\n",
    "\n",
    "<hr style=\"border: 2px solid black;\">\n",
    "</div>"
   ]
  },
  {
   "cell_type": "markdown",
   "id": "728036d7",
   "metadata": {},
   "source": [
    "#### Processo de Conversão"
   ]
  },
  {
   "cell_type": "markdown",
   "id": "b9c13f80",
   "metadata": {
    "slideshow": {
     "slide_type": "slide"
    }
   },
   "source": [
    "Para convertemos um número da base octal para a base binária basta executarmos o caminho inverso, isto é, convertermos cada dígito da base octal para a binária separadamente agrupando-os seguindo a mesma ordem."
   ]
  },
  {
   "cell_type": "markdown",
   "id": "c04dc190",
   "metadata": {},
   "source": [
    "#### <font color='blue'> Exemplo 7"
   ]
  },
  {
   "cell_type": "markdown",
   "id": "651e946d",
   "metadata": {
    "slideshow": {
     "slide_type": "slide"
    }
   },
   "source": [
    "<font color='blue'>Execute as conversões:<br><br>\n",
    "a) $356_{8}$ para a base 2 $\\,\\,\\,\\,\\,\\,\\,\\,\\,\\,\\,\\,\\,\\,\\,\\,\\,\\,\\,\\,\\,\\,\\,\\,$ b) $74,32_{8}$ para a base 2.</font>"
   ]
  },
  {
   "cell_type": "markdown",
   "id": "9a6540f1",
   "metadata": {
    "slideshow": {
     "slide_type": "slide"
    }
   },
   "source": [
    "<font color='blue'> **Solução**: a) Temos que $356_{8} = 3/5/6_{8}$. Agora, basta convertemos cada um desses dígitos:\n",
    "<br><br>\n",
    "$3_{8} = 0 \\cdot 2^{2} + 1 \\cdot 2^{1} + 1 \\cdot 2^{0} = 011_{2}$\n",
    "<br><br>\n",
    "$5_{8} = 1 \\cdot 2^{2} + 0 \\cdot 2^{1} + 1 \\cdot 2^{0} = 101_{2}$\n",
    "<br><br>\n",
    "$6_{8} = 1 \\cdot 2^{2} + 1 \\cdot 2^{1} + 0 \\cdot 2^{0} = 110_{2}$\n",
    "<br><br>\n",
    "Assim, $356_{8} = 011/101/110_{2}$. Portanto, $356_{8} = 11101110_{2}$.\n",
    "<br><br>\n",
    "Note que podíamos ter usado sucessivas divisões de $3, 5$ e $6$ por $2$ a fim de obtermos as ternas $011$, $101$ e $110$. Mas esta divisão teria que ser feita na base $8$! Sendo assim, preenchemos os coeficientes que acompanham $2^{2}, 2^{1}$ e $2^{0}$. </font>"
   ]
  },
  {
   "cell_type": "markdown",
   "id": "53e63fe4",
   "metadata": {
    "slideshow": {
     "slide_type": "slide"
    }
   },
   "source": [
    "<font color='blue'> b) Temos que $74,32_{8} = 7/4/,3/2_{8}$. Agora, basta convertemos cada uma desses dígitos:\n",
    "<br><br>\n",
    "Parte inteira:\n",
    "<br><br>\n",
    "$7_{8} = 1 \\cdot 2^{2} + 1 \\cdot 2^{1} + 1 \\cdot 2^{0} =  111_{2}$\n",
    "<br><br>\n",
    "$4_{8} = 1 \\cdot 2^{2} + 0 \\cdot 2^{1} + 0 \\cdot 2^{0} = 100_{2}$\n",
    "<br><br>\n",
    "Parte não inteira:\n",
    "<br><br>\n",
    "$3_{8} = 0 \\cdot 2^{2} + 1 \\cdot 2^{1} + 1 \\cdot 2^{0} = 011_{2}$\n",
    "<br><br>\n",
    "$2_{8} = 0 \\cdot 2^{2} + 1 \\cdot 2^{1} + 0 \\cdot 2^{0} = 010_{2}$\n",
    "<br><br>\n",
    "Segue que $74,32_{8} = 111100,011010_{2}$. Neste caso, o zero mais à direita, após a vírgula, pode ser desconsiderado. Portanto, $74,32_{8} = 111100,01101_{2}$. </font>"
   ]
  },
  {
   "cell_type": "markdown",
   "id": "8c770610",
   "metadata": {
    "slideshow": {
     "slide_type": "slide"
    }
   },
   "source": [
    "### <div style=\"margin-top: -20px;\">\n",
    "<hr style=\"border: 2px solid black;\">\n",
    "\n",
    "<font color='black'><span style=\"font-size: 18px;\"><strong>1.5.5 Conversão Binário $\\Rightarrow$ Hexadecimal </strong></span></font>\n",
    "\n",
    "<hr style=\"border: 2px solid black;\">\n",
    "</div>"
   ]
  },
  {
   "cell_type": "markdown",
   "id": "98dae452",
   "metadata": {},
   "source": [
    "#### Processo de Conversão"
   ]
  },
  {
   "cell_type": "markdown",
   "id": "3f88778d",
   "metadata": {
    "slideshow": {
     "slide_type": "fragment"
    }
   },
   "source": [
    "Para convertermos um número binário para hexadecimal, agrupamos o número binário em grupos de $4$ dígitos pelo elemento de posição zero (unidade) convertendo-os para a base hexadecimal um a um. A parte não inteira, caso tenha, segue o mesmo raciocínio a partir do elemento de posição $-1$."
   ]
  },
  {
   "cell_type": "markdown",
   "id": "cb1867a0",
   "metadata": {},
   "source": [
    "#### <font color='blue'> Exemplo 8 </font>"
   ]
  },
  {
   "cell_type": "markdown",
   "id": "10a5b130",
   "metadata": {
    "slideshow": {
     "slide_type": "slide"
    }
   },
   "source": [
    "<font color='blue'>Execute as conversões:\n",
    "<br><br>\n",
    "a) $11010101100_{2}$ para a base $16$ $\\,\\,\\,\\,\\,\\,\\,\\,\\,\\,\\,\\,\\,\\,\\,\\,\\,\\,\\,\\,\\,\\,\\,\\,$  b) $1010,11010001_{2}$ para a base $16$ </font>"
   ]
  },
  {
   "cell_type": "markdown",
   "id": "d585d677",
   "metadata": {
    "slideshow": {
     "slide_type": "slide"
    }
   },
   "source": [
    "<font color='blue'>**Solução**: a) Temos que $11010101100_{2} = \\underline{0}110/1010/1100_{2}$. Agora basta convertemos cada um destes grupos de dígitos:\n",
    "<br><br>\n",
    "$0110_{2} = 0 \\cdot 2^{3} + 1\\cdot2^{2} + 1\\cdot2^{1} + 0\\cdot2^{0} = 6_{16}$\n",
    "<br><br>\n",
    "$1010_{2} = 1\\cdot2^{3} + 0\\cdot2^{2}+ 1\\cdot2^{1} + 0\\cdot2^{0} =  A_{16}$\n",
    "<br><br>\n",
    "$1100_{2} = 1\\cdot2^{3} + 1\\cdot2^{2}+ 0\\cdot2^{1} + 0\\cdot2^{0} = C_{16}$\n",
    "<br><br>\n",
    "Logo, $110101011000_{2} = 6AC_{16}$. Note que o valor $1\\cdot2^{3} + 0\\cdot2^{2}+ 1\\cdot2^{1} + 0\\cdot2^{0}$ é igual a $10_{10}$. Contudo, evite escrevê-lo, indo direto para o valor $A_{16}$. Lembre-se, o jogo aqui ocorre somente com as bases $2$ e $16$.</font>"
   ]
  },
  {
   "cell_type": "markdown",
   "id": "d67816cb",
   "metadata": {
    "slideshow": {
     "slide_type": "slide"
    }
   },
   "source": [
    "<font color='blue'>b) Temos que $1010,11010001_{2} = 1010/,1101/0001_{2}$. Agora, basta convertemos cada um destes grupos de dígitos:\n",
    "<br><br>\n",
    "$1010_{2} = 1\\cdot2^{3} + 0\\cdot2^{2} + 1\\cdot2^{1} +  0\\cdot2^{0} = A_{16}$\n",
    "<br><br>\n",
    "$1101_{2} = 1\\cdot2^{3} + 1\\cdot2^{2} + 0\\cdot2^{1} +  1\\cdot2^{0} = D_{16}$\n",
    "<br><br>\n",
    "$0001_{2} = 0\\cdot2^{3} + 0\\cdot2^{2} + 0\\cdot2^{1} +  1\\cdot2^{0} = 1_{16}$\n",
    "<br><br>\n",
    "Logo, temos que $1010,11010001_{2} = AD1_{16}.$ </font>"
   ]
  },
  {
   "cell_type": "markdown",
   "id": "2588f292",
   "metadata": {},
   "source": [
    "### <div style=\"margin-top: -20px;\">\n",
    "<hr style=\"border: 2px solid black;\">\n",
    "\n",
    "<font color='black'><span style=\"font-size: 18px;\"><strong>1.5.6 Conversão Hexadecimal $\\Rightarrow$ Binário </strong></span></font>\n",
    "\n",
    "<hr style=\"border: 2px solid black;\">\n",
    "</div>"
   ]
  },
  {
   "cell_type": "markdown",
   "id": "3e6a3078",
   "metadata": {},
   "source": [
    "#### Processo de Conversão"
   ]
  },
  {
   "cell_type": "markdown",
   "id": "8afad101",
   "metadata": {
    "slideshow": {
     "slide_type": "slide"
    }
   },
   "source": [
    "Para convertemos um número da base octal para a base binária basta executarmos o caminho inverso, isto é, convertermos cada dígito da base hexadecimal para a binária separadamente agrupando-os seguindo a mesma ordem. "
   ]
  },
  {
   "cell_type": "markdown",
   "id": "7d1c28ac",
   "metadata": {},
   "source": [
    "#### <font color='blue'>Exemplo 9 </font>"
   ]
  },
  {
   "cell_type": "markdown",
   "id": "221ee4da",
   "metadata": {
    "slideshow": {
     "slide_type": "slide"
    }
   },
   "source": [
    "<font color='blue'>Execute as conversões:\n",
    "<br><br>\n",
    "a) $2F4_{16}$ para base $2$ $\\,\\,\\,\\,\\,\\,\\,\\,\\,\\,\\,\\,\\,\\,\\,\\,\\,\\,\\,\\,\\,\\,\\,\\,$ b) $2,C3_{16}$ para a base $2$. </font>"
   ]
  },
  {
   "cell_type": "markdown",
   "id": "aac4a0ed",
   "metadata": {
    "slideshow": {
     "slide_type": "slide"
    }
   },
   "source": [
    "<font color='blue'> **Solução**: a) Temos que $2F4_{16} = 2/F/4_{16}$. Agora, basta convertermos cada um desses dígitos:\n",
    "<br><br>\n",
    "$2_{16} = 10_{2} \\leftrightarrow \\underline{00}10_{2}$\n",
    "<br><br>\n",
    "$F_{16} = 1111_{2}$\n",
    "<br><br>\n",
    "$4_{16} = 100_{2} \\leftrightarrow \\underline{0}100_{2}$\n",
    "<br><br>\n",
    "Logo, $2F4_{16} = 001011110100_{2}$ ou $2F4_{16} = 1011110100_{2}$. </font>"
   ]
  },
  {
   "cell_type": "markdown",
   "id": "efff0ff1",
   "metadata": {
    "slideshow": {
     "slide_type": "slide"
    }
   },
   "source": [
    "<font color='blue'>b) Temos que $2,C3_{16} = 2/C/3_{16}$. Agora basta convertemos cada um desses dígitos:\n",
    "<br><br>\n",
    "$2_{16} = 10_{2} \\leftrightarrow \\underline{00}10_{2}$\n",
    "<br><br>\n",
    "$C = 15_{16} = 1111_{2}$\n",
    "<br><br>\n",
    "$3_{16} = 11_{2} \\leftrightarrow \\underline{00}11_{2}$\n",
    "<br><br>\n",
    "Logo, $2,C3_{16} = 001011110011_{2}$ ou $2,C3_{16} = 1011110011_{2}$. </font>"
   ]
  },
  {
   "cell_type": "markdown",
   "id": "a34f014b",
   "metadata": {},
   "source": [
    "# <div style=\"margin-top: -20px;\">\n",
    "<hr style=\"border: 2px solid black;\">\n",
    "\n",
    "<font color='black'><span style=\"font-size: 22px;\"><strong>1.6 Exercícios</strong></span></font>\n",
    "\n",
    "<hr style=\"border: 2px solid black;\">\n",
    "</div>"
   ]
  },
  {
   "cell_type": "markdown",
   "id": "12c586d4",
   "metadata": {
    "ExecuteTime": {
     "end_time": "2023-07-04T13:19:14.383424Z",
     "start_time": "2023-07-04T13:19:14.380445Z"
    },
    "slideshow": {
     "slide_type": "slide"
    }
   },
   "source": [
    "#### Exercício 1"
   ]
  },
  {
   "cell_type": "markdown",
   "id": "d6cb1056",
   "metadata": {
    "slideshow": {
     "slide_type": "fragment"
    }
   },
   "source": [
    "Execute as seguintes conversões explicitando todos os cálculos:\n",
    "<br><br>\n",
    "a) $230_{10}$ para as bases $2$, $8$ e $16$ $\\,\\,\\,\\,\\,\\,\\,\\,\\,\\,\\,\\,\\,\\,\\,\\,\\,\\,\\,\\,\\,\\,\\,\\,$ b) $111100001_{2}$ para as bases $8$, $10$ e $16$\n",
    "<br><br>\n",
    "c) $713_{8}$ para as bases $2$, $10$ e $16$ $\\,\\,\\,\\,\\,\\,\\,\\,\\,\\,\\,\\,\\,\\,\\,\\,\\,\\,\\,\\,\\,\\,\\,$ d) $AF2_{16}$ para as bases $2$, $8$ e $10$"
   ]
  },
  {
   "cell_type": "markdown",
   "id": "b2aae4d5",
   "metadata": {
    "slideshow": {
     "slide_type": "slide"
    }
   },
   "source": [
    "## <div style=\"margin-top: -20px;\">\n",
    "<hr style=\"border: 2px solid black;\">\n",
    "\n",
    "<font color='black'><span style=\"font-size: 18px;\"><strong>Respostas</strong></span></font>\n",
    "\n",
    "<hr style=\"border: 2px solid black;\">\n",
    "</div>"
   ]
  },
  {
   "cell_type": "markdown",
   "id": "697dfdf4",
   "metadata": {
    "slideshow": {
     "slide_type": "slide"
    }
   },
   "source": [
    "#### Respostas do Exercício 1"
   ]
  },
  {
   "cell_type": "markdown",
   "id": "303d5551",
   "metadata": {
    "slideshow": {
     "slide_type": "fragment"
    }
   },
   "source": [
    "a) $11100110_{2}$, $346_{8}$, $E6_{16}$, b) $741_{8}$, $481_{10}$ e $1E1_{16}$, c) $111001011_{2}$, $459_{10}$ e $1CB_{16}$\n",
    "d) $101011110010_{2}$, $5362_{8}$ e $2802_{10}$"
   ]
  },
  {
   "cell_type": "markdown",
   "id": "bb844f24",
   "metadata": {},
   "source": [
    "# <div style=\"margin-top: -20px;\">\n",
    "<hr style=\"border: 2px solid black;\">\n",
    "\n",
    "<font color='black'><span style=\"font-size: 22px;\"><strong>1.7 Vídeo Aulas</strong></span></font>\n",
    "\n",
    "<hr style=\"border: 2px solid black;\">\n",
    "</div>"
   ]
  },
  {
   "cell_type": "markdown",
   "id": "4062851d",
   "metadata": {},
   "source": [
    "Clicando nos links a seguir você será redirecionado às aulas referentes a este capítulo.\n",
    "\n",
    "[Sistemas Numéricos (Decimal, Binário, Octal e Hexadecimal)](https://youtu.be/vv5k3Q3kRGA)\n",
    "\n",
    "[Conversão de Base: Decimal-Binária](https://youtu.be/8aEnWVA92KI)\n",
    "\n",
    "[Conversão de Base: Binária-Octa](https://youtu.be/9eof3kfZVQE)\n",
    "\n",
    "[Conversão de Base: Binária-Hexadecimal](https://youtu.be/puBLm4sHX_w)"
   ]
  },
  {
   "cell_type": "markdown",
   "id": "1d92d667",
   "metadata": {},
   "source": [
    "# <div style=\"margin-top: -20px;\">\n",
    "<hr style=\"border: 2px solid black;\">\n",
    "\n",
    "<font color='black'><span style=\"font-size: 22px;\"><strong>1.8 No Computador (Experimental)</strong></span></font>\n",
    "\n",
    "<hr style=\"border: 2px solid black;\">\n",
    "</div>"
   ]
  },
  {
   "cell_type": "markdown",
   "id": "962367c4",
   "metadata": {
    "slideshow": {
     "slide_type": "slide"
    }
   },
   "source": [
    "### **É possível aprender programação sem ter um conhecimento aprofundado de matemática?** "
   ]
  },
  {
   "cell_type": "markdown",
   "id": "d7a2dc65",
   "metadata": {},
   "source": [
    "A resposta é sim, é possível iniciar na programação sem um amplo domínio matemático. No entanto, é importante destacar que o aprendizado nesse poderá ser limitado a certas áreas.\n",
    "\n",
    "A matemática desempenha um papel fundamental na programação, especialmente em áreas como algoritmos, lógica computacional e análise de dados. Ter uma base sólida em matemática pode proporcionar uma compreensão mais profunda dos princípios subjacentes à programação e abrir portas para projetos mais complexos e desafiadores.\n",
    "\n",
    "Ao aprender a programar sem um conhecimento matemático avançado, é provável que o foco esteja em tarefas básicas, como a criação de scripts simples, automatização de tarefas ou desenvolvimento de pequenas aplicações. Essas atividades podem ser úteis e até mesmo divertidas, mas podem não abordar o potencial completo da programação.\n",
    "\n",
    "Além disso, é importante destacar que, mesmo sem um conhecimento matemático aprofundado, entender o funcionamento das estruturas de programação é essencial. Saber como as estruturas condicionais, loops e estruturas de dados operam é fundamental para construir programas eficientes e compreender o fluxo lógico do código.\n",
    "\n",
    "Portanto, embora seja possível iniciar na programação sem um conhecimento matemático extenso, é altamente recomendável que os aspirantes a programadores busquem adquirir habilidades matemáticas relevantes ao longo do tempo. Isso abrirá oportunidades para enfrentar desafios mais avançados e permitirá uma compreensão mais completa da lógica e dos conceitos fundamentais por trás da programação."
   ]
  },
  {
   "cell_type": "markdown",
   "id": "71141766",
   "metadata": {
    "slideshow": {
     "slide_type": "-"
    }
   },
   "source": [
    "### <font color='red'> Atenção </font>"
   ]
  },
  {
   "cell_type": "markdown",
   "id": "1062f5e7",
   "metadata": {
    "slideshow": {
     "slide_type": "-"
    }
   },
   "source": [
    "<font color='red'>A seguir, apresentaremos alguns exemplos de códigos capazes de executar os cálculos mencionados nesta seção. Gostaria de ressaltar que, como professor de matemática, minha intenção não é ensinar programação, mas sim demonstrar a aplicabilidade de alguns conceitos. Como sou um entusiasta da programação em linguagem Python, compartilharei alguns códigos relacionados ao capítulo. A final, na **Seção 1.9: Curso Python Com Jupyter Notebook** compartilho um material de minha autoria sobre a linguagem Python.</font>"
   ]
  },
  {
   "cell_type": "markdown",
   "id": "53366da9",
   "metadata": {
    "ExecuteTime": {
     "end_time": "2023-07-04T14:16:56.104579Z",
     "start_time": "2023-07-04T14:16:56.100399Z"
    }
   },
   "source": [
    "### Implementações Passo a Passo"
   ]
  },
  {
   "cell_type": "markdown",
   "id": "d47ba566",
   "metadata": {},
   "source": [
    "#### Conversão binário $\\rightarrow$ decimal (inteiros positivos)"
   ]
  },
  {
   "cell_type": "code",
   "execution_count": 1,
   "id": "dff2627e",
   "metadata": {
    "ExecuteTime": {
     "end_time": "2023-07-17T20:17:37.211167Z",
     "start_time": "2023-07-17T20:17:37.201220Z"
    }
   },
   "outputs": [],
   "source": [
    "# Função que converte um número binário inteiro positivo em um número decimal\n",
    "def binary_to_decimal(binary):\n",
    "    decimal = 0\n",
    "    power = 0\n",
    "\n",
    "    # Inverte o número binário para facilitar o cálculo\n",
    "    binary = binary[::-1]\n",
    "\n",
    "    # Itera sobre cada dígito do número binário\n",
    "    for digit in binary:\n",
    "        # Converte o dígito de string para inteiro\n",
    "        digit = int(digit)\n",
    "        \n",
    "        # Multiplica o dígito pelo valor correspondente à sua posição na base 2\n",
    "        decimal += digit * (2 ** power)\n",
    "        \n",
    "        # Incrementa o valor da potência\n",
    "        power += 1\n",
    "\n",
    "    return decimal"
   ]
  },
  {
   "cell_type": "code",
   "execution_count": 2,
   "id": "e735d5d8",
   "metadata": {
    "ExecuteTime": {
     "end_time": "2023-07-17T20:17:37.224133Z",
     "start_time": "2023-07-17T20:17:37.214159Z"
    }
   },
   "outputs": [
    {
     "name": "stdout",
     "output_type": "stream",
     "text": [
      "13\n"
     ]
    }
   ],
   "source": [
    "# Número binário a ser convertido\n",
    "binary_number = \"1101\"  \n",
    "\n",
    "# Chamando a função\n",
    "decimal_number = binary_to_decimal(binary_number)\n",
    "\n",
    "# Imprimindo o resultado\n",
    "print(decimal_number)"
   ]
  },
  {
   "cell_type": "markdown",
   "id": "075056e2",
   "metadata": {},
   "source": [
    "#### Conversão decimal  →  binário (inteiros positivos)"
   ]
  },
  {
   "cell_type": "code",
   "execution_count": 3,
   "id": "4ca9db18",
   "metadata": {
    "ExecuteTime": {
     "end_time": "2023-07-17T20:17:37.232111Z",
     "start_time": "2023-07-17T20:17:37.226128Z"
    }
   },
   "outputs": [],
   "source": [
    "# Função que converte um número decimal inteiro positivo em um número binário\n",
    "def decimal_to_binary(decimal):\n",
    "    binary = \"\"\n",
    "\n",
    "    # Verifica se o número é zero e retorna imediatamente \"0\" na base 2\n",
    "    if decimal == 0:\n",
    "        return \"0\"\n",
    "\n",
    "    # Realiza a divisão sucessiva até que o número seja reduzido a zero\n",
    "    while decimal > 0:\n",
    "        # Obtém o resto da divisão por 2\n",
    "        remainder = decimal % 2\n",
    "\n",
    "        # Atualiza o número binário adicionando o dígito correspondente\n",
    "        binary = str(remainder) + binary\n",
    "\n",
    "        # Divide o número decimal por 2\n",
    "        decimal = decimal // 2\n",
    "\n",
    "    return binary"
   ]
  },
  {
   "cell_type": "code",
   "execution_count": 4,
   "id": "ba9c3095",
   "metadata": {
    "ExecuteTime": {
     "end_time": "2023-07-17T20:17:37.241119Z",
     "start_time": "2023-07-17T20:17:37.234129Z"
    }
   },
   "outputs": [
    {
     "name": "stdout",
     "output_type": "stream",
     "text": [
      "1101\n"
     ]
    }
   ],
   "source": [
    "# Número decimal a ser convertido\n",
    "decimal_number = 13\n",
    "\n",
    "# Chamando a função de conversão\n",
    "binary_number = decimal_to_binary(decimal_number)\n",
    "\n",
    "# Imprimindo o resultado\n",
    "print(binary_number)"
   ]
  },
  {
   "cell_type": "markdown",
   "id": "1dc90498",
   "metadata": {},
   "source": [
    "#### Conversão binário →  octal (inteiros positivos)"
   ]
  },
  {
   "cell_type": "code",
   "execution_count": 5,
   "id": "a64776ba",
   "metadata": {
    "ExecuteTime": {
     "end_time": "2023-07-17T20:17:37.250062Z",
     "start_time": "2023-07-17T20:17:37.244079Z"
    }
   },
   "outputs": [],
   "source": [
    "# Função que converte um número binário inteiro positivo em um número octal\n",
    "def binary_to_octal(binary):\n",
    "    octal = \"\"\n",
    "\n",
    "    # Verifica se o número é zero e retorna imediatamente \"0\" na base 8\n",
    "    if binary == \"0\":\n",
    "        return \"0\"\n",
    "\n",
    "    # Completa o número binário com zeros à esquerda para que seja divisível por 3\n",
    "    while len(binary) % 3 != 0:\n",
    "        binary = \"0\" + binary\n",
    "\n",
    "    # Divide o número binário em grupos de 3 dígitos da direita para a esquerda\n",
    "    while len(binary) > 0:\n",
    "        # Obtém o grupo de 3 dígitos\n",
    "        digits = binary[-3:]\n",
    "\n",
    "        # Converte o grupo de dígitos binários para octal\n",
    "        octal_digit = str(int(digits, 2))\n",
    "\n",
    "        # Atualiza o número octal adicionando o dígito correspondente\n",
    "        octal = octal_digit + octal\n",
    "\n",
    "        # Remove os 3 dígitos do número binário\n",
    "        binary = binary[:-3]\n",
    "\n",
    "    return octal"
   ]
  },
  {
   "cell_type": "code",
   "execution_count": 6,
   "id": "21f3bd7d",
   "metadata": {
    "ExecuteTime": {
     "end_time": "2023-07-17T20:17:37.258069Z",
     "start_time": "2023-07-17T20:17:37.252081Z"
    }
   },
   "outputs": [
    {
     "name": "stdout",
     "output_type": "stream",
     "text": [
      "66\n"
     ]
    }
   ],
   "source": [
    "# Número binário a ser convertido\n",
    "binary_number = \"110110\"  # Número binário a ser convertido\n",
    "\n",
    "# Chamando a função de conversão\n",
    "octal_number = binary_to_octal(binary_number)\n",
    "\n",
    "# Imprimindo o resultado\n",
    "print(octal_number)"
   ]
  },
  {
   "cell_type": "markdown",
   "id": "6f8c7858",
   "metadata": {
    "ExecuteTime": {
     "end_time": "2023-07-04T14:28:48.590118Z",
     "start_time": "2023-07-04T14:28:48.587103Z"
    }
   },
   "source": [
    "#### Conversão octal  →  binário (inteiros positivos)"
   ]
  },
  {
   "cell_type": "code",
   "execution_count": 7,
   "id": "fc3e9c47",
   "metadata": {
    "ExecuteTime": {
     "end_time": "2023-07-17T20:17:37.267036Z",
     "start_time": "2023-07-17T20:17:37.259039Z"
    }
   },
   "outputs": [],
   "source": [
    "# Função que converte um número octal inteiro positivo em um número binário\n",
    "def octal_to_binary(octal):\n",
    "    binary = \"\"\n",
    "\n",
    "    # Converte cada dígito octal para binário\n",
    "    for digit in octal:\n",
    "        # Converte o dígito octal para inteiro\n",
    "        decimal = int(digit)\n",
    "\n",
    "        # Converte o dígito decimal para binário e adiciona à string binária\n",
    "        binary += format(decimal, '03b')\n",
    "\n",
    "    return binary"
   ]
  },
  {
   "cell_type": "code",
   "execution_count": 8,
   "id": "7f3b5b0c",
   "metadata": {
    "ExecuteTime": {
     "end_time": "2023-07-17T20:17:37.286451Z",
     "start_time": "2023-07-17T20:17:37.269011Z"
    }
   },
   "outputs": [
    {
     "name": "stdout",
     "output_type": "stream",
     "text": [
      "101010\n"
     ]
    }
   ],
   "source": [
    "# Número octal a ser convertido\n",
    "octal_number = \"52\"\n",
    "\n",
    "# Chamando a função de conversão\n",
    "binary_number = octal_to_binary(octal_number)\n",
    "\n",
    "# Imprimindo o resultado\n",
    "print(binary_number)"
   ]
  },
  {
   "cell_type": "markdown",
   "id": "6a30f239",
   "metadata": {
    "ExecuteTime": {
     "end_time": "2023-07-04T14:30:12.734612Z",
     "start_time": "2023-07-04T14:30:12.729626Z"
    }
   },
   "source": [
    "#### Conversão binário →  hexadecimal (inteiros positivos)"
   ]
  },
  {
   "cell_type": "code",
   "execution_count": 9,
   "id": "86bdf02c",
   "metadata": {
    "ExecuteTime": {
     "end_time": "2023-07-17T20:17:37.293456Z",
     "start_time": "2023-07-17T20:17:37.288445Z"
    }
   },
   "outputs": [],
   "source": [
    "# Função que converte um número binário inteiro positivo em um número hexadecimal\n",
    "def binary_to_hex(binary):\n",
    "    hex_digits = \"0123456789ABCDEF\"\n",
    "    hexadecimal = \"\"\n",
    "\n",
    "    # Completa o número binário com zeros à esquerda para que seja divisível por 4\n",
    "    while len(binary) % 4 != 0:\n",
    "        binary = \"0\" + binary\n",
    "\n",
    "    # Divide o número binário em grupos de 4 dígitos da esquerda para a direita\n",
    "    while len(binary) > 0:\n",
    "        # Obtém o grupo de 4 dígitos\n",
    "        digits = binary[:4]\n",
    "\n",
    "        # Converte o grupo de dígitos binários para decimal\n",
    "        decimal = int(digits, 2)\n",
    "\n",
    "        # Obtém o dígito hexadecimal correspondente\n",
    "        hexadecimal_digit = hex_digits[decimal]\n",
    "\n",
    "        # Atualiza o número hexadecimal adicionando o dígito correspondente\n",
    "        hexadecimal += hexadecimal_digit\n",
    "\n",
    "        # Remove os 4 dígitos do número binário\n",
    "        binary = binary[4:]\n",
    "\n",
    "    return hexadecimal"
   ]
  },
  {
   "cell_type": "code",
   "execution_count": 10,
   "id": "9120ee91",
   "metadata": {
    "ExecuteTime": {
     "end_time": "2023-07-17T20:17:37.301430Z",
     "start_time": "2023-07-17T20:17:37.295426Z"
    }
   },
   "outputs": [
    {
     "name": "stdout",
     "output_type": "stream",
     "text": [
      "AB\n"
     ]
    }
   ],
   "source": [
    "# Número a ser convertido\n",
    "binary_number = \"10101011\"  # Número binário a ser convertido\n",
    "\n",
    "# Chamando a função de conversão\n",
    "hexadecimal_number = binary_to_hex(binary_number)\n",
    "\n",
    "# Imprimindo o resultado\n",
    "print(hexadecimal_number)"
   ]
  },
  {
   "cell_type": "markdown",
   "id": "abe8efa2",
   "metadata": {},
   "source": [
    "#### Conversão hexadecimal  →  binário (inteiros positivos)"
   ]
  },
  {
   "cell_type": "code",
   "execution_count": 11,
   "id": "2e498ee0",
   "metadata": {
    "ExecuteTime": {
     "end_time": "2023-07-17T20:17:37.319959Z",
     "start_time": "2023-07-17T20:17:37.303404Z"
    }
   },
   "outputs": [],
   "source": [
    "def hex_to_binary(hexadecimal):\n",
    "    binary = \"\"\n",
    "\n",
    "    # Mapeia os dígitos hexadecimais para seus equivalentes binários\n",
    "    hex_to_bin = {\n",
    "        '0': '0000',\n",
    "        '1': '0001',\n",
    "        '2': '0010',\n",
    "        '3': '0011',\n",
    "        '4': '0100',\n",
    "        '5': '0101',\n",
    "        '6': '0110',\n",
    "        '7': '0111',\n",
    "        '8': '1000',\n",
    "        '9': '1001',\n",
    "        'A': '1010',\n",
    "        'B': '1011',\n",
    "        'C': '1100',\n",
    "        'D': '1101',\n",
    "        'E': '1110',\n",
    "        'F': '1111'\n",
    "    }\n",
    "\n",
    "    # Converte cada dígito hexadecimal para binário\n",
    "    for digit in hexadecimal:\n",
    "        # Converte o dígito para maiúsculo, caso esteja em minúsculo\n",
    "        digit = digit.upper()\n",
    "\n",
    "        # Verifica se o dígito é válido\n",
    "        if digit in hex_to_bin:\n",
    "            # Adiciona o valor binário correspondente à variável binary\n",
    "            binary += hex_to_bin[digit]\n",
    "\n",
    "    return binary"
   ]
  },
  {
   "cell_type": "code",
   "execution_count": 12,
   "id": "adc350be",
   "metadata": {
    "ExecuteTime": {
     "end_time": "2023-07-17T20:17:37.325965Z",
     "start_time": "2023-07-17T20:17:37.321953Z"
    }
   },
   "outputs": [
    {
     "name": "stdout",
     "output_type": "stream",
     "text": [
      "00101111\n"
     ]
    }
   ],
   "source": [
    "# Número a ser convertido\n",
    "hexadecimal_number = \"2F\"\n",
    "\n",
    "# Chamando a função de conversão\n",
    "binary_number = hex_to_binary(hexadecimal_number)\n",
    "\n",
    "# Imprimindo o resultado\n",
    "print(binary_number)"
   ]
  },
  {
   "cell_type": "markdown",
   "id": "ecc32211",
   "metadata": {},
   "source": [
    "#### Convertendo da base 10 para a base b (2 a 36)"
   ]
  },
  {
   "cell_type": "code",
   "execution_count": 13,
   "id": "878cca09",
   "metadata": {
    "ExecuteTime": {
     "end_time": "2023-07-17T20:17:37.334940Z",
     "start_time": "2023-07-17T20:17:37.327936Z"
    }
   },
   "outputs": [],
   "source": [
    "# Função que converte um número da base 10 para a base b\n",
    "def base_10_para_base_b(n, b):\n",
    "    digitos = \"0123456789ABCDEFGHIJKLMNOPQRSTUVWXYZ\"  # Dígitos utilizados na base\n",
    "    base_n = []  # Lista para armazenar os dígitos na base b\n",
    "    while n > 0:\n",
    "        n, dig = divmod(n, b)  # Divide o número por b e obtém o quociente e o resto\n",
    "        base_n.append(digitos[dig])  # Adiciona o dígito correspondente ao resto na lista\n",
    "    base_n.reverse()  # Inverte a ordem dos dígitos na lista\n",
    "    return ''.join(base_n)  # Retorna os dígitos na base b como uma string"
   ]
  },
  {
   "cell_type": "code",
   "execution_count": 14,
   "id": "f9792054",
   "metadata": {
    "ExecuteTime": {
     "end_time": "2023-07-17T20:17:37.353552Z",
     "start_time": "2023-07-17T20:17:37.340729Z"
    }
   },
   "outputs": [
    {
     "name": "stdout",
     "output_type": "stream",
     "text": [
      "CF\n"
     ]
    }
   ],
   "source": [
    "# Armazenando o valor correspondente à conversão do valor decimal 255 para a base 20\n",
    "x1 = base_10_para_base_b(255, 20)\n",
    "\n",
    "# Imprimindo o valor convertido\n",
    "print(x1)"
   ]
  },
  {
   "cell_type": "markdown",
   "id": "fa8fe501",
   "metadata": {},
   "source": [
    "#### Convertendo da base b (2 a 36) para a base 10"
   ]
  },
  {
   "cell_type": "code",
   "execution_count": 15,
   "id": "84603363",
   "metadata": {
    "ExecuteTime": {
     "end_time": "2023-07-17T20:17:37.360533Z",
     "start_time": "2023-07-17T20:17:37.355570Z"
    }
   },
   "outputs": [],
   "source": [
    "# Função que converte um número da base b para a base 10\n",
    "def base_b_para_base_10(n, b):\n",
    "    n = reversed(n)  # Inverte o número para facilitar os cálculos\n",
    "    num = 0  # Variável para armazenar o resultado\n",
    "    for k, dig in enumerate(n):\n",
    "        if dig.isdigit():  # Verifica se o dígito é um número\n",
    "            dig = int(dig)  # Converte o dígito para inteiro\n",
    "        else:\n",
    "            dig = ord(dig.upper()) - ord('A') + 10  # Converte o dígito alfabético para inteiro\n",
    "        num += dig * pow(b, k)  # Realiza o cálculo do valor na base 10\n",
    "    return num  # Retorna o número convertido para a base 10"
   ]
  },
  {
   "cell_type": "code",
   "execution_count": 16,
   "id": "e6d1d084",
   "metadata": {
    "ExecuteTime": {
     "end_time": "2023-07-17T20:17:37.370306Z",
     "start_time": "2023-07-17T20:17:37.362526Z"
    }
   },
   "outputs": [
    {
     "name": "stdout",
     "output_type": "stream",
     "text": [
      "255\n"
     ]
    }
   ],
   "source": [
    "# Armazenando o valor correspondente à conversão de CF (base 20) para a base 10 \n",
    "x2 = base_b_para_base_10('CF', 20)\n",
    "\n",
    "# Imprimindo o valor convertido\n",
    "print(x2)"
   ]
  },
  {
   "cell_type": "markdown",
   "id": "d40627bd",
   "metadata": {},
   "source": [
    "### Utilizando Funções Prontas"
   ]
  },
  {
   "cell_type": "markdown",
   "id": "4a7dd0c9",
   "metadata": {},
   "source": [
    "Os códigos apresentados anteriormente exemplificam os algoritmos para realizar as conversões mencionadas. No entanto, é importante destacar que muitos desses códigos podem ser simplificados utilizando funções nativas ou bibliotecas importáveis específicas para essas conversões."
   ]
  },
  {
   "cell_type": "markdown",
   "id": "b5086f32",
   "metadata": {},
   "source": [
    "#### Conversão binário $\\rightarrow$ decimal (inteiros positivos)"
   ]
  },
  {
   "cell_type": "code",
   "execution_count": 17,
   "id": "b014ed82",
   "metadata": {
    "ExecuteTime": {
     "end_time": "2023-07-17T20:17:37.387050Z",
     "start_time": "2023-07-17T20:17:37.372300Z"
    }
   },
   "outputs": [
    {
     "name": "stdout",
     "output_type": "stream",
     "text": [
      "13\n"
     ]
    }
   ],
   "source": [
    "# Valor binário\n",
    "x_2 = '0b1101'\n",
    "\n",
    "# Conversão da base 2 para base 10\n",
    "x_10 = int(x_2,2)\n",
    "\n",
    "# Imprimindo o valor convertido\n",
    "print(x_10)"
   ]
  },
  {
   "cell_type": "markdown",
   "id": "a786bb5f",
   "metadata": {},
   "source": [
    "#### Conversão decimal  →  binário (inteiros positivos)"
   ]
  },
  {
   "cell_type": "code",
   "execution_count": 18,
   "id": "c75d2531",
   "metadata": {
    "ExecuteTime": {
     "end_time": "2023-07-17T20:17:37.394031Z",
     "start_time": "2023-07-17T20:17:37.389044Z"
    }
   },
   "outputs": [
    {
     "name": "stdout",
     "output_type": "stream",
     "text": [
      "0b1101\n"
     ]
    }
   ],
   "source": [
    "# Valor decimal\n",
    "x_10 = 13\n",
    "\n",
    "# Conversão da base 10 para base 2\n",
    "x_2 = bin(x_10)\n",
    "\n",
    "# Imprimindo o valor convertido\n",
    "print(x_2)"
   ]
  },
  {
   "cell_type": "markdown",
   "id": "0e005bef",
   "metadata": {},
   "source": [
    "#### Conversão binário →  octal (inteiros positivos)"
   ]
  },
  {
   "cell_type": "code",
   "execution_count": 19,
   "id": "db4ba0fb",
   "metadata": {
    "ExecuteTime": {
     "end_time": "2023-07-17T20:17:37.403839Z",
     "start_time": "2023-07-17T20:17:37.396025Z"
    }
   },
   "outputs": [
    {
     "name": "stdout",
     "output_type": "stream",
     "text": [
      "0o66\n"
     ]
    }
   ],
   "source": [
    "# Valor binário\n",
    "x_2 = \"110110\"\n",
    "\n",
    "# Conversão da base 2 para base 8\n",
    "x_8 = oct(int(x_2, 2))\n",
    "\n",
    "# Imprimindo o valor convertido\n",
    "print(x_8)"
   ]
  },
  {
   "cell_type": "markdown",
   "id": "3419ee74",
   "metadata": {},
   "source": [
    "#### Conversão octal  →  binário (inteiros positivos)"
   ]
  },
  {
   "cell_type": "code",
   "execution_count": 20,
   "id": "b627b9a2",
   "metadata": {
    "ExecuteTime": {
     "end_time": "2023-07-17T20:17:37.411817Z",
     "start_time": "2023-07-17T20:17:37.405834Z"
    }
   },
   "outputs": [
    {
     "name": "stdout",
     "output_type": "stream",
     "text": [
      "0b110110\n"
     ]
    }
   ],
   "source": [
    "# Valor octal\n",
    "x_8 = \"66\"\n",
    "\n",
    "# Conversão da base 8 para base 2\n",
    "x_2 = bin(int(x_8, 8))\n",
    "\n",
    "# Imprimindo o valor convertido\n",
    "print(x_2)"
   ]
  },
  {
   "cell_type": "markdown",
   "id": "155de67d",
   "metadata": {},
   "source": [
    "#### Conversão binário →  hexadecimal (inteiros positivos)"
   ]
  },
  {
   "cell_type": "code",
   "execution_count": 21,
   "id": "a0ba8533",
   "metadata": {
    "ExecuteTime": {
     "end_time": "2023-07-17T20:17:37.420632Z",
     "start_time": "2023-07-17T20:17:37.413714Z"
    }
   },
   "outputs": [
    {
     "name": "stdout",
     "output_type": "stream",
     "text": [
      "0xab\n"
     ]
    }
   ],
   "source": [
    "# Valor binário\n",
    "x_2 = \"10101011\"\n",
    "\n",
    "# Conversão da base 2 para base 16\n",
    "x_16 = hex(int(x_2, 2))\n",
    "\n",
    "# Imprimindo o valor convertido\n",
    "print(x_16)"
   ]
  },
  {
   "cell_type": "markdown",
   "id": "a164778e",
   "metadata": {},
   "source": [
    "#### Conversão hexadecimal  →  binário (inteiros positivos)"
   ]
  },
  {
   "cell_type": "code",
   "execution_count": 22,
   "id": "57ace5ca",
   "metadata": {
    "ExecuteTime": {
     "end_time": "2023-07-17T20:17:37.427636Z",
     "start_time": "2023-07-17T20:17:37.422625Z"
    }
   },
   "outputs": [
    {
     "name": "stdout",
     "output_type": "stream",
     "text": [
      "0b101111\n"
     ]
    }
   ],
   "source": [
    "# Valor hexadecimal\n",
    "x_16 = \"2F\"\n",
    "\n",
    "# Conversão da base 16 para base 2\n",
    "x_2 = bin(int(x_16, 16))\n",
    "\n",
    "# Imprimindo o valor convertido\n",
    "print(x_2)"
   ]
  }
 ],
 "metadata": {
  "kernelspec": {
   "display_name": "Python 3 (ipykernel)",
   "language": "python",
   "name": "python3"
  },
  "language_info": {
   "codemirror_mode": {
    "name": "ipython",
    "version": 3
   },
   "file_extension": ".py",
   "mimetype": "text/x-python",
   "name": "python",
   "nbconvert_exporter": "python",
   "pygments_lexer": "ipython3",
   "version": "3.11.5"
  },
  "varInspector": {
   "cols": {
    "lenName": 16,
    "lenType": 16,
    "lenVar": 40
   },
   "kernels_config": {
    "python": {
     "delete_cmd_postfix": "",
     "delete_cmd_prefix": "del ",
     "library": "var_list.py",
     "varRefreshCmd": "print(var_dic_list())"
    },
    "r": {
     "delete_cmd_postfix": ") ",
     "delete_cmd_prefix": "rm(",
     "library": "var_list.r",
     "varRefreshCmd": "cat(var_dic_list()) "
    }
   },
   "types_to_exclude": [
    "module",
    "function",
    "builtin_function_or_method",
    "instance",
    "_Feature"
   ],
   "window_display": false
  }
 },
 "nbformat": 4,
 "nbformat_minor": 5
}
