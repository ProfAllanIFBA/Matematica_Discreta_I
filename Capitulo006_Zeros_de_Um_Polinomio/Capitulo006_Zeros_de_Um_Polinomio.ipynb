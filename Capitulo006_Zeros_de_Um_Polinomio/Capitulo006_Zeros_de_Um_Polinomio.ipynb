{
 "cells": [
  {
   "cell_type": "markdown",
   "id": "d4ea28a8",
   "metadata": {
    "slideshow": {
     "slide_type": "slide"
    }
   },
   "source": [
    "<center> <img src=\"logo_ifba.jpg\" alt=\"jpg_python\" width=\"100\" height=\"200\"> </center>\n",
    "<br><br>\n",
    "<div align=\"center\"><span style=\"font-size: 26px;\"><strong>Cálculo Numérico <br></strong></span></div> <br>\n",
    "<center> <img src=\"python_gif.gif\" alt=\"gif_python\" width=\"80\"> </center>\n"
   ]
  },
  {
   "cell_type": "markdown",
   "id": "d76184a7",
   "metadata": {
    "slideshow": {
     "slide_type": "slide"
    }
   },
   "source": [
    "<div style=\"border: 2px solid black; padding: 10px; width: 95%; background-color: lightgray; display: flex; align-items: center;\">\n",
    "    <h1 style=\"color: red; text-align: center; margin: auto;\">\n",
    "        Capítulo 6: Zeros de Um Polinômio\n",
    "    </h1>\n",
    "</div>\n",
    "\n",
    "<font color='red'></font>\n",
    "<a href=\"\"></a>"
   ]
  },
  {
   "cell_type": "markdown",
   "id": "a68a1c71",
   "metadata": {},
   "source": [
    "# <div style=\"margin-top: -20px;\">\n",
    "<hr style=\"border: 2px solid black;\">\n",
    "\n",
    "<font color='black'><span style=\"font-size: 22px;\"><strong>6.1 Zeros de Um Polinômio</strong></span></font>\n",
    "\n",
    "<hr style=\"border: 2px solid black;\">\n",
    "</div>"
   ]
  },
  {
   "cell_type": "markdown",
   "id": "b11e916d",
   "metadata": {},
   "source": [
    "Nesta seção buscaremos limitar os zeros de um polinômio qualquer. Nos resultados a seguir consideraremos apenas **polinômios mônicos**, ou seja, polinômios no qual o coeficiente do termo de maior grau é igual a $1$."
   ]
  },
  {
   "cell_type": "markdown",
   "id": "5016ba9b",
   "metadata": {},
   "source": [
    "#### <font color='red'> Teorema 1 </font>"
   ]
  },
  {
   "cell_type": "markdown",
   "id": "a49758d2",
   "metadata": {},
   "source": [
    "<font color='red'> polinômio de grau $n$ e $a_{0} \\neq 0$. Se $\\sum_{i = 0}^{n-1} \\frac{||a_{i}||}{||x||^{n-i}} < 1$ e $x \\neq 0$, então $P(x) \\neq 0$."
   ]
  },
  {
   "cell_type": "markdown",
   "id": "5cfe38a2",
   "metadata": {},
   "source": [
    "##### <font color='red'> Demonstração </font>"
   ]
  },
  {
   "cell_type": "markdown",
   "id": "edc76b7a",
   "metadata": {},
   "source": [
    "<font color='red'>Temos que<br><br>\n",
    " $$P(x) = x^{n} \\left( 1 + \\sum_{i = 0}^{n-1} \\frac{a_{i}}{x^{n-i}} \\right).$$<br>\n",
    "    Mas $|| \\sum_{i = 0}^{n-1} \\frac{a_{i}}{x^{n-i}} || \\leq  \\sum_{i = 0}^{n-1} \\frac{||a_{i}||}{||x||^{n-i}} < 1$ e portanto $P(x) \\neq 0$."
   ]
  },
  {
   "cell_type": "markdown",
   "id": "bc5ff8fd",
   "metadata": {},
   "source": [
    "#### <font color='red'> Corolário 1 </font>"
   ]
  },
  {
   "cell_type": "markdown",
   "id": "40001330",
   "metadata": {},
   "source": [
    "<font color='red'> Se $\\frac{||a_{i}||^{1/n-i}}{||x||} < \\frac{1}{2}$ para $i = 0, \\ldots, n - 1$ e $x \\neq 0$,então $P(x) \\neq 0$."
   ]
  },
  {
   "cell_type": "markdown",
   "id": "9b20f03d",
   "metadata": {},
   "source": [
    "##### <font color='red'> Demonstração </font>"
   ]
  },
  {
   "cell_type": "markdown",
   "id": "7f70d8f9",
   "metadata": {},
   "source": [
    "<font color='red'> Temos que<br><br>\n",
    " $$\\sum_{i = 0}^{n-1} \\frac{||a_{i}||}{||x||^{n-i}} = \\sum_{i = 0}^{n-1} \\left( \\frac{||a_{i}||^{\\frac{1}{n-i}}}{||x||} \\right)^{n-i} = \\left( \\frac{||a_{0}||^{\\frac{1}{n}}}{||x||} \\right)^{n} + \\left( \\frac{||a_{1}||^{\\frac{1}{n-1}}}{||x||} \\right)^{n-1} + \\left( \\frac{||a_{2}||^{\\frac{1}{n-2}}}{||x||} \\right)^{n-2} + \\cdots + \\left( \\frac{||a_{n-1}||^{\\frac{1}{1}}}{||x||} \\right)^{1} \\leq $$<br>\n",
    " $$\\leq \\left(\\frac{1}{2}\\right)^{n} + \\left(\\frac{1}{2}\\right)^{n-1} + \\left(\\frac{1}{2}\\right)^{n-2} + \\ldots + \\frac{1}{2} = \\frac{1}{2^{n}} + \\frac{1}{2^{n-1}} + \\frac{1}{2^{n-2}} + \\frac{1}{2} < 1.$$<br>\n",
    " Portanto, o **Teorema 1** concluímos que $p(x) \\neq 0$."
   ]
  },
  {
   "cell_type": "markdown",
   "id": "c257c100",
   "metadata": {},
   "source": [
    "No **Corolário 1** Usamos o fato que\n",
    "\n",
    "$$ \\frac{1}{2^{n}} + \\frac{1}{2^{n-1}} + \\frac{1}{2^{n-2}} + \\frac{1}{2} < 1.$$\n",
    "\n",
    "Tal fato decorre da conhecida série geométrica:\n",
    "\n",
    "$$\\frac{1}{2} + \\frac{1}{2^{2}} + \\ldots + \\frac{1}{2^{n-2}} + \\frac{1}{2^{n-1}} + \\frac{1}{2^{n}} + \\underset{parte \\ infinita}{\\underbrace{\\frac{1}{2^{n+1}} + \\ldots}} = 1.$$\n",
    "\n",
    "A parte grifada, correspondente à soma de infinitos termos positivos, que é, portanto, positiva. Sendo esta suprimida, temos a desigualdade estrita."
   ]
  },
  {
   "cell_type": "markdown",
   "id": "24b4907b",
   "metadata": {},
   "source": [
    "#### <font color='red'> Teorema 2 </font>"
   ]
  },
  {
   "cell_type": "markdown",
   "id": "99e64b1e",
   "metadata": {},
   "source": [
    "<font color='red'> Seja $P(x) = x^{n} + a_{n-1}x^{n-1} + \\ldots + a_{1}x + a_{0}$ um polinômio de grau $n$ e $a_{0} \\neq 0$. Se $x$ é um zero de $P(x)$, então $||x|| \\leq L,$ onde $L = 2 max_{0 \\leq i \\leq n-1}\\, \\{ ||a_{i}||^{1/n-i} \\}$."
   ]
  },
  {
   "cell_type": "markdown",
   "id": "e568b75c",
   "metadata": {},
   "source": [
    "##### <font color='red'> Demonstração </font>"
   ]
  },
  {
   "cell_type": "markdown",
   "id": "138b6ed9",
   "metadata": {},
   "source": [
    "<font color='red'> Negando o **Corolário 1**, temos que se $P(x) = 0$ então existe $i_{0}$ tal que $ \\frac{1}{2} \\leq \\frac{||a_{i_{0}}||^{1/n-i_{0}}}{||x||}$. Além disso,<br><br>\n",
    " $$\\frac{||a_{i}||^{1/n-i}}{||x||} \\leq \\frac{max_{0 \\leq i \\leq n-1}\\, \\{ ||a_{i}||^{1/n-i} \\}}{||x||}.$$<br>\n",
    " Assim,<br><br>\n",
    " $$\\frac{1}{2} \\leq \\frac{max_{0 \\leq i \\leq n-1}\\, \\{ ||a_{i}||^{1/n-i} \\}}{||x||} \\Rightarrow ||x|| \\leq 2 max_{0 \\leq i \\leq n-1}\\, \\{ ||a_{i}||^{1/n-i} \\}.$$"
   ]
  },
  {
   "cell_type": "markdown",
   "id": "845a4111",
   "metadata": {},
   "source": [
    "#### <font color='blue'> Exemplo 1 </font>"
   ]
  },
  {
   "cell_type": "markdown",
   "id": "ba14fce0",
   "metadata": {},
   "source": [
    "<font color='blue'> Encontre o limite superior e inferior dos zeros reais do polinômio $P(x) = x^{3} + 3x^{2} - 10x + 24$"
   ]
  },
  {
   "cell_type": "markdown",
   "id": "e4758ec0",
   "metadata": {},
   "source": [
    "##### <font color='blue'> Solução </font>"
   ]
  },
  {
   "cell_type": "markdown",
   "id": "097c304d",
   "metadata": {},
   "source": [
    "<font color='blue'>Temos que<br><br>\n",
    " $$L = 2 max_{0 \\leq i \\leq n-1}\\, \\{ ||a_{i}||^{1/n-i} \\} = 2 max \\{ ||a_{0}||^{1/3}, ||a_{1}||^{1/2}, ||a_{2}|| \\} = 2 max \\{24^{1/3}, \\, 10^{1/2}, \\, 3 \\} = 2 \\sqrt{10}.$$<br>\n",
    " Logo, todos os zeros reais de $P(x)$ estão no intervalo $[-2 \\sqrt{10}, 2 \\sqrt{10}]$."
   ]
  },
  {
   "cell_type": "markdown",
   "id": "45877e6d",
   "metadata": {},
   "source": [
    "#### Observação 1"
   ]
  },
  {
   "cell_type": "markdown",
   "id": "afe8ccdd",
   "metadata": {},
   "source": [
    "Se por exemplo, estivéssemos interessados tanto nos zeros complexos, quanto reais no exemplo acima, teríamos, ao invés de um intervalo, um círculo $C$ (ou bola) de raio $2\\sqrt{10}$. Basta observar que $||x|| < L$. Acompanhe a figura a seguir:<br><br>\n",
    "    \n",
    "<center> <img src=\"fig6-1.jpg\" alt=\"jpg_python\" width=\"700\" height=\"\"> </center><br>\n",
    "\n",
    "Note que os zeros de $P(x)$ são: $x_{1}=-5.56931528279411$, $x_{2}=1.28465764139706 - 1.63063840724481i$ e $x_{3} = 1.28465764139706 + 1.63063840724481i$. Note que o zero real $x_{1}$ pertence ao intervalo $[-2\\sqrt{10},2\\sqrt{10}]$ e os zeros complexos $x_{2}$ e $x_{3}$ pertencem à bola de $B(0,2\\sqrt{10})$\n",
    "\n",
    "*A notação $B(c,r)$ indica uma bola de centro $c$ e raio $r$. Um número complexo $x = a+bi$ pertence a bola $B(0,r)$ se $\\rho(x) = \\sqrt{a^{2} + b^{2}} < r$. De fato, $\\rho(x_{2}) = \\rho(x_{3}) = 2.075891825404625 < 2\\sqrt{10}$.*"
   ]
  },
  {
   "cell_type": "markdown",
   "id": "c35314f5",
   "metadata": {},
   "source": [
    "#### Limitantes Intermediários"
   ]
  },
  {
   "cell_type": "markdown",
   "id": "8ded756f",
   "metadata": {},
   "source": [
    "Sejam $\\xi_{0}, \\ldots, \\xi_{n-1}$ os zeros de $P(x)$. Considere o polinômio $P_{1}(x) = x^{n} P \\left( \\frac{1}{x} \\right)$. Assim,\n",
    "\n",
    "$$P_{1}(x) = x^{n}P\\left(\\frac{1}{x}\\right) = x^{n} \\left(\\frac{1}{x} - \\xi_{0} \\right)\\left(\\frac{1}{x} - \\xi_{1} \\right) \\cdots  \\left(\\frac{1}{x} - \\xi_{n-1} \\right) = x^{n} \\left( \\frac{1 - x \\xi_{0}}{x} \\right) \\ldots \\left( \\frac{1 - x \\xi_{n-1}}{x}  \\right) =$$\n",
    "\n",
    "$$= x^{n} \\frac{1}{x^{n}}(1 - x \\xi_{0}) \\ldots (1 - x \\xi_{n-1}) = (1 - x \\xi_{0}) \\ldots (1 - x \\xi_{n-1}).$$\n",
    "\n",
    "Fazendo $1-x\\xi_{i} = 0$, temos que os zeros de $P_{1}(x)$ são $\\frac{1}{\\xi_{0}}, \\ldots, \\frac{1}{\\xi_{n-1}}$. Aplicando o **Teorema 2** a $P_{1}(x)$ temos $L_{1}$ tal que $||\\frac{1}{x_{i}}|| \\leq  L_{1}$ e portanto $\\frac{1}{L_{1}} \\leq ||\\xi_{i}||$.Logo, se  $x$ é um zero de um polinômio mônico qualquer, etnão $\\frac{1}{L_{1}} \\leq ||x|| \\leq L$.\n",
    "\n",
    "No caso de zeros reais podemos dizer que:\n",
    "\n",
    "$$-L_{1} \\leq \\frac{1}{\\xi_{i}} \\leq L_{1} \\Rightarrow \\xi_{1} \\leq -\\frac{1}{L_{1}} \\, \\, e \\, \\, \\xi_{1} \\geq  \\frac{1}{L_{1}}.$$\n",
    "\n",
    "Portanto, os zeros reais positivos e negtivos de $p(x)$ estão nos intervalos $[-L, -\\frac{1}{L_{1}}]$, $[\\frac{1}{L_{1}}, L]$. Os resultados apresentados podem ser estendidos para zeros complexos."
   ]
  },
  {
   "cell_type": "markdown",
   "id": "a91a5881",
   "metadata": {},
   "source": [
    "#### <font color='blue'> Exemplo 2 </font>"
   ]
  },
  {
   "cell_type": "markdown",
   "id": "a3125b4f",
   "metadata": {},
   "source": [
    "<font color='blue'>Ache os limites $L$, $L_{1}$ de $P(x) = x^{3} + 3x^{2} - 10x + 24$."
   ]
  },
  {
   "cell_type": "markdown",
   "id": "f1d0b4c9",
   "metadata": {},
   "source": [
    "##### <font color='blue'> Solução </font>"
   ]
  },
  {
   "cell_type": "markdown",
   "id": "fc121a58",
   "metadata": {},
   "source": [
    "<font color='blue'> No **Exemplo 1** vimos que $L = 2 \\sqrt{10}$. Por outro lado,<br><br>\n",
    " $$P_{1}(x) = x^{3} P \\left( \\frac{1}{x} \\right) = x^{3} \\left( \\frac{1}{x^{3}} + 3 \\frac{1}{x^{2}} - 10 \\frac{1}{x} + 24 \\right) = 1 + 3x - 10x^{2} + 24 x^{3} \\Rightarrow G_{1}(x) = \\frac{P_{1}(x)}{24} = \\frac{1}{24} + \\frac{1}{8}x - \\frac{5}{12}x^{2} + x^{3}$$<br>\n",
    " $$L_{1} = 2 max \\left\\{ ||\\frac{1}{24}||^{1/3}, ||\\frac{1}{8}||^{1/2}, ||-\\frac{5}{12}|| \\right\\} = 2.\\frac{5}{12} = \\frac{5}{6} \\rightarrow \\frac{1}{L_{1}} = \\frac{6}{5}.$$<br>\n",
    " Logo, os zeros reais de $f(x)$ estão nos intervalos $[-2 \\sqrt{10}, -\\frac{6}{5}]$, $[\\frac{6}{5}, 2 \\sqrt{10}]$."
   ]
  },
  {
   "cell_type": "markdown",
   "id": "1cbf9f6f",
   "metadata": {},
   "source": [
    "# <div style=\"margin-top: -20px;\">\n",
    "<hr style=\"border: 2px solid black;\">\n",
    "\n",
    "<font color='black'><span style=\"font-size: 22px;\"><strong>6.2 Multiplicidade de Um Zero</strong></span></font>\n",
    "\n",
    "<hr style=\"border: 2px solid black;\">\n",
    "</div>"
   ]
  },
  {
   "cell_type": "markdown",
   "id": "0faac007",
   "metadata": {},
   "source": [
    "O resultado que se segue é um dos teoremas mais importantes referente à álgebra polinomial feitas sobre os números complexos/reais."
   ]
  },
  {
   "cell_type": "markdown",
   "id": "346f2c84",
   "metadata": {},
   "source": [
    "#### <font color='red'> Teorema 3 </font>"
   ]
  },
  {
   "cell_type": "markdown",
   "id": "9b589e32",
   "metadata": {},
   "source": [
    "<font color='red'> Todo polinômio não constante de grau $n$ possui exatamente $n$ raízes complexas, não necessariamente distintas.\n"
   ]
  },
  {
   "cell_type": "markdown",
   "id": "c5b132f5",
   "metadata": {},
   "source": [
    "##### <font color='red'> Demonstração </font>"
   ]
  },
  {
   "cell_type": "markdown",
   "id": "06ab38f8",
   "metadata": {},
   "source": [
    "<font color='red'> A demonstração do presente teorema envolve conceitos da álgebra abstrata cujos pré-requisitos, em geral não são vistos em cursos de engenharias e outras áreas da matemática aplicada. O leitor mais perspicaz pode encontrá-la em $[5]$. *Vai na fé!*"
   ]
  },
  {
   "cell_type": "markdown",
   "id": "92437773",
   "metadata": {},
   "source": [
    "#### Multiplicidade dos Zeros e Derivadas"
   ]
  },
  {
   "cell_type": "markdown",
   "id": "9657d634",
   "metadata": {},
   "source": [
    "Para se determinar a multiplicidade de um zero, $\\xi$, basta olharmos as derivadas sucessivas aplicadas a $\\xi$. A multiplicidade, neste caso, é dada pela ordem da última derivada nula, adicionada de $1$ (lembre-se que $f(x) = f^{(0)}$, $f'(x) = f^{(1)}(x)$, $\\ldots$. De fato, um polinômio $P(x)$ contendo um zero $a$, de multiplicidade $k$, pode ser escrito na forma $P(x) = (x-a)^{k}Q(x)$ em que $x-a$ não divide $Q(x)$. Derivando $P(x)$ sucessivamente, temos:\n",
    "\n",
    "$$P'(x) = k(x-a)^{k-1}Q(x) + (x-a)^{k}Q'(x)$$\n",
    "\n",
    "$$P''(x) = k(k-1)(x-a)^{k-2}Q(x) + k(x-a)^{k-1}Q'(x)+ k(x-a)^{k-1}Q'(x) + (x-a)^{k}Q''(x)$$\n",
    "\n",
    "$$\\vdots$$\n",
    "\n",
    "$$P^{(k-1)}(x) = k(k-1)(k-2) \\cdots 2 (x-a)$$\n",
    "\n",
    "Note que o termo $x-a$ está presente em todas as parcelas até a derivada de ordem $k-1$."
   ]
  },
  {
   "cell_type": "markdown",
   "id": "ce58acbb",
   "metadata": {},
   "source": [
    "#### <font color='blue'> Exemplo 3 </font>"
   ]
  },
  {
   "cell_type": "markdown",
   "id": "d0ffd9c4",
   "metadata": {},
   "source": [
    "<font color='blue'> O polinômio $P(x) = x^{3} + 4x^{2} + 5x + 2$ possui três zeros, porém o conjunto solução de $P(x) = 0$ é $\\{-1, -2 \\}$. Isto ocorre devido ao $-1$ ser um zero de multiplicidade $2$. Considerando o exposto acima, temos que $P(-2) = (-2)^{3} + 4(-2)^{2} + 5(-2) + 2 = 0$ e $P'(-2) = 3\\cdot (-2)^{2} + 8\\cdot(-2) + 5 = 2 \\neq 0$, donde segue que $x=-2$ é um zero de $P(x)$ com multiplicidade $1$. Por outro lado, $P(-1) =(-1)^{3} + 4(-1)^{2} + 5(-1) + 2 = 0$, $P'(-1) = 3\\cdot (-1)^{2} + 8\\cdot(-1) + 5 = 0$ e $P''(-1) = 6(-1) + 8 = 2 \\neq 0$, donde segue que $x=-1$ é um zero de $P(x)$ com multiplicidade $2$."
   ]
  },
  {
   "cell_type": "markdown",
   "id": "27872ba7",
   "metadata": {},
   "source": [
    "# <div style=\"margin-top: -20px;\">\n",
    "<hr style=\"border: 2px solid black;\">\n",
    "\n",
    "<font color='black'><span style=\"font-size: 22px;\"><strong>6.3 Implementações</strong></span></font>\n",
    "\n",
    "<hr style=\"border: 2px solid black;\">\n",
    "</div>"
   ]
  },
  {
   "cell_type": "markdown",
   "id": "3802d2a8",
   "metadata": {},
   "source": [
    "#### <font color='darkpurple'> Algoritmo: Método de Delimitação de Zeros</font>"
   ]
  },
  {
   "cell_type": "markdown",
   "id": "c969cd1c",
   "metadata": {},
   "source": [
    "<font color='darkpurple'> Para determinar uma região intervalar contendo todos os possíveis zeros reais de um polinômio $P(x)$ desde que $P0) \\neq 0$. <br><br>\n",
    " **ENTRADAS:** vetor $A$ contendo os coeficientes de $P(x)$ (considerando a ordem decrescente para o grau).<br><br>\n",
    " **SAÍDA:** Região composta por uma união de intervalos contendo todos os zeros reais de $P(x)$.<br><br>\n",
    "    **Passo 1:** Se A(1) = 1, então;<br><br>\n",
    "    $\\ \\ \\ $ C = A;<br><br>\n",
    "    senão<br><br>\n",
    "    $\\ \\ \\ $ C = $\\frac{1}{A(1)}*A$;<br><br>\n",
    "    $\\ \\ \\ $ $s_{1} = f(p_{1})$;<br><br>\n",
    "    **Passo 2:** Faça $i = 2$;<br><br>\n",
    "    $\\ \\ \\ $ Faça $L = -inf$;<br><br>\n",
    "    $\\ \\ \\ $ **Passo 3:** Enquanto $i \\leq tam(A)$, execute os **Passos 4** a **6**;<br><br>\n",
    "    $\\ \\ \\ \\ \\ \\ \\ \\ \\ $ **Passo 4:** Faça $C(i) = |C(i)^{1/(i-1)}|$;<br><br>\n",
    "    $\\ \\ \\ \\ \\ \\ \\ \\ \\ $ **Passo 5:** Se $C(i) > L$, então $L = C(i)$;<br><br>\n",
    "    $\\ \\ \\ \\ \\ \\ \\ \\ \\ $ **Passo 6:** Faça $i = i + 1$;<br><br>\n",
    "    $\\ \\ \\ $ **Passo 7:** Faça $j = 1$;<br><br>\n",
    "    $\\ \\ \\ $ **Passo 8:** Enquanto $j \\leq tam(A)$, execute os **Passos 9** e **10**;<br><br>\n",
    "    $\\ \\ \\ \\ \\ \\ \\ \\ \\ $ **Passo 9:** Faça $B(j) = A(tam(A)-j+1)$;<br><br>\n",
    "    $\\ \\ \\ \\ \\ \\ \\ \\ \\ $ **Passo 10:** Faça $j = j + 1$;<br><br>\n",
    "    **Passo 11:** Se B(1) = 1, então;<br><br>\n",
    "    $\\ \\ \\ $ D = B;<br><br>\n",
    "    senão<br><br>\n",
    "    $\\ \\ \\ $ D = $\\frac{1}{B(1)}*B$;<br><br>\n",
    "    $\\ \\ \\ $ $s_{1} = f(p_{1})$;<br><br>\n",
    "    **Passo 12:** Faça $k = 2$;<br><br>\n",
    "    $\\ \\ \\ $ Faça $L1 = -inf$;<br><br>\n",
    "    **Passo 13:** Enquanto $k \\leq tam(B)$, execute os **Passos 14** a **16**;<br><br>\n",
    "    $\\ \\ \\ \\ \\ \\ \\ \\ \\ $ **Passo 14:** Faça $D(k) = |C(k)^{1/(k-1)}|$;<br><br>\n",
    "    $\\ \\ \\ \\ \\ \\ \\ \\ \\ $ **Passo 15:** Se $D(k) > L_{1}$, então $L_{1} = D(k)$;<br><br>\n",
    "    $\\ \\ \\ \\ \\ \\ \\ \\ \\ $ **Passo 16:** Faça $k = k + 1$;<br><br>\n",
    "    **Passo 17:** *SAÍDA* (\"Os zeros de $P(x)$ pertencem aos intervalos $\\left[-2L,-\\frac{1}{2L_{1}}\\right] \\cup \\left[\\frac{1}{2L_{1}},2L\\right]$ \")<br><br>\n",
    "    $\\ \\ \\ \\ \\ \\ \\ \\ \\ $ *PARE*"
   ]
  },
  {
   "cell_type": "markdown",
   "id": "828e1803",
   "metadata": {},
   "source": [
    "#### <font color='darkblue'> Código Python: Método de Delimitação de Zeros</font>"
   ]
  },
  {
   "cell_type": "code",
   "execution_count": 4,
   "id": "433fa08c",
   "metadata": {
    "ExecuteTime": {
     "end_time": "2024-01-06T14:31:58.958128Z",
     "start_time": "2024-01-06T14:31:58.950203Z"
    }
   },
   "outputs": [],
   "source": [
    "from numpy import*\n",
    "def mdz(A):\n",
    "        A = matrix(A, dtype=float)\n",
    "        C = (1 / A[0, 0]) * A\n",
    "\n",
    "        L = -float('inf')\n",
    "        i = 1\n",
    "        while i <= (size(A) - 1):\n",
    "            C[0, i] = abs(abs(C[0, i]) ** (1 / i))\n",
    "            if C[0, i] > L:\n",
    "                L = C[0, i]\n",
    "            i = i + 1\n",
    "\n",
    "        B = matrix(A)\n",
    "        j = 0\n",
    "        while j <= (size(A) - 1):\n",
    "            B[0, j] = A[0, size(A) - j - 1]\n",
    "            j = j + 1\n",
    "        D = (1 / B[0, 0]) * B\n",
    "\n",
    "        L1 = -float('inf')\n",
    "        k = 1\n",
    "        while k <= (size(A) - 1):\n",
    "            D[0, k] = abs(abs(D[0, k]) ** (1 / (k)))\n",
    "            if D[0, k] > L1:\n",
    "                L1 = D[0, k]\n",
    "            k = k + 1\n",
    "\n",
    "        print('Os zeros de P(x) pertencem à união de intervalos: [%0.6f,%0.6f] U [%0.6f,%0.6f].\\n'\n",
    "              % (-2 * L, -1 / (2 * L1), 1 / (2 * L1), 2 * L))"
   ]
  },
  {
   "cell_type": "code",
   "execution_count": 3,
   "id": "8deb52db",
   "metadata": {
    "ExecuteTime": {
     "end_time": "2024-01-06T14:31:56.939603Z",
     "start_time": "2024-01-06T14:31:56.935328Z"
    }
   },
   "outputs": [
    {
     "name": "stdout",
     "output_type": "stream",
     "text": [
      "Os zeros de P(x) pertencem à união de intervalos: [-6.324555,-1.200000] U [1.200000,6.324555].\n",
      "\n"
     ]
    }
   ],
   "source": [
    "# Exemplo de uso\n",
    "mdz([1,3,-10,24])"
   ]
  },
  {
   "cell_type": "markdown",
   "id": "7f67a0f4",
   "metadata": {},
   "source": [
    "# <div style=\"margin-top: -20px;\">\n",
    "<hr style=\"border: 2px solid black;\">\n",
    "\n",
    "<font color='black'><span style=\"font-size: 22px;\"><strong>Exercícios</strong></span></font>\n",
    "\n",
    "<hr style=\"border: 2px solid black;\">\n",
    "</div>"
   ]
  },
  {
   "cell_type": "markdown",
   "id": "7d45d03d",
   "metadata": {},
   "source": [
    "#### Exercício 1"
   ]
  },
  {
   "cell_type": "markdown",
   "id": "a1d6515e",
   "metadata": {},
   "source": [
    "Ache os limites superior e inferior dos zeros do polinômio $P(x) = 2x^{3} - 3x^{2} - 2x + 3$.\t"
   ]
  },
  {
   "cell_type": "markdown",
   "id": "7b5ec298",
   "metadata": {},
   "source": [
    "#### Exercício 2"
   ]
  },
  {
   "cell_type": "markdown",
   "id": "bcaa49e5",
   "metadata": {},
   "source": [
    "Considerando o polinômio $P(x) = x^{3} - 2x^{2} - 4x + 7$ determine:\n",
    "\n",
    "a) Os limites inferior e superior para os zeros $P(x)$.\n",
    "\n",
    "b) Aplique o método de localização de zeros com $n=5$ (Capítulo 1) aos intervalos obtidos a fim de separar os zeros reais de $P(x)$. (Lembre-se que $\\gamma = \\frac{b-a}{n}$)\n",
    "\n",
    "c) Aplique o método de Newton em cada uma dos subintervalos obtidos no item \"b\" com precisão de $10^{-3}$. Utilize $x_{0} = \\frac{a+b}{2}$ em que $a$ e $b$ são os extremos inferior e superior dos subintervalos contendo algum zero. "
   ]
  },
  {
   "cell_type": "markdown",
   "id": "f7d1a7ba",
   "metadata": {},
   "source": [
    "# <div style=\"margin-top: -20px;\">\n",
    "<hr style=\"border: 2px solid black;\">\n",
    "\n",
    "<font color='black'><span style=\"font-size: 22px;\"><strong>Respostas dos Exercícios</strong></span></font>\n",
    "\n",
    "<hr style=\"border: 2px solid black;\">\n",
    "</div>"
   ]
  },
  {
   "cell_type": "markdown",
   "id": "fd272db6",
   "metadata": {},
   "source": [
    "#### Resposta do Exercício 1"
   ]
  },
  {
   "cell_type": "markdown",
   "id": "62ccc522",
   "metadata": {},
   "source": [
    "$L = 3$, $L_{1} = 0.5$"
   ]
  },
  {
   "cell_type": "markdown",
   "id": "f32aef86",
   "metadata": {},
   "source": [
    "#### Resposta do Exercício 2"
   ]
  },
  {
   "cell_type": "markdown",
   "id": "5ba44ded",
   "metadata": {},
   "source": [
    "a) $L = 4$, $L_{1} = 0.875$, b) Existem três zeros reais, um em cada um dos seguintes subintervalos: $I_{1} = [-2.125,-1.5]$, $I_{2} = [0.875,1.5]$ e $I_{3} = [2.125,2.75]$, c) Aplicando o método de Newton em $x_{0} = \\frac{-2.125-1.5}{2} = -1.8125$, temos $x_{3} = -1.935432332776539$; Para $x_{0} = 1.1875$, temos $x_{3} =  1.462598159595508$; Para $x_{0} = 2.4375$, temos $x_{3} = 2.472833909008159$. *O fato de todos os itens terem ido exatamente até a terceira iteração $x_{3}$ é pura coincidência!!!*"
   ]
  },
  {
   "cell_type": "markdown",
   "id": "bb844f24",
   "metadata": {},
   "source": [
    "# <div style=\"margin-top: -20px;\">\n",
    "<hr style=\"border: 2px solid black;\">\n",
    "\n",
    "<font color='black'><span style=\"font-size: 22px;\"><strong>Vídeo Aulas</strong></span></font>\n",
    "\n",
    "<hr style=\"border: 2px solid black;\">\n",
    "</div>"
   ]
  },
  {
   "cell_type": "markdown",
   "id": "4062851d",
   "metadata": {},
   "source": [
    "Clicando nos links a seguir você será redirecionado às aulas referentes a este capítulo:\n",
    "\n",
    "[Cotas Superiores da Delimitação de Zeros de Um Polinômio (Teoremas de Suporte](https://youtu.be/jpgm6HoEHHo)\n",
    "\n",
    "[Cotas Superiores da Delimitação de Zeros de um Polinômio (Teorema Principal)](https://youtu.be/lx9t0NM3u-A)\n",
    "\n",
    "[Cotas Intermediárias da Delimitação de Zeros de Um Polinômio](https://youtu.be/ICYL1uXveSc)"
   ]
  }
 ],
 "metadata": {
  "kernelspec": {
   "display_name": "Python 3 (ipykernel)",
   "language": "python",
   "name": "python3"
  },
  "language_info": {
   "codemirror_mode": {
    "name": "ipython",
    "version": 3
   },
   "file_extension": ".py",
   "mimetype": "text/x-python",
   "name": "python",
   "nbconvert_exporter": "python",
   "pygments_lexer": "ipython3",
   "version": "3.11.5"
  },
  "varInspector": {
   "cols": {
    "lenName": 16,
    "lenType": 16,
    "lenVar": 40
   },
   "kernels_config": {
    "python": {
     "delete_cmd_postfix": "",
     "delete_cmd_prefix": "del ",
     "library": "var_list.py",
     "varRefreshCmd": "print(var_dic_list())"
    },
    "r": {
     "delete_cmd_postfix": ") ",
     "delete_cmd_prefix": "rm(",
     "library": "var_list.r",
     "varRefreshCmd": "cat(var_dic_list()) "
    }
   },
   "types_to_exclude": [
    "module",
    "function",
    "builtin_function_or_method",
    "instance",
    "_Feature"
   ],
   "window_display": false
  }
 },
 "nbformat": 4,
 "nbformat_minor": 5
}
