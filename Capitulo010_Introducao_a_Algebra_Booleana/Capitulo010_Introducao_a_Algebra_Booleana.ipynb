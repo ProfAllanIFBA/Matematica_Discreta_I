{
 "cells": [
  {
   "cell_type": "markdown",
   "id": "de40f19b",
   "metadata": {},
   "source": [
    "<center> <img src=\"logo_ifba.jpg\" alt=\"jpg_python\" width=\"100\" height=\"200\"> </center>\n",
    "<br><br>\n",
    "<div align=\"center\"><span style=\"font-size: 26px;\"><strong>Matemática Discreta I <br></strong></span></div> <br>\n",
    "<div align=\"center\"><span style=\"font-size: 18px;\"><strong>Versão Colab <br></strong></span></div> <br>\n",
    "<center> <img src=\"python_gif.gif\" alt=\"gif_python\" width=\"80\"> </center>"
   ]
  },
  {
   "cell_type": "markdown",
   "id": "52af9bb6",
   "metadata": {},
   "source": [
    "<div style=\"border: 2px solid black; padding: 10px; width: 95%; background-color: lightgray; display: flex; align-items: center;\">\n",
    "    <h1 style=\"color: red; text-align: center; margin: auto;\">\n",
    "        Capítulo 10: Introdução à Álgebra Booleana\n",
    "    </h1>\n",
    "</div>\n",
    "\n",
    "<font color='red'></font>\n",
    "<a href=\"\"></a>"
   ]
  },
  {
   "cell_type": "markdown",
   "id": "0c2310e1",
   "metadata": {},
   "source": [
    "Neste capítulo, exploraremos a teoria matemática desenvolvida por George Boole, que desempenha um papel crucial na representação e manipulação de informações binárias. Esse tópico é fundamental para a compreensão do funcionamento dos sistemas eletrônicos modernos e a tomada de decisões baseadas em lógica. Entre as aplicações da Álgebra Booleana, destacamos a modelagem de sistemas lógicos, simplificação de expressões e a resolução de problemas complexos, fornecendo uma base sólida para a compreensão do mundo da computação e da eletrônica. Este capítulo serve como o primeiro passo em sua jornada para aprimorar o raciocínio lógico e compreender os fundamentos por trás dos dispositivos eletrônicos e circuitos lógicos."
   ]
  },
  {
   "cell_type": "markdown",
   "id": "5c44459d",
   "metadata": {},
   "source": [
    "# <div style=\"margin-top: -20px;\">\n",
    "<hr style=\"border: 2px solid black;\">\n",
    "\n",
    "<font color='black'><span style=\"font-size: 22px;\"><strong>10.1 Funções Booleanas</strong></span></font>\n",
    "\n",
    "<hr style=\"border: 2px solid black;\">\n",
    "</div>"
   ]
  },
  {
   "cell_type": "markdown",
   "id": "d9f1f1c2",
   "metadata": {},
   "source": [
    "A álgebra booleana fornece as operações e as regras para trabalhar com o conjunto $\\{0,1,\\}$. Chaves eletrônicas e óticas podem ser estudadas usando esse conjunto e as regras da álgebra booleana. As três operações na álgebra booleana que mais usaremos são a complementação, a soma booleana e o produto booleano. "
   ]
  },
  {
   "cell_type": "markdown",
   "id": "81438b74",
   "metadata": {},
   "source": [
    "####  <font color='red'> Definição 1 </font>"
   ]
  },
  {
   "cell_type": "markdown",
   "id": "ffe2e943",
   "metadata": {},
   "source": [
    "<font color='red'>i) O complemento de um elemento, indicado por uma barra sobre o mesmo, é definido por<br><br>\n",
    " $$\\overline{0} = 1 \\ \\  e \\ \\ \\overline{1} = 0.$$<br>\n",
    " A soma booleana, indicada por $+$ ou por $OU$, tem os seguintes valores:<br><br>\n",
    " $$1 + 1 = 1, \\ \\ \\ 1 + 0 = 1, \\ \\ \\ 0 + 1 = 1, \\ \\ \\ 0 + 0 = 0.$$<br>\n",
    " O produto booleano, indicado por $\\cdot$ ou por $E$, tem os seguintes valores:<br><br>\n",
    " $$1 \\cdot 1 = 1, \\,\\,\\,\\, 1 \\cdot 0 = 0, \\,\\,\\,\\, 0 \\cdot 1 = 0, \\,\\,\\,\\, 0 \\cdot 0 = 0.$$"
   ]
  },
  {
   "cell_type": "markdown",
   "id": "366c6d4f",
   "metadata": {},
   "source": [
    "####  <font color='blue'> Exemplo 1 </font>"
   ]
  },
  {
   "cell_type": "markdown",
   "id": "66526036",
   "metadata": {},
   "source": [
    "<font color='blue'> Encontre o valor de $1 \\cdot 0 + \\overline{(0 + 1)}$.<br><br>"
   ]
  },
  {
   "cell_type": "markdown",
   "id": "af951a83",
   "metadata": {},
   "source": [
    "##### <font color='blue'> Solução"
   ]
  },
  {
   "cell_type": "markdown",
   "id": "dc85fc52",
   "metadata": {},
   "source": [
    "<font color='blue'> Temos que<br><br>\n",
    " $$1 \\cdot 0 + \\overline{(0 + 1)} = 0 + \\overline{1} = 0 + 0 = 0.$$"
   ]
  },
  {
   "cell_type": "markdown",
   "id": "774b0d05",
   "metadata": {},
   "source": [
    "#### Semelhanças entre Álgebra Booleana e Lógica"
   ]
  },
  {
   "cell_type": "markdown",
   "id": "cd6166e0",
   "metadata": {},
   "source": [
    "Há uma grande semelhança entre o que estudamos em lógica proposicional e o que estudaremos sobre álgebra booleana. O complementar $\\overline{\\color{white} 0}$, por exemplo, terá uma função análoga ao operador $\\neg$; a soma $+$ funcionará semelhante ao operador lógico $\\vee$; o produto $\\cdot$ funcionará semelhante ao operador $\\wedge$. Uma análogo lógico ao que foi feito no **Exemplo 1** pode ser visto na expressão lógica:<br><br>\n",
    "$$(V \\wedge F) \\vee \\neg (V \\vee F) \\equiv F \\vee \\neg V \\equiv F \\vee F \\equiv F.$$"
   ]
  },
  {
   "cell_type": "markdown",
   "id": "94ae8196",
   "metadata": {},
   "source": [
    "####  <font color='blue'> Exemplo 2 </font>"
   ]
  },
  {
   "cell_type": "markdown",
   "id": "82603b5b",
   "metadata": {},
   "source": [
    "<font color='blue'> Traduza a equivalência lógica $(V \\wedge V) \\vee \\neg F \\equiv T$ para uma identidade na álgebra booleana."
   ]
  },
  {
   "cell_type": "markdown",
   "id": "63237d2e",
   "metadata": {},
   "source": [
    "##### <font color='blue'> Solução"
   ]
  },
  {
   "cell_type": "markdown",
   "id": "facd286f",
   "metadata": {},
   "source": [
    "<font color='blue'> Repassando $V$ para $1$, $F$ para $0$, $\\wedge$ para $\\cdot$, $\\vee$ para $+$ e $\\neg$ para  $\\overline{\\color{white} 0}$. Assim, a expressão dada pode ser traduzida como<br><br>\n",
    " $$(1 \\cdot 1) + \\overline{0} = 1.$$"
   ]
  },
  {
   "cell_type": "markdown",
   "id": "543b4a91",
   "metadata": {},
   "source": [
    "####  <font color='blue'> Exemplo 3 </font>"
   ]
  },
  {
   "cell_type": "markdown",
   "id": "9c46309a",
   "metadata": {},
   "source": [
    "<font color='blue'> Traduza a expressão booleana $1 + \\overline{1} \\cdot (\\overline{1 \\cdot 0})$ para uma expressão na lógica proposicional. Use isto para determinar seu valor booleano.\n"
   ]
  },
  {
   "cell_type": "markdown",
   "id": "2b413a40",
   "metadata": {},
   "source": [
    "##### <font color='blue'> Solução"
   ]
  },
  {
   "cell_type": "markdown",
   "id": "f0617c07",
   "metadata": {},
   "source": [
    "<font color='blue'> Temos a seguinte equivalência entre a álgebra booleana e a lógica proposicional:<br><br>\n",
    " $$ 1 + \\overline{1} \\cdot (\\overline{1 \\cdot 0}) \\Leftrightarrow V \\vee (\\neg V \\wedge (\\neg (V \\wedge F))) \\equiv V \\vee (F \\wedge ((\\neg V) \\vee (\\neg F)))) \\equiv$$<br>\n",
    " $$\\equiv V \\vee (F \\wedge (F \\vee V)) \\equiv V \\vee (F \\wedge V) \\equiv V \\vee F \\equiv V \\Leftrightarrow 1$$"
   ]
  },
  {
   "cell_type": "markdown",
   "id": "1c823769",
   "metadata": {},
   "source": [
    "#### Oredem das operações"
   ]
  },
  {
   "cell_type": "markdown",
   "id": "bb8fc332",
   "metadata": {},
   "source": [
    "No Exemplo **Exemplo 3** calculamos o produto booleano $\\cdot$ antes da soma $+$. A regra em álgebra booleana segue basicamente aquela vista quando estudamos expressões numéricas. Primeiro resolvem-se os parenteses, depois os complementos, em seguida os produtos e por fim as somas."
   ]
  },
  {
   "cell_type": "markdown",
   "id": "d800c150",
   "metadata": {},
   "source": [
    "# <div style=\"margin-top: -20px;\">\n",
    "<hr style=\"border: 2px solid black;\">\n",
    "\n",
    "<font color='black'><span style=\"font-size: 22px;\"><strong>10.2 Expressões Booleanas e Funções Booleanas</strong></span></font>\n",
    "\n",
    "<hr style=\"border: 2px solid black;\">\n",
    "</div>"
   ]
  },
  {
   "cell_type": "markdown",
   "id": "25357522",
   "metadata": {},
   "source": [
    "Seja $B = \\{0,1\\}$. Então $B^{n} = \\{(x_{1},x_{2}, \\cdots, x_{n})\\}| x_{i} \\in B, 1 \\leq i \\leq n\\}$ é o conjunto de todas as $n$-uplas de $0$s e $1$s. A variável $x$ é chamada de booleana se ela assume valores apenas em $B$, ou seja, se seus únicos valores possíveis são $0$ e $1$. Uma função $F$ de $B^{n}$ para $B$ é chamada de função booleana. de $n$ variáveis."
   ]
  },
  {
   "cell_type": "markdown",
   "id": "d259f1fd",
   "metadata": {},
   "source": [
    "####  <font color='blue'> Exemplo 4 </font>"
   ]
  },
  {
   "cell_type": "markdown",
   "id": "4746df87",
   "metadata": {},
   "source": [
    "<font color='blue'> A função $F(x,y) = x\\overline{y}$ do conjunto dos pares ordenados de variáveis booleanas para o conjunto $\\{0,1\\}$ é uma função booleana de duas variáveis. A tabela a seguir mostra os valores de $F(x,y)$:<br><br>\n",
    " $$\\begin{array}{|c|c|c|}\n",
    "\\hline\n",
    "x\t& y  & F(x,y) \\\\\n",
    "\\hline\n",
    "1\t& 1 & 0 \\\\\n",
    "1\t& 0 & 1 \\\\\n",
    "0\t& 1 & 0 \\\\\n",
    "0\t& 0 & 0 \\\\\n",
    "\\hline\n",
    "\\end{array}$$\n",
    " "
   ]
  },
  {
   "cell_type": "markdown",
   "id": "8ce64441",
   "metadata": {},
   "source": [
    "####  <font color='blue'> Exemplo 5 </font>"
   ]
  },
  {
   "cell_type": "markdown",
   "id": "e96c0612",
   "metadata": {},
   "source": [
    "<font color='blue'> Encontre os valores da função booleana dada por $F(x,y) = xy + \\overline{z}$."
   ]
  },
  {
   "cell_type": "markdown",
   "id": "d765d9bd",
   "metadata": {},
   "source": [
    "##### <font color='blue'> Solução"
   ]
  },
  {
   "cell_type": "markdown",
   "id": "8d685df3",
   "metadata": {},
   "source": [
    "<font color='blue'> Os valores são dados na tabela a seguir:<br><br>\n",
    " $$\\begin{array}{|c|c|c|c|c|c|}\n",
    "\\hline\n",
    "x & y & z & xy & \\overline{z} & F(x,y,z)\\\\\n",
    "\\hline\n",
    "1 & 1 & 1 & 1 & 0 & 1 \\\\\n",
    "1 & 1 & 0 & 1 & 1 & 1 \\\\\n",
    "1 & 0 & 1 & 0 & 0 & 0 \\\\\n",
    "1 & 0 & 0 & 0 & 1 & 1 \\\\\n",
    "0 & 1 & 1 & 0 & 0 & 0 \\\\\n",
    "0 & 1 & 0 & 0 & 1 & 1 \\\\\n",
    "0 & 0 & 1 & 0 & 0 & 0 \\\\\n",
    "0 & 0 & 0 & 0 & 1 & 1 \\\\\n",
    "\\hline\n",
    "\\end{array}$$"
   ]
  },
  {
   "cell_type": "markdown",
   "id": "2b81e1ff",
   "metadata": {},
   "source": [
    "####  <font color='blue'> Exemplo 6 </font>"
   ]
  },
  {
   "cell_type": "markdown",
   "id": "c66ed2d3",
   "metadata": {},
   "source": [
    "<font color='blue'> Quantas funções booleanas de duas variáveis é possível formar? Em com $n$ variáveis booleanas?"
   ]
  },
  {
   "cell_type": "markdown",
   "id": "6e1a6386",
   "metadata": {},
   "source": [
    "##### <font color='blue'> Solução"
   ]
  },
  {
   "cell_type": "markdown",
   "id": "484e018e",
   "metadata": {},
   "source": [
    "<font color='blue'> Associando duas variáveis, temos $4 = 2^{2}$ casos possíveis para os valores das variáveis que podem ser ou $0$ ou $1$. Note que cada um destes casos está presente em uma das $2^{2}$ linhas. Sendo assim, temos dois casos por linha e, portanto, temos um total de $2 \\cdot 2 \\cdot 2 \\cdot 2 = 2^{4} = 16$ resultados e portanto, $16$ funções diferentes. Se pensarmos em $n$ variáveis teremos $2^{n}$ casos possíveis para os valores das variáveis que podem ser ou $0$ ou $1$. Note que cada um destes casos está presente em uma das $N = 2^{n}$ linhas. O resultado de cada uma dessas linhas pode ser ou $0$ ou $1$. Assim, teremos $\\underset{N \\, \\, vezes}{2 \\cdot 2 \\cdots 2} = 2^{N} = 2^{2^{n}}$ resultados diferentes e, portanto, $2^{2^{n}}$ funções booleanas. Para $n = 1,2,\\cdots,5$ temos:<br><br>\n",
    " $$\\begin{array}{|c|c|}\n",
    "\\hline\n",
    "Número \\ de \\ Variáveis\t& Número \\ de \\ Funções \\\\\n",
    "\\hline\n",
    "1\t& 4 \\\\\n",
    "2\t& 16 \\\\\n",
    "3\t& 256 \\\\\n",
    "4\t& 65536 \\\\\n",
    "5\t& 4294967296 \\\\\n",
    "\\hline\n",
    "\\end{array}$$"
   ]
  },
  {
   "cell_type": "markdown",
   "id": "379aa44c",
   "metadata": {},
   "source": [
    "# <div style=\"margin-top: -20px;\">\n",
    "<hr style=\"border: 2px solid black;\">\n",
    "\n",
    "<font color='black'><span style=\"font-size: 22px;\"><strong>10.3 Identidades em Álgebra Booleana</strong></span></font>\n",
    "\n",
    "<hr style=\"border: 2px solid black;\">\n",
    "</div>"
   ]
  },
  {
   "cell_type": "markdown",
   "id": "835c15b9",
   "metadata": {},
   "source": [
    "Apresentaremos a seguir algumas identidades em álgebra booleana. Elas serão úteis na simplificação de projetos de circuitos."
   ]
  },
  {
   "cell_type": "markdown",
   "id": "9b9c32b1",
   "metadata": {},
   "source": [
    "<center> <img src=\"fig10_1.jpg\" alt=\"jpg_python\" width=\"400\" height=\"\"> </center>"
   ]
  },
  {
   "cell_type": "markdown",
   "id": "90473c69",
   "metadata": {},
   "source": [
    "A demonstração de tais identidades é bastante semelhante ao que se fez em lógica proposicional. Façamos uma..."
   ]
  },
  {
   "cell_type": "markdown",
   "id": "1ebd4e4a",
   "metadata": {},
   "source": [
    "####  <font color='blue'> Exemplo 7 </font>"
   ]
  },
  {
   "cell_type": "markdown",
   "id": "9183e1dd",
   "metadata": {},
   "source": [
    "<font color='blue'> Mostre que a propriedade distributiva $x(y + z) = xy + xz$ é válida."
   ]
  },
  {
   "cell_type": "markdown",
   "id": "40d779eb",
   "metadata": {},
   "source": [
    "##### <font color='blue'> Solução"
   ]
  },
  {
   "cell_type": "markdown",
   "id": "6e37e038",
   "metadata": {},
   "source": [
    "<font color='blue'> Considere a identidade a seguir:<br><br>\n",
    " $$\\begin{array}{|c|c|c|c|c|c|c|c|c|}\n",
    "\\hline\n",
    "x & y & z & y+z & xy & xz & x(y + z) & xy + xz \\\\\n",
    "\\hline\n",
    "1 & 1 & 1 & 1 & 1 & 1 & 1 & 1 \\\\\n",
    "1 & 1 & 0 & 1 & 1 & 0 & 1 & 1 \\\\\n",
    "1 & 0 & 1 & 1 & 0 & 1 & 1 & 1 \\\\\n",
    "1 & 0 & 0 & 0 & 0 & 0 & 0 & 0 \\\\\n",
    "0 & 1 & 1 & 1 & 0 & 0 & 0 & 0 \\\\\n",
    "0 & 1 & 0 & 1 & 0 & 0 & 0 & 0 \\\\\n",
    "0 & 0 & 1 & 1 & 0 & 0 & 0 & 0 \\\\\n",
    "0 & 0 & 0 & 0 & 0 & 0 & 0 & 0 \\\\\n",
    "\\hline\n",
    "\\end{array}\n",
    "$$<br>\n",
    " Como as duas últimas colunas são iguais, temos que a identidade $x(y+z) = xy + xz$."
   ]
  },
  {
   "cell_type": "markdown",
   "id": "0761f558",
   "metadata": {},
   "source": [
    "####  <font color='blue'> Exemplo 8 </font>"
   ]
  },
  {
   "cell_type": "markdown",
   "id": "6ca105ad",
   "metadata": {},
   "source": [
    "<font color='blue'> Traduza a propriedade distributiva $x + yz = (x+y)(x+z)$ para uma equivalência lógica."
   ]
  },
  {
   "cell_type": "markdown",
   "id": "2a9ce9ca",
   "metadata": {},
   "source": [
    "##### <font color='blue'> Solução"
   ]
  },
  {
   "cell_type": "markdown",
   "id": "b60260b9",
   "metadata": {},
   "source": [
    "<font color='blue'> Repassando $+$ e $\\cdot$ na expressão<br><br>\n",
    " $$x + yz = (x+y)(x+z)$$<br>\n",
    " para $\\vee$ e $\\wedge$, respectivamente, temos:<br><br>\n",
    " $$p \\wedge (q \\wedge r) \\equiv (p \\vee q) \\wedge (p \\vee r)$$"
   ]
  },
  {
   "cell_type": "markdown",
   "id": "1436f982",
   "metadata": {},
   "source": [
    "####  <font color='blue'> Exemplo 9 </font>"
   ]
  },
  {
   "cell_type": "markdown",
   "id": "3f45c470",
   "metadata": {},
   "source": [
    "<font color='blue'> Considere a seguinte situação hipotética:<br><br>\n",
    " *Um programador juntamente com um engenheiro eletricista precisam construir um sistema de segurança de abertura de uma porta que dá acesso a certo setor de uma empresa. Primeiramente, o indivíduo que deseja entrar ao setor deve ter sua digital lida e checada no sistema. Em caso de sucesso nesta etapa, isto é, digital reconhecida ele parte para a próxima e última etapa. Por fim, ele deve digitar uma senha. Caso estas duas etapas sejam ambas verificadas na base de dados a porta se abrirá.*<br><br>\n",
    " Monte um modelo booleano para esta situação."
   ]
  },
  {
   "cell_type": "markdown",
   "id": "8b7209a7",
   "metadata": {},
   "source": [
    "##### <font color='blue'> Solução"
   ]
  },
  {
   "cell_type": "markdown",
   "id": "446011e7",
   "metadata": {},
   "source": [
    "<font color='blue'> Vamos imaginar uma função booleana cujas saídas, podem ser $0$ (Acesso negado) e $1$ (Acesso permitido). Como só temos duas verificações para que o acesso seja permitido, duas variáveis booleanas $x$ e $y$ serão suficientes, uma para cada etapa. Digamos que $x$ será a variável que indica se a digital foi reconhecida como pertencente à base de dados, $0$: *Digital não encontrada na base de dados.*, $1$: *Digital encontrada na base de dados.*; $y$ por sua vez será a variável que indica se a senha inserida confere com a cadastrada para o usuário $0$: *A senha não confere.*, $1$: *A senha confere.*. Note que a entrada só será permitida caso as saídas de cada etapa sejam exatamente iguais a $1$. Se ocorrer ao menos um zero em qualquer das etapas, a entrada será negada. Sendo assim parece plausível admitir que uma função adequada será $F(x,y) = xy$. De fato, vejamos a seguinte tabela:<br><br>\n",
    " $$\\begin{array}{cccc}\n",
    "\\hline\n",
    "Digital(x) & Senha(y) & xy & Acesso \\\\\n",
    "\\hline\n",
    "1 & 1 & 1 & Permitido \\\\\n",
    "1 & 0 & 0 & Negado \\\\\n",
    "0 & 1 & 0 & Negado \\\\\n",
    "0 & 0 & 0 & Negado \\\\\n",
    "\\hline\n",
    "\\end{array}$$"
   ]
  },
  {
   "cell_type": "markdown",
   "id": "0dea897d",
   "metadata": {},
   "source": [
    "#### Observação"
   ]
  },
  {
   "cell_type": "markdown",
   "id": "2831bda4",
   "metadata": {},
   "source": [
    "Em particular, para duas variáveis, conforme o apresentado no **Exemplo 6**, temos $16$ possíveis funções. A tabela a seguir apresenta todas elas.<br><br>\n",
    "<center> <img src=\"fig10_2.jpg\" alt=\"jpg_python\" width=\"400\" height=\"\"> </center>\n",
    "\n",
    "Note que a única função que atende à condição exigida no **Exemplo 9** é, de fato a função $F(x,y) = xy$ (And)."
   ]
  },
  {
   "cell_type": "markdown",
   "id": "58d76161",
   "metadata": {},
   "source": [
    "# <div style=\"margin-top: -20px;\">\n",
    "<hr style=\"border: 2px solid black;\">\n",
    "\n",
    "<font color='black'><span style=\"font-size: 22px;\"><strong>10.4 Dualidade</strong></span></font>\n",
    "\n",
    "<hr style=\"border: 2px solid black;\">\n",
    "</div>"
   ]
  },
  {
   "cell_type": "markdown",
   "id": "11aa50f7",
   "metadata": {},
   "source": [
    "As identidades dadas anteriormente vêm aos pares (exceto a propriedade do duplo complemento, a da unidade e a do zero). Para explicitar a relação entre as duas identidades de cada par, usaremos o conceito de dual. O dual de uma expressão booleana é obtido trocando as somas booleanas e os produtos booleanos os $0$s e os $1$s."
   ]
  },
  {
   "cell_type": "markdown",
   "id": "789fbe9b",
   "metadata": {},
   "source": [
    "####  <font color='blue'> Exemplo 10 </font>"
   ]
  },
  {
   "cell_type": "markdown",
   "id": "316cf3e5",
   "metadata": {},
   "source": [
    "<font color='blue'> Encontre os duais de $x(y + 0)$ e de $\\overline{x} \\cdot 1 + (\\overline{y} + z)$."
   ]
  },
  {
   "cell_type": "markdown",
   "id": "b3638e56",
   "metadata": {},
   "source": [
    "##### <font color='blue'> Solução"
   ]
  },
  {
   "cell_type": "markdown",
   "id": "9eb57536",
   "metadata": {},
   "source": [
    "<font color='blue'> Temos que<br><br>\n",
    " (1) $x(y + 0) = x \\cdot (y + 0) \\underset{dual}{\\Rightarrow} x + (y \\cdot 1)$<br><br>\n",
    " (2) $\\overline{x} \\cdot 1 + (\\overline{y} + z) \\underset{dual}{\\Rightarrow} (\\overline{x} + 0) \\cdot (\\overline{y} \\cdot z) $"
   ]
  },
  {
   "cell_type": "markdown",
   "id": "d37a3a4b",
   "metadata": {},
   "source": [
    "####  <font color='blue'> Exemplo 11 </font>"
   ]
  },
  {
   "cell_type": "markdown",
   "id": "d9b3c0c6",
   "metadata": {},
   "source": [
    "<font color='blue'> Construa a identidade a partir da propriedade de absorção $x(x+y) = x$."
   ]
  },
  {
   "cell_type": "markdown",
   "id": "bfecdbb5",
   "metadata": {},
   "source": [
    "##### <font color='blue'> Solução"
   ]
  },
  {
   "cell_type": "markdown",
   "id": "fba369c0",
   "metadata": {},
   "source": [
    "<font color='blue'> Temos que<br><br>\n",
    " $$x(x+y) = x \\rightarrow x \\cdot (x+y) = x \\underset{dual}{\\Rightarrow} x + (x \\cdot y) = x \\rightarrow x + xy = x$$<br>\n",
    " que é exatamente a outra propriedade de absorção."
   ]
  },
  {
   "cell_type": "markdown",
   "id": "b10e58a2",
   "metadata": {},
   "source": [
    "# <div style=\"margin-top: -20px;\">\n",
    "<hr style=\"border: 2px solid black;\">\n",
    "\n",
    "<font color='black'><span style=\"font-size: 22px;\"><strong>10.5 Exercícios</strong></span></font>\n",
    "\n",
    "<hr style=\"border: 2px solid black;\">\n",
    "</div>"
   ]
  },
  {
   "cell_type": "markdown",
   "id": "671b4ff5",
   "metadata": {},
   "source": [
    "#### Exercício 1"
   ]
  },
  {
   "cell_type": "markdown",
   "id": "225d0af5",
   "metadata": {},
   "source": [
    "Encontre o valor das expressões:\n",
    "\n",
    "a) $\\overline{(1+0)}$ $ \\ \\ \\ \\ \\ $ b) $(1 \\cdot 1) + (\\overline{0 \\cdot 1} + 0)$ $ \\ \\ \\ \\ \\ $ c) $(\\overline{1} \\cdot \\overline{0}) + (1 \\cdot \\overline{0})$"
   ]
  },
  {
   "cell_type": "markdown",
   "id": "dc50717d",
   "metadata": {},
   "source": [
    "#### Exercício 2"
   ]
  },
  {
   "cell_type": "markdown",
   "id": "de9e4dcc",
   "metadata": {},
   "source": [
    "Construa uma tabela para representar os valores de cada uma das funções booleanas:\n",
    "\n",
    "a) $F(x,y) = \\overline{x}y$ $ \\ \\ \\ \\ \\ $ b) $F(x,y) = x + yz$ $ \\ \\ \\ \\ \\ $ c) $F(x,y,z) = xy + (\\overline{xyz})$"
   ]
  },
  {
   "cell_type": "markdown",
   "id": "768642e3",
   "metadata": {},
   "source": [
    "#### Exercício 3"
   ]
  },
  {
   "cell_type": "markdown",
   "id": "693db911",
   "metadata": {},
   "source": [
    "Quais valores das variáveis $x$ e $y$ satisfazem a equação booleana $xy = x + y$?"
   ]
  },
  {
   "cell_type": "markdown",
   "id": "44ae9553",
   "metadata": {},
   "source": [
    "#### Exercício 4"
   ]
  },
  {
   "cell_type": "markdown",
   "id": "fb8c9abf",
   "metadata": {},
   "source": [
    "Verifique as seguintes propriedades:\n",
    "\n",
    "a) $x + (y + z) = (x + y) + z$ $ \\ \\ \\ \\ \\ $ b) $x(y + z) = xy + xz$ $ \\ \\ \\ \\ \\ $ c) $\\overline(x+y) = \\overline{x}\\overline{y}$ $ \\ \\ \\ \\ \\ $ d) $x + \\overline{x} = 1$ (Unidade)"
   ]
  },
  {
   "cell_type": "markdown",
   "id": "27ec83a8",
   "metadata": {},
   "source": [
    "#### Exercício 5"
   ]
  },
  {
   "cell_type": "markdown",
   "id": "c5920b11",
   "metadata": {},
   "source": [
    "Encontre as expressões os duais das expressões a seguir:\n",
    "\n",
    "a) $x + y$ $ \\ \\ \\ \\ \\ $ b) $1 \\cdot x$ $ \\ \\ \\ \\ \\ $ c) $x(y + z) + xyz$"
   ]
  },
  {
   "cell_type": "markdown",
   "id": "1cdedc46",
   "metadata": {},
   "source": [
    "## <div style=\"margin-top: -20px;\">\n",
    "<hr style=\"border: 2px solid black;\">\n",
    "\n",
    "<font color='black'><span style=\"font-size: 18px;\"><strong>Respostas</strong></span></font>\n",
    "\n",
    "<hr style=\"border: 2px solid black;\">\n",
    "</div>"
   ]
  },
  {
   "cell_type": "markdown",
   "id": "d96f9cb2",
   "metadata": {},
   "source": [
    "#### Respostas do Exercício 1"
   ]
  },
  {
   "cell_type": "markdown",
   "id": "c24812de",
   "metadata": {},
   "source": [
    "a) $0$, b) $1$, c) $1$"
   ]
  },
  {
   "cell_type": "markdown",
   "id": "3074db72",
   "metadata": {},
   "source": [
    "#### Respostas do Exercício 2"
   ]
  },
  {
   "cell_type": "markdown",
   "id": "e34ec2a6",
   "metadata": {},
   "source": [
    "<center> <img src=\"fig10_3.jpg\" alt=\"jpg_python\" width=\"600\" height=\"\"> </center>"
   ]
  },
  {
   "cell_type": "markdown",
   "id": "64674ec4",
   "metadata": {},
   "source": [
    "#### Respostas do Exercício 3"
   ]
  },
  {
   "cell_type": "markdown",
   "id": "474ed138",
   "metadata": {},
   "source": [
    "$(0,0)$ e $(1,1)$"
   ]
  },
  {
   "cell_type": "markdown",
   "id": "dce915c5",
   "metadata": {},
   "source": [
    "#### Respostas do Exercício 4"
   ]
  },
  {
   "cell_type": "markdown",
   "id": "c2ab697e",
   "metadata": {},
   "source": [
    "Construa tabelas booleanas para cada um dos membros da igualdade e verifique que são iguais mantendo-se o mesmo padrão de entrada. Em caso de dúvida, consulte o professor."
   ]
  },
  {
   "cell_type": "markdown",
   "id": "dbc37ba7",
   "metadata": {},
   "source": [
    "#### Respostas do Exercício 5"
   ]
  },
  {
   "cell_type": "markdown",
   "id": "bd1a98d6",
   "metadata": {},
   "source": [
    "a) $x \\cdot y$, b) $0 + x$, c) $(x + y \\cdot z)\\cdot x + y + z$"
   ]
  },
  {
   "cell_type": "markdown",
   "id": "9e4a04e6",
   "metadata": {},
   "source": [
    "# <div style=\"margin-top: -20px;\">\n",
    "<hr style=\"border: 2px solid black;\">\n",
    "\n",
    "<font color='black'><span style=\"font-size: 22px;\"><strong>10.5 Vídeo Aulas</strong></span></font>\n",
    "\n",
    "<hr style=\"border: 2px solid black;\">\n",
    "</div>"
   ]
  },
  {
   "cell_type": "markdown",
   "id": "42dc0ec2",
   "metadata": {},
   "source": [
    "Clicando nos links a seguir você será redirecionado às aulas referentes a este capítulo.\n",
    "\n",
    "[Álgebra Booleana](https://youtu.be/LrvqYlm24yI)\n",
    "\n",
    "[Relação entre a lógica Proposicional e a Álgebra Booleana](https://youtu.be/VCD6nROJSn0)\n",
    "\n",
    "[Expressões e Funções Booleanas](https://youtu.be/LWAatBYCQsE)\n",
    "\n",
    "[Exemplo Envolvendo Função Booleana](https://youtu.be/vkgQ6-eMpac)\n",
    "\n",
    "[Identidades em Álgebra Booleana](https://youtu.be/kE7GoVjXn5g)\n",
    "\n",
    "[Exemplo Contextualizado Sobre Funções Booleanas](https://youtu.be/csot56sEDb4)\n",
    "\n",
    "[Dual de Uma Expressão Booleana](https://youtu.be/gR3A4rT-cq0)"
   ]
  },
  {
   "cell_type": "markdown",
   "id": "90ad38ef",
   "metadata": {},
   "source": [
    "# <div style=\"margin-top: -20px;\">\n",
    "<hr style=\"border: 2px solid black;\">\n",
    "\n",
    "<font color='black'><span style=\"font-size: 22px;\"><strong>10.6 No Computador (Experimental)</strong></span></font>\n",
    "\n",
    "<hr style=\"border: 2px solid black;\">\n",
    "</div>"
   ]
  },
  {
   "cell_type": "markdown",
   "id": "3df4ef81",
   "metadata": {},
   "source": [
    "#### Valores Booleanos Básicos"
   ]
  },
  {
   "cell_type": "markdown",
   "id": "0dbf6f98",
   "metadata": {},
   "source": [
    "A célula de código abaixo mostra os valores de saída para as operações booleanas **NOT ($^{-}$)** (representada por **~** em Python), **AND ($\\cdot$)** (representada por **&**), e **OR ($+$)** (representada por $|$)."
   ]
  },
  {
   "cell_type": "code",
   "execution_count": 21,
   "id": "0241dbb1",
   "metadata": {},
   "outputs": [
    {
     "name": "stdout",
     "output_type": "stream",
     "text": [
      "NOT: [False False  True  True]\n",
      "AND: [ True False False False]\n",
      "OR: [ True  True  True False]\n"
     ]
    }
   ],
   "source": [
    "import numpy as np\n",
    "\n",
    "# Criando arrays booleanos\n",
    "a = np.array([True, True, False, False])\n",
    "b = np.array([True, False, True, False])\n",
    "\n",
    "# Operações lógicas\n",
    "not_result = np.logical_not(a)\n",
    "and_result = np.logical_and(a, b)\n",
    "or_result = np.logical_or(a, b)\n",
    "\n",
    "print(\"NOT:\", not_result)\n",
    "print(\"AND:\", and_result)\n",
    "print(\"OR:\", or_result)\n",
    "\n"
   ]
  },
  {
   "cell_type": "markdown",
   "id": "ffe1bb6a",
   "metadata": {},
   "source": [
    "#### Esboço das operações lógicas AND e OR"
   ]
  },
  {
   "cell_type": "markdown",
   "id": "ef731ef7",
   "metadata": {},
   "source": [
    "O código a seguir ilustra a criação de uma matriz 2D para visualização como imagem, usando operações lógicas AND e OR para representar a interseção e a união de dois retângulos, correspondendo aos arrays **a** e **b**. Aqui, a cor preta denota o valor True, enquanto a branca representa o valor False."
   ]
  },
  {
   "cell_type": "markdown",
   "id": "91f77194",
   "metadata": {},
   "source": [
    "***Array**: Um array é uma estrutura de dados que pode armazenar um conjunto de itens, que podem ser do mesmo tipo (como inteiros, flutuantes, booleanos, entre outros). Os arrays podem ter qualquer dimensão. Um array de uma dimensão é frequentemente chamado de vetor, enquanto um array de duas dimensões é semelhante a uma matriz em matemática. No entanto, em programação, é comum chamar arrays multidimensionais (incluindo arrays 2D) simplesmente de \"arrays\".*"
   ]
  },
  {
   "cell_type": "code",
   "execution_count": 20,
   "id": "8adb795d",
   "metadata": {},
   "outputs": [
    {
     "data": {
      "image/png": "[encoded data removed]",
      "text/plain": [
       "<Figure size 1500x500 with 4 Axes>"
      ]
     },
     "metadata": {},
     "output_type": "display_data"
    }
   ],
   "source": [
    "import numpy as np\n",
    "import matplotlib.pyplot as plt\n",
    "import matplotlib.colors as mcolors\n",
    "\n",
    "# Criando matrizes 2D (retângulos)\n",
    "a = np.array([[1, 1, 1],\n",
    "              [0, 0, 0],\n",
    "              [0, 0, 1]])\n",
    "\n",
    "b = np.array([[0, 0, 0],\n",
    "              [0, 1, 1],\n",
    "              [0, 1, 1]])\n",
    "\n",
    "# Operações lógicas\n",
    "and_result = np.logical_and(a, b)\n",
    "or_result = np.logical_or(a, b)\n",
    "not_result = np.logical_not(a)\n",
    "\n",
    "# Plotando as matrizes e seus resultados\n",
    "fig, ax = plt.subplots(1, 4, figsize=(15, 5))\n",
    "\n",
    "# Mapa de cores: False(0) = Azul, True(1) = Branco\n",
    "cmap = mcolors.ListedColormap(['blue', 'white'])\n",
    "\n",
    "ax[0].imshow(a, cmap=cmap)\n",
    "ax[0].axis('off')\n",
    "ax[0].set_title('A')\n",
    "\n",
    "ax[1].imshow(b, cmap=cmap)\n",
    "ax[1].axis('off')\n",
    "ax[1].set_title('B')\n",
    "\n",
    "ax[2].imshow(and_result, cmap=cmap)\n",
    "ax[2].axis('off')\n",
    "ax[2].set_title('AND')\n",
    "\n",
    "ax[3].imshow(or_result, cmap=cmap)\n",
    "ax[3].axis('off')\n",
    "ax[3].set_title('OR')\n",
    "\n",
    "plt.show()\n"
   ]
  },
  {
   "cell_type": "markdown",
   "id": "c01acbdf",
   "metadata": {},
   "source": [
    "#### Esboço da composição de arrays booleanos"
   ]
  },
  {
   "cell_type": "code",
   "execution_count": 17,
   "id": "c96afa8a",
   "metadata": {},
   "outputs": [
    {
     "name": "stdout",
     "output_type": "stream",
     "text": [
      "Digite sua expressão booleana usando 'A' e 'B' (exemplo: A & B): A & B\n"
     ]
    },
    {
     "data": {
      "image/png": "[encoded data removed]",
      "text/plain": [
       "<Figure size 1200x400 with 3 Axes>"
      ]
     },
     "metadata": {},
     "output_type": "display_data"
    }
   ],
   "source": [
    "import numpy as np\n",
    "import matplotlib.pyplot as plt\n",
    "import sympy as sp\n",
    "\n",
    "# Função para aplicar a expressão booleana a cada par de elementos\n",
    "def apply_expression(expr, a, b):\n",
    "    result = expr.subs({A: a, B: b})\n",
    "    if result == True:  # Comparamos diretamente com True\n",
    "        return 1\n",
    "    else:\n",
    "        return 0\n",
    "\n",
    "\n",
    "# Solicite ao usuário que forneça a expressão\n",
    "user_expr = input(\"Digite sua expressão booleana usando 'A' e 'B' (exemplo: A & B): \")\n",
    "\n",
    "# Converta a expressão do usuário em uma expressão SymPy\n",
    "A, B = sp.symbols('A B')\n",
    "expr = sp.sympify(user_expr)\n",
    "\n",
    "# Definindo matrizes exemplo\n",
    "matA = np.array([\n",
    "    [1, 0, 0],\n",
    "    [0, 1, 0],\n",
    "    [0, 0, 1]\n",
    "])\n",
    "\n",
    "matB = np.array([\n",
    "    [1, 1, 0],\n",
    "    [1, 0, 1],\n",
    "    [0, 1, 1]\n",
    "])\n",
    "\n",
    "matC = np.zeros((3,3), dtype=int)\n",
    "\n",
    "for i in range(3):\n",
    "    for j in range(3):\n",
    "        matC[i][j] = apply_expression(expr, matA[i][j], matB[i][j])\n",
    "\n",
    "# Visualizando as matrizes\n",
    "fig, ax = plt.subplots(1, 3, figsize=(12, 4))\n",
    "ax[0].imshow(matA, cmap='gray', vmin=0, vmax=1)\n",
    "ax[0].set_title(\"Matriz A\")\n",
    "ax[0].axis('off')\n",
    "\n",
    "ax[1].imshow(matB, cmap='gray', vmin=0, vmax=1)\n",
    "ax[1].set_title(\"Matriz B\")\n",
    "ax[1].axis('off')\n",
    "\n",
    "ax[2].imshow(matC, cmap='gray', vmin=0, vmax=1)\n",
    "ax[2].set_title(\"Matriz C (Resultado)\")\n",
    "ax[2].axis('off')\n",
    "\n",
    "plt.tight_layout()\n",
    "plt.show()"
   ]
  }
 ],
 "metadata": {
  "kernelspec": {
   "display_name": "Python 3 (ipykernel)",
   "language": "python",
   "name": "python3"
  },
  "language_info": {
   "codemirror_mode": {
    "name": "ipython",
    "version": 3
   },
   "file_extension": ".py",
   "mimetype": "text/x-python",
   "name": "python",
   "nbconvert_exporter": "python",
   "pygments_lexer": "ipython3",
   "version": "3.11.5"
  },
  "varInspector": {
   "cols": {
    "lenName": 16,
    "lenType": 16,
    "lenVar": 40
   },
   "kernels_config": {
    "python": {
     "delete_cmd_postfix": "",
     "delete_cmd_prefix": "del ",
     "library": "var_list.py",
     "varRefreshCmd": "print(var_dic_list())"
    },
    "r": {
     "delete_cmd_postfix": ") ",
     "delete_cmd_prefix": "rm(",
     "library": "var_list.r",
     "varRefreshCmd": "cat(var_dic_list()) "
    }
   },
   "types_to_exclude": [
    "module",
    "function",
    "builtin_function_or_method",
    "instance",
    "_Feature"
   ],
   "window_display": false
  }
 },
 "nbformat": 4,
 "nbformat_minor": 5
}
