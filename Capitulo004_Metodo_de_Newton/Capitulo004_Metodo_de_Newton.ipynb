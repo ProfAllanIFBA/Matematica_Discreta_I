{
 "cells": [
  {
   "cell_type": "markdown",
   "id": "d4ea28a8",
   "metadata": {
    "slideshow": {
     "slide_type": "slide"
    }
   },
   "source": [
    "<center> <img src=\"logo_ifba.jpg\" alt=\"jpg_python\" width=\"100\" height=\"200\"> </center>\n",
    "<br><br>\n",
    "<div align=\"center\"><span style=\"font-size: 26px;\"><strong>Cálculo Numérico <br></strong></span></div> <br>\n",
    "<center> <img src=\"python_gif.gif\" alt=\"gif_python\" width=\"80\"> </center>\n"
   ]
  },
  {
   "cell_type": "markdown",
   "id": "d76184a7",
   "metadata": {
    "slideshow": {
     "slide_type": "slide"
    }
   },
   "source": [
    "<div style=\"border: 2px solid black; padding: 10px; width: 95%; background-color: lightgray; display: flex; align-items: center;\">\n",
    "    <h1 style=\"color: red; text-align: center; margin: auto;\">\n",
    "        Capítulo 4: Método de Newton\n",
    "    </h1>\n",
    "</div>\n",
    "\n",
    "<font color='red'></font>\n",
    "<a href=\"\"></a>"
   ]
  },
  {
   "cell_type": "markdown",
   "id": "7142d16f",
   "metadata": {},
   "source": [
    "O Método de Newton, também conhecido como Newton-Raphson, é um poderoso algoritmo de busca de raízes que utiliza a derivada de uma função para estimar onde ela atinge zero. Partindo de um palpite inicial que está razoavelmente próximo da raiz verdadeira, o método emprega a tangente da função no ponto estimado para prever onde a função pode cruzar o eixo $x$, ou seja, onde ela atinge zero. A tangente intercepta o eixo $x$ num ponto que é tomado como a próxima aproximação da raiz. Este processo é iterado, com cada nova aproximação sendo gerada pela mesma lógica, até que a diferença entre as sucessivas aproximações seja menor do que um valor de tolerância pré-estabelecido, ou até que um número máximo de iterações seja alcançado. O Método de Newton é famoso por sua rapidez de convergência, especialmente para funções bem-comportadas e palpites iniciais adequados, mas pode falhar ou convergir para a raiz errada se estas condições não forem atendidas."
   ]
  },
  {
   "cell_type": "markdown",
   "id": "b90b25aa",
   "metadata": {},
   "source": [
    "# <div style=\"margin-top: -20px;\">\n",
    "<hr style=\"border: 2px solid black;\">\n",
    "\n",
    "<font color='black'><span style=\"font-size: 22px;\"><strong>4.1 Polinômio de Taylor em Uma Variável</strong></span></font>\n",
    "\n",
    "<hr style=\"border: 2px solid black;\">\n",
    "</div>"
   ]
  },
  {
   "cell_type": "markdown",
   "id": "ab18e036",
   "metadata": {},
   "source": [
    "#### <font color='purple'> Revisando 1"
   ]
  },
  {
   "cell_type": "markdown",
   "id": "6c7846cb",
   "metadata": {},
   "source": [
    "<font color='purple'> Fórmula de Taylor ou Série de Taylor é uma expressão que permite o cálculo do valor de uma função por aproximação local através de uma função polinomial. Supondo $f$ infinitamente derivável num intervalo contendo um ponto $x_{0}$, temos $f(x)  = lim_{n\\rightarrow \\infty} T_{n}(x)$ em que:<br><br>\n",
    " $$T_{n}(x)= f(x_{0})+f'(x_{0}) \\cdot (x-x_{0}) + \\frac{f''(x_{0}) \\cdot (x-x_{0})^{2}}{2} + \\frac{f'''(x_{0})\\cdot (x-x_{0})^{3}}{6}+ \\ldots + \\frac{f^{(n)}(x_{0})\\cdot (x-x_{0})^{n}}{n!}.$$<br>\n",
    " Podemos ainda considerar que $f(x) = T_{n}(x) + R_{n}(x)$ com $$R_{n}(x) = \\frac{f^{(n+1)}(x_{0})\\cdot (x-x_{0})^{n+1}}{(n+1)!} + \\frac{f^{(n+2)}(x_{0})\\cdot (x-x_{0})^{n+2}}{(n+2)!} + \\ldots.$$<br>\n",
    " É possível obter $\\xi_{x}=\\xi(x)$, $\\xi_{x} \\in [x,x_{0}]$ (ou $x \\in [x_{0},x]$) tal que<br><br>\n",
    " $$R_{n}(x) = \\frac{f^{(n+1)}(\\xi_{x})\\cdot (x-x_{0})^{n+1}}{(n+1)!}.$$<br>\n",
    " Para $n=1$, por exemplo:<br><br>\n",
    " $$f(x) = f(x_{0}) + f'(x_{0}) \\cdot(x-x_{0}) + \\frac{f^{(2)}(\\xi_{x})(x-x_{0})^{2}}{2!}.$$<br>\n",
    " *Para mais informações consulte $[9]$, pg. 758-759*"
   ]
  },
  {
   "cell_type": "markdown",
   "id": "34b5bf53",
   "metadata": {},
   "source": [
    "O Exemplo a seguir nos ajudará a entender a mecânica das contas no resultado exposto acima. De certa forma, ele nos fornece uma estimativa numérica de uma função de uma variável em um ponto $x_{0}$."
   ]
  },
  {
   "cell_type": "markdown",
   "id": "3c06e7e3",
   "metadata": {},
   "source": [
    "#### <font color='blue'> Exemplo 1 </font>"
   ]
  },
  {
   "cell_type": "markdown",
   "id": "46526d6b",
   "metadata": {},
   "source": [
    "<font color='blue'> Calcule os seis primeiros polinômios de Taylor da expansão em série de Taylor de $f(x) = sen(x)$ em torno de $x_{0}=0$. Em cada etapa, use o polinômio encontrado para estimar $f(1) = 0.841470984807897$ e exiba o erro exato."
   ]
  },
  {
   "cell_type": "markdown",
   "id": "2965fb73",
   "metadata": {},
   "source": [
    "##### <font color='blue'> Solução </font>"
   ]
  },
  {
   "cell_type": "markdown",
   "id": "c9afb6e2",
   "metadata": {},
   "source": [
    "<font color='blue'> Temos que<br><br>\n",
    " $$T_{0}(x) = f(x_{0}) = sen(0)=0 \\Rightarrow T_{0}(1)= 0.$$<br>\n",
    " $$T_{1}(x) = f(x_{0})+f'(x_{0}) \\cdot (x-x_{0}) = 0 + xcos(0) \\Rightarrow T_{1}(1) = x$$<br>\n",
    " $$T_{2}(x) = f(x_{0})+f'(x_{0}) \\cdot (x-x_{0}) + \\frac{f''(x_{0}) \\cdot (x-x_{0})^{2}}{2} \\Rightarrow T_{2}(x) = 0 + xcos(0) -\\frac{x^{2}}{2}sin(0) = x$$<br>\n",
    " $$T_{3}(x) = f(x_{0})+f'(x_{0}) \\cdot (x-x_{0}) + \\frac{f''(x_{0}) \\cdot (x-x_{0})^{2}}{2} + \\frac{f'''(x_{0})\\cdot (x-x_{0})^{3}}{6} \\Rightarrow$$<br>\n",
    " $$\\Rightarrow T_{3}(x) = 0 + xcos(0) - \\frac{x^{2}}{2}sen(0) + \\frac{x^{3}}{6}(-cos(0)) = x - \\frac{x^{3}}{6}$$<br>\n",
    " Note que $T_{4}(x) = T_{3}(x) + \\frac{f^{(4)}(x_{0})\\cdot (x-x_{0})^{4}}{24}$ donde obtermos<br><br>\n",
    " $$T_{4}(x) = x - \\frac{x^{3}}{6} + \\frac{x^{4}}{24}sen(0) = x - \\frac{x^{3}}{6}$$<br>\n",
    " Procedendo de maneira análoga, temos:<br><br>\n",
    " $$T_{5}(x) = x - \\frac{x^{3}}{6} + \\frac{x^{5}}{120}$$<br>\n",
    " A tabela a seguir apresenta os erro cometido em cada etapa:<br><br>\n",
    " $$\\begin{array}{cccc}\n",
    "n    \t& T_{n}(x)   \t\t & T_{n}(1)\t\t\t\t&|f(1)-T_{n}(1)|\\\\\n",
    "0    \t& 0\t\t\t   \t\t & 0.000000000000000\t&0.841470984807897\\\\\n",
    "1    \t& x\t\t\t   \t\t & 1.000000000000000\t&0.158529015192103\\\\\n",
    "2    \t& x\t\t\t   \t\t & 1.000000000000000\t&0.158529015192103\\\\\n",
    "3    \t& x-\\frac{x^{3}}{6}\t & 0.833333333333333\t&8.137651474563135e-03\\\\\n",
    "4    \t& x-\\frac{x^{3}}{6}\t & 0.833333333333333\t&8.137651474563135e-03\\\\\n",
    "5    \t& x-\\frac{x^{3}}{6} + \\frac{x^{5}}{120}\t & 0.841666666666667\t&1.956818587701692e-04\\\\\n",
    "\\end{array}$$"
   ]
  },
  {
   "cell_type": "markdown",
   "id": "421c2b9a",
   "metadata": {},
   "source": [
    "#### Observação 1"
   ]
  },
  {
   "cell_type": "markdown",
   "id": "ea428cb2",
   "metadata": {},
   "source": [
    "A plataforma WolframAlpha nos fornece alguns polinômios de Taylor de funções de uma variável.<br><br>\n",
    "<center> <img src=\"fig4-1.jpg\" alt=\"jpg_python\" width=\"600\" height=\"\"> </center>"
   ]
  },
  {
   "cell_type": "markdown",
   "id": "6779b7f5",
   "metadata": {},
   "source": [
    "# <div style=\"margin-top: -20px;\">\n",
    "<hr style=\"border: 2px solid black;\">\n",
    "\n",
    "<font color='black'><span style=\"font-size: 22px;\"><strong>4.2 Método de Newton</strong></span></font>\n",
    "\n",
    "<hr style=\"border: 2px solid black;\">\n",
    "</div>"
   ]
  },
  {
   "cell_type": "markdown",
   "id": "1485a2a9",
   "metadata": {},
   "source": [
    "Suponha que $f$ seja diferenciável em $(a,b)$ e que $f''$ seja contínua em $[a, b]$. Seja $\\bar{x} \\in [a, b]$ uma aproximação de $p$ tal que $f'(\\bar{x}) \\neq 0$ e $|p - \\bar{x}|$ é \"pequeno\". Considere o polin\\^omio de Taylor de primeiro grau para $f(x)$ expandido em torno de $\\bar{x}$,\n",
    "$$f(x) = f(\\bar{x}) + (x -\\bar{x})f'(\\bar{x}) + \\frac{(x- \\bar{x})^{2}}{2} f''(\\xi(x)),$$\n",
    "onde $\\xi(x)$ está entre $x$ e $\\bar{x}$. Como $f(p) = 0$, fazendo $x = p$, temos\n",
    "$$ f(p) = 0 = f(\\bar{x}) + (p - \\bar{x})f'(\\bar{x}) + \\frac{(p- \\bar{x})^{2}}{2} f''(\\xi(p)).$$\n",
    "Desde que $|p - \\bar{x}|$ \\'e pequeno, podemos ignorar o termo$(p - \\bar{x})^{2}$ que é muito menor. Portanto,\n",
    "$$0 \\approx f(\\bar{x}) + (p - \\bar{x})f'(\\bar{x}).$$\n",
    "Isolando $p$ temos\n",
    "$$p \\approx \\bar{x} - \\frac{f(\\bar{x})}{f'(\\bar{x})}.$$\n",
    "Repassando para sequências, temos:\n",
    "{\\color{black!20!red}\n",
    "$$p_{n+1} = p_{n} - \\frac{f(p_{n})}{f'(p_{n})}$$\n",
    "com $n\\geq 0$ e $p_{0}$ arbitrário."
   ]
  },
  {
   "cell_type": "markdown",
   "id": "245434fa",
   "metadata": {},
   "source": [
    "#### <font color='blue'> Exemplo 2 </font>"
   ]
  },
  {
   "cell_type": "markdown",
   "id": "6349f017",
   "metadata": {},
   "source": [
    "<font color='blue'> Aplique o método de Newton para obter uma solução da equação $x^{3}-2x-3=0$, com precisão $10^{-5}$ partindo de $p_{0} = 3$."
   ]
  },
  {
   "cell_type": "markdown",
   "id": "4accb032",
   "metadata": {},
   "source": [
    "##### <font color='blue'> Solução </font>"
   ]
  },
  {
   "cell_type": "markdown",
   "id": "4ef07763",
   "metadata": {},
   "source": [
    "<font color='blue'> Considerando a sequência iterativa<br><br>\n",
    " $$p_{n+1} = p_{n} - \\frac{p_{n}^{3}-2p_{n}-3}{3p_{n}^{2}-2}$$<br>\n",
    " temos a seguinte tabela de valores:<br><br>\n",
    " $$\\begin{array}{ccc}\n",
    "\tn    \t& p_{n}   \t\t\t & \\delta_{n}\\\\\n",
    "\t0    \t& 3\t\t\t\t\t & -    \t\\\\\n",
    "\t1    \t& 2.280000000000000\t & 0.720000000000000\t\\\\\n",
    "\t2    \t& 1.964274449805814\t & 0.315725550194186\t\\\\\n",
    "\t3\t\t& 1.896352937436246\t & 6.792151236956823e-02\t\\\\\n",
    "\t4\t\t& 1.893295269225969\t & 3.057668210277198e-03\t\\\\\n",
    "\t5\t\t& 1.893289196328428\t & 6.072897540843059e-06\t\\\\\n",
    "\\end{array}$$<br>\n",
    " A aproximação procurada é dada por $p_{5} = 1.893289196328428$."
   ]
  },
  {
   "cell_type": "markdown",
   "id": "414f264b",
   "metadata": {},
   "source": [
    "#### Interpretação Geométrica do Método de Newton"
   ]
  },
  {
   "cell_type": "markdown",
   "id": "122e41ad",
   "metadata": {},
   "source": [
    "A figura a seguir ilustra como as aproximações são obtidas utilizando-se sucessivas tangentes. Note que, uma aproximação $p_{n}$ de $p$ é tal que a raiz da tangente a $f$ no ponto $(p_{n},f(p_{n})$ nos fornece exatamente a próxima iteração, $p_{n+1}$:<br><br>\n",
    "<center> <img src=\"fig4-2.jpg\" alt=\"jpg_python\" width=\"400\" height=\"\"> </center>"
   ]
  },
  {
   "cell_type": "markdown",
   "id": "083c1985",
   "metadata": {},
   "source": [
    "O exemplo a seguir nos ajudará a entendermos melhor a interpretação geométrica do Método de Newton bem como sua aplicação:"
   ]
  },
  {
   "cell_type": "markdown",
   "id": "c3a71e90",
   "metadata": {},
   "source": [
    "#### <font color='blue'> Exemplo 3 </font>"
   ]
  },
  {
   "cell_type": "markdown",
   "id": "82f2002e",
   "metadata": {},
   "source": [
    "<font color='blue'> Vejamos a interpretação geométrica das $3$ primeiras iterações do Método de Newton aplicado à função $f(x) = x^{2}-2$ partindo de $p_{0} = 8$."
   ]
  },
  {
   "cell_type": "markdown",
   "id": "068ab2ff",
   "metadata": {},
   "source": [
    "##### <font color='blue'> Solução </font>"
   ]
  },
  {
   "cell_type": "markdown",
   "id": "5f18c9e7",
   "metadata": {},
   "source": [
    "<font color='blue'> Consideremos a sequência iterativa<br><br>\n",
    " $$p_{n+1} = p_{n} - \\frac{p_{n}^{2}-2}{2p_{n}},$$<br>\n",
    " temos a seguinte tabela de valores:<br><br>\n",
    " $$\\begin{array}{ccc}\n",
    "n    \t& p_{n}   \t\t\t & \\delta_{n}\\\\\n",
    "0    \t& 8\t\t\t\t\t & -    \t\\\\\n",
    "1    \t& 4.125\t\t\t\t & 3.875000000000000\t\t\\\\\n",
    "2    \t& 2.304924242424242\t & 1.820075757575758\t\\\\\n",
    "3\t\t& 1.586315859913847\t & 0.718608382510395\t\\\\\n",
    "\\end{array}$$<br>\n",
    " <center> <img src=\"fig4-3.jpg\" alt=\"jpg_python\" width=\"400\" height=\"\"> </center>"
   ]
  },
  {
   "cell_type": "markdown",
   "id": "289215d3",
   "metadata": {},
   "source": [
    "#### <font color='red'> Teorema 1 </font>"
   ]
  },
  {
   "cell_type": "markdown",
   "id": "f22ef2b8",
   "metadata": {},
   "source": [
    "<font color='red'> Seja $f \\in C^{2}[a,b]$. Se $p \\in [a,b]$ é tal que $f'(p) \\neq 0$, então, existe um $\\delta > 0$ tal que o método de Newton gera uma sequência $\\left\\{p_{n}\\right\\}_{n=1}^{\\infty}$ que converge para seja qual for a a aproximação inicial $p_{0} \\in [p - \\delta;p + \\delta]$."
   ]
  },
  {
   "cell_type": "markdown",
   "id": "2bc53d40",
   "metadata": {},
   "source": [
    "##### <font color='red'> Demonstração </font>"
   ]
  },
  {
   "cell_type": "markdown",
   "id": "80213c74",
   "metadata": {},
   "source": [
    "<font color='red'> A demonstração pode ser encontrada em $([1], pg. \\, 76)$."
   ]
  },
  {
   "cell_type": "markdown",
   "id": "3ac0fd15",
   "metadata": {},
   "source": [
    "#### <font color='blue'> Exemplo 4 </font>"
   ]
  },
  {
   "cell_type": "markdown",
   "id": "ed61af1c",
   "metadata": {},
   "source": [
    "<font color='blue'> Suponha que queiramos calcular uma solução aproximada da equação $cos(x) - x = 0$ (solução igual a $0.73908513321516064166$). Consideremos, inicialmente $7$ iterações do método da iteração do ponto fixo partindo de $p_{0} = \\pi/4$ e $x = g(x) = cos(x)$:<br><br>\n",
    " $$\\begin{array}{ccc}\n",
    "n    \t& p_{n}   \t\t& \\delta_{n}\t\\\\\n",
    "0    \t& 0.785398163397448 &\t- \t\t\t\\\\\n",
    "1    \t& 0.707106781186548\t& \t7.829138221090071e-02 \\\\\n",
    "2    \t& 0.760244597075630\t&\t5.313781588908251e-02\t\\\\\n",
    "3    \t& 0.724667480889126\t&\t3.557711618650383e-02\t\\\\\n",
    "4    \t& 0.748719885789484\t&\t2.405240490035798e-02\t\\\\\n",
    "5    \t& 0.732560844592242\t&\t1.615904119724243e-02\t\\\\\n",
    "6\t\t& 0.743464211315294\t&\t1.090336672305192e-02\t\\\\\n",
    "7\t\t& 0.736128256500852\t&\t7.335954814441825e-03\t\\\\\n",
    "\\end{array}$$<br>\n",
    " Por outro lado, utilizando o Método de Newton à função $f(x) = cos(x) - x$, temos, com apenas $4$ iterações:<br><br>\n",
    " $$p_{n+1} = p_{n} -\\frac{cos(p_{n}) - p_{n}}{-sen(p_{n}) - 1}, \\ \\ \\ \\ \\ n \\geq 0.$$<br>\n",
    " Os resultados obtidos são mostrados na tabela a seguir:<br><br>\n",
    " $$\\begin{array}{ccc}\n",
    "n    \t& p_{n}   \t\t& \\delta_{n}\t\\\\\n",
    "0    \t& 0.785398163397448 & -  \t\t\t\\\\\n",
    "1    \t& 0.739536133515238\t& 4.586202988221000e-02\t\\\\\n",
    "2    \t& 0.739085178106010 & 4.509554092281265e-04\t\\\\\n",
    "3\t\t& 0.739085133215161\t& 4.489084903802620e-08\t\\\\\n",
    "4\t\t& 0.739085133215161\t& 4.440892098500626e-16*\t\\\\\n",
    "\\end{array}$$<br>\n",
    " Ao que se pode ver, analisando-se os valor de $p_{3}$ e $p_{4}$ que o Método de Newton se mostrou mais eficiente que a iteração do ponto fixo. O valor $4.440892098500626e-16$ obtido para o erro na quarta iteração gerou um erro em uma casa omitida no display. Podemos admitir que $4.440892098500626e-16 \\approx 0$."
   ]
  },
  {
   "cell_type": "markdown",
   "id": "998abc82",
   "metadata": {},
   "source": [
    "Consideremos o próximo exemplo que também tem o status de Observação."
   ]
  },
  {
   "cell_type": "markdown",
   "id": "34b13bef",
   "metadata": {},
   "source": [
    "#### <font color='blue'> Exemplo 5 </font>"
   ]
  },
  {
   "cell_type": "markdown",
   "id": "f965af45",
   "metadata": {},
   "source": [
    "<font color='blue'> O **Teorema 1** traz um alerta para a escolha de $p_{0}$. Ao aplicarmos o Método de Newton à equação $\\frac{x^{3}+8}{e^{x}} = 0$ partindo da aproximação inicial $p_{0} = -1$ (que parece \"bem próxima\" da única solução real $p=-2$) as coisas não dão muito certo. Pois bem, sua função iterativa é dada por $p_{n} = p_{n-1} - \\frac{p_{n-1}^{3} + 8}{-p_{n-1}^{3} + 3p_{n-1}^{2}-8}$. Os resultados para $4$ iterações são apresentados a seguir:<br><br>\n",
    " $$\\begin{array}{ccc}\n",
    "n    \t& p_{n}   \t       \t & \\delta_{n} \\\\\n",
    "0    \t& -1     \t \t  \t &  -\\\\\n",
    "1    \t& 0.750000000000000\t &\t1.750000000000000 \\\\\n",
    "2    \t& 2.000580046403712\t &  1.250580046403712 \\\\\n",
    "3\t\t& 6.002319680348669  &  4.001739633944957 \\\\\n",
    "4\t\t& 7.932733943635820  &  1.930414263287151\\\\\n",
    "\\vdots \t& \\vdots \t\t\t & \\vdots \\\\\n",
    "10 \t\t& 16.20138499527156  & 1.250273209802971 \\\\\n",
    "50 \t\t& 60.21614504456691  & 1.053414032129204 \\\\\n",
    "100\t\t& 6112.0923042223339 & 1.027761020468731 \\\\\n",
    "\\end{array}$$<br>\n",
    " Uma observação (superficial) indica que $\\delta_{n}$ diminui quando $n \\rightarrow \\infty$ o que é natural, mas ainda grande (maior que $1$). Perceba que $p_{0} = -1$ não foi uma boa escolha. Examinando o gráfico de $f(x) = \\frac{x^{3} + 8}{e^{x}}$, na figura a seguir, notamos que as raízes das retas tangentes se afastam da raiz de $f$ à medida que $n$ aumenta, mesmo o $\\delta_{n}$ aparentemente mostrando o contrário. Qualquer escolha para $p_{0}$ superior o máximo de $f$ (local e global) produzirá uma sequência divergente. Por outro lado, qualquer escolha para $p_{0}$ inferior ao máximo de $f$ irá acarretar em uma sequência convergente para o zero de $f$. Calcule as primeiras $5$ iterações do método de Newton considerando $p_{0} = -5$ ($p_{5} = -2.457347611076455$ e $\\delta_{5} = 0.380804003648816$), $p_{0} = -3,5$ ($p_{5} = -2.008685064643689$ e $\\delta_{5} = 7.204445735655041e-02$) e $p_{0} = -3$ ($p_{5} = -2.000093645106139$ e $\\delta_{5} = 7.856331776083358e-03$). Em particular, o máximo de $f$ ocorre aproximadamente no ponto $x=-1.35530139760811990993$* sendo igual a aproximadamente $y=21,369$. Qual seria o maior valor de $\\delta$ referente ao **Teorema 1**? Em caso de dúvida, consulte o professor.<br><br>\n",
    " <center> <img src=\"fig4-4.jpg\" alt=\"jpg_python\" width=\"600\" height=\"\"> </center>"
   ]
  },
  {
   "cell_type": "markdown",
   "id": "97cc0f96",
   "metadata": {},
   "source": [
    "#### Observação 2"
   ]
  },
  {
   "cell_type": "markdown",
   "id": "20f18e2a",
   "metadata": {},
   "source": [
    "O valor $x=-1.35530139760811990993$ dado no **Exemplo 5** é obtido tomando-se os zeros da derivada de $f(x) = \\frac{x^{3} + 8}{e^{x}}$ (Lembre-se do cálculo diferencial, pontos críticos etc). Podemos optar por usar um dos métodos vistos na anteriormente para buscar por este zero ou algum software ou plataforma online, como por exemplo, [WolframAlpha](https://www.wolframalpha.com/)<br><br>\n",
    "<center> <img src=\"fig4-5.jpg\" alt=\"jpg_python\" width=\"500\" height=\"\"> </center>"
   ]
  },
  {
   "cell_type": "markdown",
   "id": "dfc299cd",
   "metadata": {},
   "source": [
    "# <div style=\"margin-top: -20px;\">\n",
    "<hr style=\"border: 2px solid black;\">\n",
    "\n",
    "<font color='black'><span style=\"font-size: 22px;\"><strong>4.3 Implementações</strong></span></font>\n",
    "\n",
    "<hr style=\"border: 2px solid black;\">\n",
    "</div>"
   ]
  },
  {
   "cell_type": "markdown",
   "id": "5c77fcee",
   "metadata": {},
   "source": [
    "#### <font color='darkpurple'> Algoritmo: Método de Newton</font>"
   ]
  },
  {
   "cell_type": "markdown",
   "id": "09415ab1",
   "metadata": {},
   "source": [
    "<font color='darkpurple'> Para determinar uma solução de $g(x) = x$ a partir de uma aproximação inicial $p_{0}$<br><br>\n",
    " **ENTRADAS:** aproximação inicial $p_{0}$; tolerância $TOL$; número máximo de iterações $N$.<br><br>\n",
    " **SAÍDA:** solução aproximada $p$ ou mensagem de erro<br><br>\n",
    "    **Passo 1:** Faça $i = 1$;<br><br>\n",
    "    $\\ \\ \\ $ $fa = f(a)$;<br><br>\n",
    "    **Passo 2:** Enquanto $i \\leq N$, execute os Passos 3 a 6;<br><br>\n",
    "    $\\ \\ \\ $ **Passo 3:** Faça $p = p_{0} - \\frac{f(p_{0})}{f'(p_{0})}$;<br><br>\n",
    "    $\\ \\ \\ $ **Passo 4:** Se $|p - p_{0}| < TOL$, então<br><br>\n",
    "    $\\ \\ \\ \\ \\ \\ \\ \\ \\ $ *SAÍDA* $p$; (\"Peocedimento concluído com sucesso.\");<br><br>\n",
    "    $\\ \\ \\ \\ \\ \\ \\ \\ \\ $ *PARE*<br><br>\n",
    "    $\\ \\ \\ $ **Passo 5:** Faça $i = i + 1$<br><br>\n",
    "    $\\ \\ \\ $ **Passo 6:** Faça $p_{0} = p$;<br><br>\n",
    "    **Passo 7:** *SAÍDA* (\"O método falhou após $N$ iterações\")<br><br>\n",
    "    $\\ \\ \\ \\ \\ \\ \\ \\ \\ $ *PARE*"
   ]
  },
  {
   "cell_type": "markdown",
   "id": "d59508e4",
   "metadata": {},
   "source": [
    "#### <font color='darkblue'> Código Python: Método de Newton</font>"
   ]
  },
  {
   "cell_type": "code",
   "execution_count": 1,
   "id": "9d646a88",
   "metadata": {
    "ExecuteTime": {
     "end_time": "2024-01-06T14:32:40.490072Z",
     "start_time": "2024-01-06T14:32:40.366312Z"
    }
   },
   "outputs": [],
   "source": [
    "from numpy import*\n",
    "\n",
    "def newton(f,df,p0,tol,n):\n",
    "\n",
    "        p0 = float(p0)\n",
    "        tol = float(tol)\n",
    "        n = int(n)\n",
    "\n",
    "        i = 0\n",
    "        F = lambda x: eval(f)\n",
    "        DF = lambda x: eval(df)\n",
    "        delta = float('inf')\n",
    "\n",
    "        if DF(p0) != 0:\n",
    "            i = 0\n",
    "            delta = float('inf')\n",
    "\n",
    "            print(f'A tabela a seguir mostra as iterações e o erro:')\n",
    "            print(\n",
    "                'n               pn                            en')\n",
    "            while tol < delta:\n",
    "                if i == n:\n",
    "                    print('O método atingiu a quantidade máxima de iterações.')\n",
    "                    break\n",
    "                p = p0 - F(p0) / DF(p0)\n",
    "                i = i + 1\n",
    "                delta = abs(p0 - p)\n",
    "                print(f'%0.0f        %0.13f               %0.13f' % (i, p, delta))\n",
    "                p0 = p\n",
    "        return print(f'Resultado: {p}')"
   ]
  },
  {
   "cell_type": "code",
   "execution_count": 2,
   "id": "54e44993",
   "metadata": {
    "ExecuteTime": {
     "end_time": "2024-01-06T14:32:52.196281Z",
     "start_time": "2024-01-06T14:32:52.189363Z"
    }
   },
   "outputs": [
    {
     "name": "stdout",
     "output_type": "stream",
     "text": [
      "A tabela a seguir mostra as iterações e o erro:\n",
      "n               pn                            en\n",
      "1        0.7395361335152               0.0458620298822\n",
      "2        0.7390851781060               0.0004509554092\n",
      "3        0.7390851332152               0.0000000448908\n",
      "Resultado: 0.739085133215161\n"
     ]
    }
   ],
   "source": [
    "# Exemplo de uso\n",
    "newton('cos(x)-x','-sin(x)-1', '0.7853981633974483', '0.000001', '10')"
   ]
  },
  {
   "cell_type": "markdown",
   "id": "49bc2c6c",
   "metadata": {},
   "source": [
    "#### Observação 3"
   ]
  },
  {
   "cell_type": "markdown",
   "id": "c6cd883a",
   "metadata": {},
   "source": [
    "Ao observamos despretensiosamente o **Exemplo 4**, em princípio, notamos a grande velocidade do método de Newton em comparação ao método da iteração de ponto fixo (e também demais métodos). O método de Newton é de fato muito rápido. Contudo, há algo de complicado quando se pensa em um algoritmo \"verdadeiro\" para tal método. Observe que, no **Código Python 1**, exigimos do usuário que o mesmo insira a função (até aí tudo bem) e sua derivada algébrica (esse foi o pulo do gato). Contudo, a velocidade de computação do método de Newton pode ser piorada se o usuário passar a tarefa de calcular a derivada para o computador. De fato, em cada iteração o programa deveria estimar a derivada no ponto equivalente à aquela iteração e isto é muito custoso. Neste caso, opta-se por dividir o trabalho entre máquina e humano quando passamos para o último a tarefa de inserir a derivada algébrica (pelo menos não costuma ser tão difícil derivar uma função algebricamente!). Uma alternativa ao método de Newton será o método da secante, visto logo mais, cuja semelhança (geométrica) o torna \"parecido\" ao primeiro, porém mais lento, contudo, sem a necessidade do conhecimento/inserção da derivada por parte do usuário."
   ]
  },
  {
   "cell_type": "markdown",
   "id": "a091b38d",
   "metadata": {},
   "source": [
    "#### <font color='darkgreen'> Palavras dos Mestres 1</font>"
   ]
  },
  {
   "cell_type": "markdown",
   "id": "862bee21",
   "metadata": {},
   "source": [
    "<font color='darkgreen'> Devemos tomar bastante cuidado ao pensarmos que um computador faz cálculos perfeitos, isto é, cálculos exatos em cada etapa. Sabemos, por exemplo, que as expressões:<br><br>\n",
    " $$A(x): (x+1)^{3} \\ \\ \\ \\ e \\ \\ \\ \\ B(x): x^{3} + 3x^{2} + 3x + 1$$<br>\n",
    " são iguais do ponto de vista matemático, isto é, qualquer número real atribuído à variável $x$ apresentará mesmo resultado quando aplicado em $A(x)$ e $B(x)$. Contudo, dentro da máquina, isto não ocorre como o esperado em muitos casos. A máquina tem memória finita e isto lhe impõe certa limitação. Para $x = 1$ não há problemas, o valor de $A(1) - B(1)$, quando calculado no Python (e, em geral em outras linguagens) será zero. Isso se repetirá para muitos outros valores. Contudo, ao considerarmos o valor $x = \\frac{-3}{7}$ não temos a mesma sorte. A célula de código a seguir ilustra bem esta situação:"
   ]
  },
  {
   "cell_type": "code",
   "execution_count": 14,
   "id": "19132d53",
   "metadata": {
    "ExecuteTime": {
     "end_time": "2023-12-29T20:58:47.553374Z",
     "start_time": "2023-12-29T20:58:47.547790Z"
    }
   },
   "outputs": [
    {
     "name": "stdout",
     "output_type": "stream",
     "text": [
      "0\n",
      "-1.1102230246251565e-16\n"
     ]
    }
   ],
   "source": [
    "# Definindo as funções\n",
    "def A(x):\n",
    "    return (x + 1)**3\n",
    "\n",
    "def B(x):\n",
    "    return x**3 + 3*x**2 + 3*x + 1\n",
    "\n",
    "# Calculando as diferenças\n",
    "resultado1 = A(1) - B(1)\n",
    "resultado2 = A(-3/7)-B(-3/7)\n",
    "\n",
    "# Imprimindo as diferenças\n",
    "print(resultado1)\n",
    "print(resultado2)"
   ]
  },
  {
   "cell_type": "markdown",
   "id": "8270730e",
   "metadata": {},
   "source": [
    "Para mais detalhes sobre erros computacionais consulte ([1], pg. 16-27)"
   ]
  },
  {
   "cell_type": "markdown",
   "id": "befa51e3",
   "metadata": {},
   "source": [
    "# <div style=\"margin-top: -20px;\">\n",
    "<hr style=\"border: 2px solid black;\">\n",
    "\n",
    "<font color='black'><span style=\"font-size: 22px;\"><strong>Exercícios</strong></span></font>\n",
    "\n",
    "<hr style=\"border: 2px solid black;\">\n",
    "</div>"
   ]
  },
  {
   "cell_type": "markdown",
   "id": "ff024579",
   "metadata": {},
   "source": [
    "#### Execício 1"
   ]
  },
  {
   "cell_type": "markdown",
   "id": "6095e06a",
   "metadata": {},
   "source": [
    "Seja $f(x) = x^{2} - 6$ e $p_{0} = 1$. Use o método de Newton para achar $p_{2}$."
   ]
  },
  {
   "cell_type": "markdown",
   "id": "f460e39a",
   "metadata": {},
   "source": [
    "#### Execício 2"
   ]
  },
  {
   "cell_type": "markdown",
   "id": "ce53f183",
   "metadata": {},
   "source": [
    "Use o método de Newton para encontrar soluções com precisão de $10^{-4}$ para os seguintes problemas. Adote $p_{0} = \\frac{a+b}{2}$ em que $a$ e $b$ são os extremos dos intervalos dados:\n",
    "\n",
    "a) $x^{3} - 2x^{2} - 5 = 0$, $[1, 4]$;\n",
    "\n",
    "b) $x^{3} + 3x^{2} - 1$, $[-3, 2]$;\n",
    "\n",
    "c) $x - 0.8 - 0.2 sen(x) = 0$, $[0, \\pi/2]$.\n"
   ]
  },
  {
   "cell_type": "markdown",
   "id": "50482ed2",
   "metadata": {},
   "source": [
    "#### Execício 3"
   ]
  },
  {
   "cell_type": "markdown",
   "id": "00c693a3",
   "metadata": {},
   "source": [
    "Utilize o método de Newton para encontrar uma aproximação com precisão de $10^{-4}$ do valor de $x$ que produza o ponto do gráfico de $y=x^{2}$ mais próximo a $(1,0)$. (*Dica: minimize $[d(x)]^{2}$ em que $d(x)$ representa a distância de $(x,x^{2})$ a $(1,0)$.*)"
   ]
  },
  {
   "cell_type": "markdown",
   "id": "bf7def88",
   "metadata": {},
   "source": [
    "# <div style=\"margin-top: -20px;\">\n",
    "<hr style=\"border: 2px solid black;\">\n",
    "\n",
    "<font color='black'><span style=\"font-size: 22px;\"><strong>Respostas dos Exercícios</strong></span></font>\n",
    "\n",
    "<hr style=\"border: 2px solid black;\">\n",
    "</div>"
   ]
  },
  {
   "cell_type": "markdown",
   "id": "fd0f79d7",
   "metadata": {},
   "source": [
    "#### Resposta do Exercício 1"
   ]
  },
  {
   "cell_type": "markdown",
   "id": "600659c3",
   "metadata": {},
   "source": [
    "$p_{2} = 2.607142857142857$."
   ]
  },
  {
   "cell_type": "markdown",
   "id": "31c0b83b",
   "metadata": {},
   "source": [
    "#### Resposta do Exercício 2"
   ]
  },
  {
   "cell_type": "markdown",
   "id": "f75dac22",
   "metadata": {},
   "source": [
    "a) Para $p_{0} = 2.5$, obtemos $p_{5} = 2.690647448028615$; b) Para $p_{0} = -0.5$, obtemos $p_{3} = -0.652703646836132$ e $\\delta_{3} = 7.413094164576695e-05$; c) Para $p_{0} = 0$, temos $p_{3} = 0.964333887695271$ e $\\delta_{3} = 7.208532798452794e-07$"
   ]
  },
  {
   "cell_type": "markdown",
   "id": "ab248173",
   "metadata": {},
   "source": [
    "#### Resposta do Exercício 3"
   ]
  },
  {
   "cell_type": "markdown",
   "id": "79f63edd",
   "metadata": {},
   "source": [
    "A função que mede a distância do ponto $(1,0)$ à função $(x,x^{2})$ é dada por $d(x)_{(x,x^{2}),(1,0)} = \\sqrt{(x-1)^{2} + (x^{2}-0)^{2}} = \\sqrt{x^{4} + x^{2} - 2x + 1}$. Encontre o zero de $d'(x)$. Usando $f(x) = (d(x))^{2}$ podemos buscar os zeros de $f'(x)$ (que são pontos críticos de $f$). Neste caso, partindo de $p_{0} = 1$, obtemos $p_{5} = 0.589754512301466$ e $\\delta_{5} =  8.201911083638436e-08$. Logo, o ponto procurado é dado por $(0.589754512301466,0.347810384779940)$."
   ]
  },
  {
   "cell_type": "markdown",
   "id": "bb844f24",
   "metadata": {},
   "source": [
    "# <div style=\"margin-top: -20px;\">\n",
    "<hr style=\"border: 2px solid black;\">\n",
    "\n",
    "<font color='black'><span style=\"font-size: 22px;\"><strong>Vídeo Aulas</strong></span></font>\n",
    "\n",
    "<hr style=\"border: 2px solid black;\">\n",
    "</div>"
   ]
  },
  {
   "cell_type": "markdown",
   "id": "4062851d",
   "metadata": {},
   "source": [
    "Clicando nos links a seguir você será redirecionado às aulas referentes a este capítulo:\n",
    "\n",
    "[Revisão Rápida Sobre Série de Taylor](https://youtu.be/jmm1U1XYNdU)\n",
    "\n",
    "[Método de Newton](https://youtu.be/AOmrl5b5keI)\n",
    "\n",
    "[Interpretação Geométrica do Método de Newton](https://youtu.be/3RFnYjkKL_g)\n",
    "\n",
    "[Convergência do Método de Newton](https://youtu.be/U5IyyCnAxok)"
   ]
  }
 ],
 "metadata": {
  "kernelspec": {
   "display_name": "Python 3 (ipykernel)",
   "language": "python",
   "name": "python3"
  },
  "language_info": {
   "codemirror_mode": {
    "name": "ipython",
    "version": 3
   },
   "file_extension": ".py",
   "mimetype": "text/x-python",
   "name": "python",
   "nbconvert_exporter": "python",
   "pygments_lexer": "ipython3",
   "version": "3.11.5"
  },
  "varInspector": {
   "cols": {
    "lenName": 16,
    "lenType": 16,
    "lenVar": 40
   },
   "kernels_config": {
    "python": {
     "delete_cmd_postfix": "",
     "delete_cmd_prefix": "del ",
     "library": "var_list.py",
     "varRefreshCmd": "print(var_dic_list())"
    },
    "r": {
     "delete_cmd_postfix": ") ",
     "delete_cmd_prefix": "rm(",
     "library": "var_list.r",
     "varRefreshCmd": "cat(var_dic_list()) "
    }
   },
   "types_to_exclude": [
    "module",
    "function",
    "builtin_function_or_method",
    "instance",
    "_Feature"
   ],
   "window_display": false
  }
 },
 "nbformat": 4,
 "nbformat_minor": 5
}
