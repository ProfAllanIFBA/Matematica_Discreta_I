{
 "cells": [
  {
   "cell_type": "markdown",
   "id": "de40f19b",
   "metadata": {},
   "source": [
    "<center> <img src=\"logo_ifba.jpg\" alt=\"jpg_python\" width=\"100\" height=\"200\"> </center>\n",
    "<br><br>\n",
    "<div align=\"center\"><span style=\"font-size: 26px;\"><strong>Matemática Discreta I <br></strong></span></div> <br>\n",
    "<center> <img src=\"python_gif.gif\" alt=\"gif_python\" width=\"80\"> </center>"
   ]
  },
  {
   "cell_type": "markdown",
   "id": "52af9bb6",
   "metadata": {},
   "source": [
    "<div style=\"border: 2px solid black; padding: 10px; width: 95%; background-color: lightgray; display: flex; align-items: center;\">\n",
    "    <h1 style=\"color: red; text-align: center; margin: auto;\">\n",
    "        Capítulo 7: Operações Com Conjuntos\n",
    "    </h1>\n",
    "</div>\n",
    "\n",
    "<font color='red'></font>\n",
    "<a href=\"\"></a>"
   ]
  },
  {
   "cell_type": "markdown",
   "id": "0c2310e1",
   "metadata": {},
   "source": [
    "Operações com conjuntos referem-se a um conjunto de procedimentos matemáticos fundamentais que envolvem a combinação, interseção, diferença e união de elementos em conjuntos. Por meio dessas operações, é possível analisar a relação e a combinação de elementos entre conjuntos distintos, fornecendo uma base essencial para várias áreas da matemática e aplicações práticas em diversos campos."
   ]
  },
  {
   "cell_type": "markdown",
   "id": "4bcf7343",
   "metadata": {},
   "source": [
    "# <div style=\"margin-top: -20px;\">\n",
    "<hr style=\"border: 2px solid black;\">\n",
    "\n",
    "<font color='black'><span style=\"font-size: 22px;\"><strong>7.1 União, Interseção e Diferença</strong></span></font>\n",
    "\n",
    "<hr style=\"border: 2px solid black;\">\n",
    "</div>"
   ]
  },
  {
   "cell_type": "markdown",
   "id": "d3f1e5b2",
   "metadata": {},
   "source": [
    "####  <font color='red'> Definição 1 </font>"
   ]
  },
  {
   "cell_type": "markdown",
   "id": "548769fa",
   "metadata": {},
   "source": [
    "<font color='red'>Sejam $A$ e $B$ conjuntos. A **união** dos conjuntos $A$ e $B$, indicada por $A \\cup B$, é o conjunto formado pelos elementos que pertencem a $A$ ou pertencem a $B$ ou pertencem a ambos. Em símbolos,<br><br>\n",
    "$$A \\cup B = \\{x|x \\in A \\vee x \\in B\\}.$$"
   ]
  },
  {
   "cell_type": "markdown",
   "id": "5f1d2eb6",
   "metadata": {},
   "source": [
    "#### União em Diagramas de Venn"
   ]
  },
  {
   "cell_type": "markdown",
   "id": "040e89f7",
   "metadata": {},
   "source": [
    "As partes destacadas na figura a seguir referem-se aos casos possíveis para a união, $1$: $A$ e $B$ tem elementos em comum mas ambos possuem elementos exclusivos; $2$: ambos $A$ e $B$ não compartilham qualquer elemento; $3$: Neste caso, um dos conjuntos está contido no outro, isto é $A \\subset B$."
   ]
  },
  {
   "cell_type": "markdown",
   "id": "0e635373",
   "metadata": {},
   "source": [
    "<center> <img src=\"fig7_1.jpg\" alt=\"jpg_python\" width=\"600\" height=\"\"> </center>"
   ]
  },
  {
   "cell_type": "markdown",
   "id": "7abd3fa8",
   "metadata": {},
   "source": [
    "####  <font color='blue'> Exemplo 1 </font>"
   ]
  },
  {
   "cell_type": "markdown",
   "id": "008187db",
   "metadata": {},
   "source": [
    "<font color='blue'> Determine a união dos conjuntos $A = \\{1,3,6\\}$ e $B = \\{1,2,3\\}$  e determine as uniões a seguir e represente-as em diagramas de Venn considerando $U = \\mathbb{N}$."
   ]
  },
  {
   "cell_type": "markdown",
   "id": "43596d96",
   "metadata": {},
   "source": [
    "<font color='blue'> **Solução:** Temos que<br><br>\n",
    "$$A \\cup B = \\{1,3,6\\} \\cup \\{1,2,3\\} = \\{1,2,3,6\\}.$$<br>\n",
    "A representação em diagramas de Venn deste item é apresentado na figura a seguir:<br><br>\n",
    "   <center> <img src=\"fig7_2.jpg\" alt=\"jpg_python\" width=\"200\" height=\"\"> </center>"
   ]
  },
  {
   "cell_type": "markdown",
   "id": "d5690dc5",
   "metadata": {},
   "source": [
    "####  <font color='red'> Definição 2 </font>"
   ]
  },
  {
   "cell_type": "markdown",
   "id": "96fe4bd0",
   "metadata": {},
   "source": [
    "<font color='red'> Sejam $A$ e $B$ conjuntos. A **interseção** dos conjuntos $A$ e $B$, indicada por $A \\cap B$, é o conjunto formado pelos elementos que pertencem a $A$ e pertencem a $B$, simultaneamente. Em símbolos,<br><br>\n",
    "$$A \\cap B = \\{x|x \\in A \\wedge x \\in B\\}.$$"
   ]
  },
  {
   "cell_type": "markdown",
   "id": "48191880",
   "metadata": {},
   "source": [
    "#### Interseção em Diagramas de Venn"
   ]
  },
  {
   "cell_type": "markdown",
   "id": "6641a287",
   "metadata": {},
   "source": [
    "Analogamente à união, temos a intersecção representada em diagramas de Venn na figura a seguir:<br><br>\n",
    "<center> <img src=\"fig7_3.jpg\" alt=\"jpg_python\" width=\"600\" height=\"\"> </center>"
   ]
  },
  {
   "cell_type": "markdown",
   "id": "dfcec4c9",
   "metadata": {},
   "source": [
    "####  <font color='blue'> Exemplo 2 </font>"
   ]
  },
  {
   "cell_type": "markdown",
   "id": "7a985e7f",
   "metadata": {},
   "source": [
    "<font color='blue'> Dados os conjuntos $A = \\{1,3,6\\}$, $B = \\{1,2,3\\}$, $C= \\{4,5,6\\}$ e $U = \\mathbb{N}$, determine:<br><br>\n",
    " a) $A \\cap B$ $\\ \\ \\ \\ \\ \\ \\ \\ \\ \\ \\ \\ \\ $ b) $B \\cap C$"
   ]
  },
  {
   "cell_type": "markdown",
   "id": "cf9848fe",
   "metadata": {},
   "source": [
    "<font color='blue'> a) Temos que<br><br>\n",
    "$$A \\cap B = \\{1,3,6\\} \\cap \\{1,2,3\\} = \\{1, 3\\}.$$<br>\n",
    "  A representação em diagramas de Venn deste é dada na figura a seguir:<br><br>\n",
    "<center> <img src=\"fig7_4.jpg\" alt=\"jpg_python\" width=\"200\" height=\"\"> </center>"
   ]
  },
  {
   "cell_type": "markdown",
   "id": "e9b1212c",
   "metadata": {},
   "source": [
    "<font color='blue'> b) Temos que<br><br>\n",
    "$$A \\cap B = \\{1, 2, 3\\} \\cap \\{4, 5, 6\\} = \\emptyset.$$<br>\n",
    "A representação em diagramas de Venn deste item é dada na figura a seguir:<br><br>\n",
    "<center> <img src=\"fig7_5.jpg\" alt=\"jpg_python\" width=\"200\" height=\"\"> </center>"
   ]
  },
  {
   "cell_type": "markdown",
   "id": "0e5237f5",
   "metadata": {},
   "source": [
    "####  <font color='red'> Definição 3 </font>"
   ]
  },
  {
   "cell_type": "markdown",
   "id": "d09f197b",
   "metadata": {},
   "source": [
    "<font color='red'> Dois conjuntos são chamados **disjuntos** se sua interseção é o conjunto vazio."
   ]
  },
  {
   "cell_type": "markdown",
   "id": "db0f5928",
   "metadata": {},
   "source": [
    "Note que, no item b) do **Exemplo 2**, os conjuntos $B$ e $C$ são disjuntos."
   ]
  },
  {
   "cell_type": "markdown",
   "id": "3de60754",
   "metadata": {},
   "source": [
    "Note que se $A$ e $B$ são disjuntos temos que <font color='red'>$n(A \\cup B) = n(A) + n(B)$</font>. Caso $A$ e $B$ possuam interseção não vazia utiliza-se a fórmula <font color='red'>$n(A \\cup B) = n(A) + n(B) - n(A \\cap B)$</font>."
   ]
  },
  {
   "cell_type": "markdown",
   "id": "1cf3b7a1",
   "metadata": {},
   "source": [
    "####  <font color='blue'> Exemplo 3 </font>"
   ]
  },
  {
   "cell_type": "markdown",
   "id": "94b98088",
   "metadata": {},
   "source": [
    "<font color='blue'> Foram entrevistadas $50$ pessoas sobre suas preferências entre dois canais $A$ e $B$ de televisão. Os resultados da pesquisa são precisamente:<br><br>\n",
    "$21$ pessoas responderam que assistem ao canal $A$;<br><br>\n",
    "$10$ pessoas responderam que assistem aos canais $A$ e $B$;<br><br>\n",
    "$5$ pessoas responderam que não assistem nenhum dos dois canais.\n",
    "De acordo com esses dados, quantas pessoas assistem somente ao canal $B$?"
   ]
  },
  {
   "cell_type": "markdown",
   "id": "5dc5c12e",
   "metadata": {},
   "source": [
    "<font color='blue'> Note que ao afirmar que $21$ pessoas responderam que assistem ao canal $A$, por exemplo, não podemos inferir que todas estas assistem somente ao canal $A$. Parte destas também pode assistir ao canal $B$. Neste tipo de questão é indicado começarmos pela interseção dos conjuntos e pelo complementar. Caso não conheçamos devemos colocar uma variável no local. Considere a figura a seguir <br><br>\n",
    "    <center> <img src=\"fig7_6.jpg\" alt=\"jpg_python\" width=\"200\" height=\"\"> </center><br>\n",
    "$$x + 5 + 10 + 11 = 50 \\Rightarrow x = 24.$$<br>\n",
    "Assim, o número de pessoas que assiste somente ao canal $B$ é igual a $24$."
   ]
  },
  {
   "cell_type": "markdown",
   "id": "2416f258",
   "metadata": {},
   "source": [
    "####  <font color='red'> Definição 4 </font>"
   ]
  },
  {
   "cell_type": "markdown",
   "id": "e4622708",
   "metadata": {},
   "source": [
    "<font color='red'> Sejam $A$ e $B$ conjuntos. A **diferença** dos conjuntos $A$ e $B$, indicada por $A - B$, é o conjunto formado pelos elementos que pertencem a $A$ e não pertencem a $B$. Em símbolos,<br><br>\n",
    "$$A - B = \\{x|x \\in A \\wedge x \\notin B\\}.$$"
   ]
  },
  {
   "cell_type": "markdown",
   "id": "40897b36",
   "metadata": {},
   "source": [
    "#### Diferença em Diagramas de Venn"
   ]
  },
  {
   "cell_type": "markdown",
   "id": "86795fe9",
   "metadata": {},
   "source": [
    "<center> <img src=\"fig7_7.jpg\" alt=\"jpg_python\" width=\"450\" height=\"\"> </center><br><br>\n",
    "Um pouco diferente da união e da intersecção, na diferença temos um caso adicional pra representarmos em diagramas de Venn uma vez que $A - B$ é, em geral, diferente de $B - A$."
   ]
  },
  {
   "cell_type": "markdown",
   "id": "78a3f950",
   "metadata": {},
   "source": [
    "<font color='red'> Para os casos em que um conjunto $B$ estiver inteiramente contido em um conjunto $A$ a diferença $A - B$ é comumente chamada de **complementar** de $B$ em relação a $A$, indicada por $\\complement_{A}^{B}$. Em símbolos,<br><br>\n",
    "$$B \\subset A \\Leftrightarrow \\complement_{A}^{B} = \\{x|x \\in A  \\wedge x \\notin B\\}.$$<br>\n",
    "A notação $\\overline{A}$ indica o complementar de $A$ em relação ao universo $U$, isto é, $\\overline{A} = U - A$."
   ]
  },
  {
   "cell_type": "markdown",
   "id": "baade645",
   "metadata": {},
   "source": [
    "Note que um elemento $x \\in \\overline{A}$ se, e somente se, $x \\notin A$."
   ]
  },
  {
   "cell_type": "markdown",
   "id": "694e81dd",
   "metadata": {},
   "source": [
    "A representação em diagramas de Venn do complementar está ilustrada no item $4$ da figura anterior relacionada à diferença de dois conjuntos."
   ]
  },
  {
   "cell_type": "markdown",
   "id": "01e45747",
   "metadata": {},
   "source": [
    "####  <font color='blue'> Exemplo 4 </font>"
   ]
  },
  {
   "cell_type": "markdown",
   "id": "9f84bc9f",
   "metadata": {},
   "source": [
    "<font color='blue'> Dados os conjuntos $A = \\{1,2,4,6,7\\}$, $B = \\{1,2,5\\}$, $C = \\{1,2,6\\}$, $D = \\{1,2\\}$ e $U = \\{1,2,3,4,5,6,7,8\\}$ determine os conjuntos a seguir e apresente suas representações em diagramas de Venn dos conjuntos envolvidos em cada item juntamente com o universo $U$:<br><br>\n",
    "a) $A-B$ $\\ \\ \\ \\ \\ \\ \\ \\ \\ \\ $ b) $B-A$ $\\ \\ \\ \\ \\ \\ \\ \\ \\ \\ $ c)  $\\complement_{A}^{C}$ $\\ \\ \\ \\ \\ \\ \\ \\ \\ \\ $ d) $B-C$ $\\ \\ \\ \\ \\ \\ \\ \\ \\ \\ $ e) $\\complement_{B}^{C}$ $\\ \\ \\ \\ \\ \\ \\ \\ \\ \\ $ f) $\\overline{B}$<br><br>"
   ]
  },
  {
   "cell_type": "markdown",
   "id": "a799c2f5",
   "metadata": {},
   "source": [
    "<font color='blue'> **Solução:** a) $A - B = \\{1,2,4,6,7\\} - \\{1,2,5\\} = \\{4, 6, 7\\}$.<br><br>\n",
    "b) $B - A = \\{1,2,5\\} - \\{1,2,4,6,7\\} = \\{5\\}$.<br><br>\n",
    "c) $C \\subset A \\Leftrightarrow \\complement_{A}^{C} = A - C = \\{1,2,4,6,7\\} - \\{1,2,6\\} = \\{4,7\\}$.<br><br>\n",
    "d) $B - C = \\{1,2,5\\} - \\{1,2,6\\} = \\{5\\}$.<br><br>\n",
    "e) $C \\nsubseteq B \\Leftrightarrow \\nexists \\, \\complement_{B}^{C}$.<br><br>\n",
    "f) $B \\subset U \\Leftrightarrow \\overline{B} = U - B = \\{1,2,3,4,5,6,7,8\\} - \\{1,2,5\\} = \\{3,4,6,7,8\\}$.<br><br>\n",
    "As representações em diagramas de Venn dos itens acima são dadas a seguir:<br><br>\n",
    "<center> <img src=\"fig7_8.jpg\" alt=\"jpg_python\" width=\"550\" height=\"\"> </center>"
   ]
  },
  {
   "cell_type": "markdown",
   "id": "0e2111f7",
   "metadata": {},
   "source": [
    "#### União e Intersecção Generalizadas"
   ]
  },
  {
   "cell_type": "markdown",
   "id": "d7c02407",
   "metadata": {},
   "source": [
    "É muitas situações costumamos aplicar as operações de união e intersecção em mais de dois conjuntos. Neste caso, podemos usar as seguintes generalizações:"
   ]
  },
  {
   "cell_type": "markdown",
   "id": "60d03ce0",
   "metadata": {},
   "source": [
    "<font color='red'>$$A_{1} \\cup A_{2} \\cup \\cdots \\cup A_{n} = \\bigcup_{i=1}^{n}A_{i} = \\{x| (x \\in A_{1}) \\vee (x \\in A_{2}) \\vee \\cdots \\vee (x \\in A_{n})\\},$$<font color='red'>\n",
    "    \n",
    "isto é, um elemento $x$ pertencerá à união se este pertencer a ao menos um dos conjuntos da coleção."
   ]
  },
  {
   "cell_type": "markdown",
   "id": "c87bafe8",
   "metadata": {},
   "source": [
    "<font color='red'> $$A_{1} \\cap A_{2} \\cap \\cdots \\cap A_{n} = \\bigcap_{i=1}^{n}A_{i} = \\{x| (x \\in A_{1}) \\wedge (x \\in A_{2}) \\wedge \\cdots \\wedge (x \\in A_{n})\\},$$\n",
    "    \n",
    "isto é, um elemento $x$ pertencerá à interseção se este pertencer a todos os conjuntos da coleção simultaneamente."
   ]
  },
  {
   "cell_type": "markdown",
   "id": "40101b5a",
   "metadata": {},
   "source": [
    "####  <font color='blue'> Exemplo 5 </font>"
   ]
  },
  {
   "cell_type": "markdown",
   "id": "c7d4710e",
   "metadata": {},
   "source": [
    "<font color='blue'> Considere os conjuntos $A = \\{1,2,3,4\\}$, $B = \\{1,3,5,6\\}$, $C = \\{1,3,7,8\\}$ e $D = \\{-1, 1, 5,9\\}$. Determine os elementos dos conjuntos:<br><br>\n",
    "a) $A \\cup B \\cup C \\cup D$. $\\ \\ \\ \\ \\ \\ \\ \\ \\ \\ \\ \\ \\ \\ \\ \\ $ b) $A \\cap B \\cap C \\cap D$."
   ]
  },
  {
   "cell_type": "markdown",
   "id": "5a5bc271",
   "metadata": {},
   "source": [
    "<font color='blue'> **Solução:** a) Temos que<br><br>\n",
    "$$A \\cup B \\cup C \\cup D = \\{1,2,3,4\\} \\cup \\{1,3,5,6\\} \\cup \\{1,3,7,8\\} \\cup \\{-1, 1, 5,9\\} = \\{-1, 1, 2, 3, 4, 5, 6, 7, 8, 9\\}.$$"
   ]
  },
  {
   "cell_type": "markdown",
   "id": "b200a03f",
   "metadata": {},
   "source": [
    "<font color='blue'> b) Temos que<br><br>\n",
    "$$A \\cap B \\cap C \\cap D = \\{1,2,3,4\\} \\cap \\{1,3,5,6\\} \\cap \\{1,3,7,8\\} \\cap \\{-1, 1, 5,9\\} = \\{1\\}.$$\n"
   ]
  },
  {
   "cell_type": "markdown",
   "id": "ca8fd85b",
   "metadata": {},
   "source": [
    "# <div style=\"margin-top: -20px;\">\n",
    "<hr style=\"border: 2px solid black;\">\n",
    "\n",
    "<font color='black'><span style=\"font-size: 22px;\"><strong>7.2 Identidades Envolvendo Conjuntos</strong></span></font>\n",
    "\n",
    "<hr style=\"border: 2px solid black;\">\n",
    "</div>"
   ]
  },
  {
   "cell_type": "markdown",
   "id": "1f99af34",
   "metadata": {},
   "source": [
    "A tabela a seguir nos mostra algumas identidades bastante úteis. Demonstraremos algumas delas utilizando diferentes métodos. Em todos eles utilizaremos de conceitos desenvolvidos durante o estudo da lógica proposicional."
   ]
  },
  {
   "cell_type": "markdown",
   "id": "6c7311de",
   "metadata": {},
   "source": [
    "<font color='red'> <center> \\begin{array}{|c|c|c|c|c|c|}\n",
    "\\hline\n",
    "Identidade\t& Nome \\\\\n",
    "    \\hline\n",
    "A\\cup \\emptyset = A, \\,\\,\\, A \\cap U = A & Elementos Neutros \\\\\n",
    "    \\hline\n",
    "A \\cup U = U, \\,\\,\\, A \\cap \\emptyset = \\emptyset & Dominações \\\\\n",
    "\\hline\n",
    "A \\cup A, \\,\\,\\, A \\cap A = A & Idempotentes \\\\\n",
    "    \\hline\n",
    "\\overline{\\overline{A}} = A & Duplo Complemento \\\\\n",
    "    \\hline\n",
    "A \\cup B = B \\cup A, \\,\\,\\, A \\cap B = b \\cap A & Comutativas \\\\\n",
    "    \\hline\n",
    "(A \\cup B) \\cup C = A \\cup (B \\cup C), \\,\\,\\, (A \\cap B) \\cap C = A \\cap (B \\cap C) & Associativas \\\\\n",
    "    \\hline \n",
    "A \\cap (B \\cup C) = (A \\cap B) \\cup (A \\cap C), \\,\\,\\, A \\cup (B \\cap C) = (A \\cup B) \\cap (A \\cup C) & Distributivas\\\\\n",
    "    \\hline\n",
    "\\overline{A \\cup B} = \\overline{A} \\cap \\overline{B}, \\,\\,\\, \\overline{A \\cap B} = \\overline{A} \\cup \\overline{B} & Leis de De Morgan \\\\\n",
    "    \\hline\n",
    "A \\cup (A \\cap B) = A, \\,\\,\\, A \\cap (A \\cup B) = A & Absorções \\\\\n",
    "    \\hline\n",
    "A \\cup \\overline{A} = U, \\,\\,\\, A \\cap \\overline{A} = \\emptyset & Complementares \\\\\n",
    "    \\hline\n",
    "\\end{array} </center> </font>"
   ]
  },
  {
   "cell_type": "markdown",
   "id": "0df86dd5",
   "metadata": {},
   "source": [
    "####  <font color='blue'> Exemplo 6 </font>"
   ]
  },
  {
   "cell_type": "markdown",
   "id": "76360b7e",
   "metadata": {},
   "source": [
    "<font color='blue'> Demonstre que $\\overline{A \\cap B} = \\overline{A} \\cup \\overline{B}$."
   ]
  },
  {
   "cell_type": "markdown",
   "id": "52475ed1",
   "metadata": {},
   "source": [
    "<font color='blue'> **Solução 1**: Devemos mostrar que $\\overline{A \\cap B} \\subseteq \\overline{A} \\cup \\overline{B}$ e que $ \\overline{A} \\cup \\overline{B}  \\subseteq \\overline{A \\cap B}$.<br><br>\n",
    "$\\Rightarrow)$ Suponha que $x \\in \\overline{A \\cap B}$. Pela definição de complemento, temos que$x \\notin A \\cap B$. Logo, a afirmação  é $\\neg((x \\in A) \\wedge (x \\in B))$ é verdadeira. Aplicando a lei de De Morgan (da lógica), temos que $\\neg(x \\in A) \\vee \\neg(x \\in B)$ e portanto pela definição de negação temos que $x \\notin A$ ou $x \\notin B$. Pela definição de complemento, temos que $x \\in \\overline{A}$ ou $x \\in overline{B}$, isto é, $x \\in \\overline{A} \\cup \\overline{B}$. Isso mostra que, $\\overline{A \\cap B} \\subseteq \\overline{A} \\cup \\overline{B}$.<br><br>\n",
    "$\\Leftarrow)$ Suponhamos que $x \\in \\overline{A} \\cup \\overline{B}$. Pela definição de união $x \\in \\overline{A}$ ou $x \\in overline{B}$. Usando a definição de complementar, temos que $x \\notin A$ ou $x \\notin B$. Consequentemente a afirmação $\\neg(x \\in A) \\vee\\neg(x \\in B)$ é verdadeira. Usando a lei de De Morgan (da lógica) temos que $\\neg((x \\in A) \\wedge (x \\in B))$. Pela definição de interseção temos que $\\neg (x \\in A \\cap B)$. Pela definição de complemento temos que $x \\in \\overline{A \\cap B}$. Isso mostra que $ \\overline{A} \\cup \\overline{B}  \\subseteq \\overline{A \\cap B}$.<br><br>"
   ]
  },
  {
   "cell_type": "markdown",
   "id": "3781bc5d",
   "metadata": {},
   "source": [
    "<font color='blue'> **Solução 2**: Mostremos em uma forma mais compacta.<br><br>\n",
    "    <center> \\begin{array}{}\n",
    "\\overline{A \\cap B}\t& = & \\{x| x \\notin A \\cap B\\}  & pela \\ definição \\ de \\ complemento  \\\\\n",
    "& = & \\{x| \\neg(x \\in (A \\cap B))\\} & pela \\ definição \\ de \\ símbolo \\ \"não \\ pertence\" \\\\\n",
    "& = & \\{x| \\neg(x \\in A \\wedge x \\in B)\\} & pela \\ definição \\ de \\ interseção  \\\\\n",
    "& = & \\{x| \\neg(x \\in A) \\vee \\neg(x \\in B)\\} & pela \\ lei \\ de \\ De \\ Mogan \\ (da \\ lógica) \\\\\n",
    "& = & \\{x| x \\notin A \\vee x \\notin B\\} & pela \\ definição \\ de \\ símbolo \\ \"não \\ pertence\" \\\\\n",
    "& = & \\{x| x \\in \\overline{A} \\vee x \\in \\overline{B}\\} & pela \\ definição \\ de \\ complemento \\\\\n",
    "& = & \\{x| x \\in \\overline{A} \\cup \\overline{B}\\} & pela \\ definição \\ de \\ união \\\\\n",
    "& = & \\overline{A} \\cup \\overline{B} & pelo \\ significado \\ da \\ notação \\ de \\ conjunto \\\\\n",
    "    \\end{array}</center>"
   ]
  },
  {
   "cell_type": "markdown",
   "id": "7566eb33",
   "metadata": {},
   "source": [
    "<font color='blue'> **Solução 3**: Usemos as chamadas **tabelas de pertinências** em que um valor $1$ representa os casos em que um certo elemento pertence a um conjunto e $0$ os casos que este elemento não pertence. Pois bem,<br><br>\n",
    " <center>\n",
    "\\begin{array}{}\n",
    "A\t& B & \\overline{A} & \\overline{B} & A \\cap B & \\overline{A \\cap B}  & \\overline{A} \\cup \\overline{B}  \\\\\n",
    "1\t& 1 & 0 & 0 & 1 & 0 & 0 \\\\\n",
    "1\t& 0 & 0 & 1 & 0 & 1 & 1 \\\\\n",
    "0\t& 1 & 1 & 0 & 0 & 1 & 1 \\\\\n",
    "0\t& 0 & 1 & 1 & 0 & 1 & 1 \\\\\n",
    "\\end{array}\n",
    " </center><br>\n",
    " Como duas últimas colunas são iguais (colunas resultado), temos provado a identidade. Aqui usamos um raciocínio semelhante ao usado na **demonstração por exaustão** (Técnica de demonstração que consiste na prova por teste de todos os casos possíveis, desde que estes sejam em número finito.)"
   ]
  },
  {
   "cell_type": "markdown",
   "id": "3571f002",
   "metadata": {},
   "source": [
    "####  <font color='blue'> Exemplo 7 </font>"
   ]
  },
  {
   "cell_type": "markdown",
   "id": "8fa953fe",
   "metadata": {},
   "source": [
    "<font color='blue'> Use o método de Solução $3$ visto no **Exemplo 6** para mostrar que $A \\cup (B \\cap C) = (A \\cup B) \\cap (A \\cup C)$."
   ]
  },
  {
   "cell_type": "markdown",
   "id": "573d465b",
   "metadata": {},
   "source": [
    "<font color='blue'> **Solução**: Consideremos  a tabela de pertinência a seguir:<br><br>\n",
    " <center>\n",
    "\\begin{array}{}\n",
    "A\t& B & C & A \\cup B & A \\cup C & B \\cap C & A \\cup (B \\cap C) &  (A \\cup B) \\cap (A \\cup C) \\\\\n",
    "1\t& 1 & 1 & 1 & 1 & 1 & 1 & 1 \\\\\n",
    "1\t& 1 & 0 & 1 & 1 & 0 & 1 & 1 \\\\\n",
    "1\t& 0 & 1 & 1 & 1 & 0 & 1 & 1 \\\\\n",
    "1\t& 0 & 0 & 1 & 1 & 0 & 1 & 1 \\\\\n",
    "0\t& 1 & 1 & 1 & 1 & 1 & 1 & 1 \\\\\n",
    "0\t& 1 & 0 & 1 & 0 & 0 & 0 & 0 \\\\\n",
    "0\t& 0 & 1 & 0 & 1 & 0 & 0 & 0 \\\\\n",
    "0\t& 0 & 0 & 0 & 0 & 0 & 0 & 0 \\\\\n",
    "\\end{array}\n",
    "  </center><br>\n",
    " Como duas últimas colunas são iguais (colunas resultado), temos provado a identidade."
   ]
  },
  {
   "cell_type": "markdown",
   "id": "fbce0ce2",
   "metadata": {},
   "source": [
    "# <div style=\"margin-top: -20px;\">\n",
    "<hr style=\"border: 2px solid black;\">\n",
    "\n",
    "<font color='black'><span style=\"font-size: 22px;\"><strong>7.3 Representação Computacional de Um Conjuntos Conjuntos</strong></span></font>\n",
    "\n",
    "<hr style=\"border: 2px solid black;\">\n",
    "</div>"
   ]
  },
  {
   "cell_type": "markdown",
   "id": "30261de1",
   "metadata": {},
   "source": [
    "Há muitas formas de se representar conjuntos em um computador. Podemos, por exemplo, apenas agrupar os elementos de forma desordenada. Contudo, esta desordem pode nos custar muito caro em tempo computacional se estivermos interessados em cálculos de união, interseção etc. Apresentaremos um método de se representar conjuntos em um computador de modo a tornar mais fácil obter combinações a partir destes."
   ]
  },
  {
   "cell_type": "markdown",
   "id": "e731ffc4",
   "metadata": {},
   "source": [
    "Suponha que o conjunto universo $U$ seja finito (de modo a não superar a memória do computador). Primeiro tome uma ordem arbitrária para os elementos de $U$, por exemplo, $a_{1}, a_{2}, \\ldots, a_{n}$. Representemos um subconjunto $A$ de $U$ como sendo uma cadeia de bits de extensão $n$, em que o $i-$ésimo bit nessa cadeia é $1$ se $a_{i}$ pertencer a $A$ e $0$ se $a_{i}$ não pertencer a $A$."
   ]
  },
  {
   "cell_type": "markdown",
   "id": "b4653b56",
   "metadata": {},
   "source": [
    "####  <font color='blue'> Exemplo 8 </font>"
   ]
  },
  {
   "cell_type": "markdown",
   "id": "65e8aeb8",
   "metadata": {},
   "source": [
    "<font color='blue'> Considerando o conjunto $U = \\{1, 2, 3, 4, 5, 6, 7, 8, 9, 10\\}$ de modo que $a_{i} = i$ em uma ordem crescente, represente os subconjuntos  de $U$ a seguir utilizando cadeias de bits:<br><br>\n",
    "a) $A = \\{1,2,3,4,5\\}$ $\\ \\ \\ \\ \\ \\ \\ \\ \\ \\ $ b) $B = \\{1,3,5,7,9\\}$ $\\ \\ \\ \\ \\ \\ \\ \\ \\ \\ $ c) $C = \\{2,4,6,8,10\\}$"
   ]
  },
  {
   "cell_type": "markdown",
   "id": "6096c1d3",
   "metadata": {},
   "source": [
    "<font color='blue'> **Solução**: Temos que<br><br>\n",
    "a) $1111100000$<br><br>\n",
    "b) $1010101010$<br><br>\n",
    "c) $0101010101$"
   ]
  },
  {
   "cell_type": "markdown",
   "id": "d1d61617",
   "metadata": {},
   "source": [
    "####  <font color='blue'> Exemplo 9 </font>"
   ]
  },
  {
   "cell_type": "markdown",
   "id": "d8832911",
   "metadata": {},
   "source": [
    "<font color='blue'> Considerando o conjunto universo $U = \\{1,2,3,4,5,6,7,8\\}$ determine quais conjuntos são representados pelas cadeias de bits dadas a seguir (trate os operadores $AND$ e $OR$ como sendo os equivalentes computacionais de $\\wedge$ e $\\vee$, respectivamente).<br><br>\n",
    "a) $11001100$ $\\ \\ \\ \\ \\ \\ \\ \\ \\ \\ $ b) $00111001$ $\\ \\ \\ \\ \\ \\ \\ \\ \\ \\ $ c) $(00111011 \\ AND \\ 10101010) \\ \\  OR \\ \\  00011010$"
   ]
  },
  {
   "cell_type": "markdown",
   "id": "cead0fd7",
   "metadata": {},
   "source": [
    "<font color='blue'> **Solução**: a) $A = \\{1,2,5,6\\}$<br><br>\n",
    "b) $B = \\{3,4,5,8\\}$<br><br>\n",
    "c) Temos que<br><br>\n",
    " <center>\n",
    "\\begin{array}{}\n",
    "& 00111011 & \\\\\n",
    "AND & 10101010 & \\\\\n",
    " \\hline\n",
    "& 00101010 & \\\\\n",
    "\\end{array}<br>\n",
    "\\begin{array}{}\n",
    "& 00101010 & \\\\\n",
    "OR & 00011010 & \\\\\n",
    "\\hline\n",
    "& 00111010 & \\\\\n",
    "\\end{array}\n",
    " </center><br>\n",
    " que é equivalente a<br><br>\n",
    "$$(00111011 \\ AND \\ 10101010) \\ \\ OR \\ \\ 00011010 = 00101010 \\ \\ OR \\ \\ 00011010  = 00101010 = 00111010.$$<br>\n",
    "Por fim, temos o conjunto $A = \\{3,4,5,7\\}$."
   ]
  },
  {
   "cell_type": "markdown",
   "id": "b10e58a2",
   "metadata": {},
   "source": [
    "# <div style=\"margin-top: -20px;\">\n",
    "<hr style=\"border: 2px solid black;\">\n",
    "\n",
    "<font color='black'><span style=\"font-size: 22px;\"><strong>7.4 Exercícios</strong></span></font>\n",
    "\n",
    "<hr style=\"border: 2px solid black;\">\n",
    "</div>"
   ]
  },
  {
   "cell_type": "markdown",
   "id": "671b4ff5",
   "metadata": {},
   "source": [
    "#### Exercício 1"
   ]
  },
  {
   "cell_type": "markdown",
   "id": "225d0af5",
   "metadata": {},
   "source": [
    "Considere os conjuntos $A = \\{ 1, 2, 3, 4, 5\\}$, $B = \\{3, 4, 5, 6, 7\\}$, $C = \\{ 2, 3, 4, 5, 8, 9\\}$ e $D = \\{ 10, 11\\}$ com $U = A \\cup B \\cup C \\cup D$ determine:\n",
    "\n",
    "a) $A \\cup B$ $ \\ \\ \\ \\ \\ \\ \\ \\ $ b) $A \\cup B \\cup C \\cup D$ $ \\ \\ \\ \\ \\ \\ \\ \\ $ c) $A \\cap B \\cap C$ $ \\ \\ \\ \\ \\ \\ \\ \\ $ d) $\\overline{A \\cap B \\cap C}$ $ \\ \\ \\ \\ \\ \\ \\ \\ $ e) $(\\overline{A \\cap B}) - (\\overline{C} \\cap D)$"
   ]
  },
  {
   "cell_type": "markdown",
   "id": "f60b8c10",
   "metadata": {},
   "source": [
    "#### Exercício 2"
   ]
  },
  {
   "cell_type": "markdown",
   "id": "d07c6f0c",
   "metadata": {},
   "source": [
    "Mostre as seguintes identidades utilizando tabelas de pertinência:\n",
    "\n",
    "a) $A \\cup B = B \\cup A$ $ \\ \\ \\ \\ \\ \\ \\ \\ $ b) $\\overline{A \\cup B} = \\overline{A} \\cap \\overline{B}$ $ \\ \\ \\ \\ \\ \\ \\ \\ $ c) $A \\cap (B \\cup C) = (A \\cap B) \\cup (A \\cap C)$ $ \\ \\ \\ \\ \\ \\ \\ \\ $ d) $A \\cup (\\overline{A} \\cap B) = A \\cup B$"
   ]
  },
  {
   "cell_type": "markdown",
   "id": "226d18ee",
   "metadata": {},
   "source": [
    "#### Exercício 3"
   ]
  },
  {
   "cell_type": "markdown",
   "id": "5723739d",
   "metadata": {},
   "source": [
    "Considerando o conjunto $U = \\{1, 2, 3,4,5,6,7,8,9,10,11,12\\}$ de modo que $a_{i} = i$ em uma ordem crescente, represente os subconjuntos  de $U$ a seguir utilizando cadeias de bits:\n",
    "\n",
    "a) $A = \\{1, 2, 9, 10, 11\\}$ $ \\ \\ \\ \\ \\ \\ \\ \\ $ b) $B = \\{2, 4, 6, 8, 10, 12\\}$"
   ]
  },
  {
   "cell_type": "markdown",
   "id": "7950430d",
   "metadata": {},
   "source": [
    "#### Exercício 4"
   ]
  },
  {
   "cell_type": "markdown",
   "id": "dc2154d1",
   "metadata": {},
   "source": [
    "Considerando o conjunto universo $U = \\{a, b, c, d, e, f, g, h, i\\}$ sob a ordem lexicográfica (alfabética), determine qual conjunto cada uma das sequências de bits a seguir representa:\n",
    "\n",
    "a) $111000111$ $ \\ \\ \\ \\ \\ \\ \\ \\ \\ \\ \\ \\ \\ \\ \\ \\ \\ \\ \\ $ b) $111001011 - 100111001$ $ \\ \\ \\ \\ \\ \\ \\ \\ $\n",
    "\n",
    "c) $NOT \\ \\ 101011001$ $ \\ \\ \\ \\ \\ \\ \\ \\ $ \n",
    "d) $ (NOT \\ \\ 000110111) \\ \\ AND \\ \\ (NOT \\ \\ (001110110 \\ \\ OR \\ \\ (NOT \\ \\ 101010101)))$"
   ]
  },
  {
   "cell_type": "markdown",
   "id": "1cdedc46",
   "metadata": {},
   "source": [
    "## <div style=\"margin-top: -20px;\">\n",
    "<hr style=\"border: 2px solid black;\">\n",
    "\n",
    "<font color='black'><span style=\"font-size: 18px;\"><strong>Respostas</strong></span></font>\n",
    "\n",
    "<hr style=\"border: 2px solid black;\">\n",
    "</div>"
   ]
  },
  {
   "cell_type": "markdown",
   "id": "d96f9cb2",
   "metadata": {},
   "source": [
    "#### Respostas do Exercício 1"
   ]
  },
  {
   "cell_type": "markdown",
   "id": "c24812de",
   "metadata": {},
   "source": [
    "a) $\\{1, 2, 3, 4, 5, 6, 7\\}$, b) $\\{1, 2, 3, 4, 5, 6, 7, 8, 9, 10, 11\\}$, c) $\\{3, 4, 5\\}$, d) $\\{1, 2, 6, 7, 8, 9, 10\\}$, e) $\\{1, 2, 6, 7, 8, 9\\}$"
   ]
  },
  {
   "cell_type": "markdown",
   "id": "3b0c4c29",
   "metadata": {},
   "source": [
    "#### Respostas do Exercício 2"
   ]
  },
  {
   "cell_type": "markdown",
   "id": "e46b3b63",
   "metadata": {},
   "source": [
    "Construa as tabelas de pertinência e verifique que as colunas resultado são iguais. Em caso de dúvida, consulte o professor."
   ]
  },
  {
   "cell_type": "markdown",
   "id": "882ad9a9",
   "metadata": {},
   "source": [
    "#### Respostas do Exercício 3"
   ]
  },
  {
   "cell_type": "markdown",
   "id": "59b19638",
   "metadata": {},
   "source": [
    "a) $110000001110$, b) $010101010101$"
   ]
  },
  {
   "cell_type": "markdown",
   "id": "dbcec3a9",
   "metadata": {},
   "source": [
    "#### Respostas do Exercício 4"
   ]
  },
  {
   "cell_type": "markdown",
   "id": "c277670f",
   "metadata": {},
   "source": [
    "a) $\\{a, b, c, g, h, i\\}$, b) $\\{b, c, h\\}$, c) $\\{b, d, g, h\\}$, d) $\\{100000000\\}$"
   ]
  },
  {
   "cell_type": "markdown",
   "id": "9e4a04e6",
   "metadata": {},
   "source": [
    "# <div style=\"margin-top: -20px;\">\n",
    "<hr style=\"border: 2px solid black;\">\n",
    "\n",
    "<font color='black'><span style=\"font-size: 22px;\"><strong>7.5 Vídeo Aulas</strong></span></font>\n",
    "\n",
    "<hr style=\"border: 2px solid black;\">\n",
    "</div>"
   ]
  },
  {
   "cell_type": "markdown",
   "id": "42dc0ec2",
   "metadata": {},
   "source": [
    "Clicando nos links a seguir você será redirecionado às aulas referentes a este capítulo.\n",
    "\n",
    "[União de Dois Conjuntos](https://youtu.be/rK19YGuMN8g)\n",
    "\n",
    "[Interseção de Dois Conjuntos](https://youtu.be/jE4RyKJaka8)\n",
    "\n",
    "[Diferença de Dois Conjuntos](https://youtu.be/B8vD7c5f4LY)\n",
    "\n",
    "[Exemplo: Expressões Envolvendo Conjuntos](https://youtu.be/siKOIRzHBRY)\n",
    "\n",
    "[Exemplo: Problemas Envolvendo Conjuntos](https://youtu.be/uCwbXH5myzw)\n",
    "\n",
    "[Demonstrando Identidades Envolvendo Conjuntos](https://youtu.be/E0uzx_iOHcM)\n",
    "\n",
    "[Exemplo: Demonstrando Identidades Envolvendo Conjuntos](https://youtu.be/q5DDSprq1P4)\n",
    "\n",
    "[Representação Computacional de Um Conjunto](https://youtu.be/tD1jRo7VrE4)"
   ]
  },
  {
   "cell_type": "markdown",
   "id": "90ad38ef",
   "metadata": {},
   "source": [
    "# <div style=\"margin-top: -20px;\">\n",
    "<hr style=\"border: 2px solid black;\">\n",
    "\n",
    "<font color='black'><span style=\"font-size: 22px;\"><strong>7.6 No Computador (Experimental)</strong></span></font>\n",
    "\n",
    "<hr style=\"border: 2px solid black;\">\n",
    "</div>"
   ]
  },
  {
   "cell_type": "markdown",
   "id": "62bbedd5",
   "metadata": {},
   "source": [
    "### Operações básicas com conjuntos"
   ]
  },
  {
   "cell_type": "markdown",
   "id": "fe0d46e9",
   "metadata": {},
   "source": [
    "A forma de inserção de um conjunto é feita de forma natural."
   ]
  },
  {
   "cell_type": "code",
   "execution_count": 5,
   "id": "72bef377",
   "metadata": {
    "ExecuteTime": {
     "end_time": "2023-08-01T19:40:00.624366Z",
     "start_time": "2023-08-01T19:40:00.620353Z"
    }
   },
   "outputs": [],
   "source": [
    "# Cojuntos\n",
    "A = {1,2,3,4}\n",
    "B = {3,4,7}\n",
    "C = {5,6,7,8}"
   ]
  },
  {
   "cell_type": "code",
   "execution_count": 6,
   "id": "e927b575",
   "metadata": {
    "ExecuteTime": {
     "end_time": "2023-08-01T19:40:01.105571Z",
     "start_time": "2023-08-01T19:40:01.100585Z"
    }
   },
   "outputs": [
    {
     "name": "stdout",
     "output_type": "stream",
     "text": [
      "{1, 2, 3, 4}\n",
      "{3, 4, 7}\n",
      "{8, 5, 6, 7}\n"
     ]
    }
   ],
   "source": [
    "# Imprimindo conjuntos\n",
    "print(A)\n",
    "print(B)\n",
    "print(C)"
   ]
  },
  {
   "cell_type": "markdown",
   "id": "a195a890",
   "metadata": {},
   "source": [
    "#### União"
   ]
  },
  {
   "cell_type": "code",
   "execution_count": 7,
   "id": "c402a0d3",
   "metadata": {
    "ExecuteTime": {
     "end_time": "2023-08-01T21:06:12.648323Z",
     "start_time": "2023-08-01T21:06:12.641316Z"
    }
   },
   "outputs": [
    {
     "name": "stdout",
     "output_type": "stream",
     "text": [
      "{1, 2, 3, 4, 7}\n",
      "{1, 2, 3, 4, 5, 6, 7, 8}\n"
     ]
    }
   ],
   "source": [
    "# Cojuntos\n",
    "A = {1,2,3,4}\n",
    "B = {3,4,7}\n",
    "C = {5,6,7,8}\n",
    "\n",
    "# Calculando a união de conjuntos\n",
    "uniao_AB = A|B\n",
    "uniao_ABC = (A|B)|C  # Sempre que possível use parênteses\n",
    "\n",
    "# Imprimindo a união\n",
    "print(uniao_AB)\n",
    "print(uniao_ABC)"
   ]
  },
  {
   "cell_type": "markdown",
   "id": "d149c1c6",
   "metadata": {},
   "source": [
    "#### Intersecção"
   ]
  },
  {
   "cell_type": "code",
   "execution_count": 9,
   "id": "b3ef054d",
   "metadata": {
    "ExecuteTime": {
     "end_time": "2023-08-01T21:07:08.054964Z",
     "start_time": "2023-08-01T21:07:08.049952Z"
    }
   },
   "outputs": [
    {
     "name": "stdout",
     "output_type": "stream",
     "text": [
      "{3, 4}\n",
      "set()\n"
     ]
    }
   ],
   "source": [
    "# Cojuntos\n",
    "A = {1,2,3,4}\n",
    "B = {3,4,7}\n",
    "C = {5,6,7,8}\n",
    "\n",
    "# Calculando a intersecção de conjuntos\n",
    "intesecao_AB = A&B\n",
    "intesecao_AC = A&C\n",
    "\n",
    "# Imprimindo a intersecção\n",
    "print(intesecao_AB)\n",
    "print(intesecao_AC)"
   ]
  },
  {
   "cell_type": "markdown",
   "id": "9b6f424c",
   "metadata": {},
   "source": [
    "#### Diferença"
   ]
  },
  {
   "cell_type": "code",
   "execution_count": 10,
   "id": "8c4a6b01",
   "metadata": {
    "ExecuteTime": {
     "end_time": "2023-08-01T21:08:41.039174Z",
     "start_time": "2023-08-01T21:08:41.033172Z"
    }
   },
   "outputs": [
    {
     "name": "stdout",
     "output_type": "stream",
     "text": [
      "{1, 2}\n",
      "{7}\n",
      "{1, 2, 3, 4}\n"
     ]
    }
   ],
   "source": [
    "# Cojuntos\n",
    "A = {1,2,3,4}\n",
    "B = {3,4,7}\n",
    "C = {5,6,7,8}\n",
    "\n",
    "# Calculando a intersecção de conjuntos\n",
    "diferenca_AB = A-B\n",
    "diferenca_BA = B-A\n",
    "diferenca_AC = A-C\n",
    "\n",
    "# Imprimindo a união\n",
    "print(diferenca_AB)\n",
    "print(diferenca_BA)\n",
    "print(diferenca_AC)"
   ]
  },
  {
   "cell_type": "markdown",
   "id": "974c6d72",
   "metadata": {},
   "source": [
    "#### Juntando tudo"
   ]
  },
  {
   "cell_type": "markdown",
   "id": "e8c5ca42",
   "metadata": {},
   "source": [
    "Considere os conjuntos $A = \\{ 1, 2, 3, 5\\}$, $B = \\{4, 5, 6, 7\\}$, $C = \\{1, 2, 3, 8, 9\\}$ e $D = \\{ 10, 11\\}$ com $U = A \\cup B \\cup C \\cup D$ determinemos $A - \\overline{(B\\cup(C \\cap D))}$."
   ]
  },
  {
   "cell_type": "code",
   "execution_count": 13,
   "id": "1223e650",
   "metadata": {
    "ExecuteTime": {
     "end_time": "2023-08-01T21:14:27.860075Z",
     "start_time": "2023-08-01T21:14:27.855071Z"
    }
   },
   "outputs": [],
   "source": [
    "# Listando os conjuntos\n",
    "A = {1,2,3,5}\n",
    "B = {4,5,6,7}\n",
    "C = {1,2,3,8,9}\n",
    "D = {10,11}"
   ]
  },
  {
   "cell_type": "code",
   "execution_count": 14,
   "id": "9bad1278",
   "metadata": {
    "ExecuteTime": {
     "end_time": "2023-08-01T21:14:29.179653Z",
     "start_time": "2023-08-01T21:14:29.175638Z"
    }
   },
   "outputs": [
    {
     "name": "stdout",
     "output_type": "stream",
     "text": [
      "{1, 2, 3, 4, 5, 6, 7, 8, 9, 10, 11}\n"
     ]
    }
   ],
   "source": [
    "# Calculando o Universo U\n",
    "U = A|B|C|D"
   ]
  },
  {
   "cell_type": "code",
   "execution_count": 16,
   "id": "0c298458",
   "metadata": {
    "ExecuteTime": {
     "end_time": "2023-08-01T21:16:38.554960Z",
     "start_time": "2023-08-01T21:16:38.550970Z"
    }
   },
   "outputs": [],
   "source": [
    "# Calculando o complemento de (𝐵∪(𝐶∩𝐷)) em relação a U\n",
    "comp = U - (B|(C&D))"
   ]
  },
  {
   "cell_type": "code",
   "execution_count": 17,
   "id": "191f6b5b",
   "metadata": {
    "ExecuteTime": {
     "end_time": "2023-08-01T21:16:52.796399Z",
     "start_time": "2023-08-01T21:16:52.791426Z"
    }
   },
   "outputs": [],
   "source": [
    "# Calculando a última diferença A - comp\n",
    "resposta = A - comp"
   ]
  },
  {
   "cell_type": "code",
   "execution_count": 18,
   "id": "7eb11a48",
   "metadata": {
    "ExecuteTime": {
     "end_time": "2023-08-01T21:17:16.627198Z",
     "start_time": "2023-08-01T21:17:16.623197Z"
    }
   },
   "outputs": [
    {
     "name": "stdout",
     "output_type": "stream",
     "text": [
      "{5}\n"
     ]
    }
   ],
   "source": [
    "# Imprimindo a resposta\n",
    "print(resposta)"
   ]
  },
  {
   "cell_type": "markdown",
   "id": "b6246c35",
   "metadata": {
    "ExecuteTime": {
     "end_time": "2023-08-01T21:18:15.981118Z",
     "start_time": "2023-08-01T21:18:15.975104Z"
    }
   },
   "source": [
    "Poderíamos resolver diretamente tomando:"
   ]
  },
  {
   "cell_type": "code",
   "execution_count": 21,
   "id": "b847c77a",
   "metadata": {
    "ExecuteTime": {
     "end_time": "2023-08-01T21:19:02.884980Z",
     "start_time": "2023-08-01T21:19:02.879993Z"
    }
   },
   "outputs": [
    {
     "name": "stdout",
     "output_type": "stream",
     "text": [
      "{5}\n"
     ]
    }
   ],
   "source": [
    "resposta_direta = A - (U - (B|(C&D)))\n",
    "print(resposta_direta)"
   ]
  }
 ],
 "metadata": {
  "kernelspec": {
   "display_name": "Python 3 (ipykernel)",
   "language": "python",
   "name": "python3"
  },
  "language_info": {
   "codemirror_mode": {
    "name": "ipython",
    "version": 3
   },
   "file_extension": ".py",
   "mimetype": "text/x-python",
   "name": "python",
   "nbconvert_exporter": "python",
   "pygments_lexer": "ipython3",
   "version": "3.11.5"
  },
  "varInspector": {
   "cols": {
    "lenName": 16,
    "lenType": 16,
    "lenVar": 40
   },
   "kernels_config": {
    "python": {
     "delete_cmd_postfix": "",
     "delete_cmd_prefix": "del ",
     "library": "var_list.py",
     "varRefreshCmd": "print(var_dic_list())"
    },
    "r": {
     "delete_cmd_postfix": ") ",
     "delete_cmd_prefix": "rm(",
     "library": "var_list.r",
     "varRefreshCmd": "cat(var_dic_list()) "
    }
   },
   "types_to_exclude": [
    "module",
    "function",
    "builtin_function_or_method",
    "instance",
    "_Feature"
   ],
   "window_display": false
  }
 },
 "nbformat": 4,
 "nbformat_minor": 5
}
