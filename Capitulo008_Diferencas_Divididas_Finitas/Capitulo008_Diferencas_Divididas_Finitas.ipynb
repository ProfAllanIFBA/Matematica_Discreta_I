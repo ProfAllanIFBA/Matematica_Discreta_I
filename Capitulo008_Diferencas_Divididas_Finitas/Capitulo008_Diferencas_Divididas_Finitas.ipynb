{
 "cells": [
  {
   "cell_type": "markdown",
   "id": "d4ea28a8",
   "metadata": {
    "slideshow": {
     "slide_type": "slide"
    }
   },
   "source": [
    "<center> <img src=\"logo_ifba.jpg\" alt=\"jpg_python\" width=\"100\" height=\"200\"> </center>\n",
    "<br><br>\n",
    "<div align=\"center\"><span style=\"font-size: 26px;\"><strong>Cálculo Numérico <br></strong></span></div> <br>\n",
    "<center> <img src=\"python_gif.gif\" alt=\"gif_python\" width=\"80\"> </center>\n"
   ]
  },
  {
   "cell_type": "markdown",
   "id": "d76184a7",
   "metadata": {
    "slideshow": {
     "slide_type": "slide"
    }
   },
   "source": [
    "<div style=\"border: 2px solid black; padding: 10px; width: 95%; background-color: lightgray; display: flex; align-items: center;\">\n",
    "    <h1 style=\"color: red; text-align: center; margin: auto;\">\n",
    "        Capítulo 8: Diferenças Divididas Finitas\n",
    "    </h1>\n",
    "</div>\n",
    "\n",
    "<font color='red'></font>\n",
    "<a href=\"\"></a>"
   ]
  },
  {
   "cell_type": "markdown",
   "id": "fab4c005",
   "metadata": {},
   "source": [
    "# <div style=\"margin-top: -20px;\">\n",
    "<hr style=\"border: 2px solid black;\">\n",
    "\n",
    "<font color='black'><span style=\"font-size: 22px;\"><strong>8.1 Diferenças Divividas Finitas</strong></span></font>\n",
    "\n",
    "<hr style=\"border: 2px solid black;\">\n",
    "</div>"
   ]
  },
  {
   "cell_type": "markdown",
   "id": "6d35d829",
   "metadata": {},
   "source": [
    "\\ind Nesta parte, veremos uma outra maneira de se encontrar o polinômio interpolador que passa pelos $n+1$ pontos $x_{0}, \\ldots, x_{n}$, onde $f$ é conhecida. Lembre-se que o polinômio interpolador é único (**Teorema 2**(**Cap. 7**)).\n",
    "\t\n",
    "Consideremos uma função $f(x)$ cont\\'inua em $[a, b]$ e diferenciável em $(a, b)$. \n",
    "\n",
    "Uma DDF de primeira ordem de $f(x)$ em relação a $x_{0}$, $x_{1}$ é dada por:\n",
    " \n",
    "$$f[x_{0}, x_{1}] = \\frac{f(x_{1}) - f(x_{0})}{x_{1} - x_{0}}.$$\n",
    "    \n",
    "A DDF de segunda ordem de $f(x)$ será dada por:\n",
    "\n",
    "$$f[x_{0}, x_{1}, x_{2}] = \\frac{f[x_{1}, x_{2}] - f[x_{0}, x_{1}]}{x_{2} - x_{0}}.$$\n",
    "\n",
    "Assim a DDF de $n$-ésima ordem de $f(x)$ será dada por:\n",
    "\n",
    "$$f[x_{0}, x_{1},\\ldots, x_{n}] = \\frac{f[x_{1},x_{2} \\ldots, x_{n}] - f[x_{0},x_{1}, \\ldots, x_{n-1}]}{x_{n} - x_{0}}.$$"
   ]
  },
  {
   "cell_type": "markdown",
   "id": "b5ee7464",
   "metadata": {},
   "source": [
    "#### Observação 1"
   ]
  },
  {
   "cell_type": "markdown",
   "id": "27985c0c",
   "metadata": {},
   "source": [
    "i) Note que\n",
    "\n",
    "$$f[x_{0}, x_{1}] = \\frac{f(x_{0})}{x_{0} - x_{1}} + \\frac{f(x_{1})}{x_{1} - x_{0}}.$$\n",
    "\n",
    "Da mesma mesma forma \n",
    "\n",
    "$$f[x_{0}, x_{1}, x_{2}] = \\frac{f(x_{0})}{(x_{0}-x_{1})(x_{0} - x_{2})} + \\frac{f(x_{1})}{(x_{1}-x_{0})(x_{1} - x_{2})} + \\frac{f(x_{2})}{(x_{2}-x_{0})(x_{2} - x_{1})}.$$\n",
    "\n",
    "De fato,\n",
    "\n",
    "$$f[x_{0},x_{1},x_{2}] = \\frac{f[x_{1},x_{2}]-f[x_{0},x_{1}]}{x_{2}-x_{0}} =\\frac{\\frac{f(x_{2})-f(x_{1})}{x_{2}-x_{1}} - \\frac{f(x_{1})-f(x_{0})}{x_{1}-x_{0}}}{x_{2}-x_{0}} = \\frac{f(x_{2})-f(x_{1})}{(x_{2}-x_{1})(x_{2}-x_{0})} - \\frac{f(x_{1})-f(x_{0})}{(x_{1}-x_{0})(x_{2}-x_{0})} =$$\n",
    "\n",
    "$$= \\frac{f(x_{2})}{(x_{2}-x_{1})(x_{2}-x_{0})} - \\left(\\frac{f(x_{1})}{(x_{2}-x_{1})(x_{2}-x_{0})} - \\frac{f(x_{1})}{(x_{1}-x_{0})(x_{2}-x_{0})} \\right) + \\frac{f(x_{0})}{(x_{1}-x_{0})(x_{2}-x_{0})} =$$\n",
    "\n",
    "$$=\\frac{f(x_{0})}{(x_{1}-x_{0})(x_{2}-x_{0})} - \\left(\\frac{f(x_{1})(x_{1}-x_{0})+f(x_{1})(x_{2}-x_{1})}{(x_{2}-x_{1})(x_{2}-x_{0})(x_{1}-x_{0})} \\right) + \\frac{f(x_{2})}{(x_{2}-x_{1})(x_{2}-x_{0})} =$$\n",
    "\n",
    "$$=\\frac{f(x_{0})}{(x_{0}-x_{1})(x_{0}-x_{2})} - \\left(\\frac{f(x_{1})x_{1}-f(x_{1})x_{0}+f(x_{1})x_{2}-f(x_{1})x_{1}}{(x_{2}-x_{1})(x_{2}-x_{0})(x_{1}-x_{0})} \\right) + \\frac{f(x_{2})}{(x_{2}-x_{1})(x_{2}-x_{0})} =$$\n",
    "\n",
    "$$=\\frac{f(x_{0})}{(x_{0}-x_{1})(x_{0}-x_{2})} - \\left(\\frac{f(x_{1})x_{2}-f(x_{1})x_{0}}{(x_{2}-x_{1})(x_{2}-x_{0})(x_{1}-x_{0})} \\right) + \\frac{f(x_{2})}{(x_{2}-x_{1})(x_{2}-x_{0})} =$$\n",
    "$$=\\frac{f(x_{0})}{(x_{0}-x_{1})(x_{0}-x_{2})} - \\frac{f(x_{1})(x_{2}-x_{0})}{(x_{2}-x_{1})(x_{2}-x_{0})(x_{1}-x_{0})} + \\frac{f(x_{2})}{(x_{2}-x_{1})(x_{2}-x_{0})} =$$\n",
    "\n",
    "$$=\\frac{f(x_{0})}{(x_{0}-x_{1})(x_{0}-x_{2})} - \\frac{f(x_{1})}{(x_{2}-x_{1})(x_{1}-x_{0})}  + \\frac{f(x_{2})}{(x_{2}-x_{1})(x_{2}-x_{0})} =$$\n",
    "\n",
    "$$=\\frac{f(x_{0})}{(x_{0}-x_{1})(x_{0}-x_{2})} + \\frac{f(x_{1})}{(x_{1}-x_{2})(x_{1}-x_{0})}  + \\frac{f(x_{2})}{(x_{2}-x_{1})(x_{2}-x_{0})}.$$\n",
    "\n",
    "*Conseguiu observar algum possível padrão para, por exemplo, determinar $f[x_{0},x_{1},x_{2},x_{3}]$? E $f[x_{0},x_{1},\\ldots,x_{n-1}]$?*"
   ]
  },
  {
   "cell_type": "markdown",
   "id": "10e3bc1f",
   "metadata": {},
   "source": [
    "ii) Podemos admitir que $f[x_{0}, x_{1}]$ é uma aproximação para $f'(x_{0})$, $f[x_{0}, x_{1}, x_{2}]$ é uma aproximação para $f''(x_{1})$. Quanto mais perto, uns dos outros, os valores de $x_{i}$, estão, melhor será a aproximação."
   ]
  },
  {
   "cell_type": "markdown",
   "id": "5ded47ec",
   "metadata": {},
   "source": [
    "#### <font color='red'> Teorema 1 </font>"
   ]
  },
  {
   "cell_type": "markdown",
   "id": "d90597f3",
   "metadata": {},
   "source": [
    "<font color='red'> A igualdade a seguir é verdadeira para todo $n \\in \\mathbb{N}$<br><br>\n",
    "    $$f[x_{0},x_{1},\\ldots,x_{n}] = \\sum_{0}^{n} \\frac{f(x_{j})}{\\Pi_{i=0,i\\neq j}^{n}(x_{j}-x_{i})}.$$"
   ]
  },
  {
   "cell_type": "markdown",
   "id": "d49485d4",
   "metadata": {},
   "source": [
    "##### <font color='red'> Demonstração </font>"
   ]
  },
  {
   "cell_type": "markdown",
   "id": "11c563d7",
   "metadata": {},
   "source": [
    "<font color='red'> Utilizaremos a prova por indução matemática (Veja o tópico **Revisando 1** a seguir). Note que<br><br>\n",
    " $P(1):f[x_{0},x_{1}] = \\frac{f(x_{1}) - f(x_{0})}{x_{1}-x_{0}} = \\frac{f(x_{1})}{x_{1}-x_{0}} - \\frac{f(x_{0})}{x_{1}-x_{0}} = \\frac{f(x_{1})}{x_{1}-x_{0}} + \\frac{f(x_{0})}{x_{0}-x_{1}}$<br><br>\n",
    " donde segue que $P(1)$ é verdadeira.<br><br>\n",
    " Suponhamos que $P(n-1)$ seja verdadeira<br><br>\n",
    " $P(n-1): f[x_{0},x_{1},\\ldots,x_{n-1}] = \\sum_{j=0}^{n-1} \\frac{f(x_{j})}{\\Pi_{i=0,i\\neq j}^{n-1}(x_{j}-x_{i})}$<br><br>\n",
    " e mostremos que $P(n)$ é verdadeira.<br><br>\n",
    " Por definição de DDF, temos que<br><br>\n",
    " $$\\begin{equation} \\label{eqanx8-1} f[x_{0},x_{1},\\ldots,x_{n}] =^{[*]} \\frac{f[x_{0},x_{1},\\ldots,x_{n-2},x_{n}]-f[x_{0},x_{1},\\ldots,x_{n-2}x_{n-1}]}{x_{n}-x_{n-1}}.\n",
    "\\end{equation}$$<br>\n",
    " Multiplicando (1) por $(x_{n}-x_{n-1})$, temos:<br><br>\n",
    " $$f[x_{0},x_{1},\\ldots,x_{n}] =^{[*]} \\frac{f[x_{0},x_{1},\\ldots,x_{n-2},x_{n}]-f[x_{0},x_{1},\\ldots,x_{n-2}x_{n-1}]}{x_{n}-x_{n-1}}.$$<br>\n",
    " $$(x_{n}-x_{n-1})f[x_{0},x_{1},\\ldots,x_{n}] = \\underset{I}{\\underbrace{f[x_{0},x_{1},\\ldots,x_{n-2},x_{n}]}}- \\underset{II}{\\underbrace{f[x_{0},x_{1},\\ldots,x_{n-2}x_{n-1}]}}=^{HI}$$<br>\n",
    " $$= \\underset{I}{\\underbrace{\\left(\\sum_{j=0}^{n-2}\\frac{f(x_{j})}{\\left[\\Pi_{i=0,i\\neq j}^{n-2}(x_{j}-x_{i}) \\right](x_{j}-x_{n})} + \\frac{f(x_{n})}{\\Pi_{i=0}^{n-2}(x_{n}-x_{i})} \\right)}}  - \\underset{II}{\\underbrace{\\left(\\sum_{j=0}^{n-2}\\frac{f(x_{j})}{\\left[\\Pi_{i=0,i\\neq j}^{n-2}(x_{j}-x_{i}) \\right](x_{j}-x_{n-1})} + \\frac{f(x_{n-1})}{\\Pi_{i=0}^{n-2}(x_{n-1}-x_{i})} \\right)}}=\n",
    "$$<br>\n",
    " $$= \\underset{III}{\\underbrace{\\sum_{j=0}^{n-2}\\frac{f(x_{j})}{\\left[\\Pi_{i=0,i\\neq j}^{n-2}(x_{j}-x_{i}) \\right](x_{j}-x_{n})}  - \\sum_{j=0}^{n-2}\\frac{f(x_{j})}{\\left[\\Pi_{i=0,i\\neq j}^{n-2}(x_{j}-x_{i}) \\right](x_{j}-x_{n-1})}}} + \\underset{IV}{\\underbrace{\\frac{f(x_{n})}{\\Pi_{i=0}^{n-2}(x_{n}-x_{i})} - \\frac{f(x_{n-1})}{\\Pi_{i=0}^{n-2}(x_{n-1}-x_{i})}}} = \n",
    "$$<br>\n",
    " $$= \\underset{III}{\\underbrace{\\sum_{j=0}^{n-2}\\frac{f(x_{j})(x_{n}-x_{n-1})}{\\left[\\Pi_{i=0,i\\neq j}^{n-2}(x_{j}-x_{i}) \\right](x_{j}-x_{n})(x_{j}-x_{n-1})}}} +  \\underset{IV}{\\underbrace{\\sum_{j=n-1}^{n}\\frac{f(x_{j})(x_{n}-x_{n-1})}{\\Pi_{i=0,i\\neq j}^{n}(x_{j}-x_{i})} }}= \n",
    "$$<br>\n",
    " $$=\\sum_{j=0}^{n} \\frac{f(x_{j})(x_{n}-x_{n-1})}{\\Pi_{i=0,i\\neq j}^{n} (x_{j}-x_{i})} = (x_{n}-x_{n-1})\\sum_{j=0}^{n} \\frac{f(x_{j})}{\\Pi_{i=0,i\\neq j}(x_{j}-x_{i})}.$$<br>\n",
    " Assim,<br><br>\n",
    " $$(x_{n}-x_{n-1})f[x_{0},x_{1},\\ldots,x_{n}] =  (x_{n}-x_{n-1})\\sum_{j=0}^{n} \\frac{f(x_{j})}{\\Pi_{i=0,i\\neq j}(x_{j}-x_{i})}$$<br>\n",
    " donde segue que<br><br>\n",
    " $$f[x_{0},x_{1},\\ldots,x_{n}] =  \\sum_{j=0}^{n} \\frac{f(x_{j})}{\\Pi_{i=0,i\\neq j}(x_{j}-x_{i})}$$<br>\n",
    " como queríamos demonstrar."
   ]
  },
  {
   "cell_type": "markdown",
   "id": "11e5bc99",
   "metadata": {},
   "source": [
    "#### <font color='purple'> Revisando 1</font>"
   ]
  },
  {
   "cell_type": "markdown",
   "id": "4aa661c5",
   "metadata": {},
   "source": [
    "<font color='purple'> Indução matemática é um método de prova matemática usado para demonstrar a verdade de um número infinito de proposições.<br><br>\n",
    " A forma mais simples e mais comum de indução matemática prova que um enunciado vale para todos os números naturais ($\\mathbb{N}$). Essa forma de prova consiste de dois passos:<br><br>\n",
    " $P(1)$: mostrar que o enunciado vale para $n = 1$ (ou $n=0$ se o conjunto dos naturais $\\mathbb{N}$ incluir o $0$);<br><br>\n",
    " $P(n+1)$: mostrar que, se o enunciado vale para $n-1$, então o mesmo enunciado vale para $n$. Esta última etapa é comumente chamada de passo indutivo."
   ]
  },
  {
   "cell_type": "markdown",
   "id": "6d259db7",
   "metadata": {},
   "source": [
    "Uma DDF tem a seguinte propriedade: $f[x_{n}, \\ldots, x_{1},x_{0}] = f[x_{\\alpha_{n}}, \\ldots, x_{\\alpha_{1}},x_{\\alpha_{0}}]$ onde $\\{ \\alpha_{0}, \\ldots, \\alpha_{n} \\}$ é qualquer permutação dos inteiros $\\{n, \\ldots, 1, 0 \\}$."
   ]
  },
  {
   "cell_type": "markdown",
   "id": "1c3b7e81",
   "metadata": {},
   "source": [
    "Basta observar que a DDF $f[x_{0},x_{1},x_{2}]$ pode se apresentar de várias formas (tente perceber a simetria):<br><br>\n",
    "    $$f[x_{0},x_{1},x_{2}] = \\frac{f[x_{1},x_{2}]- f[x_{0},x_{1}]}{x_{2}-x_{0}} = \\frac{f[x_{0},x_{2}]- f[x_{0},x_{1}]}{x_{2}-x_{1}}= \\frac{f[x_{0},x_{1}]-f[x_{0},x_{2}]}{x_{1}-x_{2}}.$$<br><br>\n",
    "    Sendo assim, é conveniente observar que $f[x_{0},x_{1},\\ldots,x_{n}]$ também pode ser escrita como segue:<br><br>\n",
    "    $$f[x_{0},x_{1},\\ldots,x_{n}] = \\frac{f[x_{1},x_{2},\\ldots,x_{n-2},x_{n}]-f[x_{1},x_{2},\\ldots,x_{n-2},x_{n-1}]}{x_{n}-x_{n-1}}.$$<br>\n",
    "    Em resumo, temos que termos omitidos no numerador aprecem trocados no denominador conforme apresentado a seguir:<br><br>\n",
    "    <center> <img src=\"fig8-1.jpg\" alt=\"jpg_python\" width=\"500\" height=\"\"> </center>"
   ]
  },
  {
   "cell_type": "markdown",
   "id": "c9411cce",
   "metadata": {},
   "source": [
    "# <div style=\"margin-top: -20px;\">\n",
    "<hr style=\"border: 2px solid black;\">\n",
    "\n",
    "<font color='black'><span style=\"font-size: 22px;\"><strong>8.2 Fórmula do Polinômio Interpolador</strong></span></font>\n",
    "\n",
    "<hr style=\"border: 2px solid black;\">\n",
    "</div>"
   ]
  },
  {
   "cell_type": "markdown",
   "id": "2a632ae8",
   "metadata": {},
   "source": [
    "Consideremos os $n+1$ pontos em que $f(x)$ seja conhecida. Sabemos que existe um único polinômio $p(x)$ de grau $n$ que passa por estes pontos. Pela definição de DDF temos que\n",
    "\n",
    "$$p[x_{0},x] = \\frac{p(x) - p(x_{0})}{x-x_{0}}$$\n",
    "\n",
    "donde segue que:\n",
    "\n",
    "$$p(x) = p(x_{0}) + (x-x_{0})p[x_{0},x] \\tag{1}$$\n",
    "\t\n",
    "Por outro lado,\n",
    "$$p[x_{1},x_{0},x] = \\frac{p[x_{0},x] - p[x_{1},x_{0}]}{x-x_{1}}$$\n",
    "\n",
    "isto é,\n",
    "\n",
    "$$p[x_{0},x] = p[x_{1},x_{0}] + (x-x_{1})p[x_{1},x_{0},x]. \\tag{2}$$\n",
    "\\end{equation}\n",
    "\t\n",
    "Substituindo (2) em (1), temos:\n",
    "\n",
    "$$p(x) = p(x_{0}) +(x-x_{0})p[x_{1},x_{0}] + (x-x_{0})p[x_{1},x_{0},x]$$\n",
    "\n",
    "\n",
    "Analogamente,\n",
    "\n",
    "$$p(x) = p(x_{0}) + (x-x_{0})p[x_{1},x_{0}] + (x-x_{0})(x-x_{1})p[x_{2},x_{1},x_{0}] + (x-x_{0})(x-x_{1})(x-x_{2})p[x_{2},x_{1},x_{0},x].$$\n",
    "\n",
    "\n",
    "Procedendo indutivamente, obtemos:\n",
    "\n",
    "$$p(x) = p(x_{0}) + (x-x_{0})p[x_{1},x_{0}] + (x-x_{0})(x-x_{1})p[x_{2},x_{1},x_{0}] + \\ldots +  (x-x_{0}) \\ldots(x-x_{n})p[x_{n},x_{n-1},\\ldots,x_{0},x].$$\n",
    "\n",
    "Como $p(x)$ tem grau $n$ o termo \n",
    "\n",
    "$$(x-x_{0}) \\ldots(x-x_{n})p[x_{n},x_{n-1},\\ldots,x_{0},x]$$ \n",
    "\n",
    "deve ser nulo pois tem grau superior a $n$. Do contrário, isso contrariaria a unicidade e $p(x)$.\n",
    "\n",
    "Assim,\n",
    "\n",
    "$$p(x) = p(x_{0}) + (x-x_{0})p[x_{1},x_{0}] + (x-x_{0})(x-x_{1})p[x_{2},x_{1},x_{0}] + \\ldots +  (x-x_{0}) \\ldots(x-x_{n-1})p[x_{n},x_{n-1},\\ldots,x_{0}].$$\n"
   ]
  },
  {
   "cell_type": "markdown",
   "id": "d52e133f",
   "metadata": {},
   "source": [
    "#### <font color='blue'> Exemplo 1 </font>"
   ]
  },
  {
   "cell_type": "markdown",
   "id": "f46a47fd",
   "metadata": {},
   "source": [
    "<font color='blue'>Construa o polinômio interpolador para a função $f(x) = \\frac{sen(x)}{\\sqrt{x}}$ via DDF considerando os pontos $x_{0} = \\frac{\\pi}{2}$, $x_{1} = \\frac{3\\pi}{2}$."
   ]
  },
  {
   "cell_type": "markdown",
   "id": "1b2b3084",
   "metadata": {},
   "source": [
    "##### <font color='blue'> Solução </font>"
   ]
  },
  {
   "cell_type": "markdown",
   "id": "21d8d5c2",
   "metadata": {},
   "source": [
    "<font color='blue'> Temos que<br><br>\n",
    " $$p(x) = f(x_{0}) + (x-x_{0})p[x_{1}, x_{0}] = \\frac{sen\\left(\\frac{\\pi}{2}\\right)}{\\sqrt{\\frac{\\pi}{2}}} + (x - \\frac{\\pi}{2}) \\frac{\\frac{sen\\left(\\frac{3\\pi}{2}\\right)}{\\sqrt{\\frac{3\\pi}{2}}} - \\frac{sen\\left(\\frac{\\pi}{2}\\right)}{\\sqrt{\\frac{\\pi}{2}}}}{\\frac{3\\pi}{2} - \\frac{\\pi}{2}}= $$<br>\n",
    " $$= 0.797884560802865 + (x - 1.570796326794897).(-0.400606814930812)= $$<br>\n",
    " $$= -0.400606814930812x + 1.427156274185188$$<br>\n",
    " Sendo assim, o polinômio interpolador é dado por:<br><br>\n",
    " $$p(x) = -0.400606814930812x + 1.427156274185188.$$"
   ]
  },
  {
   "cell_type": "markdown",
   "id": "672e85f2",
   "metadata": {},
   "source": [
    "#### Observação 2"
   ]
  },
  {
   "cell_type": "markdown",
   "id": "4b9add89",
   "metadata": {},
   "source": [
    "Verifique que o polinômio interpolador de Lagrange de grau $1$ que passa pelos pontos dados no **Exemplo 1** é exatamente o mesmo. Isso se deve ao fato de o polinômio interpolador ser único conforme apresentado no **Teorema 3**."
   ]
  },
  {
   "cell_type": "markdown",
   "id": "c2cac62d",
   "metadata": {},
   "source": [
    "# <div style=\"margin-top: -20px;\">\n",
    "<hr style=\"border: 2px solid black;\">\n",
    "\n",
    "<font color='black'><span style=\"font-size: 22px;\"><strong>8.3 Implementações</strong></span></font>\n",
    "\n",
    "<hr style=\"border: 2px solid black;\">\n",
    "</div>"
   ]
  },
  {
   "cell_type": "markdown",
   "id": "46849117",
   "metadata": {},
   "source": [
    "Uma forma interessante de se calcular os coeficientes polinomiais via DDF se dá pelo uso de tabelas. Apresentaremos a seguir um desses exemplos o qual exibiremos uma implementação capaz de produzir uma tabela semelhante."
   ]
  },
  {
   "cell_type": "markdown",
   "id": "a86e2dbd",
   "metadata": {},
   "source": [
    "#### <font color='blue'> Exemplo 2 </font>"
   ]
  },
  {
   "cell_type": "markdown",
   "id": "9225b275",
   "metadata": {},
   "source": [
    "<font color='blue'> Encontre, via DDF, o polinômio interpolador considerando os valores apresentados no **Exemplo 2**(**Cap. 7**). Ao final, estime $1,5$.\n"
   ]
  },
  {
   "cell_type": "markdown",
   "id": "c2b028b0",
   "metadata": {},
   "source": [
    "##### <font color='blue'> Solução </font>"
   ]
  },
  {
   "cell_type": "markdown",
   "id": "fb29fda3",
   "metadata": {},
   "source": [
    "<font color='blue'> No **Exemplo 2**(**Cap. 7**) nos foi apresentada a seguinte tabela:<br><br>\n",
    " $$\\begin{array}{cccccccccc}\n",
    "Indice\t    & \t x   \t& f(x)   \t\t        \\\\\n",
    "0  \t\t& \t 1.0   \t& 0.765197686557967   \t\\\\\n",
    "1  \t\t& \t 1.3   \t& 0.620085989561509\t    \\\\\n",
    "2  \t\t& \t 1.6   \t& 0.455402167639381  \t\\\\\n",
    "3  \t\t& \t 1.9   \t& 0.281818559374385    \t\\\\\n",
    "4  \t\t& \t 2.2   \t& 0.110362266922174   \t\\\\\n",
    "\\end{array}$$<br>\n",
    " Por meio do **Programa 1** a seguir calcularemos o valor das DDF's que precisaremos bem como o avaliaremos o polinômio interpolador em $1,5$:<br><br>\n",
    " $$\\begin{array}{ccccc}\n",
    "f(x)       & \tPrimeiras \\,\\, DDFs     & Segundas \\,\\, DDFs    \t   & Terceiras \\,\\, DDFs\t\t & Quartas \\,\\, DDFs\t\\\\\n",
    "0.76519769  &           0  &           0  &           0  &                 0 \\\\\n",
    "0.62008599  & -0.48370566  &           0  &           0  &                 0 \\\\\n",
    "0.45540217  & -0.54894607  & -0.10873403  &           0  &                 0 \\\\\n",
    "0.28181856  & -0.57861203  & -0.04944326  &  0.06587863  &                 0 \\\\\n",
    "0.11036227  & -0.57152097  &  0.01181842  &  0.06806853  &        0.00182492 \\\\\n",
    "\t\\end{array}$$<br>\n",
    " Em seguida, avaliando em $1.5$, temos $P(1.5) = 0.51182$.<br><br>\n",
    " *Sugerimos que sejam feitos, à mão, os cálculos de todas as DDFs $f[x_{0},x_{1}]$, $f[x_{0},x_{1},x_{2}]$, $f[x_{0},x_{1},x_{2}, x_{3}]$ e $f[x_{0},x_{1},x_{2}, x_{3},x_{4}]$ e, em seguida encontre o polinômio<br><br>\n",
    " $$P(x) = f[x_{0}] + f[x_{0},x_{1}](x - x_{0}) + \\ldots + f[x_{0},x_{1},x_{2}, x_{3},x_{4}](x-x_{0})(x-x_{1})(x-x_{2})(x-x_{3}).$$*"
   ]
  },
  {
   "cell_type": "code",
   "execution_count": 13,
   "id": "759e5dfa",
   "metadata": {
    "ExecuteTime": {
     "end_time": "2024-01-07T22:37:28.566183Z",
     "start_time": "2024-01-07T22:37:28.559656Z"
    }
   },
   "outputs": [],
   "source": [
    "import numpy as np\n",
    "\n",
    "def DDF(x, y):\n",
    "    n = len(x)\n",
    "    d = np.zeros((n, n))\n",
    "    d[:, 0] = y\n",
    "\n",
    "    # Calculando a tabela de diferenças divididas\n",
    "    for i in range(1, n):\n",
    "        for j in range(1, i + 1):\n",
    "            d[i, j] = (d[i, j-1] - d[i-1, j-1]) / (x[i] - x[i-j])\n",
    "\n",
    "    # Exibindo a tabela de diferenças divididas\n",
    "    print(\"A tabela abaixo apresenta todas as diferenças divididas:\")\n",
    "    print('')\n",
    "    print(d)\n",
    "\n",
    "    # Obtendo os coeficientes do polinômio\n",
    "    b = [d[i, i] for i in range(n)]\n",
    "\n",
    "    return d, b\n",
    "\n",
    "def avalia_pol(x, b, xa):\n",
    "    n = len(x)\n",
    "    p = b[0]\n",
    "    for c in range(1, n):\n",
    "        z = 1\n",
    "        for m in range(c):\n",
    "            z *= (xa - x[m])\n",
    "        p += z * b[c]\n",
    "    return p"
   ]
  },
  {
   "cell_type": "code",
   "execution_count": 14,
   "id": "ab723faa",
   "metadata": {
    "ExecuteTime": {
     "end_time": "2024-01-07T22:37:32.285620Z",
     "start_time": "2024-01-07T22:37:32.280025Z"
    }
   },
   "outputs": [
    {
     "name": "stdout",
     "output_type": "stream",
     "text": [
      "A tabela abaixo apresenta todas as diferenças divididas:\n",
      "\n",
      "[[ 0.76519769  0.          0.          0.          0.        ]\n",
      " [ 0.62008599 -0.48370566  0.          0.          0.        ]\n",
      " [ 0.45540217 -0.54894607 -0.10873403  0.          0.        ]\n",
      " [ 0.28181856 -0.57861203 -0.04944326  0.06587863  0.        ]\n",
      " [ 0.11036227 -0.57152097  0.01181842  0.06806853  0.00182492]]\n",
      "\n",
      "y(1.5) = 0.5118199688237748\n"
     ]
    }
   ],
   "source": [
    "# Exemplo de uso\n",
    "\n",
    "# Entradas\n",
    "x = [1.0, 1.3, 1.6, 1.9, 2.2]  # Substitua por seus valores de x\n",
    "y = [0.765197686557967, 0.620085989561509, 0.455402167639381, 0.281818559374385, 0.110362266922174] \n",
    "\n",
    "# Chamando a função\n",
    "d, b = DDF(x, y)\n",
    "\n",
    "# Avaliar o polinômio em um ponto específico\n",
    "xa = 1.5  # Substitua pelo valor que deseja avaliar\n",
    "print('')\n",
    "print(f'y({xa}) = {avalia_pol(x, b, xa)}')\n"
   ]
  },
  {
   "cell_type": "markdown",
   "id": "317de9ca",
   "metadata": {},
   "source": [
    "# <div style=\"margin-top: -20px;\">\n",
    "<hr style=\"border: 2px solid black;\">\n",
    "\n",
    "<font color='black'><span style=\"font-size: 22px;\"><strong>Exercícios</strong></span></font>\n",
    "\n",
    "<hr style=\"border: 2px solid black;\">\n",
    "</div>"
   ]
  },
  {
   "cell_type": "markdown",
   "id": "912f98c2",
   "metadata": {},
   "source": [
    "#### Exercício 1"
   ]
  },
  {
   "cell_type": "markdown",
   "id": "377c997c",
   "metadata": {},
   "source": [
    "Refaça, com os devidos ajustes, todos os exerícios do Capítulo $7$.\n",
    "\n",
    "*Os ajustes dos exercícios do Capítulo $7$ são feito da seguinte forma: Por exemplo, onde lê-se \"polinômio interpolador de Lagrange de grau $n$\", passe a ler \"polinômio interpolador via DDF de ordem $n$\".*"
   ]
  },
  {
   "cell_type": "markdown",
   "id": "21feb828",
   "metadata": {},
   "source": [
    "# <div style=\"margin-top: -20px;\">\n",
    "<hr style=\"border: 2px solid black;\">\n",
    "\n",
    "<font color='black'><span style=\"font-size: 22px;\"><strong>Respostas dos Exercícios</strong></span></font>\n",
    "\n",
    "<hr style=\"border: 2px solid black;\">\n",
    "</div>"
   ]
  },
  {
   "cell_type": "markdown",
   "id": "3f43c1fb",
   "metadata": {},
   "source": [
    "#### Respostas do Exercício 1"
   ]
  },
  {
   "cell_type": "markdown",
   "id": "5dc7d882",
   "metadata": {},
   "source": [
    "São as mesmas dos exercícios do Capítulo $7$. Em caso de dúvida, consulte o professor."
   ]
  },
  {
   "cell_type": "markdown",
   "id": "312dabe8",
   "metadata": {},
   "source": [
    "# <div style=\"margin-top: -20px;\">\n",
    "<hr style=\"border: 2px solid black;\">\n",
    "\n",
    "<font color='black'><span style=\"font-size: 22px;\"><strong>Vídeo Aulas</strong></span></font>\n",
    "\n",
    "<hr style=\"border: 2px solid black;\">\n",
    "</div>"
   ]
  },
  {
   "cell_type": "markdown",
   "id": "2fe9e8c0",
   "metadata": {},
   "source": [
    "Clicando nos links a seguir você será redirecionado às aulas referentes a este capítulo:\n",
    "\n",
    "[Diferenças Divididas Finitas](https://youtu.be/nKc3VkgK7L4)\n",
    "\n",
    "[Polinômio Interpolador Via Diferenças Divididas Finitas](https://youtu.be/cbCPZYBsxzc)"
   ]
  }
 ],
 "metadata": {
  "kernelspec": {
   "display_name": "Python 3 (ipykernel)",
   "language": "python",
   "name": "python3"
  },
  "language_info": {
   "codemirror_mode": {
    "name": "ipython",
    "version": 3
   },
   "file_extension": ".py",
   "mimetype": "text/x-python",
   "name": "python",
   "nbconvert_exporter": "python",
   "pygments_lexer": "ipython3",
   "version": "3.11.5"
  },
  "varInspector": {
   "cols": {
    "lenName": 16,
    "lenType": 16,
    "lenVar": 40
   },
   "kernels_config": {
    "python": {
     "delete_cmd_postfix": "",
     "delete_cmd_prefix": "del ",
     "library": "var_list.py",
     "varRefreshCmd": "print(var_dic_list())"
    },
    "r": {
     "delete_cmd_postfix": ") ",
     "delete_cmd_prefix": "rm(",
     "library": "var_list.r",
     "varRefreshCmd": "cat(var_dic_list()) "
    }
   },
   "types_to_exclude": [
    "module",
    "function",
    "builtin_function_or_method",
    "instance",
    "_Feature"
   ],
   "window_display": false
  }
 },
 "nbformat": 4,
 "nbformat_minor": 5
}
