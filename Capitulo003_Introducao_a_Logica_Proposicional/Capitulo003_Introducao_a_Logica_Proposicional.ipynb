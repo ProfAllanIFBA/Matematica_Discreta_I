{
 "cells": [
  {
   "cell_type": "markdown",
   "id": "9dac3258",
   "metadata": {},
   "source": [
    "<center> <img src=\"logo_ifba.jpg\" alt=\"jpg_python\" width=\"100\" height=\"200\"> </center>\n",
    "<br><br>\n",
    "<div align=\"center\"><span style=\"font-size: 26px;\"><strong>Matemática Discreta I <br></strong></span></div> <br>\n",
    "<div align=\"center\"><span style=\"font-size: 18px;\"><strong>Versão Colab <br></strong></span></div> <br>\n",
    "<center> <img src=\"python_gif.gif\" alt=\"gif_python\" width=\"80\"> </center>"
   ]
  },
  {
   "cell_type": "markdown",
   "id": "65978acf",
   "metadata": {},
   "source": [
    "<div style=\"border: 2px solid black; padding: 10px; width: 95%; background-color: lightgray; display: flex; align-items: center;\">\n",
    "    <h1 style=\"color: red; text-align: center; margin: auto;\">\n",
    "        Capítulo 3: Introdução à Lógica Proposicional\n",
    "    </h1>\n",
    "</div>\n",
    "\n",
    "<font color='red'></font>\n",
    "<a href=\"\"></a>"
   ]
  },
  {
   "cell_type": "markdown",
   "id": "ffe9ec84",
   "metadata": {},
   "source": [
    "O entendimento do raciocínio lógico matemático tem numerosas aplicações na ciência da computação. Suas regras são usadas na construção de designs de circuitos de computador, na construção de programas e muitas outras formas. Na lógica proposicional, os conectivos lógicos, como a conjunção, disjunção e negação, são utilizados para criar expressões lógicas que descrevem o comportamento dos circuitos e a lógica subjacente aos algoritmos. Por exemplo, na construção de circuitos digitais, os valores lógicos \"verdadeiro\" e \"falso\" são representados pelos níveis de tensão elétrica, permitindo a execução de operações lógicas booleanas. Essas operações são fundamentais para o funcionamento dos computadores, permitindo a execução de tarefas complexas por meio de algoritmos eficientes. Além disso, a lógica proposicional também é aplicada na verificação formal de programas, onde são usadas técnicas de prova matemática para garantir a correção do software. Essa abordagem é especialmente importante em sistemas críticos, como os utilizados em aviônica, medicina e segurança, onde erros de software podem ter consequências graves."
   ]
  },
  {
   "cell_type": "markdown",
   "id": "3c7e94be",
   "metadata": {},
   "source": [
    "# <div style=\"margin-top: -20px;\">\n",
    "<hr style=\"border: 2px solid black;\">\n",
    "\n",
    "<font color='black'><span style=\"font-size: 22px;\"><strong>3.1 Proposição Lógica</strong></span></font>\n",
    "\n",
    "<hr style=\"border: 2px solid black;\">\n",
    "</div>"
   ]
  },
  {
   "cell_type": "markdown",
   "id": "6acf6e6f",
   "metadata": {},
   "source": [
    "#### <font color='red'> Definição 1 </font>"
   ]
  },
  {
   "cell_type": "markdown",
   "id": "fc7f9234",
   "metadata": {},
   "source": [
    "<font color='red'> Chama-se **proposição** toda expressão que encerra um pensamento de sentido completo e pode ser classificada como verdadeira ou falsa. </font>"
   ]
  },
  {
   "cell_type": "markdown",
   "id": "3582488b",
   "metadata": {},
   "source": [
    "#### <font color='blue'> Exemplo 1 </font>"
   ]
  },
  {
   "cell_type": "markdown",
   "id": "e4531be8",
   "metadata": {},
   "source": [
    "<font color='blue'> Seguem alguns exemplos de proposições.\n",
    "<br><br>\n",
    "a) Salvador é a capital da Bahia.\n",
    "<br><br>\n",
    "b) O sapo é um mamífero. \n",
    "<br><br>\n",
    "c) $2+2 = 4$ \n",
    "<br><br>\n",
    "d) $1+1 = 3$ \n",
    "<br><br>\n",
    "As proposições $1$ e $3$ são verdadeiras e $2$ e $4$ são falsas. </font>"
   ]
  },
  {
   "cell_type": "markdown",
   "id": "35af3c20",
   "metadata": {},
   "source": [
    "No Exemplo $1$ foram utilizadas proposições cujo valor verdade é conhecido a priori, isto é, pelos conhecimentos que adquirimos na escola, na vida, etc. Contudo, tambem temos uma proposição quando dizemos: \"Paulo foi de carro ao shoping na terça feira.\". Contudo, não sabemos seu valor verdade a priori (pelo menos não está explicitado). Sabemos que, uma vez conhecendo o \"Paulo\" de quem estamos falando podemos a classificar tal proposição em verdadeira ou falsa. Neste tipo de proposição, que não temos um valor prévio pré-estabelecido, mas sabemos que ela só pode assumir um, e somente um, entre $V$ (Paulo de fato foi de carro ao shopping na terça feira) ou $F$(Paulo de fato não foi de carro ao shopping na terça feira), poderemos estudar esses dois casos ou perceber tratar-se de um desses casos e não o outro nas entrelinhas do problema/situação. "
   ]
  },
  {
   "cell_type": "markdown",
   "id": "14749363",
   "metadata": {},
   "source": [
    "#### <font color='red'> Definição 2 </font>"
   ]
  },
  {
   "cell_type": "markdown",
   "id": "54fca127",
   "metadata": {},
   "source": [
    "<font color='red'> Chama-se **sentença aberta** a toda expressão que encerra um pensamento de sentido completo mas não pode ser classificada como verdadeira ou falsa. </font>"
   ]
  },
  {
   "cell_type": "markdown",
   "id": "007ec759",
   "metadata": {},
   "source": [
    "#### <font color='blue'> Exemplo 2 </font>"
   ]
  },
  {
   "cell_type": "markdown",
   "id": "43eadd56",
   "metadata": {},
   "source": [
    "<font color='blue'> As sentenças a seguir não são proposições.\n",
    "<br><br>\n",
    "a) \"Aquele é jogador do flamengo.\",(Quem é ele?)\n",
    "<br><br>\n",
    "b) \"$x+5=10$\".(Quem é o $x$? É número? É objeto?O que é?)\n",
    "<br><br>\n",
    "c) \"Que dia mais quente!\" (Frase exclamativa) </font>"
   ]
  },
  {
   "cell_type": "markdown",
   "id": "8a53f414",
   "metadata": {},
   "source": [
    "Note que, a sentença é \"Aquele é jogador do flamengo\" nos coloca em uma situação complicada. Se você está assistindo à TV e um amigo aponta para o jogador, você pode classificar a sentença como ou verdadeira ou falsa. Neste caso poderíamos admitir ser uma proposição. Porém, colocada aqui no texto, o pronome demonstrativo \"aquele\" não deixa claro quem é o sujeito em questão."
   ]
  },
  {
   "cell_type": "markdown",
   "id": "ca3e031a",
   "metadata": {},
   "source": [
    "# <div style=\"margin-top: -20px;\">\n",
    "<hr style=\"border: 2px solid black;\">\n",
    "\n",
    "<font color='black'><span style=\"font-size: 22px;\"><strong>3.2 Conectivos e Operações Lógicas</strong></span></font>\n",
    "\n",
    "<hr style=\"border: 2px solid black;\">\n",
    "</div>"
   ]
  },
  {
   "cell_type": "markdown",
   "id": "f7cce262",
   "metadata": {},
   "source": [
    "Proposições podem ser negadas bem como unidas a outras  dando origem a novas proposições (compostas). Sabendo-se o valor verdade de algumas proposições pode-se, por exemplo, determinar o valor verdade do agrupamento destas. De modo geral indicaremos as proposições pelas letras $p, q, r, s,...$."
   ]
  },
  {
   "cell_type": "markdown",
   "id": "085840d6",
   "metadata": {},
   "source": [
    "## <div style=\"margin-top: -20px;\">\n",
    "<hr style=\"border: 2px solid black;\">\n",
    "\n",
    "<font color='black'><span style=\"font-size: 18px;\"><strong>3.2.1 Negação Lógica</strong></span></font>\n",
    "\n",
    "<hr style=\"border: 2px solid black;\">\n",
    "</div>"
   ]
  },
  {
   "cell_type": "markdown",
   "id": "dd0b38b4",
   "metadata": {},
   "source": [
    "#### <font color='red'> Definição 3 </font>"
   ]
  },
  {
   "cell_type": "markdown",
   "id": "ff25ca52",
   "metadata": {},
   "source": [
    "<font color='red'> Seja $p$ uma proposição. a **negação de $p$**, indicada por $\\neg p$ é a sentença \"Não é o caso de $p$\" ou \"Não é verdade que $p$\". A proposição $\\neg p$ é lida como \"não $p$\". O valor verdade de $\\neg p$ é o oposto do valor verdade de $p$. </font>"
   ]
  },
  {
   "cell_type": "markdown",
   "id": "509917ca",
   "metadata": {},
   "source": [
    "Temos a seguinte tabela verdade associada à Definição 3: <br>\n",
    "<font color='red'>  \n",
    " \\begin{array}{|c|c|} \t\n",
    "\\hline\n",
    "p\t&  \\neg p\\\\ \\hline\n",
    "V\t& F       \\\\ \\hline\n",
    "F\t& V       \\\\ \\hline\n",
    "\\end{array} </font>"
   ]
  },
  {
   "cell_type": "markdown",
   "id": "2f1ad422",
   "metadata": {},
   "source": [
    "#### <font color='blue'> Exemplo 3 </font>"
   ]
  },
  {
   "cell_type": "markdown",
   "id": "c7f7c03b",
   "metadata": {},
   "source": [
    "<font color='blue'> Encontre a negação das proposições:\n",
    "<br><br>\n",
    "a) O homem é um mamífero. $\\,\\,\\,\\,\\,\\,\\,\\,\\,\\,\\,\\,\\,\\,\\,\\,\\,\\,\\,\\,\\,\\,\\,\\,$ b) Carlos é rico. $\\,\\,\\,\\,\\,\\,\\,\\,\\,\\,\\,\\,\\,\\,\\,\\,\\,\\,\\,\\,\\,\\,\\,\\,$ c) Paulo não tem um carro. </font>"
   ]
  },
  {
   "cell_type": "markdown",
   "id": "0fe79e8b",
   "metadata": {},
   "source": [
    "<font color='blue'> **Solução**: a) Temos a seguinte negação:\n",
    "<br><br>\n",
    "\"Não é o caso de o homem ser um mamífero\".\n",
    "<br><br>\n",
    "Podemos também escrever a negação da proposição de outras duas formas (a segunda será a mais usada).  \n",
    "\"Não é verdade que o homem é um mamífero.\"\n",
    "<br><br>\n",
    "\"O homem não é um mamífero\". </font>"
   ]
  },
  {
   "cell_type": "markdown",
   "id": "9cb71693",
   "metadata": {},
   "source": [
    "<font color='blue'> b) Temos a seguinte negação:\n",
    "<br><br>\n",
    "\"Carlos não é rico.\"\n",
    "<br><br>\n",
    "Tome bastante cuidado para não confundir a negação de uma proposição com a ideia de antônimo. Por exemplo, é errado dizer que a negação de \"Carlos é rico\" seja algo do tipo, \"Carlos é pobre\". Note que não ser rico pode representar muitos outros casos, como ser pobre, miserável, classe média, muito rico, bilionário etc. </font>"
   ]
  },
  {
   "cell_type": "markdown",
   "id": "7c9c8cd3",
   "metadata": {
    "slideshow": {
     "slide_type": "slide"
    }
   },
   "source": [
    "<font color='blue'> c) Uma forma de obtermos a negação de uma sentença literal negativa corresponde a removermos o \"não\" de sua escrita ($\\neg (\\neg p)$ tem o mesmo valor lógico de $p$). Assim, temos a seguintes negações de $p$:\n",
    "<br><br>\n",
    "\"Não é verdade que Paulo não tem um carro.\"\n",
    "<br><br>\n",
    "Ou melhor, como mencionamos\n",
    "<br><br>\n",
    "\"Paulo tem um carro.\" </font>"
   ]
  },
  {
   "cell_type": "markdown",
   "id": "b7b16025",
   "metadata": {},
   "source": [
    "## <div style=\"margin-top: -20px;\">\n",
    "<hr style=\"border: 2px solid black;\">\n",
    "\n",
    "<font color='black'><span style=\"font-size: 18px;\"><strong>3.2.2 Conjunção de Proposições</strong></span></font>\n",
    "\n",
    "<hr style=\"border: 2px solid black;\">\n",
    "</div>"
   ]
  },
  {
   "cell_type": "markdown",
   "id": "efe0cd0f",
   "metadata": {},
   "source": [
    "#### <font color='red'> Definição 4 </font>"
   ]
  },
  {
   "cell_type": "markdown",
   "id": "7e85ad73",
   "metadata": {},
   "source": [
    "<font color='red'> Sejam $p$ e $q$ proposições. A **conjunção** de $p$ e $q$, indicada por $p \\wedge q$, é a proposição \"$p$ e $q$\". A conjunção $p \\wedge q$ é verdadeira quando ambas $p$ e $q$ são verdadeiras, e falsa em qualquer outro caso. </font>"
   ]
  },
  {
   "cell_type": "markdown",
   "id": "6d621cdf",
   "metadata": {},
   "source": [
    "Temos a seguinte tabela verdade associada à Definição 4: <br>\n",
    "<font color='red'>  \n",
    " <center> \\begin{array}{|c|c|c|} \t\n",
    "\\hline\n",
    "p\t&  q & p \\wedge q\\\\ \\hline\n",
    "V\t&  V & V\\\\ \\hline\n",
    "V\t&  F & F\\\\ \\hline\n",
    "F\t&  V & F\\\\ \\hline\n",
    "F\t&  F & F\\\\ \\hline\n",
    "\\end{array} </center>"
   ]
  },
  {
   "cell_type": "markdown",
   "id": "d131e000",
   "metadata": {},
   "source": [
    "#### <font color='blue'> Exemplo 4 </font>"
   ]
  },
  {
   "cell_type": "markdown",
   "id": "1e1c35db",
   "metadata": {},
   "source": [
    "<font color='blue'>Encontre a conjunção das proposições $p$ e $q$ dadas a seguir:\n",
    "<br><br>\n",
    "$p$: João foi à feira hoje.\n",
    "<br><br>\n",
    "$q$: Maria foi ao shopping ontem. </font>"
   ]
  },
  {
   "cell_type": "markdown",
   "id": "b8eb1570",
   "metadata": {},
   "source": [
    "<font color='blue'> **Solução:** A conjunção $p \\wedge q$ é dada por:\n",
    "<br><br>\n",
    "$p \\wedge q$: João foi à feira hoje e Maria foi ao shopping ontem. </font>"
   ]
  },
  {
   "cell_type": "markdown",
   "id": "6e96901a",
   "metadata": {},
   "source": [
    "Note que o valor verdade dessa proposição composta $p \\wedge q$ associada ao Exemplo $4$ está atrelado aos valores verdades de $p$ e $q$, sendo esta verdadeira somente nos casos em que $p$ e $q$ sejam ambas verdadeiras. Se por exemplo, João não tiver ido à feira hoje temos que a disjunção será falsa."
   ]
  },
  {
   "cell_type": "markdown",
   "id": "d715bd00",
   "metadata": {},
   "source": [
    "#### <font color='blue'> Exemplo 5</font>"
   ]
  },
  {
   "cell_type": "markdown",
   "id": "7770c647",
   "metadata": {},
   "source": [
    "<font color='blue'> Determine o valor lógico das seguintes posições:\n",
    "<br><br>\n",
    "a) O macaco é um mamífero e o rato é um peixe.\n",
    "<br><br>\n",
    "b) $(2+3 = 5) \\wedge (2 + 3^{3} = 29)$ </font>"
   ]
  },
  {
   "cell_type": "markdown",
   "id": "20e286dc",
   "metadata": {},
   "source": [
    "<font color='blue'> **Solução**: a) Em linguagem lógica, temos $p \\wedge q$ em que\n",
    "<br><br>\n",
    "$p$: O macaco é um mamífero ($V$)\n",
    "<br><br>\n",
    "$q$: O rato é um peixe. ($F$)\n",
    "<br><br>\n",
    "Assim, temos $V \\wedge F = F$. Portanto, a conjunção dada tem valor lógico falso. </font>"
   ]
  },
  {
   "cell_type": "markdown",
   "id": "57b3b0cb",
   "metadata": {},
   "source": [
    "<font color='blue'> b) Em linguagem lógica, temos $p \\wedge q$ em que\n",
    "<br><br>\n",
    "$p$: $2+3 = 5$ ($V$),\n",
    "<br><br>\n",
    "$q$: $2 + 3^{3} = 29$ ($V$)\n",
    "<br><br>\n",
    "Assim, temos que $V \\wedge V = V$. Portanto, a conjunção dada tem valor lógico verdadeiro. </font>"
   ]
  },
  {
   "cell_type": "markdown",
   "id": "387bb1fd",
   "metadata": {},
   "source": [
    "## <div style=\"margin-top: -20px;\">\n",
    "<hr style=\"border: 2px solid black;\">\n",
    "\n",
    "<font color='black'><span style=\"font-size: 18px;\"><strong>3.2.3 Disjunção de Proposições</strong></span></font>\n",
    "\n",
    "<hr style=\"border: 2px solid black;\">\n",
    "</div>"
   ]
  },
  {
   "cell_type": "markdown",
   "id": "6c416db0",
   "metadata": {},
   "source": [
    "#### <font color='red'> Definição 5 </font>"
   ]
  },
  {
   "cell_type": "markdown",
   "id": "87b8e5d6",
   "metadata": {},
   "source": [
    "<font color='red'> Sejam $p$ e $q$ proposições. A **disjunção** de $p$ e $q$, indicada por $p \\vee q$, é a proposição \"$p$ ou $q$\". A conjunção $p \\vee q$ é falsa quando ambas $p$ e $q$ são falsas, e verdadeira em qualquer outro caso. </font>"
   ]
  },
  {
   "cell_type": "markdown",
   "id": "3671b949",
   "metadata": {},
   "source": [
    "Temos a seguinte tabela verdade associada à Definição 5: <br>\n",
    "<font color='red'>  \n",
    " <center>\n",
    "\\begin{array}{|c|c|c|} \t\\hline\n",
    "p\t&  q & p \\vee q\\\\ \\hline\n",
    "V\t&  V & V\\\\ \\hline\n",
    "V\t&  F & V\\\\ \\hline\n",
    "F\t&  V & V\\\\ \\hline\n",
    "F\t&  F & F\\\\ \\hline\n",
    "\\end{array}\n",
    "</center> </font>"
   ]
  },
  {
   "cell_type": "markdown",
   "id": "a7d57b34",
   "metadata": {},
   "source": [
    "#### <font color='blue'> Exemplo 6</font>"
   ]
  },
  {
   "cell_type": "markdown",
   "id": "6c12f671",
   "metadata": {},
   "source": [
    "<font color='blue'> Encontre a disjunção das proposições $p$ e $q$ dadas a seguir:\n",
    "<br><br>\n",
    "$p$: João foi à feira hoje.\n",
    "<br><br>\n",
    "$q$: Maria foi ao shopping ontem. </font>"
   ]
  },
  {
   "cell_type": "markdown",
   "id": "4c63aa62",
   "metadata": {},
   "source": [
    "<font color='blue'> **Solução**: A disjunção $p \\vee q$ é dada por:\n",
    "<br><br>\n",
    "$p \\vee q$: João foi à feira hoje ou Maria foi ao shopping ontem. </font>"
   ]
  },
  {
   "cell_type": "markdown",
   "id": "c6ee618b",
   "metadata": {},
   "source": [
    "Note que o valor verdade dessa proposição está atrelado aos valores verdades de $p$ e $q$, sendo esta verdadeira caso pelo menos uma das proposições $p$ ou $q$ seja verdadeira. Se por exemplo, João tiver ido à feira hoje temos que a disjunção será verdadeira independe de Maria ter ido ou não ao Shopping."
   ]
  },
  {
   "cell_type": "markdown",
   "id": "f4cea967",
   "metadata": {},
   "source": [
    "#### <font color='blue'> Exemplo 7</font>"
   ]
  },
  {
   "cell_type": "markdown",
   "id": "83093b4c",
   "metadata": {},
   "source": [
    "<font color='blue'> Determine o valor lógico das seguintes posições:\n",
    "<br><br>\n",
    "a) O macaco é um mamífero ou o rato é um peixe.\n",
    "<br><br>\n",
    "b) $(2+3 \\neq 5) \\vee (2 + 3^{3} = 27)$"
   ]
  },
  {
   "cell_type": "markdown",
   "id": "1971f45f",
   "metadata": {},
   "source": [
    "<font color='blue'> **Solução**: a) Em linguagem lógica, temos $p \\vee q$ em que\n",
    "<br><br>\n",
    "$p$: O macaco é um mamífero ($V$)\n",
    "<br><br>\n",
    "$q$: O rato é um peixe. ($F$)\n",
    "<br><br>\n",
    "Assim, temos $V \\vee F = V$. Portanto, a disjunção dada tem valor lógico verdadeiro. </font>"
   ]
  },
  {
   "cell_type": "markdown",
   "id": "f225dfcd",
   "metadata": {},
   "source": [
    "<font color='blue'> b) Em linguagem lógica, temos $p \\vee q$ em que\n",
    "<br><br>\n",
    "$p$: $2+3 \\neq 5$ ($F$)\n",
    "<br><br>\n",
    "$q$: $2 + 3^{3} = 27$ ($F$) \n",
    "<br><br>\n",
    "Assim, temos que $F \\vee F = F$. Portanto, a disjunção dada tem valor lógico falso. </font>"
   ]
  },
  {
   "cell_type": "markdown",
   "id": "6fe2a5b6",
   "metadata": {},
   "source": [
    "## <div style=\"margin-top: -20px;\">\n",
    "<hr style=\"border: 2px solid black;\">\n",
    "\n",
    "<font color='black'><span style=\"font-size: 18px;\"><strong>3.2.4 Proposições Condicionais</strong></span></font>\n",
    "\n",
    "<hr style=\"border: 2px solid black;\">\n",
    "</div>"
   ]
  },
  {
   "cell_type": "markdown",
   "id": "5a0b9a1b",
   "metadata": {},
   "source": [
    "#### <font color='red'> Definição 6 </font>"
   ]
  },
  {
   "cell_type": "markdown",
   "id": "abd72e39",
   "metadata": {},
   "source": [
    "<font color='red'> Sejam $p$ e $q$ proposições. A proposição **condicional**, indicada por $p \\rightarrow q$, é a proposição se \"se $p$ então $q$\". A condicional $p \\rightarrow q$ é falsa quando $p$ é verdadeira e $q$ é falsa e verdadeira em qualquer outro caso. </font>"
   ]
  },
  {
   "cell_type": "markdown",
   "id": "e3274c48",
   "metadata": {},
   "source": [
    "Temos a seguinte tabela verdade associada à Definição 6:<br>  \n",
    "<font color='red'> <center>\n",
    "\\begin{array}{|c|c|c|} \t\\hline\n",
    "p\t&  q & p \\rightarrow q\\\\ \\hline\n",
    "V\t&  V & V\\\\ \\hline\n",
    "V\t&  F & F\\\\ \\hline\n",
    "F\t&  V & V\\\\ \\hline\n",
    "F\t&  F & V\\\\ \\hline\n",
    "\\end{array}\n",
    "<center>"
   ]
  },
  {
   "cell_type": "markdown",
   "id": "9c93da43",
   "metadata": {},
   "source": [
    "#### Formas equivalentes"
   ]
  },
  {
   "cell_type": "markdown",
   "id": "c6233678",
   "metadata": {},
   "source": [
    "Há algumas outras formas equivalentes à \"se $p$, então $q$\". Algumas delas:\n",
    "<br><br>\n",
    "\"$p$ implica $q$\"\n",
    "<br><br>\n",
    "\"se $p$, $q$\"\n",
    "<br><br>\n",
    "\"$p$ é suficiente para $q$\"\n",
    "<br><br>\n",
    "\"$q$ quando ocorrer $p$\"\n",
    "<br><br>\n",
    "\"uma condição necessária para $p$ é $q$\""
   ]
  },
  {
   "cell_type": "markdown",
   "id": "ed8bdb71",
   "metadata": {},
   "source": [
    "#### <font color='blue'> Exemplo 8</font>"
   ]
  },
  {
   "cell_type": "markdown",
   "id": "202552af",
   "metadata": {},
   "source": [
    "<font color='blue'> Encontre a proposição condicional $p \\rightarrow q$ das proposições $p$ e $q$ dadas a seguir:\n",
    "<br><br>\n",
    "$p$: João foi à feira hoje.\n",
    "<br><br>\n",
    "$q$: Maria foi ao shopping ontem. </font>"
   ]
  },
  {
   "cell_type": "markdown",
   "id": "bc7f46ae",
   "metadata": {},
   "source": [
    "<font color='blue'> **Solução**: A condicional $p \\rightarrow q$ é dada por:\n",
    "<br><br>\n",
    "$p \\rightarrow q$: Se João foi à feira hoje, então Maria foi ao shopping ontem."
   ]
  },
  {
   "cell_type": "markdown",
   "id": "f78d8b9c",
   "metadata": {},
   "source": [
    "Note,no Exemplo 8, que uma condição suficiente para que Maria tenha ido ao shopping ontem é João ter ido à feira hoje. Se esta primeira ocorrer, a segunda deve também ocorrer. Do contrário teremos uma proposição falsa. Contudo, Se João não foi à feira hoje nada podemos inferir sobre Maria para que tenhamos uma proposição verdadeira. Ela pode ou não ter ido ao shopping hoje. Em qualquer caso, teremos uma condicional verdadeira."
   ]
  },
  {
   "cell_type": "markdown",
   "id": "957c731f",
   "metadata": {},
   "source": [
    "#### <font color='blue'> Exemplo 9</font>"
   ]
  },
  {
   "cell_type": "markdown",
   "id": "58776c6f",
   "metadata": {},
   "source": [
    "<font color='blue'> O valor da variável $x$ depois da declaração\n",
    "<br><br>\n",
    "if $2+2 = 4$ then $x:=x+1$\n",
    "<br><br>\n",
    "se $x=0$ antes da declaração ser encontrada?</font>"
   ]
  },
  {
   "cell_type": "markdown",
   "id": "a5c1a67c",
   "metadata": {},
   "source": [
    "<font color='blue'> **Solução**: Como $p:2+2 = 4$ é uma proposição verdadeira temos que a declaração será executada. Portanto $x = 0 + 1 = 1$ após a declaração ser executada. </font>"
   ]
  },
  {
   "cell_type": "markdown",
   "id": "76842aef",
   "metadata": {},
   "source": [
    "#### <font color='blue'> Exemplo 10</font>"
   ]
  },
  {
   "cell_type": "markdown",
   "id": "bc7f4b7e",
   "metadata": {},
   "source": [
    "<font color='blue'> Determine o valor lógico das seguintes posições:\n",
    "<br><br>\n",
    "a) Se o gato é um mamífero, então o rato é um peixe.\n",
    "<br><br>\n",
    "b) $(2+3 = 5) \\rightarrow (2 + 3^{3} \\neq 27)$ </font>"
   ]
  },
  {
   "cell_type": "markdown",
   "id": "c4907d99",
   "metadata": {},
   "source": [
    "<font color='blue'> **Solução**: a) Em linguagem lógica, temos $p \\rightarrow q$ em que\n",
    "<br><br>\n",
    "$p$: O gato é um mamífero ($V$)\n",
    "<br><br>\n",
    "$q$: O rato é um peixe. ($F$)\n",
    "<br><br>\n",
    "Assim, temos $V \\rightarrow F = F$. Portanto, a condicional dada tem valor lógico falso. </font>"
   ]
  },
  {
   "cell_type": "markdown",
   "id": "7a403583",
   "metadata": {},
   "source": [
    "<font color='blue'> b) Em linguagem lógica, temos $p \\rightarrow q$ em que\n",
    "<br><br>\n",
    "$p$: $2+3 = 5$ ($V$)\n",
    "<br><br>\n",
    "$q$: $2 + 3^{3} \\neq 27$ ($V$) \n",
    "<br><br> \n",
    "Assim, temos que $V \\rightarrow V = V$. Portanto, a condicional dada tem valor lógico verdadeiro. </font>"
   ]
  },
  {
   "cell_type": "markdown",
   "id": "03bf0d04",
   "metadata": {},
   "source": [
    "#### <font color='red'> Definição 7 </font>"
   ]
  },
  {
   "cell_type": "markdown",
   "id": "5f7f5707",
   "metadata": {},
   "source": [
    "<font color='red'> Dada a proposição $p \\rightarrow q$ denominamos:  \n",
    "<br>\n",
    "    1. $q \\rightarrow p$ **oposta** de $p \\rightarrow q$;\n",
    "<br><br>\n",
    "    2. $\\neg q \\rightarrow \\neg p$ **contrapositiva** de $p \\rightarrow q$;\n",
    "<br><br>\n",
    "    3. $\\neg p \\rightarrow \\neg q$ **inversa** de $p \\rightarrow q$ </font>"
   ]
  },
  {
   "cell_type": "markdown",
   "id": "c1cbc9d5",
   "metadata": {},
   "source": [
    "Temos as seguinte tabela verdade conjunta associadas à Definição 7: <br>  \n",
    "<font color='red'><center>\n",
    "\\begin{array}{|c|c|c|c|c|} \t\\hline\n",
    "p\t&  q & \\neg p  & \\neg q & q \\rightarrow p & \\neg q \\rightarrow \\neg p & \\neg p \\rightarrow \\neg q  \\\\ \\hline\n",
    "V\t&  V &   F     &   F    &        V        &            V              &             V              \\\\ \\hline\n",
    "V\t&  F &   F     &   V    &        V        &            F              &             V              \\\\ \\hline\n",
    "F\t&  V &   V     &   F    &        F        &            V              &             F              \\\\ \\hline\n",
    "F\t&  F &   V     &   V    &        V        &            V              &             F              \\\\ \\hline\n",
    "\\end{array}</center>"
   ]
  },
  {
   "cell_type": "markdown",
   "id": "9e3993dd",
   "metadata": {},
   "source": [
    "#### Semelhanças"
   ]
  },
  {
   "cell_type": "markdown",
   "id": "894119bd",
   "metadata": {},
   "source": [
    "Note que $p \\rightarrow q$ tem a mesma tabela verdade que $\\neg q \\rightarrow \\neg q$. Igualmente, as tabelas verdade de  $q \\rightarrow p$ e  $\\neg p \\rightarrow \\neg q$ também são as mesmas. Mais a frente veremos as implicações de termos proposições com a mesma tabela verdade."
   ]
  },
  {
   "cell_type": "markdown",
   "id": "3ce67275",
   "metadata": {},
   "source": [
    "#### <font color='blue'> Exemplo 11</font>"
   ]
  },
  {
   "cell_type": "markdown",
   "id": "d2f9a15b",
   "metadata": {},
   "source": [
    "<font color='blue'> Determine a oposta, a contrapositiva e a inversa da proposição condicional a seguir:\n",
    "<br><br>\n",
    "\"Se o domador é inteligente, então o cão é dócil.\" </font>"
   ]
  },
  {
   "cell_type": "markdown",
   "id": "d3576230",
   "metadata": {},
   "source": [
    "<font color='blue'> **Solução**: Identificando as proposições\n",
    "<br><br>\n",
    "$p$: O domador é inteligente.\n",
    "<br><br>\n",
    "$q$: O cão é dócil.\n",
    "<br><br>\n",
    "temos\n",
    "<br><br>\n",
    "i) **Oposta**: $q \\rightarrow p$\n",
    "<br><br>\n",
    "\"Se o cão é dócil, então o domador é inteligente.\"\n",
    "<br><br>\n",
    "ii) **Contrapositiva**: $\\neg q \\rightarrow \\neg p$\n",
    "<br><br>\n",
    "\"Se o cão não é dócil, então o domador não é inteligente.\"\n",
    "<br><br>\n",
    "iii) **Inversa**: $\\neg p \\rightarrow \\neg q$\n",
    "<br><br>\n",
    "\"Se o domador não é inteligente, então o cão não é dócil.\" </font>"
   ]
  },
  {
   "cell_type": "markdown",
   "id": "bb261558",
   "metadata": {},
   "source": [
    "## <div style=\"margin-top: -20px;\">\n",
    "<hr style=\"border: 2px solid black;\">\n",
    "\n",
    "<font color='black'><span style=\"font-size: 18px;\"><strong>3.2.5 Proposições Bicondicionais</strong></span></font>\n",
    "\n",
    "<hr style=\"border: 2px solid black;\">\n",
    "</div>"
   ]
  },
  {
   "cell_type": "markdown",
   "id": "651ff688",
   "metadata": {},
   "source": [
    "#### <font color='red'> Definição 8 </font>"
   ]
  },
  {
   "cell_type": "markdown",
   "id": "0678a2dd",
   "metadata": {},
   "source": [
    "<font color='red'>Sejam $p$ e $q$ proposições. A proposição **bicondicional**, indicada por $p \\leftrightarrow q$, é a proposição se \"$p$ se e somente se $q$\". A bicondicional $p \\leftrightarrow q$ é verdadeira quando $p$ e $q$ tem o mesmo valor verdade e é falsa do contrário.</font>"
   ]
  },
  {
   "cell_type": "markdown",
   "id": "5d2ef5f6",
   "metadata": {},
   "source": [
    "Temos a seguinte tabela verdade associada à Definição 8:<br>  \n",
    "<font color='red'> <center>\n",
    "\\begin{array}{|c|c|c|} \t\\hline\n",
    "p\t&  q & p \\leftrightarrow q\\\\ \\hline\n",
    "V\t&  V & V\\\\ \\hline\n",
    "V\t&  F & F\\\\ \\hline\n",
    "F\t&  V & F\\\\ \\hline\n",
    "F\t&  F & V\\\\ \\hline\n",
    "\\end{array}\n",
    "<center>"
   ]
  },
  {
   "cell_type": "markdown",
   "id": "7b5cc625",
   "metadata": {},
   "source": [
    "#### <font color='blue'> Exemplo 12</font>"
   ]
  },
  {
   "cell_type": "markdown",
   "id": "190cb329",
   "metadata": {},
   "source": [
    "<font color='blue'> Encontre a bicondicional $p \\leftrightarrow q$ das proposições $p$ e $q$ dadas a seguir:\n",
    "<br><br>\n",
    "$p$: João foi à feira hoje.\n",
    "<br><br>\n",
    "$q$: Maria foi ao shopping ontem."
   ]
  },
  {
   "cell_type": "markdown",
   "id": "082407a1",
   "metadata": {},
   "source": [
    "<font color='blue'> **Solução**: A bicondicional $p \\leftrightarrow q$ é dada por:\n",
    "<br><br>\n",
    "$p \\leftrightarrow q$: João foi à feira hoje se, e somente se, Maria foi ao shopping ontem."
   ]
  },
  {
   "cell_type": "markdown",
   "id": "4d85ff5c",
   "metadata": {},
   "source": [
    "#### <font color='blue'> Exemplo 13</font>"
   ]
  },
  {
   "cell_type": "markdown",
   "id": "61bcd9c0",
   "metadata": {},
   "source": [
    "<font color='blue'> Determine o valor lógico das seguintes proposições:\n",
    "<br><br>\n",
    "a) O gato é um mamífero se, e somente se, o rato é um peixe.\n",
    "<br><br>\n",
    "b) $(2 + 3 \\neq 5) \\leftrightarrow (2+3^3 = 27)$ </font>"
   ]
  },
  {
   "cell_type": "markdown",
   "id": "117559d4",
   "metadata": {},
   "source": [
    "<font color='blue'> a) Em linguagem lógica, temos $p \\leftrightarrow q$ em que\n",
    "<br><br>\n",
    "$p$: O gato é um mamífero $(V)$\n",
    "<br><br>\n",
    "$q$: O rato é um peixe $(F)$\n",
    "<br><br>\n",
    "Assim, temos $V \\leftrightarrow F = F$. Portanto, a bicondicional dada tem valor lógico falso. </font>"
   ]
  },
  {
   "cell_type": "markdown",
   "id": "5f03f455",
   "metadata": {},
   "source": [
    "<font color='blue'> b) Temos que\n",
    "<br><br>\n",
    "$p$: $2 + 3 \\neq 5 \\,\\, (F)$\n",
    "<br><br>\n",
    "$q$: $2+3^3 = 27 \\,\\, (F)$\n",
    "<br><br>\n",
    "Assim, temos $F \\leftrightarrow F = V$. Portanto, a bicondicional dada tem valor lógico verdadeiro.</font>"
   ]
  },
  {
   "cell_type": "markdown",
   "id": "d4b5696a",
   "metadata": {},
   "source": [
    "#### <font color='blue'> Exemplo 14</font>"
   ]
  },
  {
   "cell_type": "markdown",
   "id": "b7000299",
   "metadata": {},
   "source": [
    "<font color='blue'> Considere as proposições $p$, $q$ e $r$ cujos valores lógicos são dados a seguir:<br>  \n",
    " <center>\n",
    "\\begin{array}{|c|c|c|c|}\t\\hline\n",
    "p & q  & r    \\\\\t\\hline\n",
    "F & V  & V    \\\\\t\\hline\n",
    "\\end{array}  \n",
    " </center>  \n",
    "Determine o valor lógico das proposições a seguir:\n",
    "<br><br>\n",
    "a) $p \\wedge q$ $\\,\\,\\,$ b) $r \\vee \\neg p$ $\\,\\,\\,$ c) $r \\rightarrow p$ $\\,\\,\\,$ d) $\\neg q \\leftrightarrow \\neg p$ $\\,\\,\\,$ e) $(p \\wedge r) \\vee q$ $\\,\\,\\,$ f) $(\\neg q \\rightarrow r) \\leftrightarrow (r \\vee \\neg p)$ </font>"
   ]
  },
  {
   "cell_type": "markdown",
   "id": "31097226",
   "metadata": {},
   "source": [
    "<font color='blue'> Basta substituirmos e prosseguir fazendo os cálculos:\n",
    "<br><br>\n",
    "a) $p \\wedge q \\Rightarrow F \\wedge V \\Rightarrow F$\n",
    "<br><br>\n",
    "b) $r \\vee \\neg p \\Rightarrow V \\vee V \\Rightarrow V$\n",
    "<br><br>\n",
    "c) $r \\rightarrow p \\Rightarrow V \\rightarrow F \\Rightarrow F$\n",
    "<br><br>\n",
    "d) $\\neg q \\leftrightarrow \\neg p \\Rightarrow \\neg V \\leftrightarrow \\neg F \\Rightarrow F \\leftrightarrow V \\Rightarrow F$\n",
    "<br><br>\n",
    "e) $(p \\wedge r) \\vee q \\Rightarrow (F \\wedge V) \\vee V \\Rightarrow F \\vee V \\Rightarrow V$\n",
    "<br><br>\n",
    "f) $(\\neg q \\rightarrow r) \\leftrightarrow (r \\vee \\neg p) \\Rightarrow (\\neg V \\rightarrow V) \\leftrightarrow (V \\vee \\neg F) \\Rightarrow (F \\rightarrow V) \\leftrightarrow (V \\vee V) \\Rightarrow V \\leftrightarrow V \\Rightarrow V$ </font>"
   ]
  },
  {
   "cell_type": "markdown",
   "id": "ba71312b",
   "metadata": {},
   "source": [
    "# <div style=\"margin-top: -20px;\">\n",
    "<hr style=\"border: 2px solid black;\">\n",
    "\n",
    "<font color='black'><span style=\"font-size: 22px;\"><strong>3.3 Exercícios</strong></span></font>\n",
    "\n",
    "<hr style=\"border: 2px solid black;\">\n",
    "</div>"
   ]
  },
  {
   "cell_type": "markdown",
   "id": "f7355124",
   "metadata": {},
   "source": [
    "#### Exercício 1"
   ]
  },
  {
   "cell_type": "markdown",
   "id": "4f12628f",
   "metadata": {},
   "source": [
    "Considere as proposições a seguir:\n",
    "<br><br>\n",
    "$p:$ Maria joga tênis.\n",
    "<br><br>\n",
    "$q:$ João joga vôlei.\n",
    "<br><br>\n",
    "$r:$ Paulo não gosta de futebol.\n",
    "<br><br>\n",
    "Determine em língua portuguesa o que se coloca em símbolos\n",
    "<br><br>\n",
    "a) $p \\wedge q$ $\\,\\,\\,$ b) $p \\vee r$ $\\,\\,\\,$ c) $r \\rightarrow p$ $\\,\\,\\,$ d) $q \\leftrightarrow p$ $\\,\\,\\,$ e) $r \\wedge \\neg q$ $\\,\\,\\,$ f) $\\neg p \\rightarrow \\neg r$"
   ]
  },
  {
   "cell_type": "markdown",
   "id": "82c17469",
   "metadata": {},
   "source": [
    "#### Exercício 2"
   ]
  },
  {
   "cell_type": "markdown",
   "id": "d8df2b59",
   "metadata": {},
   "source": [
    " Considere a tabela a seguir com as proposições $p$, $q$, $r$ e $s$:<br><br>\n",
    "<center> \n",
    "\\begin{array}{|c|c|c|c|}\t\\hline\n",
    "p & q  & r  & s  \\\\\t\\hline\n",
    "V & V  & F  & F \\\\\t\\hline\n",
    "\\end{array}\n",
    "</center><br>\n",
    "Determine o valor lógico das proposições a seguir:\n",
    "<br><br>\n",
    "a) $p \\wedge s$ $\\,\\,\\,$ b) $p \\vee r$ $\\,\\,\\,$ c) $r \\rightarrow s$ $\\,\\,\\,$ d) $q \\leftrightarrow \\neg p$ $\\,\\,\\,$ e) $\\neg r \\wedge q$ $\\,\\,\\,$ f) $\\neg p \\rightarrow \\neg s$ $\\,\\,\\,$ g) $(p \\wedge r) \\vee s$ $\\,\\,\\,$ h) $(\\neg q \\rightarrow r) \\leftrightarrow (s \\vee r)$"
   ]
  },
  {
   "cell_type": "markdown",
   "id": "e2b2be37",
   "metadata": {},
   "source": [
    "#### Exercício 3"
   ]
  },
  {
   "cell_type": "markdown",
   "id": "01d85e07",
   "metadata": {},
   "source": [
    "Duas proposições são ditas **logicamente equivalentes** se possuírem a mesma tabela verdade. Mostre que as proposições $r$ e $s$ a seguir são logicamente equivalentes.\n",
    "<br><br>\n",
    "a) $r:\\neg (p \\wedge q)$, $\\,\\,\\,$ $s:\\neg p \\vee \\neg q$\n",
    "<br><br>\n",
    "b) $r:\\neg (p \\vee q)$, $\\,\\,\\,$ $s:\\neg p \\wedge \\neg q$\n",
    "<br><br>\n",
    "c) $r: p \\rightarrow q$, $\\,\\,\\,$ $ \\neg p \\vee q$\n",
    "<br><br>\n",
    "d) $r: p \\leftrightarrow q$, $\\,\\,\\,$ $ (p \\rightarrow q) \\wedge (q \\rightarrow p)$"
   ]
  },
  {
   "cell_type": "markdown",
   "id": "a8c5b657",
   "metadata": {},
   "source": [
    "#### Exercício 4"
   ]
  },
  {
   "cell_type": "markdown",
   "id": "0cef6a02",
   "metadata": {},
   "source": [
    "Use o Exercício 3 para reescrever as seguintes negações de modo a preservar seu valor lógico. (Não há uma forma única de se fazer este exercício).\n",
    "<br><br>\n",
    "a) Não é verdade que Maria foi de carro e João foi de bicicleta.\n",
    "<br><br>\n",
    "b) O homem é um mamífero, então o sapo não é um inseto.\n",
    "<br><br>\n",
    "c) João não foi de carro ou Maria foi de ônibus."
   ]
  },
  {
   "cell_type": "markdown",
   "id": "f0e7abdc",
   "metadata": {},
   "source": [
    "#### Exercício 5"
   ]
  },
  {
   "cell_type": "markdown",
   "id": "53df0853",
   "metadata": {},
   "source": [
    "Classifique cada uma das proposições a seguir em verdadeira ou falsa.\n",
    "<br><br>\n",
    "a) A Terra é um planeta do Sistema Solar ou $1 + 1 = 3$\n",
    "<br><br>\n",
    "b) O macaco é um peixe e a Terra não é um planeta do Sistema Solar.\n",
    "<br><br>\n",
    "c) Se $1 + 1 = 3$, então o gato é um mamífero.\n",
    "<br><br>\n",
    "d) A Terra é um Planeta do Sistema Solar se, e somente se, $1 + 1 = 2$."
   ]
  },
  {
   "cell_type": "markdown",
   "id": "8f40c356",
   "metadata": {},
   "source": [
    "## <div style=\"margin-top: -20px;\">\n",
    "<hr style=\"border: 2px solid black;\">\n",
    "\n",
    "<font color='black'><span style=\"font-size: 18px;\"><strong>Respostas</strong></span></font>\n",
    "\n",
    "<hr style=\"border: 2px solid black;\">\n",
    "</div>"
   ]
  },
  {
   "cell_type": "markdown",
   "id": "60748344",
   "metadata": {},
   "source": [
    "#### Respostas do Exercício 1"
   ]
  },
  {
   "cell_type": "markdown",
   "id": "1ba1fa38",
   "metadata": {},
   "source": [
    "a) Maria joga tênis e João joga vôlei; b) Maria joga tênis ou Paulo não gosta de futebol; c) Se Paulo não gosta de futebol, então Maria joga tênis; d) João joga vôlei se, e somente se, Maria joga tênis; e) Paulo não gosta de futebol e Maria não joga tênis; f) Se Maria não joga tênis, então Paulo gosta de futebol."
   ]
  },
  {
   "cell_type": "markdown",
   "id": "0367508d",
   "metadata": {},
   "source": [
    "#### Respostas do Exercício 2"
   ]
  },
  {
   "cell_type": "markdown",
   "id": "05ee2893",
   "metadata": {},
   "source": [
    "a) $F$, $\\,\\,\\,$ b) $V$, $\\,\\,\\,$ c) $V$, $\\,\\,\\,$ d) $F$, $\\,\\,\\,$ e) $V$, $\\,\\,\\,$ f) $V$, $\\,\\,\\,$ g) $F$, $\\,\\,\\,$ h) $F$"
   ]
  },
  {
   "cell_type": "markdown",
   "id": "585d147e",
   "metadata": {},
   "source": [
    "#### Respostas do Exercício 3"
   ]
  },
  {
   "cell_type": "markdown",
   "id": "9c761fb4",
   "metadata": {},
   "source": [
    "Basta construir as tabelas verdade e comparar as últimas colunas de cada uma mostrando que são iguais para as mesmas entradas. Em caso de dúvida, consulte o professor."
   ]
  },
  {
   "cell_type": "markdown",
   "id": "95df6a61",
   "metadata": {},
   "source": [
    "#### Respostas do Exercício 4"
   ]
  },
  {
   "cell_type": "markdown",
   "id": "c520545c",
   "metadata": {},
   "source": [
    "a) Maria foi de carro e João de bicicleta; b) O homem é um mamífero e o sapo é um inseto; c) João foi de carro e Maria não foi de ônibus."
   ]
  },
  {
   "cell_type": "markdown",
   "id": "b4280fe5",
   "metadata": {},
   "source": [
    "#### Respostas do Exercício 5"
   ]
  },
  {
   "cell_type": "markdown",
   "id": "d73d5ae8",
   "metadata": {},
   "source": [
    "a) $V$, $\\,\\,\\,$ b) $F$, $\\,\\,\\,$ c) $V$, $\\,\\,\\,$ d) $V$"
   ]
  },
  {
   "cell_type": "markdown",
   "id": "4597d308",
   "metadata": {},
   "source": [
    "# <div style=\"margin-top: -20px;\">\n",
    "<hr style=\"border: 2px solid black;\">\n",
    "\n",
    "<font color='black'><span style=\"font-size: 22px;\"><strong>3.4 Vídeo Aulas</strong></span></font>\n",
    "\n",
    "<hr style=\"border: 2px solid black;\">\n",
    "</div>"
   ]
  },
  {
   "cell_type": "markdown",
   "id": "79b8ccc4",
   "metadata": {},
   "source": [
    "Clicando nos links a seguir você será redirecionado às aulas referentes a este capítulo.\n",
    "\n",
    "[Lógica Proposicional](https://youtu.be/UGHqM8ZIOdA)\n",
    "\n",
    "[Negação de Proposições Simples](https://youtu.be/jA_8TrBygYQ)\n",
    "\n",
    "[Conectivos Lógicos: Conjunção](https://youtu.be/zuEvYHvqt8o)\n",
    "\n",
    "[Conectivos Lógicos: Disjunção](https://youtu.be/9hor0a0GyGo)\n",
    "\n",
    "[Proposição Condicional](https://youtu.be/_7Jt0Hh7bC8)\n",
    "\n",
    "[Oposta, Contrapositiva e Inversa de Uma Proposição Condicional](https://youtu.be/0EhD1hyewGg)\n",
    "\n",
    "[Proposição Bicondicional](https://youtu.be/2e79VPcPyMQ)\n",
    "\n",
    "[Exemplo: Cálculo do Valor Lógico de Proposições Compostas](https://youtu.be/iZF6mgrw17A)"
   ]
  },
  {
   "cell_type": "markdown",
   "id": "dbeffda0",
   "metadata": {},
   "source": [
    "# <div style=\"margin-top: -20px;\">\n",
    "<hr style=\"border: 2px solid black;\">\n",
    "\n",
    "<font color='black'><span style=\"font-size: 22px;\"><strong>3.5 No Computador (Experimental)</strong></span></font>\n",
    "\n",
    "<hr style=\"border: 2px solid black;\">\n",
    "</div>"
   ]
  },
  {
   "cell_type": "markdown",
   "id": "51eba9fe",
   "metadata": {},
   "source": [
    "#### Calculo de Experessões Lógicas (Exercício 2)"
   ]
  },
  {
   "cell_type": "markdown",
   "id": "77fde829",
   "metadata": {},
   "source": [
    "Considere a tabela a seguir com as proposições $p$, $q$, $r$ e $s$:<br><br>\n",
    "<center> \n",
    "\\begin{array}{|c|c|c|c|}\t\\hline\n",
    "p & q  & r  & s  \\\\\t\\hline\n",
    "V & V  & F  & F \\\\\t\\hline\n",
    "\\end{array}\n",
    "</center><br>\n",
    "Determine o valor lógico das proposições a seguir:\n",
    "<br><br>\n",
    "a) $p \\wedge s$ $\\,\\,\\,$ b) $p \\vee r$ $\\,\\,\\,$ c) $r \\rightarrow s$ $\\,\\,\\,$ d) $q \\leftrightarrow \\neg p$ $\\,\\,\\,$ e) $\\neg r \\wedge q$ $\\,\\,\\,$ f) $\\neg p \\rightarrow \\neg s$ $\\,\\,\\,$ g) $(p \\wedge r) \\vee s$ $\\,\\,\\,$ h) $(\\neg q \\rightarrow r) \\leftrightarrow (s \\vee r)$"
   ]
  },
  {
   "cell_type": "markdown",
   "id": "a2d26b18",
   "metadata": {},
   "source": [
    "Para os cálculos do valores lógicos usaremos os operadores **not** ($\\neg$), **and** ($\\wedge$) e **or** ($\\vee$). Caso estejamos utilizando condicionais ou bicondicionais usaremos as equivalências vistas nos itens \"c\" e \"d\" do Exercício 3: $p \\rightarrow q$ como $ \\neg p \\vee q$ $\\,\\,\\,$ e $\\,\\,\\,$ $r: p \\leftrightarrow q$ como $\\,\\,\\,$ $ (p \\rightarrow q) \\wedge (q \\rightarrow p)$, ou mais efetivamente, como $ (\\neg p \\vee q) \\wedge (\\neg q \\vee p)$."
   ]
  },
  {
   "cell_type": "markdown",
   "id": "ace6018f",
   "metadata": {},
   "source": [
    "**Observação**: Itens envolvendo condicionais e bicondicionais podem parecer mais difíceis de se calcular o valor lógico usando códigos. Sinta-se a vontade em ignorá-los e voltar a eles futuramente. No próximo capítulo abordaremos mais profundamente o conceito de equivalência lógica que serve de base para tais cálculos."
   ]
  },
  {
   "cell_type": "code",
   "execution_count": 1,
   "id": "26caf49c",
   "metadata": {
    "ExecuteTime": {
     "end_time": "2023-07-17T20:16:30.189590Z",
     "start_time": "2023-07-17T20:16:30.181612Z"
    }
   },
   "outputs": [],
   "source": [
    "# Valores lógicos das proposições simples p, q, r e s\n",
    "p,q,r,s = True,True,False,False"
   ]
  },
  {
   "cell_type": "code",
   "execution_count": 2,
   "id": "364a1727",
   "metadata": {
    "ExecuteTime": {
     "end_time": "2023-07-17T20:16:30.202532Z",
     "start_time": "2023-07-17T20:16:30.192559Z"
    }
   },
   "outputs": [
    {
     "name": "stdout",
     "output_type": "stream",
     "text": [
      "False\n"
     ]
    }
   ],
   "source": [
    "# Resposta do item \"a\"\n",
    "resultado_a = (p and s)\n",
    "print(resultado_a)"
   ]
  },
  {
   "cell_type": "code",
   "execution_count": 3,
   "id": "d1462abf",
   "metadata": {
    "ExecuteTime": {
     "end_time": "2023-07-17T20:16:30.212506Z",
     "start_time": "2023-07-17T20:16:30.204527Z"
    }
   },
   "outputs": [
    {
     "name": "stdout",
     "output_type": "stream",
     "text": [
      "True\n"
     ]
    }
   ],
   "source": [
    "# Resposta do item \"b\"\n",
    "resultado_b = (p or r)\n",
    "print(resultado_b)"
   ]
  },
  {
   "cell_type": "markdown",
   "id": "604f42d9",
   "metadata": {},
   "source": [
    "Para o item \"c\" usaremos a equivalência $r \\rightarrow s$ como $\\neg r \\vee s$."
   ]
  },
  {
   "cell_type": "code",
   "execution_count": 4,
   "id": "bc710567",
   "metadata": {
    "ExecuteTime": {
     "end_time": "2023-07-17T20:16:30.220512Z",
     "start_time": "2023-07-17T20:16:30.215498Z"
    }
   },
   "outputs": [
    {
     "name": "stdout",
     "output_type": "stream",
     "text": [
      "True\n"
     ]
    }
   ],
   "source": [
    "# Resultado do item \"c\"\n",
    "resultado_c = ((not r) or s)\n",
    "print(resultado_c)"
   ]
  },
  {
   "cell_type": "markdown",
   "id": "3ea14f54",
   "metadata": {},
   "source": [
    "Para o item \"d\" usaremos a equivalência $q \\leftrightarrow \\neg p$ como $(q \\rightarrow \\neg p) \\wedge (\\neg p \\rightarrow q)$. E esta última como $(\\neg q \\vee \\neg p) \\wedge (p \\vee q)$."
   ]
  },
  {
   "cell_type": "code",
   "execution_count": 5,
   "id": "79004300",
   "metadata": {
    "ExecuteTime": {
     "end_time": "2023-07-17T20:16:30.230483Z",
     "start_time": "2023-07-17T20:16:30.221481Z"
    }
   },
   "outputs": [
    {
     "name": "stdout",
     "output_type": "stream",
     "text": [
      "False\n"
     ]
    }
   ],
   "source": [
    "# Resultado do item \"d\"\n",
    "resultado_d = ((not q) or (not p)) and (p or q)\n",
    "print(resultado_d)"
   ]
  },
  {
   "cell_type": "code",
   "execution_count": 6,
   "id": "78ab9de5",
   "metadata": {
    "ExecuteTime": {
     "end_time": "2023-07-17T20:16:30.238463Z",
     "start_time": "2023-07-17T20:16:30.232452Z"
    }
   },
   "outputs": [
    {
     "name": "stdout",
     "output_type": "stream",
     "text": [
      "True\n"
     ]
    }
   ],
   "source": [
    "# Resposta do item \"e\"\n",
    "resultado_e = (not r) and q\n",
    "print(resultado_e)"
   ]
  },
  {
   "cell_type": "markdown",
   "id": "98569a92",
   "metadata": {},
   "source": [
    "Para o item \"f\" usaremos a equivalência $\\neg p \\rightarrow \\neg s$ como $p \\vee \\neg s$."
   ]
  },
  {
   "cell_type": "code",
   "execution_count": 7,
   "id": "755c9466",
   "metadata": {
    "ExecuteTime": {
     "end_time": "2023-07-17T20:16:30.262276Z",
     "start_time": "2023-07-17T20:16:30.240454Z"
    }
   },
   "outputs": [
    {
     "name": "stdout",
     "output_type": "stream",
     "text": [
      "True\n"
     ]
    }
   ],
   "source": [
    "# Resposta do item \"f\"\n",
    "resultado_f = p or (not s)\n",
    "print(resultado_f)"
   ]
  },
  {
   "cell_type": "code",
   "execution_count": 8,
   "id": "9e5628cb",
   "metadata": {
    "ExecuteTime": {
     "end_time": "2023-07-17T20:16:30.269807Z",
     "start_time": "2023-07-17T20:16:30.263800Z"
    }
   },
   "outputs": [
    {
     "name": "stdout",
     "output_type": "stream",
     "text": [
      "False\n"
     ]
    }
   ],
   "source": [
    "# Resposta do item \"g\"\n",
    "resultado_g = (p and r) or s\n",
    "print(resultado_g)"
   ]
  },
  {
   "cell_type": "markdown",
   "id": "358ce00d",
   "metadata": {},
   "source": [
    "Para o item \"h\" usaremos a sequência de equivalências: $(\\neg q \\rightarrow r) \\leftrightarrow (s \\vee r)$ como $((\\neg q \\rightarrow r) \\rightarrow (s \\vee r))\\wedge ((s \\vee r) \\rightarrow (\\neg q \\rightarrow r)) $ que, por sua vez pode ser escrita como $(\\neg (q \\vee r) \\vee(s \\vee r))\\wedge (\\neg (s \\vee r) \\vee (q \\vee r)) $. *Se acalme! Você entenderá melhor no próximo capítulo.*"
   ]
  },
  {
   "cell_type": "code",
   "execution_count": 9,
   "id": "56653f3c",
   "metadata": {
    "ExecuteTime": {
     "end_time": "2023-07-17T20:16:30.279545Z",
     "start_time": "2023-07-17T20:16:30.271778Z"
    }
   },
   "outputs": [
    {
     "name": "stdout",
     "output_type": "stream",
     "text": [
      "False\n"
     ]
    }
   ],
   "source": [
    "# Resultado do item \"h\"\n",
    "resultado_h = ((not(q or r)) or (s or r)) and ((not(s or r)) or (q or r))\n",
    "print(resultado_h)"
   ]
  },
  {
   "cell_type": "markdown",
   "id": "bb7a6d7c",
   "metadata": {},
   "source": [
    "#### Concatenação de Proposições Lógicas (básico)"
   ]
  },
  {
   "cell_type": "markdown",
   "id": "d49e85f0",
   "metadata": {},
   "source": [
    "Apresentaremos um exemplos básicos de concatenação de proposiões lógicas. Proposições mais complexas ou a imposição de regras linguísticas exigirão uma análise que foge ao que propõe este material."
   ]
  },
  {
   "cell_type": "code",
   "execution_count": 10,
   "id": "7d148516",
   "metadata": {
    "ExecuteTime": {
     "end_time": "2023-07-17T20:16:30.291512Z",
     "start_time": "2023-07-17T20:16:30.283533Z"
    }
   },
   "outputs": [
    {
     "name": "stdout",
     "output_type": "stream",
     "text": [
      "Não é verdade que João foi a feira\n",
      "João foi a feira e Maria não foi ao shopping\n",
      "João foi a feira ou Maria não foi ao shopping\n",
      "Não é verdade que João foi a feira e Maria não foi ao shopping\n",
      "João foi a feira se, e somente, se Maria não foi ao shopping\n",
      "João foi a feira se, e somente, se Maria não foi ao shopping e Não é verdade que Paulo foi ao mercado\n"
     ]
    }
   ],
   "source": [
    "# Função que nega uma proposição\n",
    "def neg(p):\n",
    "    return f'Não é verdade que {p}'\n",
    "\n",
    "# Função toma a conjunção simples de duas proposições\n",
    "def conj(p,q):\n",
    "    return f'{p} e {q}'\n",
    "\n",
    "# Função toma a disjunção simples de duas proposições\n",
    "def disj(p,q):\n",
    "    return f'{p} ou {q}'\n",
    "\n",
    "# Função que toma a condicional de duas proposições\n",
    "def cond(p,q):\n",
    "    return f'Se {p}, então {q}'\n",
    "\n",
    "# Função que toma a bicondicional de duas proposições\n",
    "def bicond(p,q):\n",
    "    return f'{p} se, e somente, se {q}'\n",
    "\n",
    "# Proposições\n",
    "p = \"João foi a feira\"\n",
    "q = \"Maria não foi ao shopping\"\n",
    "r = \"Paulo foi ao mercado\"\n",
    "\n",
    "# Aplicando as funções acima às proposições p, q e r\n",
    "print(neg(p))\n",
    "print(conj(p,q))\n",
    "print(disj(p,q))\n",
    "print(neg(conj(p,q)))\n",
    "print(bicond(p,q))\n",
    "print(conj(bicond(p,q),neg(r)))"
   ]
  },
  {
   "cell_type": "markdown",
   "id": "444ba516",
   "metadata": {},
   "source": [
    "#### Exibição de tabelas verdade"
   ]
  },
  {
   "cell_type": "markdown",
   "id": "55b649a4",
   "metadata": {},
   "source": [
    "Para a exibição de tabelas verdade usaremos o pacote \"truth-table-generator\" disponível no endereço: https://pypi.org/project/truth-table-generator/. Por padrão os valores verdadeiro e falso são indicados por 0 e 1 respectivamente (embora seja possível ajustar)."
   ]
  },
  {
   "cell_type": "code",
   "execution_count": 11,
   "id": "a9a0f481",
   "metadata": {
    "ExecuteTime": {
     "end_time": "2023-07-17T20:16:35.851757Z",
     "start_time": "2023-07-17T20:16:30.293560Z"
    }
   },
   "outputs": [
    {
     "name": "stdout",
     "output_type": "stream",
     "text": [
      "Requirement already satisfied: truth-table-generator in d:\\ananconda\\lib\\site-packages (1.1.2)\n",
      "Requirement already satisfied: tabulate in d:\\ananconda\\lib\\site-packages (from truth-table-generator) (0.8.10)\n",
      "Requirement already satisfied: numpy in d:\\ananconda\\lib\\site-packages (from truth-table-generator) (1.23.5)\n",
      "Requirement already satisfied: jinja2 in d:\\ananconda\\lib\\site-packages (from truth-table-generator) (3.1.2)\n",
      "Requirement already satisfied: pandas in d:\\ananconda\\lib\\site-packages (from truth-table-generator) (1.5.3)\n",
      "Requirement already satisfied: pyparsing in d:\\ananconda\\lib\\site-packages (from truth-table-generator) (3.0.9)\n",
      "Requirement already satisfied: PTable in d:\\ananconda\\lib\\site-packages (from truth-table-generator) (0.9.2)\n",
      "Requirement already satisfied: MarkupSafe>=2.0 in d:\\ananconda\\lib\\site-packages (from jinja2->truth-table-generator) (2.1.1)\n",
      "Requirement already satisfied: python-dateutil>=2.8.1 in d:\\ananconda\\lib\\site-packages (from pandas->truth-table-generator) (2.8.2)\n",
      "Requirement already satisfied: pytz>=2020.1 in d:\\ananconda\\lib\\site-packages (from pandas->truth-table-generator) (2022.7)\n",
      "Requirement already satisfied: six>=1.5 in d:\\ananconda\\lib\\site-packages (from python-dateutil>=2.8.1->pandas->truth-table-generator) (1.16.0)\n"
     ]
    }
   ],
   "source": [
    "# Instalando o módulo truth-table-generator (instale somente uma vez neste documento)\n",
    "!pip install truth-table-generator"
   ]
  },
  {
   "cell_type": "code",
   "execution_count": 12,
   "id": "73475c22",
   "metadata": {
    "ExecuteTime": {
     "end_time": "2023-07-17T20:16:36.475522Z",
     "start_time": "2023-07-17T20:16:35.853751Z"
    }
   },
   "outputs": [],
   "source": [
    "# Importando o módulo ttg (aplica-se a todas as células seguintes)\n",
    "import ttg"
   ]
  },
  {
   "cell_type": "code",
   "execution_count": 13,
   "id": "6e92e450",
   "metadata": {
    "ExecuteTime": {
     "end_time": "2023-07-17T20:16:36.501948Z",
     "start_time": "2023-07-17T20:16:36.475522Z"
    }
   },
   "outputs": [
    {
     "name": "stdout",
     "output_type": "stream",
     "text": [
      "+-----+-----+-----------+\n",
      "|  p  |  q  |  p and q  |\n",
      "|-----+-----+-----------|\n",
      "|  1  |  1  |     1     |\n",
      "|  1  |  0  |     0     |\n",
      "|  0  |  1  |     0     |\n",
      "|  0  |  0  |     0     |\n",
      "+-----+-----+-----------+\n"
     ]
    }
   ],
   "source": [
    "# Gerando a tabela-verdade da conjunção\n",
    "tab_conj = ttg.Truths(['p','q'],['p and q'], ints = False)\n",
    "\n",
    "# Imprimindo a tabela verdade\n",
    "print(tab_conj)"
   ]
  },
  {
   "cell_type": "markdown",
   "id": "dc5d9e74",
   "metadata": {},
   "source": [
    "**Observação**: Segundo a documentação oficial (https://pypi.org/project/truth-table-generator/) o comando \"ints = False\" faz com que tenhamos True e False no lugar de 1 e 0 (respectivamente). Contudo, isso parece funcionar somente para a visualização da tabela no formato de data frame mais a frente."
   ]
  },
  {
   "cell_type": "code",
   "execution_count": 14,
   "id": "6b312278",
   "metadata": {
    "ExecuteTime": {
     "end_time": "2023-07-17T20:16:36.521993Z",
     "start_time": "2023-07-17T20:16:36.501948Z"
    }
   },
   "outputs": [
    {
     "name": "stdout",
     "output_type": "stream",
     "text": [
      "+-----+-----+----------+\n",
      "|  p  |  q  |  p or q  |\n",
      "|-----+-----+----------|\n",
      "|  1  |  1  |    1     |\n",
      "|  1  |  0  |    1     |\n",
      "|  0  |  1  |    1     |\n",
      "|  0  |  0  |    0     |\n",
      "+-----+-----+----------+\n"
     ]
    }
   ],
   "source": [
    "# Gerando a tabela-verdade da disjunção\n",
    "tab_disj = ttg.Truths(['p','q'],['p or q'], ints = False)\n",
    "\n",
    "# Imprimindo a tabela verdade\n",
    "print(tab_disj)"
   ]
  },
  {
   "cell_type": "code",
   "execution_count": 15,
   "id": "13edf84a",
   "metadata": {
    "ExecuteTime": {
     "end_time": "2023-07-17T20:16:36.541780Z",
     "start_time": "2023-07-17T20:16:36.523983Z"
    },
    "code_folding": []
   },
   "outputs": [
    {
     "name": "stdout",
     "output_type": "stream",
     "text": [
      "+-----+-----+----------+\n",
      "|  p  |  q  |  p => q  |\n",
      "|-----+-----+----------|\n",
      "|  1  |  1  |    1     |\n",
      "|  1  |  0  |    0     |\n",
      "|  0  |  1  |    1     |\n",
      "|  0  |  0  |    1     |\n",
      "+-----+-----+----------+\n"
     ]
    }
   ],
   "source": [
    "# Gerando a tabela-verdade da condicional\n",
    "tab_cond = ttg.Truths(['p','q'],['p => q'], ints = False)\n",
    "\n",
    "# Imprimindo a tabela-verdade\n",
    "print(tab_cond)"
   ]
  },
  {
   "cell_type": "code",
   "execution_count": 16,
   "id": "b9d92033",
   "metadata": {
    "ExecuteTime": {
     "end_time": "2023-07-17T20:16:36.570906Z",
     "start_time": "2023-07-17T20:16:36.543756Z"
    }
   },
   "outputs": [
    {
     "name": "stdout",
     "output_type": "stream",
     "text": [
      "+-----+-----+---------+\n",
      "|  p  |  q  |  p = q  |\n",
      "|-----+-----+---------|\n",
      "|  1  |  1  |    1    |\n",
      "|  1  |  0  |    0    |\n",
      "|  0  |  1  |    0    |\n",
      "|  0  |  0  |    1    |\n",
      "+-----+-----+---------+\n"
     ]
    }
   ],
   "source": [
    "# Gerando a tabela-verdade da bicondicional\n",
    "tab_bicond = ttg.Truths(['p','q'],['p = q'], ints = False)\n",
    "\n",
    "# Imprimindo a tabela-verdade\n",
    "print(tab_bicond)"
   ]
  },
  {
   "cell_type": "code",
   "execution_count": 17,
   "id": "d67a4ba1",
   "metadata": {
    "ExecuteTime": {
     "end_time": "2023-07-17T20:16:36.660281Z",
     "start_time": "2023-07-17T20:16:36.572923Z"
    }
   },
   "outputs": [
    {
     "name": "stdout",
     "output_type": "stream",
     "text": [
      "+-----+-----+-----+--------+---------+--------------+------------------------+\n",
      "|  p  |  q  |  r  |  (~p)  |  not r  |  (~p) and q  |  (~r) => ((~p) and q)  |\n",
      "|-----+-----+-----+--------+---------+--------------+------------------------|\n",
      "|  1  |  1  |  1  |   0    |    0    |      0       |           1            |\n",
      "|  1  |  1  |  0  |   0    |    1    |      0       |           0            |\n",
      "|  1  |  0  |  1  |   0    |    0    |      0       |           1            |\n",
      "|  1  |  0  |  0  |   0    |    1    |      0       |           0            |\n",
      "|  0  |  1  |  1  |   1    |    0    |      1       |           1            |\n",
      "|  0  |  1  |  0  |   1    |    1    |      1       |           1            |\n",
      "|  0  |  0  |  1  |   1    |    0    |      0       |           1            |\n",
      "|  0  |  0  |  0  |   1    |    1    |      0       |           0            |\n",
      "+-----+-----+-----+--------+---------+--------------+------------------------+\n"
     ]
    }
   ],
   "source": [
    "# Gerando uma tabela-verdade composta\n",
    "tab_comp = ttg.Truths(['p','q','r'],['(~p)','not r','(~p) and q', '(~r) => ((~p) and q)'], ints = False)\n",
    "\n",
    "# Imprimindo a tabela-verdade\n",
    "print(tab_comp)"
   ]
  },
  {
   "cell_type": "markdown",
   "id": "f344eb83",
   "metadata": {},
   "source": [
    "A escrita de  \"$\\sim p$\" como \"$(\\sim p)$\" delimita melhor os operadores. Além disso, perceba que usamos bastante parenteses para indicar corretamente a ordem das operações."
   ]
  },
  {
   "cell_type": "markdown",
   "id": "bbb5a7ed",
   "metadata": {},
   "source": [
    "##### Usando a biblioteca pandas"
   ]
  },
  {
   "cell_type": "markdown",
   "id": "88175729",
   "metadata": {},
   "source": [
    "Podemos usar a biblioteca pandas para deixar as saídas mais atraentes entre outras funcionalidades."
   ]
  },
  {
   "cell_type": "code",
   "execution_count": 18,
   "id": "29960f13",
   "metadata": {
    "ExecuteTime": {
     "end_time": "2023-07-17T20:16:36.665269Z",
     "start_time": "2023-07-17T20:16:36.662277Z"
    }
   },
   "outputs": [],
   "source": [
    "import pandas as pd"
   ]
  },
  {
   "cell_type": "code",
   "execution_count": 19,
   "id": "022b682a",
   "metadata": {
    "ExecuteTime": {
     "end_time": "2023-07-17T20:16:36.754844Z",
     "start_time": "2023-07-17T20:16:36.667238Z"
    },
    "code_folding": []
   },
   "outputs": [
    {
     "name": "stdout",
     "output_type": "stream",
     "text": [
      "       p      q  p and q\n",
      "1   True   True     True\n",
      "2   True  False    False\n",
      "3  False   True    False\n",
      "4  False  False    False\n"
     ]
    }
   ],
   "source": [
    "# Importando o módulo ttg\n",
    "import ttg\n",
    "\n",
    "# Gerando a tabela verdade da conjunção\n",
    "tab_conj = ttg.Truths(['p','q'],['p and q'], ints = False)\n",
    "\n",
    "# Convertendo a tabela da verdade em um DataFrame do pandas\n",
    "df_conj = tab_conj.as_pandas()\n",
    "\n",
    "# imprimindo o dataframe df_conj\n",
    "print(df_conj)"
   ]
  },
  {
   "cell_type": "code",
   "execution_count": 20,
   "id": "03093604",
   "metadata": {
    "ExecuteTime": {
     "end_time": "2023-07-17T20:16:36.777233Z",
     "start_time": "2023-07-17T20:16:36.756812Z"
    }
   },
   "outputs": [
    {
     "data": {
      "text/html": [
       "<div>\n",
       "<style scoped>\n",
       "    .dataframe tbody tr th:only-of-type {\n",
       "        vertical-align: middle;\n",
       "    }\n",
       "\n",
       "    .dataframe tbody tr th {\n",
       "        vertical-align: top;\n",
       "    }\n",
       "\n",
       "    .dataframe thead th {\n",
       "        text-align: right;\n",
       "    }\n",
       "</style>\n",
       "<table border=\"1\" class=\"dataframe\">\n",
       "  <thead>\n",
       "    <tr style=\"text-align: right;\">\n",
       "      <th></th>\n",
       "      <th>p</th>\n",
       "      <th>q</th>\n",
       "      <th>p and q</th>\n",
       "    </tr>\n",
       "  </thead>\n",
       "  <tbody>\n",
       "    <tr>\n",
       "      <th>1</th>\n",
       "      <td>True</td>\n",
       "      <td>True</td>\n",
       "      <td>True</td>\n",
       "    </tr>\n",
       "    <tr>\n",
       "      <th>2</th>\n",
       "      <td>True</td>\n",
       "      <td>False</td>\n",
       "      <td>False</td>\n",
       "    </tr>\n",
       "    <tr>\n",
       "      <th>3</th>\n",
       "      <td>False</td>\n",
       "      <td>True</td>\n",
       "      <td>False</td>\n",
       "    </tr>\n",
       "    <tr>\n",
       "      <th>4</th>\n",
       "      <td>False</td>\n",
       "      <td>False</td>\n",
       "      <td>False</td>\n",
       "    </tr>\n",
       "  </tbody>\n",
       "</table>\n",
       "</div>"
      ],
      "text/plain": [
       "       p      q  p and q\n",
       "1   True   True     True\n",
       "2   True  False    False\n",
       "3  False   True    False\n",
       "4  False  False    False"
      ]
     },
     "execution_count": 20,
     "metadata": {},
     "output_type": "execute_result"
    }
   ],
   "source": [
    "# Saída pandas\n",
    "df_conj"
   ]
  },
  {
   "cell_type": "markdown",
   "id": "5e9aa51c",
   "metadata": {},
   "source": [
    "Podemos retirar os índices da primeira coluna."
   ]
  },
  {
   "cell_type": "code",
   "execution_count": 21,
   "id": "e5823381",
   "metadata": {
    "ExecuteTime": {
     "end_time": "2023-07-17T20:16:38.819449Z",
     "start_time": "2023-07-17T20:16:36.779206Z"
    }
   },
   "outputs": [
    {
     "data": {
      "text/html": [
       "<style type=\"text/css\">\n",
       "</style>\n",
       "<table id=\"T_d799c\">\n",
       "  <thead>\n",
       "    <tr>\n",
       "      <th id=\"T_d799c_level0_col0\" class=\"col_heading level0 col0\" >p</th>\n",
       "      <th id=\"T_d799c_level0_col1\" class=\"col_heading level0 col1\" >q</th>\n",
       "      <th id=\"T_d799c_level0_col2\" class=\"col_heading level0 col2\" >p and q</th>\n",
       "    </tr>\n",
       "  </thead>\n",
       "  <tbody>\n",
       "    <tr>\n",
       "      <td id=\"T_d799c_row0_col0\" class=\"data row0 col0\" >True</td>\n",
       "      <td id=\"T_d799c_row0_col1\" class=\"data row0 col1\" >True</td>\n",
       "      <td id=\"T_d799c_row0_col2\" class=\"data row0 col2\" >True</td>\n",
       "    </tr>\n",
       "    <tr>\n",
       "      <td id=\"T_d799c_row1_col0\" class=\"data row1 col0\" >True</td>\n",
       "      <td id=\"T_d799c_row1_col1\" class=\"data row1 col1\" >False</td>\n",
       "      <td id=\"T_d799c_row1_col2\" class=\"data row1 col2\" >False</td>\n",
       "    </tr>\n",
       "    <tr>\n",
       "      <td id=\"T_d799c_row2_col0\" class=\"data row2 col0\" >False</td>\n",
       "      <td id=\"T_d799c_row2_col1\" class=\"data row2 col1\" >True</td>\n",
       "      <td id=\"T_d799c_row2_col2\" class=\"data row2 col2\" >False</td>\n",
       "    </tr>\n",
       "    <tr>\n",
       "      <td id=\"T_d799c_row3_col0\" class=\"data row3 col0\" >False</td>\n",
       "      <td id=\"T_d799c_row3_col1\" class=\"data row3 col1\" >False</td>\n",
       "      <td id=\"T_d799c_row3_col2\" class=\"data row3 col2\" >False</td>\n",
       "    </tr>\n",
       "  </tbody>\n",
       "</table>\n"
      ],
      "text/plain": [
       "<pandas.io.formats.style.Styler at 0x1a575395720>"
      ]
     },
     "execution_count": 21,
     "metadata": {},
     "output_type": "execute_result"
    }
   ],
   "source": [
    "# Convertendo o dataframe df_conj retirando o índice\n",
    "df_conj_style = df_conj.style.hide(axis=False)\n",
    "\n",
    "# Exibindo o dataframe\n",
    "df_conj_style"
   ]
  },
  {
   "cell_type": "markdown",
   "id": "61e1573a",
   "metadata": {},
   "source": [
    "Para mais informações sobre manipulação de dataframes com a biblioteca Pandas pode-se consultar [Capítulo 23: Manipulando Dados Com Pandas](https://colab.research.google.com/github/Allanifba/Curso_Python_Com_Jupyter_Notebook/blob/main/Capitulo023_Manipulando_Dados_Com_Pandas/Capitulo023_Manipulando_Dados_Com_Pandas.ipynb) referente ao Curso Python Com Jupyter Notebook."
   ]
  }
 ],
 "metadata": {
  "kernelspec": {
   "display_name": "Python 3 (ipykernel)",
   "language": "python",
   "name": "python3"
  },
  "language_info": {
   "codemirror_mode": {
    "name": "ipython",
    "version": 3
   },
   "file_extension": ".py",
   "mimetype": "text/x-python",
   "name": "python",
   "nbconvert_exporter": "python",
   "pygments_lexer": "ipython3",
   "version": "3.11.4"
  },
  "varInspector": {
   "cols": {
    "lenName": 16,
    "lenType": 16,
    "lenVar": 40
   },
   "kernels_config": {
    "python": {
     "delete_cmd_postfix": "",
     "delete_cmd_prefix": "del ",
     "library": "var_list.py",
     "varRefreshCmd": "print(var_dic_list())"
    },
    "r": {
     "delete_cmd_postfix": ") ",
     "delete_cmd_prefix": "rm(",
     "library": "var_list.r",
     "varRefreshCmd": "cat(var_dic_list()) "
    }
   },
   "types_to_exclude": [
    "module",
    "function",
    "builtin_function_or_method",
    "instance",
    "_Feature"
   ],
   "window_display": false
  }
 },
 "nbformat": 4,
 "nbformat_minor": 5
}
