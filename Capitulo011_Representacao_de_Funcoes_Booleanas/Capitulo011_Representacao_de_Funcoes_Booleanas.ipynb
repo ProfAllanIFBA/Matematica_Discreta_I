{
 "cells": [
  {
   "cell_type": "markdown",
   "id": "de40f19b",
   "metadata": {},
   "source": [
    "<center> <img src=\"logo_ifba.jpg\" alt=\"jpg_python\" width=\"100\" height=\"200\"> </center>\n",
    "<br><br>\n",
    "<div align=\"center\"><span style=\"font-size: 26px;\"><strong>Matemática Discreta I <br></strong></span></div> <br>\n",
    "<center> <img src=\"python_gif.gif\" alt=\"gif_python\" width=\"80\"> </center>"
   ]
  },
  {
   "cell_type": "markdown",
   "id": "52af9bb6",
   "metadata": {},
   "source": [
    "<div style=\"border: 2px solid black; padding: 10px; width: 95%; background-color: lightgray; display: flex; align-items: center;\">\n",
    "    <h1 style=\"color: red; text-align: center; margin: auto;\">\n",
    "        Capítulo 11: Representação de Funções Booelanas\n",
    "    </h1>\n",
    "</div>\n",
    "\n",
    "<font color='red'></font>\n",
    "<a href=\"\"></a>"
   ]
  },
  {
   "cell_type": "markdown",
   "id": "0c2310e1",
   "metadata": {},
   "source": [
    "Nesta seção atacaremos dois problemas importantes da álgebra booleana. \n",
    "\n",
    "**Problema 1**: Dados os valores de uma função booleana, como podemos encontrar uma expressão booleana que representa esta função? Este problema será resolvido mostrando que qualquer função booleana pode ser representada por uma soma booleana de produtos booleanos de variáveis e seus complementos.\n",
    "\n",
    "**Problema 2**: Existe um conjunto menor de operadores que pode ser usado para representar todas as funções booleanas? Veremos que todas as funções booleanas podem ser representadas usando apenas um operador."
   ]
  },
  {
   "cell_type": "markdown",
   "id": "9c2b30a6",
   "metadata": {},
   "source": [
    "# <div style=\"margin-top: -20px;\">\n",
    "<hr style=\"border: 2px solid black;\">\n",
    "\n",
    "<font color='black'><span style=\"font-size: 22px;\"><strong>11.1 Expansão de Funções em Somas de Produtos Booleanos</strong></span></font>\n",
    "\n",
    "<hr style=\"border: 2px solid black;\">\n",
    "</div>"
   ]
  },
  {
   "cell_type": "markdown",
   "id": "6d0fae0e",
   "metadata": {},
   "source": [
    "Consideremos alguns exemplos para ilustrar uma maneira importante de encontrar uma expressão booleana que represente uma função booleana."
   ]
  },
  {
   "cell_type": "markdown",
   "id": "fc1eb9c5",
   "metadata": {},
   "source": [
    "####  <font color='blue'> Exemplo 1 </font>"
   ]
  },
  {
   "cell_type": "markdown",
   "id": "42f48426",
   "metadata": {},
   "source": [
    "<font color='blue'> Encontre uma expressão booleana que representa a função $F(x,y,z)$ dada na tabela a seguir:<br><br>\n",
    " $$\\begin{array}{|c|c|c|c|}\n",
    "\\hline\n",
    "x\t& y  & z & F(x,y,z)\\\\\n",
    "\\hline\n",
    "1\t& 1 & 1 & 0 \\\\\n",
    "1\t& 1 & 0 & 0 \\\\\n",
    "1\t& 0 & 1 & 1 \\\\\n",
    "1\t& 0 & 0 & 0 \\\\\n",
    "0\t& 1 & 1 & 0 \\\\\n",
    "0\t& 1 & 0 & 0 \\\\\n",
    "0\t& 0 & 1 & 0 \\\\\n",
    "0\t& 0 & 0 & 0 \\\\\n",
    "\\hline\n",
    "\\end{array}$$"
   ]
  },
  {
   "cell_type": "markdown",
   "id": "2e4c08a8",
   "metadata": {},
   "source": [
    "#####  <font color='blue'> Solução </font>"
   ]
  },
  {
   "cell_type": "markdown",
   "id": "53f9c667",
   "metadata": {},
   "source": [
    "<font color='blue'> Necessitamos de uma expressão que tenha valor $1$ quando $x=z=1$ e $y=0$ e o valor $0$, caso contrário. Por inspeção obtemos $F(x,y,z) = x\\overline{y}z$. Uma dica, neste caso, é observar que o produto $xyz$ só admite valor igual a $1$ caso $x=y=z=1$ e será sempre $0$ do contrário. Trocando-se $y$ por $\\overline{y}$ nesta última expressão teremos a função desejada!"
   ]
  },
  {
   "cell_type": "markdown",
   "id": "c6997357",
   "metadata": {},
   "source": [
    "####  <font color='blue'> Exemplo 2 </font>"
   ]
  },
  {
   "cell_type": "markdown",
   "id": "7e5ff8e0",
   "metadata": {},
   "source": [
    "<font color='blue'> Encontre uma expressão booleana que representa a função $G(x,y,z)$ dada na tabela a seguir:<br><br>\n",
    " $$\\begin{array}{|c|c|c|c|}\n",
    "\\hline\n",
    "x\t& y  & z & F(x,y,z)\\\\\n",
    "\\hline\n",
    "1\t& 1 & 1 & 0 \\\\\n",
    "1\t& 1 & 0 & 1 \\\\\n",
    "1\t& 0 & 1 & 0 \\\\\n",
    "1\t& 0 & 0 & 0 \\\\\n",
    "0\t& 1 & 1 & 0 \\\\\n",
    "0\t& 1 & 0 & 1 \\\\\n",
    "0\t& 0 & 1 & 0 \\\\\n",
    "0\t& 0 & 0 & 0 \\\\\n",
    "\\hline\n",
    "\\end{array}$$"
   ]
  },
  {
   "cell_type": "markdown",
   "id": "b581297b",
   "metadata": {},
   "source": [
    "#####  <font color='blue'> Solução </font>"
   ]
  },
  {
   "cell_type": "markdown",
   "id": "c5807800",
   "metadata": {},
   "source": [
    "<font color='blue'> Parece difícil encontrar tal função, não é? Vamos usar a dica do exemplo anterior. Se quisermos gerar um valor igual a $1$ para $x=y=1$ e $z = 0$ e assume valor $0$ do contrário. A expressão, neste caso, é facilmente identificada como $xy\\overline{z}$. Agora, podemos somar a esta expressão uma parcela correspondente ao caso em que tenhamos valor $1$ para $y=1$ e $x=z=0$ e, valor $0$ do contrário. Esta parcela é dada por $\\overline{x}y\\overline{z}$. Por fim, $G(x,y,z) = xy\\overline{z} + \\overline{x}y\\overline{z}$."
   ]
  },
  {
   "cell_type": "markdown",
   "id": "6fb59356",
   "metadata": {},
   "source": [
    "####  <font color='red'> Definição 1 </font>"
   ]
  },
  {
   "cell_type": "markdown",
   "id": "130a314f",
   "metadata": {},
   "source": [
    "<font color='red'> Um literal é uma variável booleana ou seu complemento. Um mintermo das variáveis booleanas $x_{1}, x_{2}, \\ldots, x_{n}$ é o produto booleano $y_{1}y_{2}\\ldots y_{n}$ no qual $y_{i} = x_{i}$ ou $y_{i} = \\overline{x}_{i}$. Portanto, um mintermo é o produto de $n$ literais, com um literal para cada variável."
   ]
  },
  {
   "cell_type": "markdown",
   "id": "11197519",
   "metadata": {},
   "source": [
    "Um mintermo tem valor $1$ para uma e só uma combinação de valores de suas variáveis. Mais precisamente, o mintermo $y_{1}y_{2} \\ldots y_{n}$ é $1$ se, e somente se, cada $y_{i}$ é $1$, e isto ocorre se, e somente se, $x_{i} = 1$ quando $y_{i} = x_{i}$ e $x_{i} = 0$ quando $y_{i} = \\overline{x}_{i}$."
   ]
  },
  {
   "cell_type": "markdown",
   "id": "84e30c46",
   "metadata": {},
   "source": [
    "####  <font color='blue'> Exemplo 3 </font>"
   ]
  },
  {
   "cell_type": "markdown",
   "id": "e094ed11",
   "metadata": {},
   "source": [
    "<font color='blue'> Encontre o mintermo que seja igual a $1$ se $x_{1}=x_{3}=0$ e $x_{2}=x_{4}=x_{5}=1$ e igual a $0$, caso contrário.\n"
   ]
  },
  {
   "cell_type": "markdown",
   "id": "cb93dd66",
   "metadata": {},
   "source": [
    "#####  <font color='blue'> Solução </font>"
   ]
  },
  {
   "cell_type": "markdown",
   "id": "c693ea1f",
   "metadata": {},
   "source": [
    "<font color='blue'> O mintermo procurado é dado por $\\overline{x}_{1}x_{2}\\overline{x}_{3}x_{4}x_{5}$."
   ]
  },
  {
   "cell_type": "markdown",
   "id": "d76ef574",
   "metadata": {},
   "source": [
    "A soma de mintermos que representa uma função booleana é chamada de **expansão de somas de produtos** ou **forma normal disjuntiva** desta função."
   ]
  },
  {
   "cell_type": "markdown",
   "id": "d6eeb6fd",
   "metadata": {},
   "source": [
    "####  <font color='blue'> Exemplo 4 </font>"
   ]
  },
  {
   "cell_type": "markdown",
   "id": "9c324895",
   "metadata": {},
   "source": [
    "<font color='blue'> Encontre expansão em somas de produtos da função $F(x,y,z) = (x + y)\\overline{z}$."
   ]
  },
  {
   "cell_type": "markdown",
   "id": "0b1037f0",
   "metadata": {},
   "source": [
    "#####  <font color='blue'> Solução </font>"
   ]
  },
  {
   "cell_type": "markdown",
   "id": "01f6b74e",
   "metadata": {},
   "source": [
    "<font color='blue'> Temos que<br><br>\n",
    " $$\\begin{array}{cccc}\n",
    "F(x,y,z)\t& = & (x + y)\\overline{z} &   \\\\\n",
    "& = & x\\overline{z} + y\\overline{z} & Propriedade \\ distributiva \\\\\n",
    "& = & x1\\overline{z} + 1y\\overline{z} & Propriedade \\ do \\ elemento \\ neutro \\\\\n",
    "& = & x (y + \\overline{y})\t\\overline{z} + (x + \\overline{x})y\t\\overline{z} & Propriedade \\ da \\ unidade \\\\\n",
    "& = & xy\\overline{z} + x\\overline{y}\\,\\overline{z} + xy\t\\overline{z} + \\overline{x}y\\overline{z} & Propriedade \\ distributiva \\\\\n",
    "& = & xy\\overline{z} + x\\overline{y}\\,\\overline{z} +  \\overline{x}y\\overline{z} & Propriedade \\ idempotente \\\\\n",
    "\\end{array}$$<br>\n",
    " Temos portanto mostrado que $F(x,y,z) = (x + y)\\overline{z}$ em sua forma expandida em somas de produtos é dada por $F(x,y,z) = xy\\overline{z} + x\\overline{y}\\,\\overline{z} +  \\overline{x}y\\overline{z}$."
   ]
  },
  {
   "cell_type": "markdown",
   "id": "574b6493",
   "metadata": {},
   "source": [
    "# <div style=\"margin-top: -20px;\">\n",
    "<hr style=\"border: 2px solid black;\">\n",
    "\n",
    "<font color='black'><span style=\"font-size: 22px;\"><strong>11.2 Completude Funcional</strong></span></font>\n",
    "\n",
    "<hr style=\"border: 2px solid black;\">\n",
    "</div>"
   ]
  },
  {
   "cell_type": "markdown",
   "id": "d246aacd",
   "metadata": {},
   "source": [
    "Toda função booleana pode ser representada por uma soma de mintermos. Cada mintermo é o produto booleano de variáveis booleanas ou seus complementos. Isso mostra que toda função booleana pode ser representada usando os operadores booleanos $+$, $\\cdot$ e $^{-}$. Podemos eliminar todas as somas booleanas por meio da identidade\n",
    "$$x + y = \\overline{\\overline{x}\\,\\overline{y}},$$\n",
    "e todos os produtos booleanos por meio da identidade\n",
    "$$xy = \\overline{\\overline{x}+\\overline{y}}.$$\n",
    "\t\n",
    "Por meio de tais identidades podemos encurtar o número operadores booleanos a serem usados, onde apenas dois entre os três $\\cdot$, $+$ e $^{-}$ serão necessários, a saber\n",
    "$+$ e $^{-}$ ou então $\\cdot$ e $^{-}$. Tanto o conjunto $\\{\\cdot, +, ^{-}\\}$ como também os conjuntos $\\{+, ^{-}\\}$ e $\\{\\cdot, ^{-}\\}$ são ditos funcionalmente completos uma vez que qualquer função booleana pode ser representada por qualquer destes conjuntos. Note que o conjunto $\\{+,\\cdot\\}$ não são funcionalmente completos pois não expressam a função $F(x) = \\overline{x}$."
   ]
  },
  {
   "cell_type": "markdown",
   "id": "233537f2",
   "metadata": {},
   "source": [
    "####  <font color='blue'> Exemplo 5 </font>"
   ]
  },
  {
   "cell_type": "markdown",
   "id": "06651c45",
   "metadata": {},
   "source": [
    "<font color='blue'> Utilize somente os operadores $+$ e $^{-}$ para representar a função $F(x,y,z) = x \\cdot y + z \\cdot (x + y)$."
   ]
  },
  {
   "cell_type": "markdown",
   "id": "c26794b2",
   "metadata": {},
   "source": [
    "#####  <font color='blue'> Solução </font>"
   ]
  },
  {
   "cell_type": "markdown",
   "id": "85f3d1d8",
   "metadata": {},
   "source": [
    "<font color='blue'>Temos que<br><br>\n",
    " $$F(x,y,z) = x \\cdot y + z \\cdot (x + y) = (x \\underset{\\uparrow}{\\cdot} y) + (z \\underset{\\uparrow}{\\cdot} (x + y)) = \\overline{\\overline{x} + \\overline{y}} + \\overline{\\overline{z} + \\overline{(x+y)}}$$<br>\n",
    " Portanto, $F(x,y) = \\overline{\\overline{x} + \\overline{y}} + \\overline{\\overline{z} + \\overline{(x+y)}}$. \t"
   ]
  },
  {
   "cell_type": "markdown",
   "id": "2139e240",
   "metadata": {},
   "source": [
    "####  <font color='blue'> Exemplo 6 </font>"
   ]
  },
  {
   "cell_type": "markdown",
   "id": "99358f44",
   "metadata": {},
   "source": [
    "<font color='blue'> Repita o **Exemplo 5** utilizando somente os operadores $\\cdot$ e $^{-}$."
   ]
  },
  {
   "cell_type": "markdown",
   "id": "de8c6d10",
   "metadata": {},
   "source": [
    "#####  <font color='blue'> Solução </font>"
   ]
  },
  {
   "cell_type": "markdown",
   "id": "de094133",
   "metadata": {},
   "source": [
    "<font color='blue'> Temos que<br><br>\n",
    " $$F(x,y,z) = x \\cdot y + z \\cdot (x + y) = ( x \\cdot y) \\underset{\\uparrow}{+} (z \\cdot (x + y)) = \\overline{\\overline{x \\cdot y} \\cdot \\overline{z \\cdot(x\\underset{\\uparrow}{+}y)}} = \\overline{\\overline{x \\cdot y} \\cdot \\overline{z \\cdot(\\overline{\\overline{x} \\cdot \\overline{y}})}}.$$<br>\n",
    " Portanto, $F(x,y,z) = \\overline{\\overline{x \\cdot y} \\cdot \\overline{z \\cdot(\\overline{\\overline{x} \\cdot \\overline{y}})}}$."
   ]
  },
  {
   "cell_type": "markdown",
   "id": "75b575d2",
   "metadata": {},
   "source": [
    "O mais interessante é que podemos representar expressões booleanas utilizando apenas um único operador. "
   ]
  },
  {
   "cell_type": "markdown",
   "id": "74859f08",
   "metadata": {},
   "source": [
    "####  <font color='red'> Definição 2 </font>"
   ]
  },
  {
   "cell_type": "markdown",
   "id": "f10bd496",
   "metadata": {},
   "source": [
    "<font color='red'> A) Definimos o operador $|$ ou $NE$ por $1|1 = 0$ e $1|0 = 0|1 = 0|0 = 1$.<br><br>\n",
    " B) Definimos o operador $\\downarrow$ ou $Nou$ por $1 \\downarrow 1 = 1 \\downarrow 0 = 0 \\downarrow 1 = 0$ e $0 \\downarrow 0 = 1$."
   ]
  },
  {
   "cell_type": "markdown",
   "id": "cd8e9210",
   "metadata": {},
   "source": [
    "Note que\n",
    "\n",
    "i$_{A}$) $\\overline{x} = x|x$\n",
    "    \n",
    "ii$_{A}$) $xy = (x|y)|(x|y)$\n",
    "    \n",
    "De fato,\n",
    "    \n",
    "i$_{A}$) $\\overline{1} = 1|1 = 0, \\overline{0} = 0|0 = 1$\n",
    "    \n",
    "ii$_{A}$) $1\\cdot1 = (1|1)|(1|1) = 0|0 = 1$, $1\\cdot0 = (1|0)|(1|0) = 1|1 = 0$, $0\\cdot1 = (0|1)|(0|1) = 1|1 = 0$ e $0 \\cdot 0 = (0|0)|(0|0) = 1|1 = 0$.\n",
    "    \n",
    "Por outro lado,\n",
    "    \n",
    "i$_{B}$) $\\overline{x} = x\\downarrow x$\n",
    "    \n",
    "ii$_{B}$) $x + y = (x \\downarrow y) \\downarrow (x \\downarrow y)$\n",
    "    \n",
    "Deixamos as verificações de i$_{B}$) e ii$_{B}$) a cargo do leitor."
   ]
  },
  {
   "cell_type": "markdown",
   "id": "f8db371b",
   "metadata": {},
   "source": [
    "####  <font color='blue'> Exemplo 7 </font>"
   ]
  },
  {
   "cell_type": "markdown",
   "id": "b0546108",
   "metadata": {},
   "source": [
    "<font color='blue'> Expresse a função $F(x,y) = x \\cdot \\overline{y}$ usando somente o operador $|$."
   ]
  },
  {
   "cell_type": "markdown",
   "id": "6118ba0b",
   "metadata": {},
   "source": [
    "#####  <font color='blue'> Solução </font>"
   ]
  },
  {
   "cell_type": "markdown",
   "id": "2aa347bf",
   "metadata": {},
   "source": [
    "<font color='blue'> Temos que<br><br>\n",
    " $$F(x,y) = x\\overline{y} = x \\cdot (y|y) = \\underset{ y|y = a}{\\underbrace{x \\cdot a}} = (x|a)|(x|a) = (x|(y|y))|(x|(y|y)).$$<br>\n",
    " Portanto, $F(x,y) = (x|(y|y))|(x|(y|y))$.\t"
   ]
  },
  {
   "cell_type": "markdown",
   "id": "a0e404a5",
   "metadata": {},
   "source": [
    "####  <font color='blue'> Exemplo 8 </font>"
   ]
  },
  {
   "cell_type": "markdown",
   "id": "7c4aada2",
   "metadata": {},
   "source": [
    "<font color='blue'>Expresse a função $F(x,y) = x \\cdot \\overline{y}$ usando somente o operador $\\downarrow$."
   ]
  },
  {
   "cell_type": "markdown",
   "id": "9d11fd0e",
   "metadata": {},
   "source": [
    "#####  <font color='blue'> Solução </font>"
   ]
  },
  {
   "cell_type": "markdown",
   "id": "92daf09b",
   "metadata": {},
   "source": [
    "<font color='blue'> Temos que<br><br>\n",
    " $$F(x,y) = x\\overline{y} = \\overline{\\overline{x} + y} = \\overline{(x \\downarrow x) + y} = \\underset{x \\downarrow x = a}{\\overline{\\underbrace{a + y}}} = (a+y)\\downarrow (a+y) = ((a \\downarrow y)\\downarrow (a\\downarrow y))\\downarrow ((a \\downarrow y)\\downarrow (a\\downarrow y)) =$$<br>\n",
    " $$ = (((x \\downarrow x) \\downarrow y)\\downarrow ((x \\downarrow x)\\downarrow y))\\downarrow (((x \\downarrow x) \\downarrow y)\\downarrow ((x \\downarrow x)\\downarrow y)).$$<br>\n",
    " Portanto, $F(x,y) = (((x \\downarrow x) \\downarrow y)\\downarrow ((x \\downarrow x)\\downarrow y))\\downarrow (((x \\downarrow x) \\downarrow y)\\downarrow ((x \\downarrow x)\\downarrow y))$. Para uma melhor visualização pode-se utilizar $[\\,]$ (colchetes) e $\\{\\,\\}$ (chaves). Neste caso, teríamos:<br><br>\n",
    " $$f(x,y) = \\{[(x \\downarrow x) \\downarrow y]\\downarrow [(x \\downarrow x)\\downarrow y]\\}\\downarrow \\{[(x \\downarrow x) \\downarrow y]\\downarrow [(x \\downarrow x)\\downarrow y]\\}.$$\t"
   ]
  },
  {
   "cell_type": "markdown",
   "id": "2c3ee174",
   "metadata": {},
   "source": [
    "# <div style=\"margin-top: -20px;\">\n",
    "<hr style=\"border: 2px solid black;\">\n",
    "\n",
    "<font color='black'><span style=\"font-size: 22px;\"><strong>11.3 Exercícios</strong></span></font>\n",
    "\n",
    "<hr style=\"border: 2px solid black;\">\n",
    "</div>"
   ]
  },
  {
   "cell_type": "markdown",
   "id": "f0e6094c",
   "metadata": {},
   "source": [
    "#### Exercício 1"
   ]
  },
  {
   "cell_type": "markdown",
   "id": "beea027e",
   "metadata": {},
   "source": [
    "Encontre um produto booleano das variáveis booleanas $x$, $y$ e $z$, ou seus complementos, que tenha o valor $1$ se, e somente se,\n",
    "\n",
    "a) $x=y=0$ e $z=1$ \n",
    "\n",
    "b) $x=z=0$ e $y=1$ \n",
    "\n",
    "c) $x=y=z=0$"
   ]
  },
  {
   "cell_type": "markdown",
   "id": "4dcf26b8",
   "metadata": {},
   "source": [
    "#### Exercício 2"
   ]
  },
  {
   "cell_type": "markdown",
   "id": "789dc5b9",
   "metadata": {},
   "source": [
    "Encontre expressões de somas de produtos das funções booleanas a seguir:\n",
    "\n",
    "a) $F(x,y) = \\overline{x} + y$\n",
    "\n",
    "b) $F(x,y) = 1$\n",
    "\n",
    "c) $F(x,y) = \\overline{y}$\n",
    "\n",
    "d) $F(x,y,z) = x$\n",
    "\n",
    "e) $F(x,y,z) = x + y + z$"
   ]
  },
  {
   "cell_type": "markdown",
   "id": "9993a782",
   "metadata": {},
   "source": [
    "#### Exercício 3"
   ]
  },
  {
   "cell_type": "markdown",
   "id": "b6ae379b",
   "metadata": {},
   "source": [
    "Expresse cada uma das funções booleanas a seguir usando somente os operadores booleanos $\\cdot$ e $^{-}$:\n",
    "\n",
    "a) $\\overline{(x + \\overline{y})}$\n",
    "\n",
    "b) $x+y+z$"
   ]
  },
  {
   "cell_type": "markdown",
   "id": "4f665136",
   "metadata": {},
   "source": [
    "#### Exercício 4"
   ]
  },
  {
   "cell_type": "markdown",
   "id": "915113a6",
   "metadata": {},
   "source": [
    "Expresse cada uma das funções booleanas a seguir usando somente os operadores booleanos $+$ e $^{-}$:\n",
    "\n",
    "a) $x \\cdot y + z$\n",
    "\n",
    "b) $\\overline{x} \\cdot (y+\\overline{z})$"
   ]
  },
  {
   "cell_type": "markdown",
   "id": "44262947",
   "metadata": {},
   "source": [
    "#### Exercício 5"
   ]
  },
  {
   "cell_type": "markdown",
   "id": "c6899477",
   "metadata": {},
   "source": [
    "Mostre que:\n",
    "\n",
    "a) $x+y = (x|x)|(y|y)$ \n",
    "\n",
    "b) $\\overline{x} = x \\downarrow x$\n",
    "\n",
    "c) $xy = (x \\downarrow x)\\downarrow (y \\downarrow y)$ \n",
    "\n",
    "d) $x + y = (x \\downarrow y)\\downarrow (x \\downarrow y)$\n",
    "\n",
    "*Dica: Utilize tabelas boolenas.*"
   ]
  },
  {
   "cell_type": "markdown",
   "id": "684f1bef",
   "metadata": {},
   "source": [
    "#### Exercício 6"
   ]
  },
  {
   "cell_type": "markdown",
   "id": "5cb6542b",
   "metadata": {},
   "source": [
    "Escreva cada uma das funções booleanas a seguir i) usando somente o operador $|$ e ii) usando somente o operador $\\downarrow$:\n",
    "\n",
    "a) $x + y + z$\n",
    "\n",
    "b) $(x+y)z$"
   ]
  },
  {
   "cell_type": "markdown",
   "id": "8bf87ae2",
   "metadata": {},
   "source": [
    "## <div style=\"margin-top: -20px;\">\n",
    "<hr style=\"border: 2px solid black;\">\n",
    "\n",
    "<font color='black'><span style=\"font-size: 18px;\"><strong>Respostas</strong></span></font>\n",
    "\n",
    "<hr style=\"border: 2px solid black;\">\n",
    "</div>"
   ]
  },
  {
   "cell_type": "markdown",
   "id": "466b359d",
   "metadata": {},
   "source": [
    "#### Respostas do Exercício 1"
   ]
  },
  {
   "cell_type": "markdown",
   "id": "d14d477c",
   "metadata": {},
   "source": [
    "a) $\\overline{x}\\,\\overline{y}z$, b) $\\overline{x}y\\overline{z}$, c) $\\overline{x}\\,\\overline{y}\\,\\overline{z}$"
   ]
  },
  {
   "cell_type": "markdown",
   "id": "b2100d00",
   "metadata": {},
   "source": [
    "#### Respostas do Exercício 2"
   ]
  },
  {
   "cell_type": "markdown",
   "id": "f9cb3366",
   "metadata": {},
   "source": [
    "a) $\\overline{x}y + \\overline{x}\\,\\overline{y} + xy$, b) $xy + x\\overline{y} + \\overline{x}y + \\overline{x}\\,\\overline{y}$, c) $x\\overline{y} + \\overline{x}\\,\\overline{y}$, d) $xyz + xy\\overline{z} + x\\overline{y}z + x\\overline{y}\\,\\overline{z}$, e) $xyz + xy\\overline{z} + x\\overline{y}z + \\overline{x}yz + x\\overline{y}\\,\\overline{z} + \\overline{x}y\\overline{z} + \\overline{x}\\,\\overline{y}z$"
   ]
  },
  {
   "cell_type": "markdown",
   "id": "fa21894a",
   "metadata": {},
   "source": [
    "#### Respostas do Exercício 3"
   ]
  },
  {
   "cell_type": "markdown",
   "id": "64bb179c",
   "metadata": {},
   "source": [
    "a) $\\overline{x}\\cdot y$, b) $\\overline{\\overline{x}\\cdot(\\overline{y}\\cdot\\overline{z})}$"
   ]
  },
  {
   "cell_type": "markdown",
   "id": "4ea7b0d5",
   "metadata": {},
   "source": [
    "#### Respostas do Exercício 4"
   ]
  },
  {
   "cell_type": "markdown",
   "id": "85aa8116",
   "metadata": {},
   "source": [
    "a) $\\overline{\\overline{x} + \\overline{y}} + z$, b) $\\overline{x + \\overline{(y + \\overline{z})}}$"
   ]
  },
  {
   "cell_type": "markdown",
   "id": "7f3552b5",
   "metadata": {},
   "source": [
    "#### Respostas do Exercício 5"
   ]
  },
  {
   "cell_type": "markdown",
   "id": "2ac3c189",
   "metadata": {},
   "source": [
    "Construa tabelas booleanas e compare as colunas resultado de cada um dos lados das igualdades. Em caso de dúvida consulte o professor."
   ]
  },
  {
   "cell_type": "markdown",
   "id": "ee5105dd",
   "metadata": {},
   "source": [
    "#### Respostas do Exercício 6"
   ]
  },
  {
   "cell_type": "markdown",
   "id": "3fdd1c79",
   "metadata": {},
   "source": [
    "Temos que\n",
    "\n",
    "a) i) $\\{[(x|x)|(y|y)]|[(x|x)|(y|y)]\\}|(z|z)$ \n",
    "\n",
    "ii) $\\{[(x\\downarrow y) \\downarrow (x \\downarrow y)]\\downarrow z\\} \\downarrow \\{[(x\\downarrow y) \\downarrow (x \\downarrow y)]\\downarrow z\\}$\n",
    "\n",
    "b) i) $\\{[(x|x)|(y|y)]|z\\}|\\{[(x|x)|(y|y)]|z\\}$\n",
    "\n",
    "ii) $\\{[(x \\downarrow y) \\downarrow (x \\downarrow y)] \\downarrow [(x \\downarrow y) \\downarrow (x \\downarrow y)]\\} \\downarrow (z \\downarrow z)$"
   ]
  },
  {
   "cell_type": "markdown",
   "id": "6f01e4e5",
   "metadata": {},
   "source": [
    "# <div style=\"margin-top: -20px;\">\n",
    "<hr style=\"border: 2px solid black;\">\n",
    "\n",
    "<font color='black'><span style=\"font-size: 22px;\"><strong>11.4 Vídeo Aulas</strong></span></font>\n",
    "\n",
    "<hr style=\"border: 2px solid black;\">\n",
    "</div>"
   ]
  },
  {
   "cell_type": "markdown",
   "id": "efb012b5",
   "metadata": {},
   "source": [
    "Clicando nos links a seguir você será redirecionado às aulas referentes a este capítulo.\n",
    "\n",
    "[Representação Algebrica/Literal de Funções Booleanas](https://youtu.be/zz_CZk0S3LY)\n",
    "\n",
    "[Expansões em Somas de Produtos de Funções Booleanas](https://youtu.be/5xLJDQuaBzA)\n",
    "\n",
    "[Completude Funcional em Álgebra Booleana - Parte 1](https://youtu.be/0LSfPFgx8i8)\n",
    "\n",
    "[Completude Funcional em Álgebra Booleana - Parte 2](https://youtu.be/x8JEsyJGTcs)"
   ]
  },
  {
   "cell_type": "markdown",
   "id": "90ad38ef",
   "metadata": {},
   "source": [
    "# <div style=\"margin-top: -20px;\">\n",
    "<hr style=\"border: 2px solid black;\">\n",
    "\n",
    "<font color='black'><span style=\"font-size: 22px;\"><strong>11.5 No Computador (Experimental)</strong></span></font>\n",
    "\n",
    "<hr style=\"border: 2px solid black;\">\n",
    "</div>"
   ]
  },
  {
   "cell_type": "markdown",
   "id": "83483838",
   "metadata": {},
   "source": [
    "Na algebra booleana, os símbolos $+$, $\\cdot$ e $^{-}$ são frequentemente usados como análogos às operações $OR$, $AND$ e $NOT$, respectivamente. Essa notação é uma forma alternativa de representar operações booleanas e é especialmente comum na teoria dos circuitos e na álgebra de Boole. Mais especificamente:\n",
    "\n",
    "1. $AND(E)$: Na álgebra booleana tradicional, usamos o símbolo $\\wedge$ para a operação $AND$. Na notação alternativa, usamos $\\cdot$ ou simplemente a concatenação (juntar as variáveis). Por exemplo, $x \\wedge y$ pode ser escrito como $x \\cdot y$ ou simplesmente $xy$.\n",
    "\n",
    "2. $OR(OU)$: O $OR$ é geralmente representado $\\vee$. Na notação alternativa, usamos $+$. Portanto, $x \\wedge y$ seria escrito como $x + y$.\n",
    "\n",
    "3. $NOT(NÃO)$: O $NOT$ é indicado por $\\neg$ ou uma barra sobre a variável na notação alternativa. Então, $\\neg x$ poderia ser escrito como $\\overline{x}$."
   ]
  },
  {
   "cell_type": "markdown",
   "id": "5b1489fa",
   "metadata": {},
   "source": [
    "#### Simplificação de Expressões Booleanas"
   ]
  },
  {
   "cell_type": "markdown",
   "id": "9b72a9c3",
   "metadata": {},
   "source": [
    "Existem várias bibliotecas em Python que podem ajudá-lo a trabalhar com álgebra booleana. Uma das mais conhecidas é a **Sympy**, que é uma biblioteca de matemática simbólica que inclui suporte para álgebra booleana. Com ela, você pode realizar operações booleanas, simplificar expressões e trabalhar com lógica simbólica.\n",
    "\n",
    "Para usar a Sympy no Jupyter Notebook através do Anaconda, você precisa primeiro garantir que a biblioteca esteja instalada. Normalmente, a Sympy já vem instalada no Anaconda, mas caso não esteja, você pode instalá-la usando o seguinte comando no Anaconda Prompt ou no terminal:"
   ]
  },
  {
   "cell_type": "code",
   "execution_count": 1,
   "id": "cb6e7aea",
   "metadata": {
    "ExecuteTime": {
     "end_time": "2024-01-10T21:11:30.837387Z",
     "start_time": "2024-01-10T21:11:24.022117Z"
    }
   },
   "outputs": [
    {
     "name": "stdout",
     "output_type": "stream",
     "text": [
      "Requirement already satisfied: sympy in d:\\anaconda3\\lib\\site-packages (1.11.1)\n",
      "Requirement already satisfied: mpmath>=0.19 in d:\\anaconda3\\lib\\site-packages (from sympy) (1.3.0)\n"
     ]
    }
   ],
   "source": [
    "!pip install sympy"
   ]
  },
  {
   "cell_type": "markdown",
   "id": "5ca1a6fc",
   "metadata": {},
   "source": [
    "Podemos, por exemplo, aplicar o código para simplificar a expressão \n",
    "\n",
    "$$(\\overline{x} + y)\\cdot x$$\n",
    "\n",
    "que é equivalente a \n",
    "\n",
    "$$(\\neg x \\vee y) \\wedge x.$$\n",
    "\n",
    "Neste caso, devemos escrever esta expressão acima usando as funções $Not(x) = \\neg x$, $And(x,y) = x \\wedge y$ e $Or(x,y) = x \\vee y$. Assim,<br><br>\n",
    "\n",
    "<center> And(Or(Not(x), y), x) </center>\n",
    "\n",
    "Acompanhe as células de código a seguir:"
   ]
  },
  {
   "cell_type": "code",
   "execution_count": 2,
   "id": "1f53ac41",
   "metadata": {
    "ExecuteTime": {
     "end_time": "2024-01-10T21:11:31.431329Z",
     "start_time": "2024-01-10T21:11:30.837387Z"
    }
   },
   "outputs": [],
   "source": [
    "# Importando funções necessárias\n",
    "from sympy import symbols\n",
    "from sympy.logic.boolalg import And, Or, Not\n",
    "\n",
    "# Definindo as variáveis booleanas (4 variáveis)\n",
    "w, x, y, z= symbols('w x y z')"
   ]
  },
  {
   "cell_type": "code",
   "execution_count": 3,
   "id": "c5e2ec46",
   "metadata": {
    "ExecuteTime": {
     "end_time": "2024-01-10T21:11:31.504738Z",
     "start_time": "2024-01-10T21:11:31.431329Z"
    }
   },
   "outputs": [
    {
     "data": {
      "text/latex": [
       "$\\displaystyle x \\wedge y$"
      ],
      "text/plain": [
       "x & y"
      ]
     },
     "execution_count": 3,
     "metadata": {},
     "output_type": "execute_result"
    }
   ],
   "source": [
    "# Aplicando o método simplify\n",
    "(And(Or(Not(x), y), x)).simplify()"
   ]
  },
  {
   "cell_type": "markdown",
   "id": "1efe3c2c",
   "metadata": {},
   "source": [
    "Portanto, $(\\neg x \\vee y) \\wedge x = x \\wedge y$."
   ]
  },
  {
   "cell_type": "markdown",
   "id": "7646cbe6",
   "metadata": {},
   "source": [
    "Vejamos mais um exemplo de utilização do código para simplificar a expressão:\n",
    "\n",
    "$$(x \\cdot \\overline{y} \\cdot \\overline{z}) + (\\overline{x} \\cdot y \\cdot z) + (x \\cdot y \\cdot \\overline{z}) + (\\overline{x} \\cdot \\overline{y} \\cdot z)$$\n",
    "\n",
    "que é equivalente a\n",
    "\n",
    "$$(x \\land \\neg y \\land \\neg z) \\lor (\\neg x \\land y \\land z) \\lor (x \\land y \\land \\neg z) \\lor (\\neg x \\land \\neg y \\land z).$$\n",
    "\n",
    "O argumento de entrada o qual aplicaremos o método .simplify() é dado por:<br><br>\n",
    "\n",
    "<center> Or(And(x, Not(y), Not(z)), And(Not(x), y, z), And(x, y, Not(z)), And(Not(x), Not(y), z)) </center>"
   ]
  },
  {
   "cell_type": "code",
   "execution_count": 4,
   "id": "79ae172a",
   "metadata": {
    "ExecuteTime": {
     "end_time": "2024-01-10T21:11:31.534558Z",
     "start_time": "2024-01-10T21:11:31.504738Z"
    }
   },
   "outputs": [
    {
     "data": {
      "text/latex": [
       "$\\displaystyle \\left(x \\wedge \\neg z\\right) \\vee \\left(z \\wedge \\neg x\\right)$"
      ],
      "text/plain": [
       "(x & ~z) | (z & ~x)"
      ]
     },
     "execution_count": 4,
     "metadata": {},
     "output_type": "execute_result"
    }
   ],
   "source": [
    "# Aplicando o método simplify\n",
    "(Or(And(x,Not(y),Not(z)), And(Not(x),y,z), And(x,y,Not(z)), And(Not(x),Not(y),z))).simplify()"
   ]
  },
  {
   "cell_type": "markdown",
   "id": "25f4737d",
   "metadata": {},
   "source": [
    "Portanto,\n",
    "\n",
    "$$(x \\cdot \\overline{y} \\cdot \\overline{z}) + (\\overline{x} \\cdot y \\cdot z) + (x \\cdot y \\cdot \\overline{z}) + (\\overline{x} \\cdot \\overline{y} \\cdot z) = (x \\wedge \\neg z) \\vee (z \\wedge \\neg x)$$"
   ]
  },
  {
   "cell_type": "markdown",
   "id": "c4d49393",
   "metadata": {},
   "source": [
    "#### Avaliando Funções Booleanas"
   ]
  },
  {
   "cell_type": "markdown",
   "id": "4b51c954",
   "metadata": {},
   "source": [
    "O código a seguir nos mostra como calcular um valor de saída para uma função booleana contendo até quatro variáveis. A título de exemplo, consideremos a função\n",
    "\n",
    "$$F(x,y,z) = xy\\overline{z} + \\overline{x}y\\overline{z}$$\n",
    "\n",
    "que é equivalente a \n",
    "\n",
    "$$F(x,y,z) = (x \\wedge y \\wedge \\neg z) \\vee (\\neg x \\wedge y \\wedge \\neg z).$$\n",
    "\n",
    "Neste caso usaremos o métodos .subs(dict) aplicada à função<br><br>\n",
    "\n",
    "<center>Or(And(x,y,Not(z)), And(Not(x),y,Not(z)))</center>\n",
    "\n",
    "e valores<br><br>\n",
    "\n",
    "<center> {x: 1, y: 1, z: 0}. </center>"
   ]
  },
  {
   "cell_type": "code",
   "execution_count": 5,
   "id": "734953ac",
   "metadata": {
    "ExecuteTime": {
     "end_time": "2024-01-10T21:11:31.539891Z",
     "start_time": "2024-01-10T21:11:31.535582Z"
    }
   },
   "outputs": [],
   "source": [
    "# Importando funções necessárias\n",
    "from sympy import symbols, Or, And, Not\n",
    "\n",
    "# Definindo as variáveis booleanas (4 variáveis)\n",
    "w, x, y, z = symbols('w x y z')"
   ]
  },
  {
   "cell_type": "code",
   "execution_count": 6,
   "id": "c3bfda9d",
   "metadata": {
    "ExecuteTime": {
     "end_time": "2024-01-10T21:11:31.549832Z",
     "start_time": "2024-01-10T21:11:31.540890Z"
    }
   },
   "outputs": [
    {
     "data": {
      "text/latex": [
       "$\\displaystyle \\text{True}$"
      ],
      "text/plain": [
       "True"
      ]
     },
     "execution_count": 6,
     "metadata": {},
     "output_type": "execute_result"
    }
   ],
   "source": [
    "(Or(And(x,y,Not(z)), And(Not(x),y,Not(z)))).subs({x: 1, y: 1, z: 0})"
   ]
  }
 ],
 "metadata": {
  "kernelspec": {
   "display_name": "Python 3 (ipykernel)",
   "language": "python",
   "name": "python3"
  },
  "language_info": {
   "codemirror_mode": {
    "name": "ipython",
    "version": 3
   },
   "file_extension": ".py",
   "mimetype": "text/x-python",
   "name": "python",
   "nbconvert_exporter": "python",
   "pygments_lexer": "ipython3",
   "version": "3.11.5"
  },
  "varInspector": {
   "cols": {
    "lenName": 16,
    "lenType": 16,
    "lenVar": 40
   },
   "kernels_config": {
    "python": {
     "delete_cmd_postfix": "",
     "delete_cmd_prefix": "del ",
     "library": "var_list.py",
     "varRefreshCmd": "print(var_dic_list())"
    },
    "r": {
     "delete_cmd_postfix": ") ",
     "delete_cmd_prefix": "rm(",
     "library": "var_list.r",
     "varRefreshCmd": "cat(var_dic_list()) "
    }
   },
   "types_to_exclude": [
    "module",
    "function",
    "builtin_function_or_method",
    "instance",
    "_Feature"
   ],
   "window_display": false
  }
 },
 "nbformat": 4,
 "nbformat_minor": 5
}
