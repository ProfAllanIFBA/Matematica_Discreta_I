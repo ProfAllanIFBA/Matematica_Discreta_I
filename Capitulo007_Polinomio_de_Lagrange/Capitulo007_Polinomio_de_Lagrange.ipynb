{
 "cells": [
  {
   "cell_type": "markdown",
   "id": "d4ea28a8",
   "metadata": {
    "slideshow": {
     "slide_type": "slide"
    }
   },
   "source": [
    "<center> <img src=\"logo_ifba.jpg\" alt=\"jpg_python\" width=\"100\" height=\"200\"> </center>\n",
    "<br><br>\n",
    "<div align=\"center\"><span style=\"font-size: 26px;\"><strong>Cálculo Numérico <br></strong></span></div> <br>\n",
    "<center> <img src=\"python_gif.gif\" alt=\"gif_python\" width=\"80\"> </center>\n"
   ]
  },
  {
   "cell_type": "markdown",
   "id": "d76184a7",
   "metadata": {
    "slideshow": {
     "slide_type": "slide"
    }
   },
   "source": [
    "<div style=\"border: 2px solid black; padding: 10px; width: 95%; background-color: lightgray; display: flex; align-items: center;\">\n",
    "    <h1 style=\"color: red; text-align: center; margin: auto;\">\n",
    "        Capítulo 7: Polinômio de Lagrange\n",
    "    </h1>\n",
    "</div>\n",
    "\n",
    "<font color='red'></font>\n",
    "<a href=\"\"></a>"
   ]
  },
  {
   "cell_type": "markdown",
   "id": "438afe26",
   "metadata": {},
   "source": [
    "# <div style=\"margin-top: -20px;\">\n",
    "<hr style=\"border: 2px solid black;\">\n",
    "\n",
    "<font color='black'><span style=\"font-size: 22px;\"><strong>7.1 Aproximando Uma Função</strong></span></font>\n",
    "\n",
    "<hr style=\"border: 2px solid black;\">\n",
    "</div>"
   ]
  },
  {
   "cell_type": "markdown",
   "id": "73d6a558",
   "metadata": {},
   "source": [
    "Consideremos a seguinte situação hipotética:\n",
    "\n",
    "Em uma certa cidade foram feitas medições da temperatura local a cada hora entre $6:00 \\, h$ ($6 \\, h$) e $10:00 \\, h (10 \\, h)$. A tabela a seguir mostra a temperatura em graus Celsius obtidas.\n",
    "\n",
    "$$\\begin{array}{cccccc}\n",
    "Hora    \t& \t6\t&\t7\t&\t8\t&\t9\t&\t10\t\t\\\\\n",
    "Temperatura\t& \t14\t&\t17\t&\t21\t&\t26\t&\t27\t \t\\\\\n",
    "\\end{array}$$\n",
    "\n",
    "Revendo esses dados podemos perguntar se eles poderiam ser utilizados para se fazer uma estimativa de temperatura, digamos por volta das $8:30 \\,h (8.5 \\, h)$ do mesmo dia. Previsões desse tipo podem ser feitas por meio de uma função de ajuste dos dados obtida usando um processo chamado interpolação.\n",
    "\n",
    "Uma das funções mais úteis que mapeiam os números reais em si mesmos é a classe dos polinômios algébricos,\n",
    "\n",
    "$$P(x) = a_{n}x^{n} + \\ldots + a_{1}x + a_{0},$$\n",
    "\n",
    "em que $n$ é inteiro não negativo e $a_{0}, \\ldots, a_{n}$ são constantes reais. O resultado a seguir é central no estudo da interpolação."
   ]
  },
  {
   "cell_type": "markdown",
   "id": "f78a057f",
   "metadata": {},
   "source": [
    "#### <font color='red'> Teorema 1 </font>"
   ]
  },
  {
   "cell_type": "markdown",
   "id": "c385e55a",
   "metadata": {},
   "source": [
    "<font color='red'> Suponha que $f$ esteja definida e seja contínua em $[a, b]$. Então, para cada $\\epsilon  > 0$, existe $P(x)$ tal que<br><br>\n",
    " $$|f(x) - P(x)| < \\epsilon,$$<br>\n",
    " para todo $x \\in [a, b]$.\n"
   ]
  },
  {
   "cell_type": "markdown",
   "id": "b5d5072b",
   "metadata": {},
   "source": [
    "##### <font color='red'> Demonstração </font>"
   ]
  },
  {
   "cell_type": "markdown",
   "id": "3fb3f4a7",
   "metadata": {},
   "source": [
    "<font color='red'>Este é o famoso **Teorema da Aproximação de Weierstrass**. Sua demonstração pode ser encontrada em: [Teorema da Aproximação de Weierstrass](https://regijs.github.io/eqdif/teoaproximweierstrass.pdf). Em caso de dúvida, consulte o professor."
   ]
  },
  {
   "cell_type": "markdown",
   "id": "a6bbe446",
   "metadata": {},
   "source": [
    "O **Teorema 1** afirma que podemos aproximar de forma tão boa quanto queiramos uma função $f$, contínua em um intervalo $[a,b]$, por um polinômio $P$. A expressão \"tão boa quanto queiramos\" está diretamente ligada ao valor de $\\epsilon$. Quanto menor $\\epsilon$ melhor a aproximação de $f$ por $P$. Mas por quê aproximar uma função por um polinômio? Um dos motivos para optarmos por este caminho é que polinômios têm derivadas e integrais indefinidas fáceis de calcular, e sendo $P \\approx f$, temos que suas derivadas e integrais reflitam o comportamento de $f$.\n",
    "\n",
    "Considerando os dados apresentados no início deste capítulo podemos usar o GeoGebra para obter um polinômio de grau $4$ que passa por todos os $5$ pontos dados. Acompanhe a figura a seguir:<br><br>\n",
    "\n",
    "<center> <img src=\"fig7-1.jpg\" alt=\"jpg_python\" width=\"700\" height=\"\"> </center>"
   ]
  },
  {
   "cell_type": "markdown",
   "id": "27eedee4",
   "metadata": {},
   "source": [
    "# <div style=\"margin-top: -20px;\">\n",
    "<hr style=\"border: 2px solid black;\">\n",
    "\n",
    "<font color='black'><span style=\"font-size: 22px;\"><strong>7.2 Polinômio Interpolador de Lagrange</strong></span></font>\n",
    "\n",
    "<hr style=\"border: 2px solid black;\">\n",
    "</div>"
   ]
  },
  {
   "cell_type": "markdown",
   "id": "f3e9928e",
   "metadata": {},
   "source": [
    "Nesta seção encontraremos polinômios aproximativos que são determinados especificando-se somente certos pontos através dos quais esses polinômios devem passar."
   ]
  },
  {
   "cell_type": "markdown",
   "id": "19465ba4",
   "metadata": {},
   "source": [
    "#### <font color='red'> Teorema 2 </font>"
   ]
  },
  {
   "cell_type": "markdown",
   "id": "071c5de8",
   "metadata": {},
   "source": [
    "<font color='red'> Se $x_{0}, x_{1}, \\ldots, x_{n}$ são $n+1$ n\\'umeros distintos e $f$ é uma função cujos valores são dados nesses n\\'umeros, então existe um \\'unico polinômio $P(x)$ de grau no máximo $n$ tal que $f(x_{k}) = P(x_{k})$ para todo $k = 0, \\ldots, n$. Esse polinômio é dado por<br><br>\n",
    " $$P(x) = f(x_{0})L_{n,0} + f(x_{1})L_{n,1} + \\ldots + f(x_{n})L_{n, n} = \\sum_{k=0}^{n} f(x_{k})L_{n,k},$$<br>\n",
    " em que, para cada $k = 0, \\ldots, n,$<br><br>\n",
    " $$L_{n, k}(x) = \\frac{(x-x_{0})(x-x_{1}) \\ldots (x-x_{k-1})(x-x_{k+1}) \\ldots (x_{k}-x_{n})}{(x_{k}-x_{0})(x_{k}-x_{1}) \\ldots (x_{k}-x_{k-1})(x_{k}-x_{k+1}) \\ldots (x_{k}-x_{n})} = \\Pi_{i=0, \\, i \\neq k}^{n} \\frac{(x-x_{i})}{(x_{k} - x_{i})}.$$"
   ]
  },
  {
   "cell_type": "markdown",
   "id": "c24819d8",
   "metadata": {},
   "source": [
    "##### <font color='red'> Demonstração </font>"
   ]
  },
  {
   "cell_type": "markdown",
   "id": "bc0bad77",
   "metadata": {},
   "source": [
    "<font color='red'> Note que<br><br>\n",
    " $$L_{n,k}=\\left\\{ \\begin{array}{ccc}\n",
    "\t1  & se \\,\\, x = x_{k} & \\\\\n",
    "\t0  & se \\,\\, x = x_{j},  & j \\neq k, j=0,1,2, \\cdots, n  \\\\\n",
    "\\end{array}\\right. $$<br>\n",
    " Como o numerador de cada $L_{n,k}$ é um produto de $n$ fatores da forma $(x-x_{i})$, $i = 0,1,2,\\ldots, n, \\,\\, i \\neq k$ temos que $L_{i,k}$ é um polinômio de grau $n$ e, assim, $P_{n}(x)$ será uma combinação de polinômios de grau $n$ e portanto terá grau menor ou igual a $n$ (Veja o tópico **Revisando 1**)."
   ]
  },
  {
   "cell_type": "markdown",
   "id": "f3add9c5",
   "metadata": {},
   "source": [
    "#### <font color='purple'> Revisando 1"
   ]
  },
  {
   "cell_type": "markdown",
   "id": "6fa5908c",
   "metadata": {},
   "source": [
    "<font color='purple'> Se $P$ e $Q$ são dois polinômios temos que<br><br>\n",
    " $$grau(P+Q) \\leq max(grau(P),grau(Q)).$$<br>\n",
    " De fato, consideremos os polinômios<br><br>\n",
    " $P(x) = a_{n}x^{n} + a_{n-1}x^{n-1} + \\ldots + a_{1}x + a_{0}, \\,\\, a_{n} \\neq 0$ \\, e $Q(x) = b_{m}x^{m} + b_{m-1}x^{m-1} + \\ldots + b_{1}x + b_{0}, \\,\\, b_{m} \\neq 0.$<br><br>\n",
    " Temos três casos (na verdade dois) a considerar.<br><br>\n",
    " i) $n > m$ (e analogamente $m > n$)<br><br>\n",
    " Neste caso,<br><br>\n",
    " $$P(x) + Q(x) = a_{n}x^{n} + a_{n-1}x^{n-1} + \\ldots   + a_{1}x + a_{0} + b_{m}x^{m} + b_{m-1}x^{m-1} + \\ldots + b_{1}x + b_{0} =$$<br>\n",
    " $$=c_{n}x^{n} + c_{n-1}x^{n-1} + \\ldots + c_{1}x + c_{0},$$<br>\n",
    " em que $c_{i} = a_{i}+b_{i}$ para $i = 0,1,2,\\cdots, m$. Sendo $a_{n} \\neq 0$, temos que\n",
    "$$grau(P+Q) = max(grau(P),grau(Q)) = grau(P) = n.$$<br><br>\n",
    " ii) $n = m$<br><br>\n",
    " Neste caso,<br><br>\n",
    " $$P(x) + Q(x) = c_{n}x^{n} + c_{n-1}x^{n-1} + \\ldots + c_{1}x + c_{0},$$<br>\n",
    " em que $c_{i} = a_{i}+b_{i}$, $i = 0,1,2, \\ldots, n$. Note que $c_{n}, c_{n-1}, \\ldots, a_{1}, a_{0}$ não são necessariamente não nulos. Assim,<br><br>\n",
    " $$grau(P+Q) \\leq max(grau(P), grau(Q)) = n.$$<br>\n",
    " De modo geral,<br><br>\n",
    " $$grau(P_{1}+P_{2}+ \\ldots P_{n}) \\leq max(grau(P_{1}), grau(P_{2}), \\ldots, grau(P_{n})).$$ "
   ]
  },
  {
   "cell_type": "markdown",
   "id": "9fba8fce",
   "metadata": {},
   "source": [
    "#### <font color='blue'> Exemplo 1 </font>"
   ]
  },
  {
   "cell_type": "markdown",
   "id": "1ed49e55",
   "metadata": {},
   "source": [
    "<font color='blue'>Utilize os números $x_{0} = 2$, $x_{1} = 2,5$ e $x_{2} = 4 $ para encontrar o segundo polinômio interpolador para $f(x) = 1/x$. Calcule uma aproximação para $f(3)$ e compare com o valor real."
   ]
  },
  {
   "cell_type": "markdown",
   "id": "f6bd2653",
   "metadata": {},
   "source": [
    "##### <font color='blue'> Solução </font>"
   ]
  },
  {
   "cell_type": "markdown",
   "id": "bcde64bf",
   "metadata": {},
   "source": [
    "<font color='blue'> Primeiro calculemos $L_{0}(x)$, $L_{1}(x)$, $L_{2}(x)$.<br><br>\n",
    " $L_{2,0}(x) = \\frac{(x-x_{1})(x-x_{2})}{(x_{0} - x_{1})(x_{0} - x_{2})} = \\frac{(x-2,5)(x-4)}{(2-2,5)(2-4)} = x^{2} - 6,5x + 10,$<br><br>\n",
    " $L_{2,1}(x) = \\frac{(x-x_{0})(x-x_{2})}{(x_{1} - x_{0})(x_{1} - x_{2})} = \\frac{(x-2)(x-4)}{(2,5-2)(2,5 - 4)} = -\\frac{4}{3}x^{2} + 8x - \\frac{32}{3} ,$<br><br>\n",
    " $L_{2,2}(x) = \\frac{(x-x_{0})(x-x_{1})}{(x_{2} - x_{0})(x_{2} - x_{1})} = \\frac{(x-2)(x-2,5)}{(4-2)(4-2,5)} = \\frac{1}{3}x^{2} - 1,5x + \\frac{5}{3}.$<br><br>\n",
    " Como $f(x_{0}) = f(2) = 0,5$, $f(x_{1}) = f(2,5) = 0,4$ e $f(x_{2}) = f(4) = 0,25$, temos<br><br>\n",
    " $$\\begin{aligned}\n",
    "P(x) &= \\sum_{k=0}^{2}f(x_{k})L_{k}(x) \\\\\n",
    "     &= 0,5(x^{2} - 6,5x + 10) + 0,4 \\left(-\\frac{4}{3}x^{2} + 8x - \\frac{32}{3}\\right) + 0,25\\left(\\frac{1}{3}x^{2} - 1,5x + \\frac{5}{3}\\right) \\\\\n",
    "     &= 0,05x^{2} -0,425x + 1,15\n",
    "\\end{aligned}$$<br>\n",
    " Levando-se em conta o polinômio obtido acima, temos que uma aproximação para $f(3) = \\frac{1}{3}$ é dada por $P(3) = 0,05.3^{2} - 0,425.3 + 1,15 = 0,325$.<br><br>\n",
    " Comparando com o valor real, $f(3)$, temos<br><br>\n",
    " $$|f(3)-P(3)| = -8.333333333333359e-03,$$<br>\n",
    " onde obtemos uma precisão de $10^{-2}$."
   ]
  },
  {
   "cell_type": "markdown",
   "id": "60ea1793",
   "metadata": {},
   "source": [
    "Surge um detalhe importante: Se usássemos outro método (por sistemas por exemplo) para obtermos um polinômio de grau $2$ que passa pelos mesmos pontos dados no **Exemplo 1** teríamos o mesmo polinômio como resposta ou teríamos outro? A resposta a esta pergunta é dada pelo próximo teorema."
   ]
  },
  {
   "cell_type": "markdown",
   "id": "2f66392c",
   "metadata": {},
   "source": [
    "#### <font color='red'> Teorema 3 </font>"
   ]
  },
  {
   "cell_type": "markdown",
   "id": "76b292d8",
   "metadata": {},
   "source": [
    "<font color='red'> O polinômio dado no **Teorema 2** é único."
   ]
  },
  {
   "cell_type": "markdown",
   "id": "bdbe9a35",
   "metadata": {},
   "source": [
    "##### <font color='red'> Demonstração </font>"
   ]
  },
  {
   "cell_type": "markdown",
   "id": "55db1dfd",
   "metadata": {},
   "source": [
    "<font color='red'> Suponhamos que exista um outro polinômio $S(x)$ tal que $S(x_{i}) = f(x_{i})$ para $i = 0,1,2,\\ldots,n$. Considere o polinômio: $T(x) = S(x) - P(x)$. Veja que<br><br>\n",
    " $$T(x_{i}) = S(x_{i}) - P(x_{i}) = 0, \\,\\, i =  0,1,2,\\ldots,n.$$<br>\n",
    " Como ambos polinômios $S(x)$ e $P(x)$ possuem grau $n$, então o grau de $T(x)$ será no máximo $n$ (Mesma justificativa do tópico **Revisando 1**). Mas $T(x)$ tem<br><br>\n",
    " $n+1$ e portanto deve ter grau $n+1$ o que é um absurdo de acordo com o **Teorema 3**(**Cap. 6**). Logo, $S(x) = P(x)$."
   ]
  },
  {
   "cell_type": "markdown",
   "id": "70b8c5cc",
   "metadata": {},
   "source": [
    "#### <font color='blue'> Exemplo 2 </font>"
   ]
  },
  {
   "cell_type": "markdown",
   "id": "9c80bd98",
   "metadata": {},
   "source": [
    "<font color='blue'> A tabela a seguir apresenta valores de uma função em diversos pontos:<br><br>\n",
    " $$\\begin{array}{cccccccccc}\n",
    "Indice\t    & \t x   \t& f(x)   \t\t        \\\\\n",
    " 0  \t\t& \t 1.0   \t& 0.765197686557967   \t\\\\\n",
    " 1  \t\t& \t 1.3   \t& 0.620085989561509\t    \\\\\n",
    " 2  \t\t& \t 1.6   \t& 0.455402167639381  \t\\\\\n",
    " 3  \t\t& \t 1.9   \t& 0.281818559374385    \t\\\\\n",
    " 4  \t\t& \t 2.2   \t& 0.110362266922174   \t\\\\\n",
    "\\end{array}$$<br>\n",
    " A seguir apresentaremos estimativas de $f(1.5)$ por meio de diversos polinômios interpoladores utilizando alguns e até mesmo todos o valores dados.<br><br>\n",
    " **Polinômio de $1^{o}$ grau:** Como $1.5$ está entre $1.3$ e $1.6$, o polinômio linear mais apropriado utiliza $x_{0} = 1.3$ e $x_{1} = 1.6$. O chamaremos de $P_{1,2}(x)$<br><br>\n",
    " $$P_{1,2}(x) = \\frac{(x - 1.6)}{(1.3 - 1.6)}(0.620085989561509) + \\frac{(x- 1.3)}{(1.6 - 1.3)}(0.455402167639381)$$<br>\n",
    " $$P_{1,2}(x) = -0.548946073073760x + 1.333715884557397.$$<br>\n",
    " A estimativa para $P(1.5)$ é dada por:<br><br>\n",
    " $$P_{1,2}(1.5) = -0.548946073073760\\cdot1.5 + 1.333715884557397 = 0.510296774946757$$<br>\n",
    " **Polinômio de $2^{o}$ grau:** Dois Polinômios de $2^{o}$ grau podem ser razoavelmente utilizados, um deles fazendo $x_{0} = 1.3$, $x_{1} = 1.6$ e $x_{2} = 1.9$, o que nos dá<br><br>\n",
    " $P_{1,2,3}(1.5) = \\frac{(1.5 - 1.6)(1.5 - 1.9)}{(1.3 - 1.6)(1.3 - 1.9)}\\cdot 0.62008... + \\frac{(1.5 - 1.3)(1.5 - 1.9)}{(1.6 - 1.3)(1.6 - 1.9)}\\cdot 0.45540... +\\frac{(1.5 - 1.3)(1.5 - 1.6)}{(1.9 - 1.3)(1.9 - 1.6)}\\cdot 0.28181... = 0.511285640095964$,<br><br>\n",
    " e o outro polinômio fazendo $x_{0} = 1.0$, $x_{1} = 1.3$ e $x_{2} = 1.6$, o que nos dá<br><br>\n",
    " $$P_{0,1,2}(1.5) = 0.512471455494054.$$<br>\n",
    " **Polinômio de $3^{o}$ grau:}} Consideremos as duas escolhas a seguir. Consideremos o polinômio interpolador que passa pelos pontos de abscissas $x_{0} = 1.3$, $x_{1} = 1.6$, $x_{2} = 1.9$ e $x_{3} = 2.2$, o que nos dá<br><br>\n",
    " $$P_{1,2,3,4}(1.5) = 0.511830188350565.$$<br>\n",
    " Uma segunda escolha de pontos pode ser dada pelos pontos $x_{0} = 1.0$, $x_{1} = 1.3$, $x_{2} = 1.6$ e $x_{3} = 1.9$ o que nos dá<br><br>\n",
    " $$P_{0,1,2,3}(1,5) = 0.511812669161782.$$<br>\n",
    " **Polinômio de $4^{o}$ grau:** Com $x_{0} = 1.0$, $x_{1} = 1.3$, $x_{2} = 1.6$, $x_{3} = 1.9$ e $x_{4} = 2.2$, o que nos dá<br><br>\n",
    " $$P_{0,1,2,3,4}(1.5) = 0.511819968823775.$$<br>\n",
    " A função que está sendo aproximada é a função de Bessel cujo valor de $f(1.5)$ é de aproximadamente $0.5118277$(Veja a figura a seguir), o que nos leva a concluir que a melhor aproximação é obtida por meio de $P_{1,2,3,4}(1.5)$ ao invés de $P_{0,1,2,3,4}(1.5)$.<br><br>\n",
    " <center> <img src=\"fig7-2.jpg\" alt=\"jpg_python\" width=\"600\" height=\"\"> </center>"
   ]
  },
  {
   "cell_type": "markdown",
   "id": "4b6acd31",
   "metadata": {},
   "source": [
    "O **Exemplo 2** nos mostra que a intuição as vezes falha, isto é, um polinômio de grau maior (considerado em mais pontos) não necessariamente produzirá uma aproximação melhor. Porém, é possível se conhecer um limite para o erro onde se conhece algo sobre certa derivada de ordem superior de $f$. Antes de tratarmos disto, relembremos um importante teorema do cálculo diferencial, o Teorema de Rolle."
   ]
  },
  {
   "cell_type": "markdown",
   "id": "a765352b",
   "metadata": {},
   "source": [
    "#### <font color='purple'> Revisando 2"
   ]
  },
  {
   "cell_type": "markdown",
   "id": "6edf33a8",
   "metadata": {},
   "source": [
    "<font color='purple'> Seja $f:[a b] \\rightarrow \\mathbb{R}$ uma função contínua definida em um intervalo fechado $[a, b]$. Se $f(x)$ é diferenciável no intervalo aberto $(a,b)$ e $f(a) = f(b) = 0$. Então existe $\\xi \\in (a,b)$ tal que $f'(\\xi)=0$.<br><br>\n",
    " *Para mais detalhes, consultar [8], pg. 290.*"
   ]
  },
  {
   "cell_type": "markdown",
   "id": "5735f909",
   "metadata": {},
   "source": [
    "#### <font color='red'> Teorema 4 </font>"
   ]
  },
  {
   "cell_type": "markdown",
   "id": "fdf89727",
   "metadata": {},
   "source": [
    "<font color='red'> Seja $f(x) = E_{t}(x) + P(x)$, onde $P(x)$ é o polinômio interpolador de $f(x)$ realtivamente aos pontos $x_{0}, \\ldots, x_{n}$ de $[a, b]$. Suponha que $f(x)$ seja $n+1$ vezes diferenciável em $[a, b]$. Então existe $\\beta \\in (a, b)$ tal que<br><br>\n",
    " $$E_{t}(x) = (x - x_{0})(x - x_{1}) \\ldots (x - x_{n}) \\frac{f^{n+1}(\\beta)}{(n+1)!}.$$"
   ]
  },
  {
   "cell_type": "markdown",
   "id": "36c4ab46",
   "metadata": {},
   "source": [
    "##### <font color='red'> Demonstração </font>"
   ]
  },
  {
   "cell_type": "markdown",
   "id": "3617bc00",
   "metadata": {},
   "source": [
    "<font color='red'> Consideremos a função auxiliar<br><br>\n",
    " $$\\phi(x) = f(x) - p(x) - (x-x_{0})(x-x_{1})\\ldots(x-x_{n})A.$$<br>\n",
    " Note que $\\phi(x_{0}) = \\phi(x_{1}) = \\ldots = \\phi(x_{n}) = 0$ e, portanto, $\\phi(x)$ se anula em $n+1$ pontos. Tome $z \\in (a,b)$ distinto de $x_{0}, x_{1},\\ldots,x_{n}$ e escolhamos $A$ tal que $\\phi(z) = 0$ (basta tomar $A = \\frac{f(z) - p(z)}{(z-x_{0})(z-x_{1})\\ldots(z-x_{n})}$). Como $f$, $P$ e o termo $(x - x_{0})(x - x_{1}) \\ldots (x - x_{n})$ são $n+1$ vezes diferenciável a função $\\phi(x)$ também o é. Assim, podemos aplicar o Teorema de Rolle repetidas vezes e garantir a existência de $\\xi \\in (a,b)$ tal que:<br><br>\n",
    " $$0 = \\phi^{n+1}(\\xi) = f^{n+1}(\\xi) - (n+1)!A,$$<br>\n",
    " donde segue que<br><br>\n",
    " $$A = \\frac{f^{n+1}(\\xi)}{(n+1)!}.$$<br>\n",
    " Portanto, $E_{t}(z) = (z - x_{0})(z - x_{1})\\ldots(z - x_{n})\\frac{f^{n+1}(\\xi)}{(n+1)!}$. Sendo $z$ arbitrário, temos provado o resultado."
   ]
  },
  {
   "cell_type": "markdown",
   "id": "b45d62ae",
   "metadata": {},
   "source": [
    "#### <font color='blue'> Exemplo 3 </font>"
   ]
  },
  {
   "cell_type": "markdown",
   "id": "6b324418",
   "metadata": {},
   "source": [
    "<font color='blue'> Calcule uma aproximação para $log_{10}(2.4)$ sabendo que $log_{10}(2) = 0.301029995663981$ e $log_{10}(3) = 0.477121254719662$. Calcule um cota superior para o erro e compare com o erro real.<br><br>\n",
    " *Use $log_{10}(2.4) = 0.380211241711606$.*"
   ]
  },
  {
   "cell_type": "markdown",
   "id": "51414505",
   "metadata": {},
   "source": [
    "##### <font color='blue'> Solução </font>"
   ]
  },
  {
   "cell_type": "markdown",
   "id": "ca70cfde",
   "metadata": {},
   "source": [
    "<font color='blue'>Temos que<br><br>\n",
    " $$P(2.4) = 0.301029995663981\\frac{2,4-3}{2-3} + 0.477121254719662\\frac{2.4-2}{3-2} = 0.37146649928625336.$$<br>\n",
    " Vemos que o erro absoluto da aproximação é<br><br>\n",
    " $$|log_{10}(2.4) - P(2.4)| = |0.380211241711606 - 0.37146649928625336| = 8.744742425352614e-03.$$<br>\n",
    " Agora, analisemos o erro conforme **Teorema 4**. Queremos uma cota superior para $f''(x)$ em que $f(x) = log_{10}(x)$. Temos que<br><br>\n",
    " $$|f''(x)| = \\left|\\frac{1}{x^{2}ln(10)}\\right|,$$<br>\n",
    " cujo máximo em $[2, 3]$ ocorre em $x = 2$, isto é, $|f''(x)| \\leq \\frac{1}{2^{2}ln(10)} = 0.108573620475813$ . Portanto,<br><br>\n",
    " $$e(2.4) \\leq \\frac{|(2.4-2)(2.4 - 3)|}{2!}\\cdot0.108573620475813 \\Rightarrow e(2.4) \\leq 1.302883445709756e-02.$$<br>\n",
    " Note que a cota máxima de erro, $1.302883445709756e-02$, é maior que o erro real,<br><br>\n",
    " $8.744742425352614e-03$, o que já era esperado."
   ]
  },
  {
   "cell_type": "markdown",
   "id": "c0698c5e",
   "metadata": {},
   "source": [
    "# <div style=\"margin-top: -20px;\">\n",
    "<hr style=\"border: 2px solid black;\">\n",
    "\n",
    "<font color='black'><span style=\"font-size: 22px;\"><strong>7.3 Implementações</strong></span></font>\n",
    "\n",
    "<hr style=\"border: 2px solid black;\">\n",
    "</div>"
   ]
  },
  {
   "cell_type": "markdown",
   "id": "1e195fab",
   "metadata": {},
   "source": [
    "***As implementações a seguir utilizam funções pré-definidas em vez de algoritmos passo a passo, como nos capítulos anteriores. Além disso, algumas dessas funções podem ser desconhecidas para nós. Em certos casos, recorremos ao GPT para exibi-las.***"
   ]
  },
  {
   "cell_type": "markdown",
   "id": "7cd60426",
   "metadata": {},
   "source": [
    "#### <font color='darkblue'> Código Python 1: Coeficientes do Polinômio de Lagrange e Avaliação Pontual</font>"
   ]
  },
  {
   "cell_type": "markdown",
   "id": "d16dce8a",
   "metadata": {},
   "source": [
    "Apresentamos a seguir um código que apresenta os coeficientes do polinômio de lagrange bem como a avaliação do mesmo em um ponto $x_{0}$:"
   ]
  },
  {
   "cell_type": "code",
   "execution_count": 2,
   "id": "714be7ce",
   "metadata": {
    "ExecuteTime": {
     "end_time": "2024-01-07T21:11:01.087436Z",
     "start_time": "2024-01-07T21:11:00.967317Z"
    }
   },
   "outputs": [],
   "source": [
    "import numpy as np\n",
    "\n",
    "def lgrg_coef(x, y, x0):\n",
    "    x0 = float(x0)\n",
    "\n",
    "    pol = np.polyfit(x, y, len(x) - 1)  # coeficientes do polinômio interpolador\n",
    "\n",
    "    # Impressão dos coeficientes\n",
    "    i = len(x)\n",
    "    print(f'Os coeficientes do polinômio interpolador de grau {i-1} são: ', end='')\n",
    "    for coefficient in pol:\n",
    "        if i > 1:\n",
    "            print(f'a{i-1} = {round(coefficient, 13)}', end=', ')\n",
    "        else:\n",
    "            print(f'a{i - 1} = {round(coefficient, 13)}', end='. ')\n",
    "        i -= 1\n",
    "\n",
    "    # Avaliação do polinômio interpolador em x0\n",
    "    print(f'\\nAlém disso, P({x0}) = {round(np.polyval(pol, x0), 13)}.\\n')"
   ]
  },
  {
   "cell_type": "code",
   "execution_count": 3,
   "id": "e74c97cd",
   "metadata": {
    "ExecuteTime": {
     "end_time": "2024-01-07T21:11:02.794775Z",
     "start_time": "2024-01-07T21:11:02.766110Z"
    }
   },
   "outputs": [
    {
     "name": "stdout",
     "output_type": "stream",
     "text": [
      "Os coeficientes do polinômio interpolador de grau 2 são: a2 = 0.05, a1 = -0.425, a0 = 1.15. \n",
      "Além disso, P(3.0) = 0.325.\n",
      "\n"
     ]
    }
   ],
   "source": [
    "# Exemplo de uso da função\n",
    "lgrg_coef([2, 2.5, 4], [0.5, 0.4, 0.25], 3.0)"
   ]
  },
  {
   "cell_type": "markdown",
   "id": "dd10cdd2",
   "metadata": {},
   "source": [
    "#### <font color='darkblue'> Código Python 2: Gráfico do Polinômio Interpolador</font>"
   ]
  },
  {
   "cell_type": "markdown",
   "id": "6346ae59",
   "metadata": {},
   "source": [
    "O código a seguir apresenta o esboço gráfico do polinômio de lagrange"
   ]
  },
  {
   "cell_type": "code",
   "execution_count": 4,
   "id": "caa4e657",
   "metadata": {
    "ExecuteTime": {
     "end_time": "2024-01-07T21:11:12.818563Z",
     "start_time": "2024-01-07T21:11:12.366322Z"
    }
   },
   "outputs": [],
   "source": [
    "import numpy as np\n",
    "import matplotlib.pyplot as plt\n",
    "\n",
    "def lgrg_graf(x, y, x0):\n",
    "    x0 = float(x0)\n",
    "    pol = np.polyfit(x, y, len(x) - 1)  # Coeficientes do polinômio interpolador\n",
    "\n",
    "    # Criação de um intervalo de pontos para plotar o polinômio\n",
    "    xx = np.linspace(min(x), max(x), 500)\n",
    "    yy = np.polyval(pol, xx)\n",
    "\n",
    "    # Plotagem do gráfico do polinômio interpolador\n",
    "    plt.figure(figsize=(8, 6))\n",
    "    plt.plot(xx, yy, label='Polinômio interpolador')\n",
    "    \n",
    "    # Plotagem dos pontos originais\n",
    "    plt.scatter(x, y, color='red', label='Pontos originais')\n",
    "\n",
    "    # Avaliação do polinômio interpolador em x0\n",
    "    y0 = np.polyval(pol, x0)\n",
    "    plt.scatter(x0, y0, color='green', label=f'P({x0}) = {round(y0, 2)}')\n",
    "\n",
    "    plt.title('Gráfico do Polinômio Interpolador de Lagrange')\n",
    "    plt.xlabel('x')\n",
    "    plt.ylabel('y')\n",
    "    plt.legend()\n",
    "    plt.grid(True)\n",
    "    plt.show()"
   ]
  },
  {
   "cell_type": "code",
   "execution_count": 5,
   "id": "3f2dbc01",
   "metadata": {
    "ExecuteTime": {
     "end_time": "2024-01-07T21:11:14.202632Z",
     "start_time": "2024-01-07T21:11:13.935162Z"
    }
   },
   "outputs": [
    {
     "data": {
      "image/png": "[encoded data removed]",
      "text/plain": [
       "<Figure size 800x600 with 1 Axes>"
      ]
     },
     "metadata": {},
     "output_type": "display_data"
    }
   ],
   "source": [
    "# Exemplo de uso da função\n",
    "lgrg_graf([2, 2.5, 4], [0.5, 0.4, 0.25], 3.0)"
   ]
  },
  {
   "cell_type": "markdown",
   "id": "463a1041",
   "metadata": {},
   "source": [
    "#### <font color='darkblue'> Código Python 3: Polinômio de Lagrange e Esboço Gráfico</font>"
   ]
  },
  {
   "cell_type": "markdown",
   "id": "9d81461c",
   "metadata": {},
   "source": [
    "O código a seguir atua como uma combinação dos códigos anteriores, exibindo o polinômio interpolador na forma usual\n",
    "\n",
    "$$P(x) = a_{n}x^{n} + a_{n-1}x^{n-1} + \\ldots + a_{1}x + a_{0}$$\n",
    "\n",
    "e realiza a avaliação de $P(x)$ em $x_{0}$, além de gerar seu esboço gráfico.\n"
   ]
  },
  {
   "cell_type": "code",
   "execution_count": 6,
   "id": "a8465191",
   "metadata": {
    "ExecuteTime": {
     "end_time": "2024-01-07T21:11:25.271009Z",
     "start_time": "2024-01-07T21:11:25.262428Z"
    }
   },
   "outputs": [],
   "source": [
    "import numpy as np\n",
    "import matplotlib.pyplot as plt\n",
    "\n",
    "def lagrange_geral(x, y, x0):\n",
    "    x0 = float(x0)\n",
    "    pol = np.polyfit(x, y, len(x) - 1)  # Coeficientes do polinômio interpolador\n",
    "\n",
    "    # Expressão do polinômio\n",
    "    pol_expr = 'P(x) = '\n",
    "    n = len(pol)\n",
    "    for i, coef in enumerate(pol):\n",
    "        if i < n - 1:\n",
    "            pol_expr += f'{coef:.2f}x^{n-i-1} + '\n",
    "        else:\n",
    "            pol_expr += f'{coef:.2f}'\n",
    "    print(pol_expr)\n",
    "\n",
    "    # Criação de um intervalo de pontos para plotar o polinômio\n",
    "    xx = np.linspace(min(x), max(x), 500)\n",
    "    yy = np.polyval(pol, xx)\n",
    "\n",
    "    # Plotagem do gráfico do polinômio interpolador\n",
    "    plt.figure(figsize=(8, 6))\n",
    "    plt.plot(xx, yy, label='Polinômio interpolador')\n",
    "\n",
    "    # Plotagem dos pontos originais\n",
    "    plt.scatter(x, y, color='red', label='Pontos originais')\n",
    "\n",
    "    # Avaliação do polinômio interpolador em x0\n",
    "    y0 = np.polyval(pol, x0)\n",
    "    plt.scatter(x0, y0, color='green', label=f'P({x0}) = {round(y0, 2)}')\n",
    "\n",
    "    plt.title('Gráfico do Polinômio Interpolador de Lagrange')\n",
    "    plt.xlabel('x')\n",
    "    plt.ylabel('y')\n",
    "    plt.legend()\n",
    "    plt.grid(True)\n",
    "    plt.show()"
   ]
  },
  {
   "cell_type": "code",
   "execution_count": 7,
   "id": "6c494e4d",
   "metadata": {
    "ExecuteTime": {
     "end_time": "2024-01-07T21:11:26.936596Z",
     "start_time": "2024-01-07T21:11:26.702079Z"
    }
   },
   "outputs": [
    {
     "name": "stdout",
     "output_type": "stream",
     "text": [
      "P(x) = 0.05x^2 + -0.43x^1 + 1.15\n"
     ]
    },
    {
     "data": {
      "image/png": "[encoded data removed]",
      "text/plain": [
       "<Figure size 800x600 with 1 Axes>"
      ]
     },
     "metadata": {},
     "output_type": "display_data"
    }
   ],
   "source": [
    "# Exemplo de uso da função\n",
    "lagrange_geral([2, 2.5, 4], [0.5, 0.4, 0.25], 3.0)"
   ]
  },
  {
   "cell_type": "markdown",
   "id": "e8c86a67",
   "metadata": {},
   "source": [
    "#### Observação 1"
   ]
  },
  {
   "cell_type": "markdown",
   "id": "c3d705d9",
   "metadata": {},
   "source": [
    "A interpolação só nos permite controlar o erro em se estimar um valor entre o menor e o maior valor da variável $x$ (neste caso $2$ e $4$). Nada de querer estimar $f(5)$ usando $P_{2,2.5}(x)$, $P_{2,4}(x)$, $P_{2,2.5,4}(x)$ ou $P_{2.5,4}(x)$, nem mesmo $f(4.0001)$. Consegue pensar em uma situação onde se estimar algo fora do intervalo adequado poderia acarretar grande diferença entre o valor estimado e o valor real? O que ocorreria com nossa estimativa se, por exemplo, $x = 4$ fosse um ponto de mínimo local de nossa função original $f$?"
   ]
  },
  {
   "cell_type": "markdown",
   "id": "2ff145f9",
   "metadata": {},
   "source": [
    "# <div style=\"margin-top: -20px;\">\n",
    "<hr style=\"border: 2px solid black;\">\n",
    "\n",
    "<font color='black'><span style=\"font-size: 22px;\"><strong>Exercícios</strong></span></font>\n",
    "\n",
    "<hr style=\"border: 2px solid black;\">\n",
    "</div>"
   ]
  },
  {
   "cell_type": "markdown",
   "id": "95126a90",
   "metadata": {},
   "source": [
    "#### Exercício 1"
   ]
  },
  {
   "cell_type": "markdown",
   "id": "e547973a",
   "metadata": {},
   "source": [
    "Consideremos uma curva com valores conhecidos conforme a tabela dada a seguir:\n",
    "\n",
    "$$\\begin{array}{cccccccccc}\n",
    "Indice\t& \t x   \t& f(x)   \t\t        \\\\\n",
    "0  \t\t& \t 8.0   \t& 2.225540928492467   \t\\\\\n",
    "1  \t\t& \t 8.2   \t& 2.270499837532406\t    \\\\\n",
    "2  \t\t& \t 8.4   \t& 2.316366976781092  \t\\\\\n",
    "3  \t\t& \t 8.6   \t& 2.363160693705795    \t\\\\\n",
    "4  \t\t& \t 8.8   \t& 2.410899706417210   \t\\\\\n",
    "\\end{array}$$\n",
    "\n",
    "Considerando $p_{i_{0},i_{1},\\ldots}(x)$ o polinômio que passa pelos pontos $x_{0},x_{1},\\ldots$ estime $f(8.5)$ a partir de:\n",
    "\n",
    "a) $p_{0,3}(x)$ $ \\ \\ \\ \\ \\ $ b) $p_{1,3}(x)$ $ \\ \\ \\ \\ \\ $ c) $p_{2,3}(x)$ $ \\ \\ \\ \\ \\ $ d) $p_{2,4}(x)$ $ \\ \\ \\ \\ \\ $ e) $p_{1,2,3}(x)$ $ \\ \\ \\ \\ \\ $ f) $p_{0,1,2,3}(x)$ $ \\ \\ \\ \\ \\ $ g) $p_{0,1,2,3,4}(x)$"
   ]
  },
  {
   "cell_type": "markdown",
   "id": "8386ab63",
   "metadata": {},
   "source": [
    "#### Exercício 2"
   ]
  },
  {
   "cell_type": "markdown",
   "id": "59b6f404",
   "metadata": {},
   "source": [
    "Sabendo que a função que deu origem aos dados do **Exercício 1** foi $f(x) = e^{0.1x}$ calcule o erro exato e uma cota superior para o erro **Teorema 4** para cada um dos itens a, b, ..., g."
   ]
  },
  {
   "cell_type": "markdown",
   "id": "35b0e587",
   "metadata": {},
   "source": [
    "#### Exercício 3"
   ]
  },
  {
   "cell_type": "markdown",
   "id": "69bb0bb5",
   "metadata": {},
   "source": [
    "Considere a função $f(x) = sen(x)$.\n",
    "\n",
    "a) Obtenha o polinômio interpolador de Lagrange de grau $2$ nos pontos $x_{0} = 0$, $x_{1} = \\frac{\\pi}{4}$, $x_{2} = \\frac{\\pi}{2}$;\n",
    "\n",
    "b) Use o polinômio interpolador para estimar $f\\left(\\frac{3\\pi}{8} \\right)$ e calcule o erro exato;\n",
    "\n",
    "c) Use o **Teorema 4** para apresentar uma cota superior para o erro ao estimar $f\\left(\\frac{3\\pi}{8}\\right)$."
   ]
  },
  {
   "cell_type": "markdown",
   "id": "a2c93d55",
   "metadata": {},
   "source": [
    "# <div style=\"margin-top: -20px;\">\n",
    "<hr style=\"border: 2px solid black;\">\n",
    "\n",
    "<font color='black'><span style=\"font-size: 22px;\"><strong>Respostas dos Exercícios</strong></span></font>\n",
    "\n",
    "<hr style=\"border: 2px solid black;\">\n",
    "</div>"
   ]
  },
  {
   "cell_type": "markdown",
   "id": "e40d5467",
   "metadata": {},
   "source": [
    "#### Resposta do Exercício 1"
   ]
  },
  {
   "cell_type": "markdown",
   "id": "5e8679a3",
   "metadata": {},
   "source": [
    "a) $2.34022406617024$, b) $2.339995479662448$, c) $2.339763835243443$, d) $2.340000159190121$, e) $2.339648013033941$, f) $2.33964686631724$, g) $2.339646851838978$"
   ]
  },
  {
   "cell_type": "markdown",
   "id": "ad213783",
   "metadata": {},
   "source": [
    "#### Resposta do Exercício 2"
   ]
  },
  {
   "cell_type": "markdown",
   "id": "9667c20c",
   "metadata": {},
   "source": [
    "a) $e(8.5) = 5.772142442488359e-04$, $E_{max}(8.5) = 5.907901734264466e-04$\n",
    "\n",
    "b) $e(8.5) = 3.486277364568302e-04$, $E_{max}(8.5) = 3.544741040558688e-04$\n",
    "\n",
    "c) $e(8.5) = 1.169833174516910e-04$, $E_{max}(8.5) = 1.181580346852889e-04$\n",
    "\n",
    "d) $e(8.5) = 3.533072641297430e-04$, $E_{max}(8.5) = 3.616349559625811e-04$\n",
    "\n",
    "e) $e(8.5) = 1.161107949787521e-06$, $E_{max}(8.5) = 1.181580346852892e-06$ \n",
    "\n",
    "f) $e(8.5) = 1.439124863722441e-08$, $E_{max}(8.5) = 1.476975433566115e-08$\n",
    "\n",
    "g) $e(8.5) = 8.701306342118187e-11$, $E_{max}(8.5) = 9.040873899064516e-10$"
   ]
  },
  {
   "cell_type": "markdown",
   "id": "ee6af66e",
   "metadata": {},
   "source": [
    "#### Resposta do Exercício 3"
   ]
  },
  {
   "cell_type": "markdown",
   "id": "70737b12",
   "metadata": {},
   "source": [
    "a) $p(x) = -0.335748867362810x^{2}+1.164012859946630x$\n",
    "\n",
    "b) $p\\left(\\frac{3\\pi}{8}\\right) = 0.905330085889910$, $e_{exato}\\left(\\frac{3\\pi}{8} \\right) = 1.854944662137670e-02$\n",
    "\n",
    "c) $E_{max}\\left(\\frac{3\\pi}{8} \\right) = 3.027956707060529e-02$."
   ]
  },
  {
   "cell_type": "markdown",
   "id": "312dabe8",
   "metadata": {},
   "source": [
    "# <div style=\"margin-top: -20px;\">\n",
    "<hr style=\"border: 2px solid black;\">\n",
    "\n",
    "<font color='black'><span style=\"font-size: 22px;\"><strong>Vídeo Aulas</strong></span></font>\n",
    "\n",
    "<hr style=\"border: 2px solid black;\">\n",
    "</div>"
   ]
  },
  {
   "cell_type": "markdown",
   "id": "2fe9e8c0",
   "metadata": {},
   "source": [
    "Clicando nos links a seguir você será redirecionado às aulas referentes a este capítulo:\n",
    "\n",
    "[Polinômios Como Aproximação de Funções](https://youtu.be/IMRH8Fcj8bE)\n",
    "\n",
    "[Polinômio de Lagrange](https://youtu.be/4BaeJPgN1fw)\n",
    "\n",
    "[Unicidade do Polinômio de Lagrange](https://youtu.be/JvS4Nv0k3Y4)\n",
    "\n",
    "[Estudo do Erro na Interpolação em Um Caso Particular](https://youtu.be/-3mBMEAKERw)\n",
    "\n",
    "[Cota Superior Para o Erro na Interpolação de Lagrange](https://youtu.be/r3TpS05dKU4)"
   ]
  }
 ],
 "metadata": {
  "kernelspec": {
   "display_name": "Python 3 (ipykernel)",
   "language": "python",
   "name": "python3"
  },
  "language_info": {
   "codemirror_mode": {
    "name": "ipython",
    "version": 3
   },
   "file_extension": ".py",
   "mimetype": "text/x-python",
   "name": "python",
   "nbconvert_exporter": "python",
   "pygments_lexer": "ipython3",
   "version": "3.11.5"
  },
  "varInspector": {
   "cols": {
    "lenName": 16,
    "lenType": 16,
    "lenVar": 40
   },
   "kernels_config": {
    "python": {
     "delete_cmd_postfix": "",
     "delete_cmd_prefix": "del ",
     "library": "var_list.py",
     "varRefreshCmd": "print(var_dic_list())"
    },
    "r": {
     "delete_cmd_postfix": ") ",
     "delete_cmd_prefix": "rm(",
     "library": "var_list.r",
     "varRefreshCmd": "cat(var_dic_list()) "
    }
   },
   "types_to_exclude": [
    "module",
    "function",
    "builtin_function_or_method",
    "instance",
    "_Feature"
   ],
   "window_display": false
  }
 },
 "nbformat": 4,
 "nbformat_minor": 5
}
