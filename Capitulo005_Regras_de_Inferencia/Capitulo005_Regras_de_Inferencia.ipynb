{
 "cells": [
  {
   "cell_type": "markdown",
   "id": "de40f19b",
   "metadata": {},
   "source": [
    "<center> <img src=\"logo_ifba.jpg\" alt=\"jpg_python\" width=\"100\" height=\"200\"> </center>\n",
    "<br><br>\n",
    "<div align=\"center\"><span style=\"font-size: 26px;\"><strong>Matemática Discreta I <br></strong></span></div> <br>\n",
    "<center> <img src=\"python_gif.gif\" alt=\"gif_python\" width=\"80\"> </center>"
   ]
  },
  {
   "cell_type": "markdown",
   "id": "52af9bb6",
   "metadata": {},
   "source": [
    "<div style=\"border: 2px solid black; padding: 10px; width: 95%; background-color: lightgray; display: flex; align-items: center;\">\n",
    "    <h1 style=\"color: red; text-align: center; margin: auto;\">\n",
    "        Capítulo 5: Regras de Inferência\n",
    "    </h1>\n",
    "</div>\n",
    "\n",
    "<font color='red'></font>\n",
    "<a href=\"\"></a>"
   ]
  },
  {
   "cell_type": "markdown",
   "id": "0c2310e1",
   "metadata": {},
   "source": [
    "Regras de inferência são regras de transformação sintáticas que podem ser usadas para inferir uma conclusão a partir de uma premissa, para criar um argumento. Um conjunto de regras pode ser usada para inferir qualquer conclusão válida, se esta conclusão for completa."
   ]
  },
  {
   "cell_type": "markdown",
   "id": "4bcf7343",
   "metadata": {},
   "source": [
    "# <div style=\"margin-top: -20px;\">\n",
    "<hr style=\"border: 2px solid black;\">\n",
    "\n",
    "<font color='black'><span style=\"font-size: 22px;\"><strong>5.1 Argumentos Válidos em Lógica Proposicional</strong></span></font>\n",
    "\n",
    "<hr style=\"border: 2px solid black;\">\n",
    "</div>"
   ]
  },
  {
   "cell_type": "markdown",
   "id": "24b599c3",
   "metadata": {},
   "source": [
    " Considere a seguinte argumentação que envolve uma sequência de proposições:\n",
    " \n",
    "\"Se João possui um carro, então João poderá viajar para sua cidade.\"\n",
    "\n",
    "\"João possui um carro.\"\n",
    "\n",
    "Portanto,\n",
    "\n",
    "\"João poderá viajar para sua cidade.\""
   ]
  },
  {
   "cell_type": "markdown",
   "id": "baa05b57",
   "metadata": {},
   "source": [
    "Gostaríamos de determinar se o argumento apresentado é válido, isto é, saber se a conclusão \"João poderá viajar para sua cidade\" será verdadeira caso as premissas \"Se João possui um carro, então João poderá viajar para sua cidade\" e \"João possui um carro\" também sejam verdadeiras. Em símbolos lógicos, podemos escrever a sequência de argumentos da seguinte forma:\n",
    "\n",
    "$p \\rightarrow q$<br> \n",
    "$p$<br>\n",
    "$\\rule{1cm} {0.2mm}$<br>\n",
    "$\\therefore q$\n",
    "\n"
   ]
  },
  {
   "cell_type": "markdown",
   "id": "67346109",
   "metadata": {},
   "source": [
    "Note que, se $p$ e $q$ são variáveis proposicionais com valores verdade quaisquer, então a sentença $((p \\rightarrow q) \\wedge p) \\rightarrow q$ é uma tautologia (verifique!). Em particular, quando $p \\rightarrow q$ e $p$ são verdadeiras, sabemos que $q$ também deve ser. Dizemos que essa é uma **forma válida** de argumento pois, sempre que todas as premissas (exceto a última) são verdadeiras, a conclusão também deve ser (agora sim, a última)."
   ]
  },
  {
   "cell_type": "markdown",
   "id": "a5b8b87d",
   "metadata": {},
   "source": [
    "Agora, suponhamos, no argumento anterior que a premissa $p \\rightarrow q$ fosse falsa, isto é, \"Se João possui um carro, então João poderá viajar para sua cidade\" é uma premissa falsa (chamada de primeira premissa). Neste caso, ainda teríamos um argumento válido, contudo não podemos decidir se a conclusão é verdadeira."
   ]
  },
  {
   "cell_type": "markdown",
   "id": "e1250d2a",
   "metadata": {},
   "source": [
    "#### <font color='red'> Definição 1 </font>"
   ]
  },
  {
   "cell_type": "markdown",
   "id": "32de13cd",
   "metadata": {},
   "source": [
    "<font color='red'> Uma **argumento** em lógica proposicional é uma sequência de proposições. Todas, menos a última das proposições, são chamadas de **premissas**, e a última é chamada de conclusão. Um argumento é **válido** se a veracidade das premissas implica que a conclusão seja verdadeira."
   ]
  },
  {
   "cell_type": "markdown",
   "id": "79e2d1dd",
   "metadata": {},
   "source": [
    "#### <font color='red'> Definição 2 </font>"
   ]
  },
  {
   "cell_type": "markdown",
   "id": "52210a3b",
   "metadata": {},
   "source": [
    "<font color='red'> Uma **forma de argumento** em lógica proposicional é a sequência de proposições compostas que envolvem variáveis proposicionais. Uma forma de argumento é **válida** quaisquer que sejam as proposições substituídas nas variáveis proposicionais em suas sentenças; a conclusão é verdadeira se as premissas forem todas verdadeiras."
   ]
  },
  {
   "cell_type": "markdown",
   "id": "6bb0406c",
   "metadata": {},
   "source": [
    "Decorre da Definição 3 que uma forma de argumento com premissas $p_{1}, p_{2},\\ldots, p_{n}$ e conclusão $q$ é válida, quando $(p_{1} \\wedge p_{2} \\wedge \\ldots \\wedge p_{n}) \\rightarrow q$ é uma tautologia."
   ]
  },
  {
   "cell_type": "markdown",
   "id": "78700c11",
   "metadata": {},
   "source": [
    "# <div style=\"margin-top: -20px;\">\n",
    "<hr style=\"border: 2px solid black;\">\n",
    "\n",
    "<font color='black'><span style=\"font-size: 22px;\"><strong>5.2 Regras de Inferência Para a Lógica Proposicional</strong></span></font>\n",
    "\n",
    "<hr style=\"border: 2px solid black;\">\n",
    "</div>"
   ]
  },
  {
   "cell_type": "markdown",
   "id": "b32731d7",
   "metadata": {},
   "source": [
    "#### O inconveniente das tabelas-verdade"
   ]
  },
  {
   "cell_type": "markdown",
   "id": "987efa40",
   "metadata": {},
   "source": [
    "Podemos sempre usar tabela-verdade para mostrar que uma forma de argumento é válida. Contudo, à medida que o número variáveis proposicionais aumenta, o número de linhas da tabela-verdade associada aumenta significativamente (dobrando a cada variável proposicional). Em particular, uma forma de argumento com $10$ variáveis proposicionais possui $2^{10} = 1024$ linhas. Se tivéssemos $11$ variáveis proposicionais ao invés de $10$ nossa tabela-verdade teria $2^{11} = 2048$ linhas. Para resolvermos este problema de uma maneira menos penosa desenvolveremos algumas formas de argumento relativamente simples chamadas **regras de inferência**. Por meio destas, usadas em conjunto, conseguiremos mostrar que uma forma de argumento é válida com relativa facilidade."
   ]
  },
  {
   "cell_type": "markdown",
   "id": "dbab01e4",
   "metadata": {},
   "source": [
    "#### Primeira regra de inferência"
   ]
  },
  {
   "cell_type": "markdown",
   "id": "b994bf28",
   "metadata": {},
   "source": [
    "A tautologia $(p \\wedge (p \\rightarrow q)) \\rightarrow q$ é a base da regra de inferência chamada **modus ponens** (modo que afirma), ou propriedade do destacamento. Em símbolos:\n",
    "\n",
    "$p$<br>\n",
    "$p \\rightarrow q$<br>\n",
    "$\\rule{1cm} {0.2mm}$<br>\n",
    "$\\therefore q$\n",
    "\n",
    "A regra de inferência modus ponens segue a ideia de que, se uma sentença condicional e a hipótese dessa condicional são verdadeiras, então a conclusão também deve ser verdadeira. A tabela verdade a seguir mostra a validade da regra modus ponens ($p, p \\rightarrow q \\vdash q)$:"
   ]
  },
  {
   "cell_type": "markdown",
   "id": "df36d0ef",
   "metadata": {},
   "source": [
    "<center>\n",
    "\\begin{array}{|c|c|c|c|c|}\n",
    "\\hline\n",
    "p\t& q & p \\rightarrow q  & p \\wedge (p \\rightarrow q) & (p \\wedge (p \\rightarrow q)) \\rightarrow q  \\\\\n",
    "\\hline\n",
    "V\t& V & V & V & V \\\\\n",
    "\\hline\n",
    "V\t& F & F & F & V \\\\\n",
    "\\hline\n",
    "F\t& V & V & F & V \\\\\n",
    "\\hline\n",
    "F\t& F & V & F & V \\\\\n",
    "\\hline\n",
    "\\end{array}\n",
    "</center>\n"
   ]
  },
  {
   "cell_type": "markdown",
   "id": "f2d395c4",
   "metadata": {},
   "source": [
    "#### <font color='blue'> Exemplo 1 </font>"
   ]
  },
  {
   "cell_type": "markdown",
   "id": "537053bc",
   "metadata": {},
   "source": [
    "<font color='blue'> Suponha que a sentença condicional \"$p \\rightarrow q$: Se chover hoje, então usarei o guarda-chuva\" e sua hipótese, $p$: \"Está chovendo hoje\" são verdadeiras. Então, por modus ponens, segue que a conclusão condicional $q$: \"Usarei o guarda-chuva hoje\" é verdadeira."
   ]
  },
  {
   "cell_type": "markdown",
   "id": "c512f4cc",
   "metadata": {},
   "source": [
    "#### Observação"
   ]
  },
  {
   "cell_type": "markdown",
   "id": "46c92b02",
   "metadata": {},
   "source": [
    "Note que, a ordem com que as premissas são apresentadas em um argumento não interfere na sua validade. No Exemplo 1 a regra modus ponens foi usada como segue\n",
    "\n",
    "$p \\rightarrow q$<br>\n",
    "$p$<br>\n",
    "$\\rule{1cm} {0.2mm}$<br>\n",
    "$\\therefore q$\n",
    "\n",
    "o que claramente é equivalente a\n",
    "\n",
    "$p$<br>\n",
    "$p \\rightarrow q$<br>\n",
    "$\\rule{1cm} {0.2mm}$<br>\n",
    "$\\therefore q$\n",
    "\n",
    "pois, $p \\wedge (p \\rightarrow q) \\equiv (p \\rightarrow q) \\wedge p$."
   ]
  },
  {
   "cell_type": "markdown",
   "id": "a5ed9354",
   "metadata": {},
   "source": [
    "#### <font color='blue'> Exemplo 2 </font>"
   ]
  },
  {
   "cell_type": "markdown",
   "id": "2d9aa7d0",
   "metadata": {},
   "source": [
    "<font color='blue'> Devemos tomar cuidado para não inferirmos que a conclusão de um argumento válido seja verdadeira caso algumas de suas premissas forem falsas. Considere o argumento a seguir:"
   ]
  },
  {
   "cell_type": "markdown",
   "id": "3cac6b49",
   "metadata": {},
   "source": [
    "<font color='blue'> Consideremos o seguinte argumento:<br><br>\n",
    "\"Se $\\sqrt{2} > \\frac{3}{2}$, então $\\left(\\sqrt{2}\\right)^{2} > \\left(\\frac{3}{2}\\right)^{2}$. Sabemos que $\\sqrt{2} > \\frac{3}{2}$. Consequentemente, $\\left(\\sqrt{2}\\right)^{2} = 2 > \\left(\\frac{3}{2}\\right)^{2} = \\frac{9}{4}$.\"<br><br>\n",
    "Note que o argumento apresentado é válido segundo a regra de inferência modus ponens. Contudo, a conclusão $\\left(\\sqrt{2}\\right)^{2} > \\left(\\frac{3}{2}\\right)^{2}$ é falsa, pois $2 < \\frac{9}{4}$. Em particular, a condicional dada apresenta valor-verdade verdadeiro uma vez que temos $F \\rightarrow F$."
   ]
  },
  {
   "cell_type": "markdown",
   "id": "79958e7f",
   "metadata": {},
   "source": [
    "####  <font color='red'> Tabela de Regras de Inferência </font>"
   ]
  },
  {
   "cell_type": "markdown",
   "id": "abfeb503",
   "metadata": {},
   "source": [
    "A seguir apresentaremos as principais regras de inferência para a lógica proposicional."
   ]
  },
  {
   "cell_type": "markdown",
   "id": "fe8b2141",
   "metadata": {},
   "source": [
    "<font color='red'><center> \\begin{array}{|c|c|c|}\n",
    "\\hline\n",
    "Regra \\ de \\ Inferência & Tautologia & Nome \\\\\n",
    "\\hline\n",
    "p, p\\rightarrow q \\vdash q & (p \\wedge (p \\rightarrow q)) \\rightarrow q & Modus \\ Ponens \\\\\n",
    "\\hline\n",
    "\\neg q, p\\rightarrow q \\vdash \\neg p & (\\neg q \\wedge (p \\rightarrow q)) \\rightarrow \\neg p & Modus \\ Tollens \\\\\n",
    "\\hline\n",
    "p \\rightarrow q, q \\rightarrow r \\vdash p \\rightarrow r & ((p \\rightarrow q) \\wedge (q \\rightarrow r)) \\rightarrow (p \\rightarrow r) & Silogismo \\ Hipotético \\\\\n",
    "\\hline\n",
    "p \\vee q, \\neg p \\vdash q & ((p \\vee q) \\wedge \\neg p) \\rightarrow q & Silogismo \\ Disjuntivo\\\\\n",
    "\\hline\n",
    "p \\vdash p \\vee q & p \\rightarrow (p \\vee q) & Adição \\\\\n",
    "\\hline\n",
    "p \\wedge q \\vdash p & (p \\wedge q) \\rightarrow p & Simplificação\\\\\n",
    "\\hline\n",
    "p, q \\vdash p \\wedge q & (p \\wedge q) \\rightarrow (p \\wedge q) & Conjunção \\\\\n",
    "\\hline\n",
    "p \\vee q, \\neg p \\vee r \\vdash q \\vee r & ((p \\vee q) \\wedge (\\neg p \\vee r)) \\rightarrow (q \\vee r) & Resolução\\\\\n",
    "\\hline\n",
    "\\end{array} </center> </font>"
   ]
  },
  {
   "cell_type": "markdown",
   "id": "d55de852",
   "metadata": {},
   "source": [
    "#### <font color='blue'> Exemplo 3 </font>"
   ]
  },
  {
   "cell_type": "markdown",
   "id": "f1275418",
   "metadata": {},
   "source": [
    "<font color='blue'> Determine qual regra de inferência é a base do seguinte argumento: \"Está ventando muito agora. Portanto, está ventando muito ou está chovendo agora.\""
   ]
  },
  {
   "cell_type": "markdown",
   "id": "9469a5f6",
   "metadata": {},
   "source": [
    "<font color='blue'> **Solução**: Temos as proposições simples, $p$: \"Está ventando muito agora.\" e $q$: \"Está chovendo agora\". O argumento dado, em símbolos, fica na seguinte forma:<br><br>\n",
    "$p$<br>\n",
    "$\\color{blue}{\\rule{1cm} {0.2mm}}$<br>\n",
    "$\\therefore p \\vee q$<br><br>\n",
    "Nota-se facilmente que este argumento usa a regra da adição."
   ]
  },
  {
   "cell_type": "markdown",
   "id": "b00629c1",
   "metadata": {},
   "source": [
    "#### <font color='blue'> Exemplo 4 </font>"
   ]
  },
  {
   "cell_type": "markdown",
   "id": "e1fa4564",
   "metadata": {},
   "source": [
    "<font color='blue'> Determine qual regra de inferência é a base do seguinte argumento: \"Se não chover hoje eu sairei de casa. Se eu sair de casa hoje, então irei trabalhar. Portanto, se não chover hoje, eu irei trabalhar.\""
   ]
  },
  {
   "cell_type": "markdown",
   "id": "d53b2ea3",
   "metadata": {},
   "source": [
    "<font color='blue'> **Solução**: Temos as proposições simples, $p$: \"Está chovendo hoje\", $q$: \"Sairei de casa hoje\" e $r$: \"Irei trabalhar hoje\". O argumento dado, em símbolos, fica na seguinte forma:<br><br>\n",
    "$p \\rightarrow q$<br>\n",
    "$q \\rightarrow r$<br>\n",
    "$\\color{blue}{\\rule{1cm} {0.2mm}}$<br>\n",
    "$\\therefore p \\rightarrow r$<br><br>\n",
    "Nota-se facilmente que este argumento usa a regra do silogismo hipotético."
   ]
  },
  {
   "cell_type": "markdown",
   "id": "bf731497",
   "metadata": {},
   "source": [
    "#### <font color='blue'> Exemplo 5 </font>"
   ]
  },
  {
   "cell_type": "markdown",
   "id": "cca992cb",
   "metadata": {},
   "source": [
    "<font color='blue'> Mostre que as hipóteses \"Não está ensolarada esta tarde e está mais frio que ontem\", \"Se vamos nadar, então está ensolarado\", \"Se não formos nadar, então vamos fazer um passei de barco\" e \"Se fizermos um passei de barco, então estaremos em casa ao anoitecer\" nos levam à conclusão \"Estaremos em casa ao anoitecer\"."
   ]
  },
  {
   "cell_type": "markdown",
   "id": "8b23ee9a",
   "metadata": {},
   "source": [
    "<font color='blue'> **Solução**: Identifiquemos as proposições $p$: \"Não está ensolarada esta tarde\", $q$: \"Está mais frio que ontem\", $r$: \"Vamos nadar\", $s$: \"Vamos fazer um passei de barco\" e $t$: \"Estaremos em casa ao anoitecer\".<br><br>\n",
    "    <center>\\begin{array}{ccc} \n",
    "\\textbf{Passo}\t& \\textbf{Simbologia}& \\textbf{Razão}\\\\\n",
    "1. & \\neg p \\wedge q \t& hipótese \\\\\n",
    "2. & \\neg p\t& simplificação \\ de \\ (1) \\\\\n",
    "3. & r \\rightarrow p\t& hipótese \\\\\n",
    "4. & \\neg r\t& modus \\ tollens \\ usando \\ (2), \\ (3) \\\\\n",
    "5. & \\neg r \\rightarrow s\t& hipótese \\\\\n",
    "6. & s\t& modus \\ ponens \\ usando \\ (4)  \\ e  \\ (5) \\\\\n",
    "7. & s \\rightarrow t\t& hipótese  \\\\\n",
    "8. & t\t& modus \\ ponens \\ usando \\ (6) \\ e \\ (7) \\\\\n",
    "\\end{array}\n",
    "    </center><br>\n",
    " Portanto, obtemos a conclusão \"Estaremos em casa ao anoitecer\" a partir das premissas dadas."
   ]
  },
  {
   "cell_type": "markdown",
   "id": "1329eca8",
   "metadata": {},
   "source": [
    "#### <font color='blue'> Exemplo 6 </font>"
   ]
  },
  {
   "cell_type": "markdown",
   "id": "9c4a21b1",
   "metadata": {},
   "source": [
    "<font color='blue'> Use a regra da resolução para mostrar que as hipóteses \"João está trabalhando ou não está chovendo\" e \"Está chovendo ou Maria está fazendo compras\" implicam que \"João está trabalhando ou Maria está cozinhando\"."
   ]
  },
  {
   "cell_type": "markdown",
   "id": "1a32d945",
   "metadata": {},
   "source": [
    "<font color='blue'> **Solução**: Primeiro identifiquemos as proposições: $p$: \"Está chovendo\" , $q$: \"João está trabalhando\" e $r$: \"Maria está fazendo compras\". Escrevendo o argumento dado em linguagem lógica, temos:<br><br>\n",
    "$$((q \\vee \\neg p)) \\wedge ((\\neg p \\vee r)) \\rightarrow (q \\vee r) \\equiv ((\\neg p \\vee q)) \\wedge ((\\neg p \\vee r)) \\rightarrow (q \\vee r)$$<br>\n",
    "Em simbologia argumentativa, temos:<br><br>\n",
    "$p \\vee q$<br>\n",
    "$\\neg p \\vee r$<br>\n",
    "$\\color{blue}{\\rule{1cm} {0.2mm}}$<br>\n",
    "$\\therefore q \\vee r$<br><br>\n",
    "Logo, pela regra da resolução que a conclusão é verdadeira."
   ]
  },
  {
   "cell_type": "markdown",
   "id": "b6881d3d",
   "metadata": {},
   "source": [
    "#### <font color='blue'> Exemplo 7 </font>"
   ]
  },
  {
   "cell_type": "markdown",
   "id": "9e144504",
   "metadata": {},
   "source": [
    "<font color='blue'> Mostre que as hipóteses $((p \\wedge q) \\vee r)$ e $r \\rightarrow s$ implicam a conclusão $p \\vee s$."
   ]
  },
  {
   "cell_type": "markdown",
   "id": "8b1a7404",
   "metadata": {},
   "source": [
    "<font color='blue'> **Solução**: Vejamos os passos:<br><br> \n",
    "    <center>\\begin{array}{ccc} \n",
    "\\textbf{Passo}\t& \\textbf{Simbologia}& \\textbf{Razão}\\\\\n",
    "1. & (p \\wedge q) \\vee r \t& hipótese \\\\\n",
    "2. & (p \\vee r) \\wedge (q \\vee r)\t& propriedade \\ distributiva \\ em \\ (1) \\\\\n",
    "3. & p \\vee r\t& simplificação \\ de \\ (2) \\\\\n",
    "4. & r \\vee p   & propriedade \\ comutativa \\ em \\ (3) \\\\\n",
    "5. & r \\rightarrow s\t& hipótese \\\\\n",
    "6. & \\neg r \\vee s\t& equivalência \\ com \\ (5) \\\\\n",
    "7. & p \\vee s\t& resolução \\ usando \\ (4) \\ e \\ (6) \\\\\n",
    "        \\end{array} </center><br>\n",
    "  Portanto, obtemos a conclusão \"$p \\vee s$\" a partir das premissas $((p \\wedge q) \\vee r)$ e $r \\rightarrow s$."
   ]
  },
  {
   "cell_type": "markdown",
   "id": "29fe89d3",
   "metadata": {},
   "source": [
    "# <div style=\"margin-top: -20px;\">\n",
    "<hr style=\"border: 2px solid black;\">\n",
    "\n",
    "<font color='black'><span style=\"font-size: 22px;\"><strong>5.3 Regras de Inferência Envolvendo Quantificadores</strong></span></font>\n",
    "\n",
    "<hr style=\"border: 2px solid black;\">\n",
    "</div>"
   ]
  },
  {
   "cell_type": "markdown",
   "id": "94094729",
   "metadata": {},
   "source": [
    "#### <font color='red'> Instanciação Universal</font>"
   ]
  },
  {
   "cell_type": "markdown",
   "id": "7fd565e8",
   "metadata": {},
   "source": [
    "<font color='red'> Regra de inferência usada para concluir que $P(c)$ é verdadeira, em que $c$ é um elemento particular do domínio, dada a premissa $\\forall x P(x)$.<br><br>\n",
    " Em símbolos:<br><br>\n",
    " $\\forall xP(x)$<br>\n",
    " $\\color{red}{\\rule{1.3cm} {0.2mm}}$<br>\n",
    " $\\therefore P(c)$"
   ]
  },
  {
   "cell_type": "markdown",
   "id": "3e4ecaef",
   "metadata": {},
   "source": [
    "#### <font color='blue'> Exemplo 8 </font>"
   ]
  },
  {
   "cell_type": "markdown",
   "id": "4e2e721f",
   "metadata": {},
   "source": [
    "<font color='blue'> Um argumento no qual se usa a instanciação universal é o seguinte: \"Toda mulher é discreta. Maria é uma mulher. Por isso, Maria é discreta\". De fato, se considerarmos Maria como sendo um elemento $c$ do conjunto de todas as mulheres e sendo $P(x)$ verdadeira para todos os elementos $x$ deste conjunto, temos que $P(c)$ deve ser verdadeira."
   ]
  },
  {
   "cell_type": "markdown",
   "id": "b39e2b2b",
   "metadata": {},
   "source": [
    "#### <font color='blue'> Exemplo 9 </font>"
   ]
  },
  {
   "cell_type": "markdown",
   "id": "0897f3a8",
   "metadata": {},
   "source": [
    "<font color='blue'> Mostre que as premissas \"Todos os alunos da classe de Matemática Discreta I estão tendo uma disciplina do curso de Bacharelado e Sistemas da Informação\" e \"Maria é uma estudante desta classe\" implicam a conclusão \"Maria está frequentando um curso de Bacharelado e Sistemas da Informação\"."
   ]
  },
  {
   "cell_type": "markdown",
   "id": "f7489f42",
   "metadata": {},
   "source": [
    "<font color='blue'> **Solução**: Seja $D(x)$ a sentença \"$x$ está na classe de Matemática Discreta I\" e seja $B(x)$ a sentença \"$x$ está frequentando um curso de Bacharelado e Sistema da Informação\". Então temos as premissas $\\forall x(D(x) \\rightarrow B(x))$ e $D($Maria$)$. E a conclusão é $C($Maria$)$. Consideremos os seguintes passos:<br><br>\n",
    "    <center>\\begin{array}{ccc} \n",
    "\\textbf{Passo}\t& \\textbf{Simbologia}& \\textbf{Razão}\\\\\n",
    "1. & \\forall x(D(x) \\rightarrow B(x)) \t& premissa \\\\\n",
    "2. & \\forall x(D(Maria) \\rightarrow B(Maria))\t& instanciação \\ universal \\ de \\ (1) \\\\\n",
    "3. & D(Maria)\t& premissa \\\\\n",
    "4. & C(Maria) & modus \\ ponens \\ a \\ partir \\ de \\ (2) \\ e \\ (3) \\\\\n",
    "\\end{array}\n",
    "   </center>"
   ]
  },
  {
   "cell_type": "markdown",
   "id": "b6c6c6f8",
   "metadata": {
    "ExecuteTime": {
     "end_time": "2023-07-17T14:57:58.994292Z",
     "start_time": "2023-07-17T14:57:58.989304Z"
    }
   },
   "source": [
    "#### <font color='red'> Generalização Universal</font>"
   ]
  },
  {
   "cell_type": "markdown",
   "id": "4657b2fe",
   "metadata": {},
   "source": [
    "<font color='red'> Regra de inferência que diz que $\\forall x P(x)$ é verdadeira, dada como premissa $P(c)$ é verdadeira para todos os elementos $c$ do domínio. Em símbolos: <br><br>\n",
    " $P(c)$ para um $c$ arbitrário<br>\n",
    " $\\color{red}{\\rule{4.2cm} {0.2mm}}$<br>\n",
    " $\\therefore \\forall xP(x)$}"
   ]
  },
  {
   "cell_type": "markdown",
   "id": "e1c61ab8",
   "metadata": {},
   "source": [
    "#### <font color='blue'> Exemplo 10 </font>"
   ]
  },
  {
   "cell_type": "markdown",
   "id": "965191c2",
   "metadata": {},
   "source": [
    "<font color='blue'> Um argumento no qual se usa a generalização universal é o seguinte: \"Se observarmos um homem arbitrário perceberemos que este tem um coração. Logo, todo homem tem um coração.\""
   ]
  },
  {
   "cell_type": "markdown",
   "id": "7155a1b1",
   "metadata": {},
   "source": [
    "#### <font color='blue'> Exemplo 11 </font>"
   ]
  },
  {
   "cell_type": "markdown",
   "id": "798fd5b7",
   "metadata": {},
   "source": [
    "<font color='blue'> Use a generalização universal para mostrar que a proposição \"O quadrado de um número inteiro par é também um número par\". Use o seguinte a seguinte definição: Um número natural $n$ é dito par se puder ser escrito sob a forma $n=2k$, em que $k$ é um inteiro."
   ]
  },
  {
   "cell_type": "markdown",
   "id": "9f022d11",
   "metadata": {},
   "source": [
    "<font color='blue'> **Solução**: Tomemos um número inteiro par arbitrário $n$. Sendo $n$ um número par podemos escrevê-lo sob a forma $n = 2k$ com $k$ inteiro. Elevando ambos os membros da equação anterior ao quadrado, temos que<br><br>\n",
    "$$n^{2} = (2k)^{2} = 4k^{2} = 2\\cdot 2k^{2} = 2 \\cdot k'$$<br>\n",
    "com $k' = 2k^{2}$. Como $k$ é inteiro, temos que $2k^{2}$ é inteiro, pois este conjunto é fechado para o produto (isto é, o produto de inteiros é inteiro). Sendo assim, $n^{2} = 2k'$ em que $k'$ é inteiro. Portando, $n^{2}$ é par como queríamos demonstrar."
   ]
  },
  {
   "cell_type": "markdown",
   "id": "f04f2abc",
   "metadata": {},
   "source": [
    "#### <font color='red'> Instanciação Existencial</font>"
   ]
  },
  {
   "cell_type": "markdown",
   "id": "a157c79d",
   "metadata": {},
   "source": [
    "<font color='red'> Regra de inferência que nos permite concluir que existe um elemento $c$ no domínio para o qual $P(c)$ é verdadeira se sabemos que $\\exists x P(x)$ é verdadeira. Note que $c$ não é arbitrário. Em símbolos:<br><br>\n",
    "$\\exists xP(x)$<br>\n",
    "$\\color{red}{\\rule{1.3cm} {0.2mm}}$<br>\n",
    "$\\therefore P(c)$ para algum elemento $c$"
   ]
  },
  {
   "cell_type": "markdown",
   "id": "0d1f9b0e",
   "metadata": {},
   "source": [
    "#### <font color='blue'> Exemplo 12 </font>"
   ]
  },
  {
   "cell_type": "markdown",
   "id": "c9fb40a4",
   "metadata": {},
   "source": [
    "<font color='blue'> Um argumento no qual se usa a instanciação existencial é o seguinte: ``Existem gatos ferozes. Seja $c$ um gato feroz.\""
   ]
  },
  {
   "cell_type": "markdown",
   "id": "8a89ddec",
   "metadata": {},
   "source": [
    "#### <font color='red'> Generalização Existencial</font>"
   ]
  },
  {
   "cell_type": "markdown",
   "id": "f7adf342",
   "metadata": {},
   "source": [
    "<font color='red'> Regra de inferência que é usada para concluir que $\\exists x P(x)$ é verdadeira quando um elemento particular $c$ com $P(c)$ verdadeira é conhecido. Em símbolos:<br><br>\n",
    "$P(c)$ para algum $c$<br>\n",
    "$\\color{red}{\\rule{3.1cm} {0.2mm}}$<br>\n",
    "$\\therefore \\exists xP(x)$\n",
    "\t"
   ]
  },
  {
   "cell_type": "markdown",
   "id": "6b152c83",
   "metadata": {
    "ExecuteTime": {
     "end_time": "2023-07-17T15:07:42.824986Z",
     "start_time": "2023-07-17T15:07:42.819999Z"
    }
   },
   "source": [
    "#### <font color='blue'> Exemplo 13 </font>"
   ]
  },
  {
   "cell_type": "markdown",
   "id": "5c2060b3",
   "metadata": {},
   "source": [
    "<font color='blue'> Um argumento no qual se usa a generalização existencial é o seguinte: \"Pan ama abanar sua cauda. Logo, algo gosta de abanar a cauda.\""
   ]
  },
  {
   "cell_type": "markdown",
   "id": "fe7e820c",
   "metadata": {
    "ExecuteTime": {
     "end_time": "2023-07-17T15:08:30.453597Z",
     "start_time": "2023-07-17T15:08:30.450643Z"
    }
   },
   "source": [
    "#### <font color='blue'> Exemplo 14 </font>"
   ]
  },
  {
   "cell_type": "markdown",
   "id": "990be332",
   "metadata": {},
   "source": [
    "<font color='blue'> Mostre que as premissas \"Um estudante desta classe não tem lido o livro\" e \"Todos nesta classe passaram na primeira prova\" implicam a conclusão \"Alguém passou na primeira prova sem ter lido o livro\"."
   ]
  },
  {
   "cell_type": "markdown",
   "id": "2089e0cf",
   "metadata": {},
   "source": [
    "<font color='blue'> **Solução**: Seja $C(x)$ a sentença \"$x$ está nesta classe\" e $L(x)$ a sentença \"$x$ tem lido o livro\" e $P(x)$ a sentença \"$x$ passou no primeiro exame\". As premissas são $\\exists x(C(x) \\wedge \\neg L(x))$ e $\\forall x(C(x) \\rightarrow P(x))$. A conclusão é $\\exists x(P(x) \\wedge \\neg L(x))$. Consideremos os seguintes passos:<br><br>\n",
    "  <center>\\begin{array}{ccc} \n",
    "\\textbf{Passo}\t& \\textbf{Simbologia}& \\textbf{Razão}\\\\\n",
    "1. & \\exists x(C(x) \\wedge \\neg L(x)) \t& premissa \\\\\n",
    "2. & C(a) \\wedge \\neg L(a))\t& instanciação \\ existencial \\ a \\ partir \\ de \\ (1)\\\\\n",
    "3. & C(a)\t& simplificação \\ a \\ partir \\ de \\ (2) \\\\\n",
    "4. & \\forall x(C(x) \\rightarrow P(x)) & premissa \\\\\n",
    "5. & C(a) \\rightarrow P(a) & instanciação \\ universal \\ a \\ partir \\ de \\ (4) \\\\\n",
    "6. & P(a) & modus \\ ponens \\ a \\ partir \\ de \\ (3) \\ e \\ (5) \\\\\n",
    "7. & \\neg L(a) & simplificação \\ a \\ partir \\ de \\ (2) \\\\\n",
    "8. & P(a) \\wedge \\neg L(a) & conjunção \\ a \\ partir \\ de \\ (6) \\ e \\ (7) \\\\\n",
    "9. & \\exists x(P(x) \\wedge \\neg L(x)) & generalização \\ existencial \\ a \\ partir \\ de \\ (8)\n",
    "\\end{array}\n",
    "    </center>"
   ]
  },
  {
   "cell_type": "markdown",
   "id": "b10e58a2",
   "metadata": {},
   "source": [
    "# <div style=\"margin-top: -20px;\">\n",
    "<hr style=\"border: 2px solid black;\">\n",
    "\n",
    "<font color='black'><span style=\"font-size: 22px;\"><strong>5.4 Exercícios</strong></span></font>\n",
    "\n",
    "<hr style=\"border: 2px solid black;\">\n",
    "</div>"
   ]
  },
  {
   "cell_type": "markdown",
   "id": "671b4ff5",
   "metadata": {},
   "source": [
    "#### Exercício 1"
   ]
  },
  {
   "cell_type": "markdown",
   "id": "49280a7e",
   "metadata": {},
   "source": [
    "Encontre a forma de argumento para o argumento dado e determine se é válido. Podemos inferir que a conclusão é verdadeira se as premissas forem verdadeiras?\n",
    "\n",
    "Se Platão é humano, então Platão é mortal.<br>\n",
    "Platão é humano.<br>\n",
    "$\\rule{7.2cm} {0.2mm}$<br>\n",
    "$\\therefore$ Platão é mortal."
   ]
  },
  {
   "cell_type": "markdown",
   "id": "297047a6",
   "metadata": {},
   "source": [
    "#### Exercício 2"
   ]
  },
  {
   "cell_type": "markdown",
   "id": "d3ff457c",
   "metadata": {},
   "source": [
    "Qual a regra de inferência usada em cada um dos argumentos abaixo?\n",
    "\n",
    "a) Alice é graduada em matemática. Por isso, Alice é graduada em ou em matemática ou em ciência da computação.\n",
    "\n",
    "b) João é graduado em matemática e em ciência da computação. Por isso, João é graduado em matemática.\n",
    "\n",
    "c) Se o dia estiver frio, a piscina estará fechada. O dia está frio. Por isso, a piscina está fechada.\n",
    "\n",
    "d) Se chover hoje, a universidade estará fechada. A universidade não está fechada hoje. Por isso não choveu hoje.\n",
    "\n",
    "e) Se eu for a praia, então eu ficarei no sol por muito tempo. Se eu ficar no sol por muito tempo, minha cabeça doerá. Por isso, se eu for a praia, minha cabeça doerá."
   ]
  },
  {
   "cell_type": "markdown",
   "id": "5e91b05f",
   "metadata": {},
   "source": [
    "#### Exercício 3"
   ]
  },
  {
   "cell_type": "markdown",
   "id": "344eca26",
   "metadata": {},
   "source": [
    "Use as regras de inferência para mostrar que as hipóteses \"Paulo trabalha muito\", \"Se Paulo trabalha muito, então ele é um homem esforçado\" e \"Se Paulo é um Homem esforçado, então ele conseguirá um emprego\" implicam a conclusão \"Paulo conseguirá um emprego\"."
   ]
  },
  {
   "cell_type": "markdown",
   "id": "ad6230e1",
   "metadata": {},
   "source": [
    "#### Exercício 4"
   ]
  },
  {
   "cell_type": "markdown",
   "id": "e89340e7",
   "metadata": {},
   "source": [
    "Quais regras de inferência são usadas no argumento abaixo?\n",
    "\n",
    "\"Todos os homens são mortais. Sócrates é um homem. Por isso, Sócrates é mortal.\""
   ]
  },
  {
   "cell_type": "markdown",
   "id": "36989358",
   "metadata": {},
   "source": [
    "#### Exercício 5"
   ]
  },
  {
   "cell_type": "markdown",
   "id": "2f16a3d4",
   "metadata": {},
   "source": [
    "Para cada grupo de premissas abaixo, qual conclusão ou conclusões relevantes podem ser tiradas? Explique as regras de inferência utilizadas para obter cada conclusão das premissas.\n",
    "\n",
    "a) \"Se eu tiro o dia de folga, chove ou neva.\" \"Eu tirei folga na terça-feira ou na quinta-feira.\" \"Fez sol na terça-feira\". \"Não nevou na quinta feira.\"\n",
    "\n",
    "b) \"Se eu como comida apimentada, então eu tenho sonhos estranhos.\" \"Eu tenho sonhos estranhos quando cai um trovão enquanto eu durmo.\" \"Eu não tive sonhos estranhos.\"\n",
    "\n",
    "c) \"Eu sou esperto ou sortudo.\" \"Eu não tenho sorte.\" \"Se eu tivesse sorte, então ganharia na loteria.\"\n",
    "\n",
    "d) \"Todo graduado em ciência da computação tem seu próprio computador.\" \"Ralph não tem seu próprio computador.\" \"Ana tem seu próprio computador.\"\n",
    "\n",
    "e) \"Todos os roedores roem sua própria comida.\" \"Ratos são roedores.\" \"Gatos não roem sua comida.\" \"Morcegos não são roedores.\""
   ]
  },
  {
   "cell_type": "markdown",
   "id": "a7447a4d",
   "metadata": {},
   "source": [
    "#### Exercício 6"
   ]
  },
  {
   "cell_type": "markdown",
   "id": "acf9d29d",
   "metadata": {},
   "source": [
    "Para cada argumento a seguir aponte quais regras de inferência foram usadas em cada passo.\n",
    "\n",
    "a) \"Maria, uma estudante desta sala sabe como escrever programas em Java. Todos que sabem como escrever programas em Java conseguem um emprego bem remunerado. Por isso, alguém nesta sala pode conseguir um emprego nesta sala.\"\n",
    "\n",
    "b) \"Alguém nesta sala gosta de ver baleias. Toda pessoa que gosta de ver baleia se preocupa com a poluição no mar. Por isso há uma pessoa nesta sala que se preocupa com a poluição marinha.\"\n",
    "\n",
    "c) \"Cada um dos $93$ estudantes nesta classe possui seu próprio computador. Todos que possuem seu próprio computador podem usar um programa de processamento de palavras. Por isso, Maria, uma estudante da sala, pode usar um programa de processamento.\""
   ]
  },
  {
   "cell_type": "markdown",
   "id": "1cdedc46",
   "metadata": {},
   "source": [
    "## <div style=\"margin-top: -20px;\">\n",
    "<hr style=\"border: 2px solid black;\">\n",
    "\n",
    "<font color='black'><span style=\"font-size: 18px;\"><strong>Respostas</strong></span></font>\n",
    "\n",
    "<hr style=\"border: 2px solid black;\">\n",
    "</div>"
   ]
  },
  {
   "cell_type": "markdown",
   "id": "d96f9cb2",
   "metadata": {},
   "source": [
    "#### Resposta do Exercício 1"
   ]
  },
  {
   "cell_type": "markdown",
   "id": "3b49687c",
   "metadata": {},
   "source": [
    "Modus ponens, válido. A conclusão é verdadeira."
   ]
  },
  {
   "cell_type": "markdown",
   "id": "cb8b72a2",
   "metadata": {},
   "source": [
    "#### Respostas do Exercício 2"
   ]
  },
  {
   "cell_type": "markdown",
   "id": "50dd850a",
   "metadata": {},
   "source": [
    "a) Adição, $\\ \\ $ b) Simplificação,$\\ \\ $  c) Modus ponens,$\\ \\ $  d) Modus tollens,$\\ \\ $  e) Silogismo hipotético"
   ]
  },
  {
   "cell_type": "markdown",
   "id": "14e9d8a2",
   "metadata": {},
   "source": [
    "#### Resposta do Exercício 3"
   ]
  },
  {
   "cell_type": "markdown",
   "id": "81773b6f",
   "metadata": {},
   "source": [
    "Seja $p$: \"Paulo trabalha muito\", $q$: \"Paulo é um homem esforçado\", $s$: \"Paulo conseguirá o emprego\". As hipóteses são $p$, $p \\rightarrow r$ e $r \\rightarrow s$. Usando modus ponens e as primeiras duas hipóteses segue $r$. Usando modus ponens e a última hipótese segue $s$, \"Paulo conseguirá o emprego\", que é a conclusão desejada."
   ]
  },
  {
   "cell_type": "markdown",
   "id": "9ef10a19",
   "metadata": {},
   "source": [
    "#### Resposta do Exercício 4"
   ]
  },
  {
   "cell_type": "markdown",
   "id": "9a3d35ff",
   "metadata": {},
   "source": [
    "Instanciação universal é usada para concluir que \"Se Sócrates for um homem, então Sócrates é mortal.\" Modus ponens é então usada para concluir que \"Sócrates é mortal\"."
   ]
  },
  {
   "cell_type": "markdown",
   "id": "f635121c",
   "metadata": {},
   "source": [
    "#### Respostas do Exercício 5"
   ]
  },
  {
   "cell_type": "markdown",
   "id": "004405f2",
   "metadata": {},
   "source": [
    "a) São conclusões válidas: (1) \"Eu não tirei folga na terça-feira\", (2) \"Eu tirei folga na quinta-feira\", (3) \"Choveu na quinta-feira\"; b) É uma conclusão válida: \"Eu não comi comida apimentada e não trovejou\"; c) É uma conclusão válida: \"Eu sou espeto\"; d) É uma conclusão válida: \"Ralph não estuda ciência da computação\"; e) São conclusões válidas: (1) \"Os ratos roem sua própria comida\", (2) \"Gatos não são roedores\"."
   ]
  },
  {
   "cell_type": "markdown",
   "id": "3ae63ae2",
   "metadata": {},
   "source": [
    "#### Respostas do Exercício 6"
   ]
  },
  {
   "cell_type": "markdown",
   "id": "5a01b777",
   "metadata": {},
   "source": [
    "a) Sejam as sentenças $c(x)$ \"$x$ está nesta classe\", $j(x)$ \"$x$ sabe programar em JAVA\" e $b(x)$ \"um emprego bem remunerado\". Nós temos as premissas $c($Maria$)$, $j($Maria$)$ e $\\forall x(j(x) \\rightarrow b(x))$ e a conclusão $\\exists x(c(x) \\wedge b(x))$.<br><br> \n",
    " <center>\n",
    "\\begin{array}{ccc} \n",
    "\\textbf{Passo}\t& \\textbf{Simbologia}& \\textbf{Razão}\\\\\n",
    "1. & \\forall x(j(x) \\rightarrow b(x)) \t& premissa \\\\\n",
    "2. & j(Maria) \\rightarrow b(Maria)\t& instanciação \\ universal \\ a \\ partir \\ de \\ (1)\\\\\n",
    "3. & j(Maria)\t& premissa \\\\\n",
    "4. & b(Maria) & modus \\ ponens \\ usando \\ (2) \\ e \\ (3) \\\\\n",
    "5. & c(Maria) & premissa \\\\\n",
    "6. & c(Maria) \\wedge b(Maria) & conjunção \\ usando \\ (4) \\ e \\ (5) \\\\\n",
    "7. & \\exists x (c(x) \\wedge b(x)) & generalização \\ existencial \\ a \\ partir \\ de \\ (6)\\\\\n",
    "\\end{array}\n",
    "    </center><br>\n",
    "b) Sejam as sentenças $s(x)$ \"$x$ está na sala\", $b(x)$ \"$x$ gosta de ver baleias\" e $p(x)$ \"$x$ se preocupa com a poluição no mar\". As premissas são $\\exists x(s(x) \\wedge b(x))$ e $\\forall x(b(x) \\rightarrow p(x))$.<br><br> \n",
    " <center>\n",
    "\\begin{array}{ccc} \n",
    "\\textbf{Passo}\t& \\textbf{Simbologia}& \\textbf{Razão}\\\\\n",
    "1. & \\exists x(s(x) \\wedge b(x)) \t& premissa \\\\\n",
    "2. & s(y) \\wedge b(y)\t& instanciação \\ existencial \\ a \\ partir \\ de \\ (1)\\\\\n",
    "3. & b(y)\t& simplificação \\ a \\ partir \\ de \\ (2) \\\\\n",
    "4. & s(y)\t& simplificação \\ a \\ partir \\ de \\ (2) \\\\\n",
    "5. & \\forall x (b(x) \\rightarrow p(x)) & premissa \\\\\n",
    "6. & b(y) \\rightarrow p(y) & instanciação \\ universal \\ a \\ partir \\ de \\ (5)\\\\\n",
    "7. & p(y) & modus \\ ponens \\ usando \\ (3) \\ e \\ (6)\\\\\n",
    "8. & s(y) \\wedge p(y) & conjunção \\ usando \\ (4) \\ e \\ (7)\\\\\n",
    "9. & \\exists x (s(x) \\wedge p(x)) & generalização \\ existencial \\ usando \\ (8)\\\\\n",
    "\\end{array}\n",
    "    </center><br>\n",
    "c) Sejam as sentenças $c(x)$ \"$x$ está nesta classe\", $p(x)$ \"$x$ é proprietário de um PC\" e $q(x)$ \"$x$ usa um programa de processamento de palavras\". Nos temos as seguintes premissas $c($Maria$)$, $\\forall x(c(x) \\rightarrow p(x))$ e $\\forall x(p(x) \\rightarrow q(x))$ e a conclusão $q($Maria$)$.<br><br> \n",
    " <center>\n",
    "\\begin{array}{ccc} \n",
    "\\textbf{Passo}\t& \\textbf{Simbologia}& \\textbf{Razão}\\\\\n",
    "1. & \\forall x(c(x) \\rightarrow p(x)) \t& premissa \\\\\n",
    "2. & c(Maria) \\rightarrow p(Maria)\t& instanciação \\ universal \\ a \\ partir \\ de \\ (1)\\\\\n",
    "3. & c(Maria)\t& premissa \\\\\n",
    "4. & p(Maria)\t& modus \\ ponens \\ a \\ partir \\ de \\ (2) \\ e \\ (3) \\\\\n",
    "5. & \\forall x(p(x) \\rightarrow q(x)) & premissa \\\\\n",
    "6. & p(Maria) \\rightarrow q(Maria) & instanciação \\ universal \\ a \\ partir \\ de \\ (5)\\\\\n",
    "7. & q(Maria) & modus \\ ponens \\ usando \\ (4) \\ e \\ (6)\\\\\n",
    "\\end{array}\n",
    " </center>"
   ]
  },
  {
   "cell_type": "markdown",
   "id": "9e4a04e6",
   "metadata": {},
   "source": [
    "# <div style=\"margin-top: -20px;\">\n",
    "<hr style=\"border: 2px solid black;\">\n",
    "\n",
    "<font color='black'><span style=\"font-size: 22px;\"><strong>5.5 Vídeo Aulas</strong></span></font>\n",
    "\n",
    "<hr style=\"border: 2px solid black;\">\n",
    "</div>"
   ]
  },
  {
   "cell_type": "markdown",
   "id": "42dc0ec2",
   "metadata": {},
   "source": [
    "Clicando nos links a seguir você será redirecionado às aulas referentes a este capítulo.\n",
    "\n",
    "[Argumentos Válidos em Lógica Proposicional](https://youtu.be/jgYqbJ0ifcM)\n",
    "\n",
    "[Regras de Inferência Para a Lógica Proposicional](https://youtu.be/gD9Ldwjjyak)\n",
    "\n",
    "[Exemplos: Regras de Inferência](https://youtu.be/YBfhBPJMMIQ)\n",
    "\n",
    "[Exemplo: Regras de Inferência](https://youtu.be/eKSA2LdeI7E)\n",
    "\n",
    "[Regra de Inferência: Instanciação Universal](https://youtu.be/J4u_tegbtZg)\n",
    "\n",
    "[Regra de Inferência: Generalização Universal](https://youtu.be/D1okn-50iK4)\n",
    "\n",
    "[Regra de Inferência: Generalização Existencial](https://youtu.be/lOWi6_m3L5c)\n",
    "\n",
    "[Exemplo: Regras de Inferência Com Presença de Quantificadores](https://youtu.be/tLPDpEh50Dg)"
   ]
  },
  {
   "cell_type": "markdown",
   "id": "90ad38ef",
   "metadata": {},
   "source": [
    "# <div style=\"margin-top: -20px;\">\n",
    "<hr style=\"border: 2px solid black;\">\n",
    "\n",
    "<font color='black'><span style=\"font-size: 22px;\"><strong>5.6 No Computador (Experimental)</strong></span></font>\n",
    "\n",
    "<hr style=\"border: 2px solid black;\">\n",
    "</div>"
   ]
  },
  {
   "cell_type": "markdown",
   "id": "0c6cd750",
   "metadata": {},
   "source": [
    "#### Verificação de conclusão a partir de premissas"
   ]
  },
  {
   "cell_type": "markdown",
   "id": "850dca34",
   "metadata": {},
   "source": [
    "Uma vez colocadas na forma simbólica as premissas e conclusão de um argumento podemos usar o método **.valuation()** do módulo \"truth-table-generator\" para verificar se a conclusão decorre das premissas. Vejamos a solução computacional do **Exemplo 5**: $\\neg p \\wedge q, \\ r \\rightarrow p, \\ \\neg r \\rightarrow s, \\ s \\rightarrow t \\vdash t$ "
   ]
  },
  {
   "cell_type": "code",
   "execution_count": 1,
   "id": "1adc2254",
   "metadata": {
    "ExecuteTime": {
     "end_time": "2023-07-17T20:14:18.440430Z",
     "start_time": "2023-07-17T20:14:13.008167Z"
    }
   },
   "outputs": [
    {
     "name": "stdout",
     "output_type": "stream",
     "text": [
      "Requirement already satisfied: truth-table-generator in d:\\ananconda\\lib\\site-packages (1.1.2)\n",
      "Requirement already satisfied: PTable in d:\\ananconda\\lib\\site-packages (from truth-table-generator) (0.9.2)\n",
      "Requirement already satisfied: numpy in d:\\ananconda\\lib\\site-packages (from truth-table-generator) (1.23.5)\n",
      "Requirement already satisfied: pandas in d:\\ananconda\\lib\\site-packages (from truth-table-generator) (1.5.3)\n",
      "Requirement already satisfied: pyparsing in d:\\ananconda\\lib\\site-packages (from truth-table-generator) (3.0.9)\n",
      "Requirement already satisfied: jinja2 in d:\\ananconda\\lib\\site-packages (from truth-table-generator) (3.1.2)\n",
      "Requirement already satisfied: tabulate in d:\\ananconda\\lib\\site-packages (from truth-table-generator) (0.8.10)\n",
      "Requirement already satisfied: MarkupSafe>=2.0 in d:\\ananconda\\lib\\site-packages (from jinja2->truth-table-generator) (2.1.1)\n",
      "Requirement already satisfied: python-dateutil>=2.8.1 in d:\\ananconda\\lib\\site-packages (from pandas->truth-table-generator) (2.8.2)\n",
      "Requirement already satisfied: pytz>=2020.1 in d:\\ananconda\\lib\\site-packages (from pandas->truth-table-generator) (2022.7)\n",
      "Requirement already satisfied: six>=1.5 in d:\\ananconda\\lib\\site-packages (from python-dateutil>=2.8.1->pandas->truth-table-generator) (1.16.0)\n"
     ]
    }
   ],
   "source": [
    "# Instalando o módulo truth-table-generator (instale somente uma vez neste documento)\n",
    "!pip install truth-table-generator"
   ]
  },
  {
   "cell_type": "code",
   "execution_count": 2,
   "id": "f958ec82",
   "metadata": {
    "ExecuteTime": {
     "end_time": "2023-07-17T20:14:19.057275Z",
     "start_time": "2023-07-17T20:14:18.442423Z"
    }
   },
   "outputs": [],
   "source": [
    "# Importando o módulo ttg (aplica-se a todas as células seguintes)\n",
    "import ttg"
   ]
  },
  {
   "cell_type": "code",
   "execution_count": 3,
   "id": "0d54a4e3",
   "metadata": {
    "ExecuteTime": {
     "end_time": "2023-07-17T20:14:19.385723Z",
     "start_time": "2023-07-17T20:14:19.057275Z"
    }
   },
   "outputs": [
    {
     "name": "stdout",
     "output_type": "stream",
     "text": [
      "+-----+-----+-----+-----+-----+-----------------------------------------------------------------+\n",
      "|  p  |  q  |  r  |  s  |  t  |  (((~p) and q) and (r => p) and ((~r) => s) and (s => t)) => q  |\n",
      "|-----+-----+-----+-----+-----+-----------------------------------------------------------------|\n",
      "|  1  |  1  |  1  |  1  |  1  |                                1                                |\n",
      "|  1  |  1  |  1  |  1  |  0  |                                1                                |\n",
      "|  1  |  1  |  1  |  0  |  1  |                                1                                |\n",
      "|  1  |  1  |  1  |  0  |  0  |                                1                                |\n",
      "|  1  |  1  |  0  |  1  |  1  |                                1                                |\n",
      "|  1  |  1  |  0  |  1  |  0  |                                1                                |\n",
      "|  1  |  1  |  0  |  0  |  1  |                                1                                |\n",
      "|  1  |  1  |  0  |  0  |  0  |                                1                                |\n",
      "|  1  |  0  |  1  |  1  |  1  |                                1                                |\n",
      "|  1  |  0  |  1  |  1  |  0  |                                1                                |\n",
      "|  1  |  0  |  1  |  0  |  1  |                                1                                |\n",
      "|  1  |  0  |  1  |  0  |  0  |                                1                                |\n",
      "|  1  |  0  |  0  |  1  |  1  |                                1                                |\n",
      "|  1  |  0  |  0  |  1  |  0  |                                1                                |\n",
      "|  1  |  0  |  0  |  0  |  1  |                                1                                |\n",
      "|  1  |  0  |  0  |  0  |  0  |                                1                                |\n",
      "|  0  |  1  |  1  |  1  |  1  |                                1                                |\n",
      "|  0  |  1  |  1  |  1  |  0  |                                1                                |\n",
      "|  0  |  1  |  1  |  0  |  1  |                                1                                |\n",
      "|  0  |  1  |  1  |  0  |  0  |                                1                                |\n",
      "|  0  |  1  |  0  |  1  |  1  |                                1                                |\n",
      "|  0  |  1  |  0  |  1  |  0  |                                1                                |\n",
      "|  0  |  1  |  0  |  0  |  1  |                                1                                |\n",
      "|  0  |  1  |  0  |  0  |  0  |                                1                                |\n",
      "|  0  |  0  |  1  |  1  |  1  |                                1                                |\n",
      "|  0  |  0  |  1  |  1  |  0  |                                1                                |\n",
      "|  0  |  0  |  1  |  0  |  1  |                                1                                |\n",
      "|  0  |  0  |  1  |  0  |  0  |                                1                                |\n",
      "|  0  |  0  |  0  |  1  |  1  |                                1                                |\n",
      "|  0  |  0  |  0  |  1  |  0  |                                1                                |\n",
      "|  0  |  0  |  0  |  0  |  1  |                                1                                |\n",
      "|  0  |  0  |  0  |  0  |  0  |                                1                                |\n",
      "+-----+-----+-----+-----+-----+-----------------------------------------------------------------+\n",
      "A conclusão decorre das premissas.\n"
     ]
    }
   ],
   "source": [
    "# Premissas p1, p2, p3 e p4 e conclusão q\n",
    "p1 = '((~p) and q)'\n",
    "p2 = '(r => p)'\n",
    "p3 = '((~r) => s)'\n",
    "p4 = '(s => t)'\n",
    "q = 't'\n",
    "\n",
    "# Proposição 1\n",
    "prop = ttg.Truths(['p','q','r','s','t'],[f'({p1} and {p2} and {p3} and {p4}) => q'])\n",
    "\n",
    "# Classificação\n",
    "classificacao = prop.valuation()\n",
    "\n",
    "# Impressão da tabela-verdade\n",
    "print(prop)\n",
    "\n",
    "# Resultado\n",
    "if classificacao == 'Tautology':\n",
    "    print('A conclusão decorre das premissas.')\n",
    "else:\n",
    "    print('A conclusão não decorre das premissas.')"
   ]
  }
 ],
 "metadata": {
  "kernelspec": {
   "display_name": "Python 3 (ipykernel)",
   "language": "python",
   "name": "python3"
  },
  "language_info": {
   "codemirror_mode": {
    "name": "ipython",
    "version": 3
   },
   "file_extension": ".py",
   "mimetype": "text/x-python",
   "name": "python",
   "nbconvert_exporter": "python",
   "pygments_lexer": "ipython3",
   "version": "3.11.5"
  },
  "varInspector": {
   "cols": {
    "lenName": 16,
    "lenType": 16,
    "lenVar": 40
   },
   "kernels_config": {
    "python": {
     "delete_cmd_postfix": "",
     "delete_cmd_prefix": "del ",
     "library": "var_list.py",
     "varRefreshCmd": "print(var_dic_list())"
    },
    "r": {
     "delete_cmd_postfix": ") ",
     "delete_cmd_prefix": "rm(",
     "library": "var_list.r",
     "varRefreshCmd": "cat(var_dic_list()) "
    }
   },
   "types_to_exclude": [
    "module",
    "function",
    "builtin_function_or_method",
    "instance",
    "_Feature"
   ],
   "window_display": false
  }
 },
 "nbformat": 4,
 "nbformat_minor": 5
}
